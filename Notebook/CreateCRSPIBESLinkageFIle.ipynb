{
 "cells": [
  {
   "cell_type": "code",
   "id": "initial_id",
   "metadata": {
    "collapsed": true,
    "ExecuteTime": {
     "end_time": "2024-10-11T12:37:24.800487Z",
     "start_time": "2024-10-11T12:37:23.781307Z"
    }
   },
   "source": [
    "#####################################\n",
    "# ICLINK: Link CRSP and IBES        #\n",
    "# Qingyi (Freda) Song Drechsler     #\n",
    "# Date: June 2019                   #\n",
    "# Updated: June 2020                #\n",
    "#####################################\n",
    "\n",
    "# This program replicates the SAS macro ICLINK \n",
    "# to create a linking table between CRSP and IBES\n",
    "# Output is a score reflecting the quality of the link\n",
    "# Score = 0 (best link) to Score = 6 (worst link)\n",
    "# \n",
    "# More explanation on score system:\n",
    "# - 0: BEST match: using (cusip, cusip dates and company names)       \n",
    "#          or (exchange ticker, company names and 6-digit cusip)     \n",
    "# - 1: Cusips and cusip dates match but company names do not match    \n",
    "# - 2: Cusips and company names match but cusip dates do not match    \n",
    "# - 3: Cusips match but cusip dates and company names do not match    \n",
    "# - 4: tickers and 6-digit cusips match but company names do not match   \n",
    "# - 5: tickers and company names match but 6-digit cusips do not match        \n",
    "# - 6: tickers match but company names and 6-digit cusips do not match        \n",
    "\n",
    "import wrds\n",
    "import pandas as pd\n",
    "import numpy as np\n",
    "from thefuzz import fuzz"
   ],
   "outputs": [],
   "execution_count": 2
  },
  {
   "metadata": {
    "ExecuteTime": {
     "end_time": "2024-10-11T12:37:34.187935Z",
     "start_time": "2024-10-11T12:37:25.728079Z"
    }
   },
   "cell_type": "code",
   "source": [
    "###################\n",
    "# Connect to WRDS #\n",
    "###################\n",
    "conn = wrds.Connection(wrds_username='aheitz')"
   ],
   "id": "55e14d7a7c6269db",
   "outputs": [
    {
     "name": "stdout",
     "output_type": "stream",
     "text": [
      "Loading library list...\n",
      "Done\n"
     ]
    }
   ],
   "execution_count": 3
  },
  {
   "metadata": {
    "ExecuteTime": {
     "end_time": "2024-10-11T12:37:53.366095Z",
     "start_time": "2024-10-11T12:37:50.230003Z"
    }
   },
   "cell_type": "code",
   "source": [
    "#########################\n",
    "# Step 1: Link by CUSIP #\n",
    "#########################\n",
    "\n",
    "# 1.1 IBES: Get the list of IBES Tickers for US firms in IBES\n",
    "_ibes1 = conn.raw_sql(\"\"\"\n",
    "                      select ticker, cusip, cname, sdates from ibes.id\n",
    "                      where usfirm=1 and cusip != ''\n",
    "                      \"\"\", date_cols=['sdates'])\n",
    "\n",
    "# Create first and last 'start dates' for a given cusip\n",
    "# Use agg min and max to find the first and last date per group\n",
    "# then rename to fdate and ldate respectively\n",
    "\n",
    "_ibes1_date = _ibes1.groupby(['ticker','cusip']).sdates.agg(['min', 'max'])\\\n",
    ".reset_index().rename(columns={'min':'fdate', 'max':'ldate'})\n",
    "\n",
    "# merge fdate ldate back to _ibes1 data\n",
    "_ibes2 = pd.merge(_ibes1, _ibes1_date,how='left', on =['ticker','cusip'])\n",
    "_ibes2 = _ibes2.sort_values(by=['ticker','cusip','sdates'])\n",
    "\n",
    "# keep only the most recent company name\n",
    "# determined by having sdates = ldate\n",
    "_ibes2 = _ibes2.loc[_ibes2.sdates == _ibes2.ldate].drop(['sdates'], axis=1)"
   ],
   "id": "b566391fdc6bad63",
   "outputs": [],
   "execution_count": 4
  },
  {
   "metadata": {
    "ExecuteTime": {
     "end_time": "2024-10-11T12:38:03.505270Z",
     "start_time": "2024-10-11T12:38:01.024565Z"
    }
   },
   "cell_type": "code",
   "source": [
    "# 1.2 CRSP: Get all permno-ncusip combinations\n",
    "_crsp1 = conn.raw_sql(\"\"\"\n",
    "                      select permno, ncusip, comnam, namedt, nameenddt\n",
    "                      from crsp.stocknames\n",
    "                      where ncusip != ''\n",
    "                      \"\"\", date_cols=['namedt', 'nameenddt'])\n",
    "# first namedt\n",
    "_crsp1_fnamedt = _crsp1.groupby(['permno','ncusip']).namedt.min().reset_index()\n",
    "\n",
    "# last nameenddt\n",
    "_crsp1_lnameenddt = _crsp1.groupby(['permno','ncusip']).nameenddt.max().reset_index()\n",
    "\n",
    "# merge both \n",
    "_crsp1_dtrange = pd.merge(_crsp1_fnamedt, _crsp1_lnameenddt, \\\n",
    "                          on = ['permno','ncusip'], how='inner')\n",
    "\n",
    "# replace namedt and nameenddt with the version from the dtrange\n",
    "_crsp1 = _crsp1.drop(['namedt'],axis=1).rename(columns={'nameenddt':'enddt'})\n",
    "_crsp2 = pd.merge(_crsp1, _crsp1_dtrange, on =['permno','ncusip'], how='inner')\n",
    "\n",
    "# keep only most recent company name\n",
    "_crsp2 = _crsp2.loc[_crsp2.enddt ==_crsp2.nameenddt].drop(['enddt'], axis=1)"
   ],
   "id": "95c11fd3260aadc1",
   "outputs": [],
   "execution_count": 5
  },
  {
   "metadata": {
    "ExecuteTime": {
     "end_time": "2024-10-11T12:38:14.839299Z",
     "start_time": "2024-10-11T12:38:14.762482Z"
    }
   },
   "cell_type": "code",
   "source": [
    "# 1.3 Create CUSIP Link Table\n",
    "\n",
    "# Link by full cusip, company names and dates\n",
    "_link1_1 = pd.merge(_ibes2, _crsp2, how='inner', left_on='cusip', right_on='ncusip')\\\n",
    ".sort_values(['ticker','permno','ldate'])\n",
    "\n",
    "# Keep link with most recent company name\n",
    "_link1_1_tmp = _link1_1.groupby(['ticker','permno']).ldate.max().reset_index()\n",
    "_link1_2 = pd.merge(_link1_1, _link1_1_tmp, how='inner', on =['ticker', 'permno', 'ldate'])"
   ],
   "id": "1028c8f93881a799",
   "outputs": [],
   "execution_count": 6
  },
  {
   "metadata": {
    "ExecuteTime": {
     "end_time": "2024-10-11T12:38:36.984123Z",
     "start_time": "2024-10-11T12:38:36.556974Z"
    }
   },
   "cell_type": "code",
   "source": [
    "# Calculate name matching ratio using FuzzyWuzzy\n",
    "\n",
    "# Note: fuzz ratio = 100 -> match perfectly\n",
    "#       fuzz ratio = 0   -> do not match at all\n",
    "\n",
    "# Comment: token_set_ratio is more flexible in matching the strings:\n",
    "# fuzz.token_set_ratio('AMAZON.COM INC',  'AMAZON COM INC')\n",
    "# returns value of 100\n",
    "\n",
    "# fuzz.ratio('AMAZON.COM INC',  'AMAZON COM INC')\n",
    "# returns value of 93\n",
    "\n",
    "_link1_2['name_ratio'] = _link1_2.apply(lambda x: fuzz.token_set_ratio(x.comnam, x.cname), axis=1)\n",
    "\n",
    "# Note on parameters:\n",
    "# The following parameters are chosen to mimic the SAS macro %iclink\n",
    "# In %iclink, name_dist < 30 is assigned score = 0\n",
    "# where name_dist=30 is roughly 90% percentile in total distribution\n",
    "# and higher name_dist means more different names.\n",
    "# In name_ratio, I mimic this by choosing 10% percentile as cutoff to assign\n",
    "# score = 0\n",
    "\n",
    "# 10% percentile of the company name distance\n",
    "name_ratio_p10 = _link1_2.name_ratio.quantile(0.10)"
   ],
   "id": "18122d607878402c",
   "outputs": [],
   "execution_count": 7
  },
  {
   "metadata": {
    "ExecuteTime": {
     "end_time": "2024-10-11T12:38:54.693255Z",
     "start_time": "2024-10-11T12:38:54.352803Z"
    }
   },
   "cell_type": "code",
   "source": [
    "# Function to assign score for companies matched by:\n",
    "# full cusip and passing name_ratio\n",
    "# or meeting date range requirement\n",
    "\n",
    "def score1(row):\n",
    "    if (row['fdate']<=row['nameenddt']) & (row['ldate']>=row['namedt']) & (row['name_ratio'] >= name_ratio_p10):\n",
    "        score = 0\n",
    "    elif (row['fdate']<=row['nameenddt']) & (row['ldate']>=row['namedt']):\n",
    "        score = 1\n",
    "    elif row['name_ratio'] >= name_ratio_p10:\n",
    "        score = 2\n",
    "    else:\n",
    "        score = 3\n",
    "    return score\n",
    "\n",
    "# assign size portfolio\n",
    "_link1_2['score']=_link1_2.apply(score1, axis=1)\n",
    "_link1_2 = _link1_2[['ticker','permno','cname','comnam','name_ratio','score']]\n",
    "_link1_2 = _link1_2.drop_duplicates()"
   ],
   "id": "c695bf5da3b94d3a",
   "outputs": [],
   "execution_count": 8
  },
  {
   "metadata": {
    "ExecuteTime": {
     "end_time": "2024-10-11T12:39:04.573902Z",
     "start_time": "2024-10-11T12:39:04.566005Z"
    }
   },
   "cell_type": "code",
   "source": "_link1_2.groupby(['score']).score.count()",
   "id": "f0405e897c6f4b9e",
   "outputs": [
    {
     "data": {
      "text/plain": [
       "score\n",
       "0    18897\n",
       "1     1791\n",
       "2      709\n",
       "3       84\n",
       "Name: score, dtype: int64"
      ]
     },
     "execution_count": 9,
     "metadata": {},
     "output_type": "execute_result"
    }
   ],
   "execution_count": 9
  },
  {
   "metadata": {
    "ExecuteTime": {
     "end_time": "2024-10-11T12:39:28.768254Z",
     "start_time": "2024-10-11T12:39:17.707894Z"
    }
   },
   "cell_type": "code",
   "source": [
    "##########################\n",
    "# Step 2: Link by TICKER #\n",
    "##########################\n",
    "\n",
    "# Find links for the remaining unmatched cases using Exchange Ticker \n",
    "\n",
    "# Identify remaining unmatched cases \n",
    "_nomatch1 = pd.merge(_ibes2[['ticker']], _link1_2[['permno','ticker']], on='ticker', how='left')\n",
    "_nomatch1 = _nomatch1.loc[_nomatch1.permno.isnull()].drop(['permno'], axis=1).drop_duplicates()\n",
    "\n",
    "# Add IBES identifying information\n",
    "\n",
    "ibesid = conn.raw_sql(\"\"\" select ticker, cname, oftic, sdates, cusip from ibes.id \"\"\", date_cols=['sdates'])\n",
    "ibesid = ibesid.loc[ibesid.oftic.notna()]\n",
    "\n",
    "_nomatch2 = pd.merge(_nomatch1, ibesid, how='inner', on=['ticker'])\n",
    "\n",
    "# Create first and last 'start dates' for Exchange Tickers\n",
    "# Label date range variables and keep only most recent company name\n",
    "\n",
    "_nomatch3 = _nomatch2.groupby(['ticker', 'oftic']).sdates.agg(['min', 'max'])\\\n",
    ".reset_index().rename(columns={'min':'fdate', 'max':'ldate'})\n",
    "\n",
    "_nomatch3 = pd.merge(_nomatch2, _nomatch3, how='left', on=['ticker','oftic'])\n",
    "\n",
    "_nomatch3 = _nomatch3.loc[_nomatch3.sdates == _nomatch3.ldate]"
   ],
   "id": "6bbec8d67d05e5ff",
   "outputs": [],
   "execution_count": 10
  },
  {
   "metadata": {
    "ExecuteTime": {
     "end_time": "2024-10-11T12:39:30.440010Z",
     "start_time": "2024-10-11T12:39:29.128844Z"
    }
   },
   "cell_type": "code",
   "source": [
    "# Get entire list of CRSP stocks with Exchange Ticker information\n",
    "\n",
    "_crsp_n1 = conn.raw_sql(\"\"\" select ticker, comnam, permno, ncusip, namedt, nameenddt\n",
    "                            from crsp.stocknames \"\"\", date_cols=['namedt', 'nameenddt'])\n",
    "\n",
    "_crsp_n1 = _crsp_n1.loc[_crsp_n1.ticker.notna()].sort_values(by=['permno','ticker','namedt'])\n",
    "\n",
    "# Arrange effective dates for link by Exchange Ticker\n",
    "\n",
    "_crsp_n1_namedt = _crsp_n1.groupby(['permno','ticker']).namedt.min().reset_index().rename(columns={'min':'namedt'})\n",
    "_crsp_n1_nameenddt = _crsp_n1.groupby(['permno','ticker']).nameenddt.max().reset_index().rename(columns={'max':'nameenddt'})\n",
    "\n",
    "_crsp_n1_dt = pd.merge(_crsp_n1_namedt, _crsp_n1_nameenddt, how = 'inner', on=['permno','ticker'])\n",
    "\n",
    "_crsp_n1 = _crsp_n1.rename(columns={'namedt': 'namedt_ind', 'nameenddt':'nameenddt_ind'})\n",
    "\n",
    "_crsp_n2 = pd.merge(_crsp_n1, _crsp_n1_dt, how ='left', on = ['permno','ticker'])\n",
    "\n",
    "_crsp_n2 = _crsp_n2.rename(columns={'ticker':'crsp_ticker'})\n",
    "_crsp_n2 = _crsp_n2.loc[_crsp_n2.nameenddt_ind == _crsp_n2.nameenddt].drop(['namedt_ind', 'nameenddt_ind'], axis=1)"
   ],
   "id": "1cd83a364a398a95",
   "outputs": [],
   "execution_count": 11
  },
  {
   "metadata": {
    "ExecuteTime": {
     "end_time": "2024-10-11T12:39:38.318162Z",
     "start_time": "2024-10-11T12:39:38.272013Z"
    }
   },
   "cell_type": "code",
   "source": [
    "_link2_1 = pd.merge(_nomatch3, _crsp_n2, how='inner', left_on=['oftic'], right_on=['crsp_ticker'])\n",
    "_link2_1 = _link2_1.loc[(_link2_1.ldate>=_link2_1.namedt) & (_link2_1.fdate<=_link2_1.nameenddt)]\n",
    "\n",
    "# Score using company name using 6-digit CUSIP and company name spelling distance\n",
    "_link2_1['name_ratio'] = _link2_1.apply(lambda x: fuzz.token_set_ratio(x.comnam, x.cname), axis=1)\n",
    "\n",
    "_link2_2 = _link2_1\n",
    "_link2_2['cusip6'] = _link2_2.apply(lambda x: x.cusip[:6], axis=1)\n",
    "_link2_2['ncusip6'] = _link2_2.apply(lambda x: x.ncusip[:6], axis=1)\n",
    "\n",
    "# Score using company name using 6-digit CUSIP and company name spelling distance\n",
    "\n",
    "def score2(row):\n",
    "    if (row['cusip6']==row['ncusip6']) & (row['name_ratio'] >= name_ratio_p10):\n",
    "        score = 0\n",
    "    elif (row['cusip6']==row['ncusip6']):\n",
    "        score = 4\n",
    "    elif row['name_ratio'] >= name_ratio_p10:\n",
    "        score = 5\n",
    "    else:\n",
    "        score = 6\n",
    "    return score\n",
    "\n",
    "# assign size portfolio\n",
    "_link2_2['score']=_link2_2.apply(score2, axis=1)\n",
    "\n",
    "# Some companies may have more than one TICKER-PERMNO link\n",
    "# so re-sort and keep the case (PERMNO & Company name from CRSP)\n",
    "# that gives the lowest score for each IBES TICKER \n",
    "\n",
    "_link2_2 = _link2_2[['ticker','permno','cname','comnam', 'name_ratio', 'score']].sort_values(by=['ticker','score'])\n",
    "_link2_2_score = _link2_2.groupby(['ticker']).score.min().reset_index()\n",
    "\n",
    "_link2_3 = pd.merge(_link2_2, _link2_2_score, how='inner', on=['ticker', 'score'])\n",
    "_link2_3 = _link2_3[['ticker','permno','cname','comnam','score']].drop_duplicates()"
   ],
   "id": "dcef82fb0f0eb03d",
   "outputs": [],
   "execution_count": 12
  },
  {
   "metadata": {
    "ExecuteTime": {
     "end_time": "2024-10-11T12:42:52.925188Z",
     "start_time": "2024-10-11T12:42:52.900523Z"
    }
   },
   "cell_type": "code",
   "source": [
    "#####################################\n",
    "# Step 3: Finalize LInks and Scores #\n",
    "#####################################\n",
    "\n",
    "iclink = pd.concat([_link1_2, _link2_3], ignore_index=True)\n",
    "\n",
    "# Storing iclink for other program usage\n",
    "import os\n",
    "\n",
    "from Constants import Constants as const\n",
    "\n",
    "iclink.to_pickle(os.path.join(const.TEMP_PATH, '20241011_iclink.pkl'))"
   ],
   "id": "aae17ebf18031ca7",
   "outputs": [],
   "execution_count": 15
  },
  {
   "metadata": {
    "ExecuteTime": {
     "end_time": "2024-10-11T12:42:55.144708Z",
     "start_time": "2024-10-11T12:42:55.134184Z"
    }
   },
   "cell_type": "code",
   "source": "iclink",
   "id": "9252dd6851823028",
   "outputs": [
    {
     "data": {
      "text/plain": [
       "      ticker  permno             cname                            comnam  \\\n",
       "0       0000   14471    TALMER BANCORP                TALMER BANCORP INC   \n",
       "1       0001   14392      EP ENGR CORP                   E P ENERGY CORP   \n",
       "2       0004   14418  AMERICAN CAPITAL  AMERICAN CAPITAL SR FLOATING LTD   \n",
       "3       000R   14378           CARECOM                      CARE COM INC   \n",
       "4       000V   14423             EIGER      EIGER BIOPHARMACEUTICALS INC   \n",
       "...      ...     ...               ...                               ...   \n",
       "21841   WWBC   11023       WASH BCP DC         WASHINGTON BANCORPORATION   \n",
       "21842   XGXG   12599      EXTORRE GOLD            EXTORRE GOLD MINES LTD   \n",
       "21843    XRA   91573   EXETER RESOURCE             EXETER RESOURCES CORP   \n",
       "21844    YM2   90397    YM BIOSCIENCES               Y M BIOSCIENCES INC   \n",
       "21845   ZORK   91563  AUGUSTA RESOURCE             AUGUSTA RESOURCE CORP   \n",
       "\n",
       "       name_ratio  score  \n",
       "0           100.0      0  \n",
       "1            74.0      0  \n",
       "2           100.0      0  \n",
       "3            74.0      0  \n",
       "4           100.0      0  \n",
       "...           ...    ...  \n",
       "21841         NaN      4  \n",
       "21842         NaN      0  \n",
       "21843         NaN      0  \n",
       "21844         NaN      0  \n",
       "21845         NaN      0  \n",
       "\n",
       "[21846 rows x 6 columns]"
      ],
      "text/html": [
       "<div>\n",
       "<style scoped>\n",
       "    .dataframe tbody tr th:only-of-type {\n",
       "        vertical-align: middle;\n",
       "    }\n",
       "\n",
       "    .dataframe tbody tr th {\n",
       "        vertical-align: top;\n",
       "    }\n",
       "\n",
       "    .dataframe thead th {\n",
       "        text-align: right;\n",
       "    }\n",
       "</style>\n",
       "<table border=\"1\" class=\"dataframe\">\n",
       "  <thead>\n",
       "    <tr style=\"text-align: right;\">\n",
       "      <th></th>\n",
       "      <th>ticker</th>\n",
       "      <th>permno</th>\n",
       "      <th>cname</th>\n",
       "      <th>comnam</th>\n",
       "      <th>name_ratio</th>\n",
       "      <th>score</th>\n",
       "    </tr>\n",
       "  </thead>\n",
       "  <tbody>\n",
       "    <tr>\n",
       "      <th>0</th>\n",
       "      <td>0000</td>\n",
       "      <td>14471</td>\n",
       "      <td>TALMER BANCORP</td>\n",
       "      <td>TALMER BANCORP INC</td>\n",
       "      <td>100.0</td>\n",
       "      <td>0</td>\n",
       "    </tr>\n",
       "    <tr>\n",
       "      <th>1</th>\n",
       "      <td>0001</td>\n",
       "      <td>14392</td>\n",
       "      <td>EP ENGR CORP</td>\n",
       "      <td>E P ENERGY CORP</td>\n",
       "      <td>74.0</td>\n",
       "      <td>0</td>\n",
       "    </tr>\n",
       "    <tr>\n",
       "      <th>2</th>\n",
       "      <td>0004</td>\n",
       "      <td>14418</td>\n",
       "      <td>AMERICAN CAPITAL</td>\n",
       "      <td>AMERICAN CAPITAL SR FLOATING LTD</td>\n",
       "      <td>100.0</td>\n",
       "      <td>0</td>\n",
       "    </tr>\n",
       "    <tr>\n",
       "      <th>3</th>\n",
       "      <td>000R</td>\n",
       "      <td>14378</td>\n",
       "      <td>CARECOM</td>\n",
       "      <td>CARE COM INC</td>\n",
       "      <td>74.0</td>\n",
       "      <td>0</td>\n",
       "    </tr>\n",
       "    <tr>\n",
       "      <th>4</th>\n",
       "      <td>000V</td>\n",
       "      <td>14423</td>\n",
       "      <td>EIGER</td>\n",
       "      <td>EIGER BIOPHARMACEUTICALS INC</td>\n",
       "      <td>100.0</td>\n",
       "      <td>0</td>\n",
       "    </tr>\n",
       "    <tr>\n",
       "      <th>...</th>\n",
       "      <td>...</td>\n",
       "      <td>...</td>\n",
       "      <td>...</td>\n",
       "      <td>...</td>\n",
       "      <td>...</td>\n",
       "      <td>...</td>\n",
       "    </tr>\n",
       "    <tr>\n",
       "      <th>21841</th>\n",
       "      <td>WWBC</td>\n",
       "      <td>11023</td>\n",
       "      <td>WASH BCP DC</td>\n",
       "      <td>WASHINGTON BANCORPORATION</td>\n",
       "      <td>NaN</td>\n",
       "      <td>4</td>\n",
       "    </tr>\n",
       "    <tr>\n",
       "      <th>21842</th>\n",
       "      <td>XGXG</td>\n",
       "      <td>12599</td>\n",
       "      <td>EXTORRE GOLD</td>\n",
       "      <td>EXTORRE GOLD MINES LTD</td>\n",
       "      <td>NaN</td>\n",
       "      <td>0</td>\n",
       "    </tr>\n",
       "    <tr>\n",
       "      <th>21843</th>\n",
       "      <td>XRA</td>\n",
       "      <td>91573</td>\n",
       "      <td>EXETER RESOURCE</td>\n",
       "      <td>EXETER RESOURCES CORP</td>\n",
       "      <td>NaN</td>\n",
       "      <td>0</td>\n",
       "    </tr>\n",
       "    <tr>\n",
       "      <th>21844</th>\n",
       "      <td>YM2</td>\n",
       "      <td>90397</td>\n",
       "      <td>YM BIOSCIENCES</td>\n",
       "      <td>Y M BIOSCIENCES INC</td>\n",
       "      <td>NaN</td>\n",
       "      <td>0</td>\n",
       "    </tr>\n",
       "    <tr>\n",
       "      <th>21845</th>\n",
       "      <td>ZORK</td>\n",
       "      <td>91563</td>\n",
       "      <td>AUGUSTA RESOURCE</td>\n",
       "      <td>AUGUSTA RESOURCE CORP</td>\n",
       "      <td>NaN</td>\n",
       "      <td>0</td>\n",
       "    </tr>\n",
       "  </tbody>\n",
       "</table>\n",
       "<p>21846 rows × 6 columns</p>\n",
       "</div>"
      ]
     },
     "execution_count": 16,
     "metadata": {},
     "output_type": "execute_result"
    }
   ],
   "execution_count": 16
  }
 ],
 "metadata": {
  "kernelspec": {
   "display_name": "Python 3",
   "language": "python",
   "name": "python3"
  },
  "language_info": {
   "codemirror_mode": {
    "name": "ipython",
    "version": 2
   },
   "file_extension": ".py",
   "mimetype": "text/x-python",
   "name": "python",
   "nbconvert_exporter": "python",
   "pygments_lexer": "ipython2",
   "version": "2.7.6"
  }
 },
 "nbformat": 4,
 "nbformat_minor": 5
}
