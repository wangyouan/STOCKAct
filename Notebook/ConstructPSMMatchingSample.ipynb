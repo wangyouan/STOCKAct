{
 "cells": [
  {
   "cell_type": "code",
   "id": "initial_id",
   "metadata": {
    "collapsed": true,
    "ExecuteTime": {
     "end_time": "2025-03-14T01:48:11.632981Z",
     "start_time": "2025-03-14T01:48:11.628169Z"
    }
   },
   "source": [
    "import os\n",
    "\n",
    "# 导入必要库\n",
    "import pandas as pd\n",
    "import numpy as np\n",
    "import statsmodels.api as sm\n",
    "from sklearn.neighbors import NearestNeighbors\n",
    "from scipy.stats import ttest_ind\n",
    "\n",
    "from Constants import Constants as const"
   ],
   "outputs": [],
   "execution_count": 10
  },
  {
   "metadata": {
    "ExecuteTime": {
     "end_time": "2025-03-14T01:44:30.685585Z",
     "start_time": "2025-03-14T01:44:30.540383Z"
    }
   },
   "cell_type": "code",
   "source": "df = pd.read_stata(os.path.join(const.RESULT_PATH, '20250307_stock_act_data_v2.dta'))",
   "id": "41d62a0c87c6e5dc",
   "outputs": [],
   "execution_count": 4
  },
  {
   "metadata": {
    "ExecuteTime": {
     "end_time": "2025-03-14T02:08:44.163720Z",
     "start_time": "2025-03-14T02:08:44.147182Z"
    }
   },
   "cell_type": "code",
   "source": [
    "# 第一步：设置处理变量 (T)\n",
    "df['T'] = df['MajorGovCustomer']\n",
    "\n",
    "# 第二步：估计倾向得分 (Propensity Score)\n",
    "X = df[['log_market_value_w', 'lev_w', 'BM_w', 'ROA_w']]\n",
    "X = sm.add_constant(X)  # 添加截距项\n",
    "y = df['T']\n",
    "\n",
    "# 使用logit回归\n",
    "logit_model = sm.Probit(y, X)\n",
    "result = logit_model.fit()\n",
    "df['propensity_score'] = result.predict(X)"
   ],
   "id": "e3541d811f0bb2e1",
   "outputs": [
    {
     "name": "stdout",
     "output_type": "stream",
     "text": [
      "Optimization terminated successfully.\n",
      "         Current function value: 0.425524\n",
      "         Iterations 5\n"
     ]
    }
   ],
   "execution_count": 40
  },
  {
   "metadata": {
    "ExecuteTime": {
     "end_time": "2025-03-14T02:49:05.094333Z",
     "start_time": "2025-03-14T02:48:54.494096Z"
    }
   },
   "cell_type": "code",
   "source": [
    "# 第三步：最近邻匹配（无重复匹配）\n",
    "\n",
    "# 分为处理组和对照组\n",
    "T_group = df[df['T'] == 1].copy()\n",
    "C_group = df[df['T'] == 0].copy()\n",
    "\n",
    "matched_indices = []\n",
    "\n",
    "for idx, row in T_group.iterrows():\n",
    "    c_idx = (C_group['propensity_score'] - row['propensity_score']).abs().idxmin()\n",
    "    matched_indices.append((idx, c_idx))\n",
    "    C_group = C_group.drop(c_idx)\n",
    "\n",
    "T_matched = T_group.loc[[i[0] for i in matched_indices]]\n",
    "C_matched = df.loc[[i[1] for i in matched_indices]]\n",
    "df_matched = pd.concat([T_matched, C_matched]).copy()"
   ],
   "id": "74c7fdf951124649",
   "outputs": [],
   "execution_count": 49
  },
  {
   "metadata": {
    "ExecuteTime": {
     "end_time": "2025-03-14T01:56:39.806252Z",
     "start_time": "2025-03-14T01:56:39.800168Z"
    }
   },
   "cell_type": "code",
   "source": [
    "# 第四步：检查匹配前后的变量均值差异与显著性，并展示匹配后样本量\n",
    "def check_balance(df_before, df_after, variables):\n",
    "    balance_table = pd.DataFrame(columns=['Before Diff', 'Before t-stat', 'After Diff', 'After t-stat'], index=variables)\n",
    "\n",
    "    for var in variables:\n",
    "        # 匹配前差异与t检验\n",
    "        treat_before = df_before[df_before['T']==1][var]\n",
    "        control_before = df_before[df_before['T']==0][var]\n",
    "        before_diff = treat_before.mean() - control_before.mean()\n",
    "        before_tstat, _ = ttest_ind(treat_before, control_before, equal_var=False)\n",
    "\n",
    "        # 匹配后差异与t检验\n",
    "        treat_after = df_after[df_after['T']==1][var]\n",
    "        control_after = df_after[df_after['T']==0][var]\n",
    "        after_diff = treat_after.mean() - control_after.mean()\n",
    "        after_tstat, _ = ttest_ind(treat_after, control_after, equal_var=False)\n",
    "\n",
    "        balance_table.loc[var] = [before_diff, before_tstat, after_diff, after_tstat]\n",
    "\n",
    "    # 显示匹配后的样本量\n",
    "    print(f\"匹配后样本数: {len(df_after)}\")\n",
    "\n",
    "    return balance_table"
   ],
   "id": "df97f1a49d0b39cd",
   "outputs": [],
   "execution_count": 28
  },
  {
   "metadata": {
    "ExecuteTime": {
     "end_time": "2025-03-14T02:08:50.790297Z",
     "start_time": "2025-03-14T02:08:50.649511Z"
    }
   },
   "cell_type": "code",
   "source": "df_matched.to_stata(os.path.join(const.RESULT_PATH, '20250314_stock_act_psm_data_v1.dta'), write_index=False, version=119)",
   "id": "d5c484df6696c75d",
   "outputs": [],
   "execution_count": 42
  },
  {
   "metadata": {
    "ExecuteTime": {
     "end_time": "2025-03-14T02:49:50.044639Z",
     "start_time": "2025-03-14T02:49:50.040077Z"
    }
   },
   "cell_type": "code",
   "source": [
    "df.loc[:, 'is_psm'] = 0\n",
    "df.loc[df_matched.index, 'is_psm'] = 1"
   ],
   "id": "62bdfa1b77421c42",
   "outputs": [],
   "execution_count": 52
  },
  {
   "metadata": {
    "ExecuteTime": {
     "end_time": "2025-03-14T02:49:52.286175Z",
     "start_time": "2025-03-14T02:49:52.018193Z"
    }
   },
   "cell_type": "code",
   "source": "df.to_stata(os.path.join(const.RESULT_PATH, '20250314_stock_act_psm_data_v2.dta'), write_index=False, version=119)\n",
   "id": "e84365b26f9ff20f",
   "outputs": [],
   "execution_count": 53
  },
  {
   "metadata": {
    "ExecuteTime": {
     "end_time": "2025-03-14T02:49:45.185692Z",
     "start_time": "2025-03-14T02:49:45.175187Z"
    }
   },
   "cell_type": "code",
   "source": "df_matched[df_matched[[const.GVKEY, const.YEAR]].duplicated()]",
   "id": "a6740d68c97bf126",
   "outputs": [
    {
     "data": {
      "text/plain": [
       "Empty DataFrame\n",
       "Columns: [gvkey, fiscal_year, mf_indicator, frequency, log_frequency, MajorGovCustomer, post, log_market_value, lev, ROA, LOSS, EarnVol, ret, turnover, StkVol, filename, event_id, company_name, ticker, date, year, month, day, CUSIP, cusip, CRSP, time, event_type, event_title, city, ceo, cfo, epsfi, epsfx, epspi, epspx, opeps, oprepsx, exchg, cik, busdesc, naics, cusip_6_digit, fyear, CongressOwn, freq_date, post_new, social_info, env_info, sic, BM, HHI, HHI_high, donation_amount, donation_high, PRisk, PSentiment, prisk_high, HighGovCustomNum, GovCustomNum, LowGovCustomNum, HighGovSalesVol, GovSalesVol, LowGovSalesVol, HighGovSalesRatio, LowGovSalesRatio, gov_annual_sales, all_annual_sales, annual_per_sale, avg_sales_per, hasGovContract, GovContractor, OnlyGovContractor, frequency_ann, log_frequency_ann, frequency_eps, log_frequency_eps, frequency_noneps, log_frequency_noneps, frequency_qtr, log_frequency_qtr, log_frequency_day, width, isCleanControl, isCoveredIBES, sixYearSample, log_frequency_w, log_market_value_w, lev_w, BM_w, ROA_w, EarnVol_w, ret_w, turnover_w, StkVol_w, log_frequency_ann_w, log_frequency_eps_w, log_frequency_noneps_w, log_frequency_qtr_w, log_frequency_day_w, ...]\n",
       "Index: []\n",
       "\n",
       "[0 rows x 199 columns]"
      ],
      "text/html": [
       "<div>\n",
       "<style scoped>\n",
       "    .dataframe tbody tr th:only-of-type {\n",
       "        vertical-align: middle;\n",
       "    }\n",
       "\n",
       "    .dataframe tbody tr th {\n",
       "        vertical-align: top;\n",
       "    }\n",
       "\n",
       "    .dataframe thead th {\n",
       "        text-align: right;\n",
       "    }\n",
       "</style>\n",
       "<table border=\"1\" class=\"dataframe\">\n",
       "  <thead>\n",
       "    <tr style=\"text-align: right;\">\n",
       "      <th></th>\n",
       "      <th>gvkey</th>\n",
       "      <th>fiscal_year</th>\n",
       "      <th>mf_indicator</th>\n",
       "      <th>frequency</th>\n",
       "      <th>log_frequency</th>\n",
       "      <th>MajorGovCustomer</th>\n",
       "      <th>post</th>\n",
       "      <th>log_market_value</th>\n",
       "      <th>lev</th>\n",
       "      <th>ROA</th>\n",
       "      <th>...</th>\n",
       "      <th>PEG_an</th>\n",
       "      <th>JLR</th>\n",
       "      <th>LPV</th>\n",
       "      <th>CER</th>\n",
       "      <th>FF6</th>\n",
       "      <th>QFM</th>\n",
       "      <th>permno</th>\n",
       "      <th>T</th>\n",
       "      <th>propensity_score</th>\n",
       "      <th>is_psm</th>\n",
       "    </tr>\n",
       "  </thead>\n",
       "  <tbody>\n",
       "  </tbody>\n",
       "</table>\n",
       "<p>0 rows × 199 columns</p>\n",
       "</div>"
      ]
     },
     "execution_count": 51,
     "metadata": {},
     "output_type": "execute_result"
    }
   ],
   "execution_count": 51
  },
  {
   "metadata": {
    "ExecuteTime": {
     "end_time": "2025-03-14T02:49:26.592295Z",
     "start_time": "2025-03-14T02:49:26.565887Z"
    }
   },
   "cell_type": "code",
   "source": [
    "# 4. 平衡性检验\n",
    "# 比较匹配前后变量差异\n",
    "def check_balance(data, title):\n",
    "    treated = data[data['T'] == 1]\n",
    "    control = data[data['T'] == 0]\n",
    "\n",
    "    print(f\"\\n{title}平衡性检验:\")\n",
    "    for var in ['log_market_value_w', 'lev_w', 'BM_w', 'ROA_w']:\n",
    "        t_mean = treated[var].mean()\n",
    "        c_mean = control[var].mean()\n",
    "        std_diff = (t_mean - c_mean)/treated[var].std()\n",
    "        print(f\"{var}: 标准化差异 = {std_diff:.4f}\")\n",
    "\n",
    "# 匹配前检验\n",
    "check_balance(df, \"原始数据\")\n",
    "\n",
    "# 匹配后检验\n",
    "check_balance(df_matched, \"匹配后数据\")\n"
   ],
   "id": "6e58a9ac6467aeb3",
   "outputs": [
    {
     "name": "stdout",
     "output_type": "stream",
     "text": [
      "\n",
      "原始数据平衡性检验:\n",
      "log_market_value_w: 标准化差异 = -0.0498\n",
      "lev_w: 标准化差异 = 0.1480\n",
      "BM_w: 标准化差异 = 0.0591\n",
      "ROA_w: 标准化差异 = 0.1156\n",
      "\n",
      "匹配后数据平衡性检验:\n",
      "log_market_value_w: 标准化差异 = 0.0226\n",
      "lev_w: 标准化差异 = -0.0013\n",
      "BM_w: 标准化差异 = -0.0294\n",
      "ROA_w: 标准化差异 = 0.0276\n"
     ]
    }
   ],
   "execution_count": 50
  },
  {
   "metadata": {
    "ExecuteTime": {
     "end_time": "2025-03-14T02:10:03.604304Z",
     "start_time": "2025-03-14T02:10:02.657068Z"
    }
   },
   "cell_type": "code",
   "source": [
    "# 可选：绘制倾向得分分布图\n",
    "import matplotlib.pyplot as plt\n",
    "\n",
    "plt.figure(figsize=(10, 6))\n",
    "df[df['T']==1]['propensity_score'].plot(kind='kde', label='处理组')\n",
    "df[df['T']==0]['propensity_score'].plot(kind='kde', label='对照组')\n",
    "plt.title('倾向得分分布')\n",
    "plt.xlabel('倾向得分')\n",
    "plt.legend()\n",
    "plt.show()"
   ],
   "id": "4d4ae5048a4274b4",
   "outputs": [
    {
     "name": "stderr",
     "output_type": "stream",
     "text": [
      "D:\\Users\\wangy\\anaconda3\\Lib\\site-packages\\IPython\\core\\pylabtools.py:170: UserWarning: Glyph 20542 (\\N{CJK UNIFIED IDEOGRAPH-503E}) missing from current font.\n",
      "  fig.canvas.print_figure(bytes_io, **kw)\n",
      "D:\\Users\\wangy\\anaconda3\\Lib\\site-packages\\IPython\\core\\pylabtools.py:170: UserWarning: Glyph 21521 (\\N{CJK UNIFIED IDEOGRAPH-5411}) missing from current font.\n",
      "  fig.canvas.print_figure(bytes_io, **kw)\n",
      "D:\\Users\\wangy\\anaconda3\\Lib\\site-packages\\IPython\\core\\pylabtools.py:170: UserWarning: Glyph 24471 (\\N{CJK UNIFIED IDEOGRAPH-5F97}) missing from current font.\n",
      "  fig.canvas.print_figure(bytes_io, **kw)\n",
      "D:\\Users\\wangy\\anaconda3\\Lib\\site-packages\\IPython\\core\\pylabtools.py:170: UserWarning: Glyph 20998 (\\N{CJK UNIFIED IDEOGRAPH-5206}) missing from current font.\n",
      "  fig.canvas.print_figure(bytes_io, **kw)\n",
      "D:\\Users\\wangy\\anaconda3\\Lib\\site-packages\\IPython\\core\\pylabtools.py:170: UserWarning: Glyph 24067 (\\N{CJK UNIFIED IDEOGRAPH-5E03}) missing from current font.\n",
      "  fig.canvas.print_figure(bytes_io, **kw)\n",
      "D:\\Users\\wangy\\anaconda3\\Lib\\site-packages\\IPython\\core\\pylabtools.py:170: UserWarning: Glyph 22788 (\\N{CJK UNIFIED IDEOGRAPH-5904}) missing from current font.\n",
      "  fig.canvas.print_figure(bytes_io, **kw)\n",
      "D:\\Users\\wangy\\anaconda3\\Lib\\site-packages\\IPython\\core\\pylabtools.py:170: UserWarning: Glyph 29702 (\\N{CJK UNIFIED IDEOGRAPH-7406}) missing from current font.\n",
      "  fig.canvas.print_figure(bytes_io, **kw)\n",
      "D:\\Users\\wangy\\anaconda3\\Lib\\site-packages\\IPython\\core\\pylabtools.py:170: UserWarning: Glyph 32452 (\\N{CJK UNIFIED IDEOGRAPH-7EC4}) missing from current font.\n",
      "  fig.canvas.print_figure(bytes_io, **kw)\n",
      "D:\\Users\\wangy\\anaconda3\\Lib\\site-packages\\IPython\\core\\pylabtools.py:170: UserWarning: Glyph 23545 (\\N{CJK UNIFIED IDEOGRAPH-5BF9}) missing from current font.\n",
      "  fig.canvas.print_figure(bytes_io, **kw)\n",
      "D:\\Users\\wangy\\anaconda3\\Lib\\site-packages\\IPython\\core\\pylabtools.py:170: UserWarning: Glyph 29031 (\\N{CJK UNIFIED IDEOGRAPH-7167}) missing from current font.\n",
      "  fig.canvas.print_figure(bytes_io, **kw)\n"
     ]
    },
    {
     "data": {
      "text/plain": [
       "<Figure size 1000x600 with 1 Axes>"
      ],
      "image/png": "[encoded data removed]"
     },
     "metadata": {},
     "output_type": "display_data"
    }
   ],
   "execution_count": 44
  }
 ],
 "metadata": {
  "kernelspec": {
   "display_name": "Python 3",
   "language": "python",
   "name": "python3"
  },
  "language_info": {
   "codemirror_mode": {
    "name": "ipython",
    "version": 2
   },
   "file_extension": ".py",
   "mimetype": "text/x-python",
   "name": "python",
   "nbconvert_exporter": "python",
   "pygments_lexer": "ipython2",
   "version": "2.7.6"
  }
 },
 "nbformat": 4,
 "nbformat_minor": 5
}
