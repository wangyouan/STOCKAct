{
 "cells": [
  {
   "cell_type": "code",
   "id": "initial_id",
   "metadata": {
    "collapsed": true,
    "ExecuteTime": {
     "end_time": "2025-07-12T08:29:40.530607Z",
     "start_time": "2025-07-12T08:29:39.856089Z"
    }
   },
   "source": [
    "import os\n",
    "\n",
    "import wrds\n",
    "import pandas as pd\n",
    "from pandas import DataFrame\n",
    "import numpy as np\n",
    "\n",
    "from Constants import Constants as const"
   ],
   "outputs": [],
   "execution_count": 2
  },
  {
   "metadata": {
    "ExecuteTime": {
     "end_time": "2025-07-12T09:04:19.879139Z",
     "start_time": "2025-07-12T09:02:56.526950Z"
    }
   },
   "cell_type": "code",
   "source": [
    "# Connect to WRDS\n",
    "conn = wrds.Connection(wrds_username='wangyouan')"
   ],
   "id": "5935b3546f257459",
   "outputs": [
    {
     "name": "stdout",
     "output_type": "stream",
     "text": [
      "WRDS recommends setting up a .pgpass file.\n",
      "Created .pgpass file successfully.\n",
      "You can create this file yourself at any time with the create_pgpass_file() function.\n",
      "Loading library list...\n",
      "Done\n"
     ]
    }
   ],
   "execution_count": 16
  },
  {
   "metadata": {
    "ExecuteTime": {
     "end_time": "2025-07-12T09:04:55.212496Z",
     "start_time": "2025-07-12T09:04:55.209358Z"
    }
   },
   "cell_type": "code",
   "source": [
    "# Define start and end dates\n",
    "start_date = '2001-01-01'\n",
    "end_date = '2016-12-31'"
   ],
   "id": "46bd39a68159717d",
   "outputs": [],
   "execution_count": 18
  },
  {
   "metadata": {
    "ExecuteTime": {
     "end_time": "2025-04-28T22:44:36.528278Z",
     "start_time": "2025-04-28T22:44:36.523853Z"
    }
   },
   "cell_type": "code",
   "source": "conn.close()",
   "id": "900839a799ff7df8",
   "outputs": [],
   "execution_count": 5
  },
  {
   "metadata": {},
   "cell_type": "markdown",
   "source": [
    "# Analyst Coverage\n",
    "\n",
    "Method from He, J. (Jack), & Tian, X. (2013). The dark side of analyst coverage: The case of innovation. Journal of Financial Economics, 109(3), 856–878. https://doi.org/10.1016/j.jfineco.2013.04.001 \n",
    "\n",
    "We obtain analyst information from the I/B/E/S database. For each fiscal year of a firm, we take the average of the 12 monthly numbers of earnings forecasts given by the summary file and treat that as a raw measure of analyst coverage (Coverage). This measure relies on the fact that most analysts following a firm issue at least one earnings forecast for that firm during the year before its fiscal year ending date and that a majority of them issue at most one earnings forecast in each month."
   ],
   "id": "69f15691c98a6779"
  },
  {
   "metadata": {},
   "cell_type": "markdown",
   "source": "## Use Local Sas file",
   "id": "13b300fc46743a49"
  },
  {
   "metadata": {
    "ExecuteTime": {
     "end_time": "2025-07-12T08:31:00.714590Z",
     "start_time": "2025-07-12T08:29:43.378089Z"
    }
   },
   "cell_type": "code",
   "source": [
    "data_path = r'D:\\Users\\wangy\\Documents\\data\\ibes'\n",
    "# 只读取 ticker, statpers, numest, fpi, measure 四列\n",
    "ibes_df = pd.read_sas(os.path.join(data_path, \"statsum_epsus.sas7bdat\"))"
   ],
   "id": "1917dee7bf6459ea",
   "outputs": [],
   "execution_count": 3
  },
  {
   "metadata": {
    "ExecuteTime": {
     "end_time": "2025-07-12T08:33:39.410290Z",
     "start_time": "2025-07-12T08:33:09.126188Z"
    }
   },
   "cell_type": "code",
   "source": [
    "ibes_df.columns = [col.lower() for col in ibes_df.columns]\n",
    "\n",
    "# 自动将所有 bytes 类型列转换为 str 类型\n",
    "for col in ibes_df.select_dtypes(['object']).columns:\n",
    "    if isinstance(ibes_df[col].iloc[0], bytes):\n",
    "        ibes_df[col] = ibes_df[col].str.decode('utf-8')"
   ],
   "id": "75469d804a22d637",
   "outputs": [],
   "execution_count": 6
  },
  {
   "metadata": {
    "ExecuteTime": {
     "end_time": "2025-07-12T09:06:33.036082Z",
     "start_time": "2025-07-12T09:06:29.724330Z"
    }
   },
   "cell_type": "code",
   "source": [
    "columns_needed = ['ticker', 'statpers', 'numest', 'fpi', 'measure']\n",
    "# 执行本地筛选逻辑，等同于 WRDS SQL 查询\n",
    "ibes_summary = ibes_df[\n",
    "    (ibes_df['fpi'] == '1') &\n",
    "    (ibes_df['measure'] == 'EPS') &\n",
    "    (ibes_df['statpers'] >= start_date) &\n",
    "    (ibes_df['statpers'] <= end_date)\n",
    "][['ticker', 'statpers', 'numest']].copy()\n",
    "\n",
    "# Convert the date column to datetime format\n",
    "ibes_summary['statpers'] = pd.to_datetime(ibes_summary['statpers'])\n",
    "\n",
    "# Extract year and month from 'statpers'\n",
    "ibes_summary['year'] = ibes_summary['statpers'].dt.year\n",
    "ibes_summary['month'] = ibes_summary['statpers'].dt.month\n",
    "\n",
    "# Calculate the average number of analysts for each firm for each fiscal year\n",
    "ibes_summary['fiscal_year'] = ibes_summary['statpers'].dt.to_period('Y')\n",
    "\n",
    "# Group by ticker and fiscal year, then calculate the average number of analysts\n",
    "analyst_coverage = ibes_summary.groupby(['ticker', 'fiscal_year'])['numest'].mean().reset_index()\n",
    "\n",
    "# Rename columns\n",
    "analyst_coverage.rename(columns={'numest': 'coverage'}, inplace=True)"
   ],
   "id": "46fb51420c075e54",
   "outputs": [],
   "execution_count": 20
  },
  {
   "metadata": {
    "ExecuteTime": {
     "end_time": "2025-07-12T09:12:56.869214Z",
     "start_time": "2025-07-12T09:09:43.532002Z"
    }
   },
   "cell_type": "code",
   "source": [
    "ibes_crsp_link = pd.read_sas(os.path.join(data_path, 'ibcrsphist.sas7bdat'),\n",
    "                             encoding='utf-8')\n",
    "ibes_crsp_link.columns = [col.lower() for col in ibes_crsp_link.columns]\n",
    "\n",
    "# 4. 转换起止日期为 datetime 类型\n",
    "ibes_crsp_link['sdate'] = pd.to_datetime(ibes_crsp_link['sdate'])\n",
    "ibes_crsp_link['edate'] = pd.to_datetime(ibes_crsp_link['edate'])\n",
    "\n",
    "# 5. 生成 fiscal year 的年初时间（用于匹配）\n",
    "analyst_coverage['fyear_date'] = analyst_coverage['fiscal_year'].dt.start_time\n",
    "\n",
    "# 6. 合并：按 ticker & fiscal_year_date 匹配在 sdates ≤ date ≤ edates 的 PERMNO\n",
    "def get_permno(row):\n",
    "    match = ibes_crsp_link[\n",
    "        (ibes_crsp_link['ticker'] == row['ticker']) &\n",
    "        (ibes_crsp_link['sdate'] <= row['fyear_date']) &\n",
    "        (ibes_crsp_link['edate'] >= row['fyear_date'])\n",
    "    ]\n",
    "    return match['permno'].values[0] if not match.empty else pd.NA\n",
    "\n",
    "analyst_coverage['permno'] = analyst_coverage.apply(get_permno, axis=1)"
   ],
   "id": "48e870b5175522cd",
   "outputs": [],
   "execution_count": 23
  },
  {
   "metadata": {
    "ExecuteTime": {
     "end_time": "2025-07-12T08:57:16.890829Z",
     "start_time": "2025-07-12T08:57:16.464700Z"
    }
   },
   "cell_type": "code",
   "source": [
    "analyst_coverage.dropna(subset=['permno']).drop(columns=['fyear_date']).to_pickle(\n",
    "    os.path.join(const.TEMP_PATH, '2001_2016_analyst_coverage.pkl'))"
   ],
   "id": "c8b08273a0b6dad5",
   "outputs": [],
   "execution_count": 15
  },
  {
   "metadata": {
    "ExecuteTime": {
     "end_time": "2025-07-12T09:22:16.951706Z",
     "start_time": "2025-07-12T09:22:16.813483Z"
    }
   },
   "cell_type": "code",
   "source": [
    "# Link CRSP to Compustat using the CRSP-Compustat Link table\n",
    "crsp_comp_link = pd.read_pickle(os.path.join(const.TEMP_PATH, 'crsp_comp.pkl'))\n",
    "analyst_coverage2 = analyst_coverage.dropna(subset=['permno']).drop(columns=['fyear_date'])\n",
    "analyst_coverage2['permno'] = analyst_coverage2['permno'].astype(int)\n",
    "crsp_comp_link['permco'] = crsp_comp_link['permco'].astype(int)\n",
    "\n",
    "# Merge CRSP data with Compustat data to add GVKEY to the dataset\n",
    "analyst_coverage2 = pd.merge(analyst_coverage2, crsp_comp_link, left_on='permno', right_on='permco', how='left')\n",
    "\n",
    "# Drop 'permco' column as it is no longer needed\n",
    "analyst_coverage2.drop(columns=['permco'], inplace=True)\n",
    "analyst_coverage2.to_csv(os.path.join(const.TEMP_PATH, '2001_2016_annual_analyst_coverage.csv'), index=False)\n"
   ],
   "id": "f0ceae8972b9361",
   "outputs": [],
   "execution_count": 27
  },
  {
   "metadata": {},
   "cell_type": "markdown",
   "source": "## Use WRDS package to construct Analyst Coverage data",
   "id": "b67f448f8c10090f"
  },
  {
   "metadata": {
    "ExecuteTime": {
     "end_time": "2024-10-09T07:57:54.583177Z",
     "start_time": "2024-10-09T07:57:26.657866Z"
    }
   },
   "cell_type": "code",
   "source": [
    "\n",
    "# Query to obtain the monthly number of earnings forecasts from the IBES summary file\n",
    "ibes_summary = conn.raw_sql(f\"\"\"\n",
    "    SELECT ticker, statpers, numest\n",
    "    FROM ibes.statsum_epsus\n",
    "    WHERE fpi = '1' AND measure='EPS' AND statpers >= '{start_date}' AND statpers <= '{end_date}'\n",
    "\"\"\")\n",
    "\n",
    "# Convert the date column to datetime format\n",
    "ibes_summary['statpers'] = pd.to_datetime(ibes_summary['statpers'])\n",
    "\n",
    "# Extract year and month from 'statpers'\n",
    "ibes_summary['year'] = ibes_summary['statpers'].dt.year\n",
    "ibes_summary['month'] = ibes_summary['statpers'].dt.month\n",
    "\n",
    "# Calculate the average number of analysts for each firm for each fiscal year\n",
    "ibes_summary['fiscal_year'] = ibes_summary['statpers'].dt.to_period('Y')\n",
    "\n",
    "# Group by ticker and fiscal year, then calculate the average number of analysts\n",
    "analyst_coverage = ibes_summary.groupby(['ticker', 'fiscal_year'])['numest'].mean().reset_index()\n",
    "\n",
    "# Rename columns\n",
    "analyst_coverage.rename(columns={'numest': 'coverage'}, inplace=True)"
   ],
   "id": "580e6bccbeccc823",
   "outputs": [],
   "execution_count": 15
  },
  {
   "metadata": {
    "ExecuteTime": {
     "end_time": "2024-10-09T08:03:20.172357Z",
     "start_time": "2024-10-09T08:03:19.170379Z"
    }
   },
   "cell_type": "code",
   "source": [
    "# Link the IBES ticker to CRSP using the IBES CRSP Link database\n",
    "ibes_crsp_link = conn.raw_sql(f\"\"\"\n",
    "    SELECT distinct ticker, permno\n",
    "    FROM wrdsapps_link_crsp_ibes.ibcrsphist\n",
    "    WHERE sdate <= '{end_date}' AND (edate IS NULL OR edate >= '{start_date}')\n",
    "\"\"\")\n",
    "\n",
    "# Merge IBES and CRSP data to link ticker with PERMNO\n",
    "analyst_coverage2 = pd.merge(analyst_coverage, ibes_crsp_link, on='ticker', how='left')"
   ],
   "id": "fccb7aff611cb813",
   "outputs": [],
   "execution_count": 23
  },
  {
   "metadata": {
    "ExecuteTime": {
     "end_time": "2024-10-09T08:08:44.605833Z",
     "start_time": "2024-10-09T08:08:43.570080Z"
    }
   },
   "cell_type": "code",
   "source": [
    "ibes_summary['fqtr'] = ibes_summary['statpers'].dt.to_period('Q')\n",
    "analyst_coverage_qtr = ibes_summary.groupby(['ticker', 'fqtr'])['numest'].mean().reset_index()\n",
    "analyst_coverage_qtr.rename(columns={'numest': 'coverage'}, inplace=True)\n",
    "\n",
    "# Merge IBES and CRSP data to link ticker with PERMNO\n",
    "analyst_coverage_qtr2 = pd.merge(analyst_coverage_qtr, ibes_crsp_link, on='ticker', how='left')"
   ],
   "id": "81a8fcb782b4b631",
   "outputs": [],
   "execution_count": 29
  },
  {
   "metadata": {
    "ExecuteTime": {
     "end_time": "2024-10-09T08:13:47.556519Z",
     "start_time": "2024-10-09T08:13:45.287543Z"
    }
   },
   "cell_type": "code",
   "source": [
    "# Link CRSP to Compustat using the CRSP-Compustat Link table\n",
    "crsp_comp_link = conn.raw_sql(f\"\"\"\n",
    "    SELECT distinct permco, gvkey\n",
    "    FROM wrdsapps_link_crsp_comp_bdx.bdxcrspcomplink\n",
    "\"\"\")\n",
    "\n",
    "# Merge CRSP data with Compustat data to add GVKEY to the dataset\n",
    "analyst_coverage2 = pd.merge(analyst_coverage2, crsp_comp_link, left_on='permno', right_on='permco', how='left')\n",
    "\n",
    "# Drop 'permco' column as it is no longer needed\n",
    "analyst_coverage2.drop(columns=['permco'], inplace=True)\n",
    "analyst_coverage2.to_csv(os.path.join(const.TEMP_PATH, '2007_2016_annual_analyst_coverage.csv'), index=False)\n",
    "\n",
    "# Merge CRSP data with Compustat data to add GVKEY to the dataset\n",
    "analyst_coverage_qtr2 = pd.merge(analyst_coverage_qtr2, crsp_comp_link, left_on='permno', right_on='permco', how='left')\n",
    "\n",
    "# Drop 'permco' column as it is no longer needed\n",
    "analyst_coverage_qtr2.drop(columns=['permco'], inplace=True)\n",
    "analyst_coverage_qtr2.to_csv(os.path.join(const.TEMP_PATH, '2007_2016_quarterly_analyst_coverage.csv'), index=False)\n"
   ],
   "id": "40b5d7cb4a750026",
   "outputs": [],
   "execution_count": 34
  },
  {
   "metadata": {
    "ExecuteTime": {
     "end_time": "2024-10-09T08:14:09.610847Z",
     "start_time": "2024-10-09T08:14:09.601362Z"
    }
   },
   "cell_type": "code",
   "source": "analyst_coverage2",
   "id": "67cf86beb0911868",
   "outputs": [
    {
     "data": {
      "text/plain": [
       "      ticker fiscal_year   coverage   permno gvkey_x gvkey_y\n",
       "0       0000        2014   4.352113  14471.0  062491  062491\n",
       "1       0000        2015   5.000000  14471.0  062491  062491\n",
       "2       0000        2016   3.480000  14471.0  062491  062491\n",
       "3       0001        2014  13.526316  14392.0     NaN     NaN\n",
       "4       0001        2015  14.763158  14392.0     NaN     NaN\n",
       "...      ...         ...        ...      ...     ...     ...\n",
       "54481   ZYNX        2011   1.000000      NaN     NaN     NaN\n",
       "54482   ZYNX        2012   1.000000      NaN     NaN     NaN\n",
       "54483   ZYNX        2013   1.000000      NaN     NaN     NaN\n",
       "54484   ZYNX        2014   1.000000      NaN     NaN     NaN\n",
       "54485   ZYNX        2015   1.000000      NaN     NaN     NaN\n",
       "\n",
       "[54486 rows x 6 columns]"
      ],
      "text/html": [
       "<div>\n",
       "<style scoped>\n",
       "    .dataframe tbody tr th:only-of-type {\n",
       "        vertical-align: middle;\n",
       "    }\n",
       "\n",
       "    .dataframe tbody tr th {\n",
       "        vertical-align: top;\n",
       "    }\n",
       "\n",
       "    .dataframe thead th {\n",
       "        text-align: right;\n",
       "    }\n",
       "</style>\n",
       "<table border=\"1\" class=\"dataframe\">\n",
       "  <thead>\n",
       "    <tr style=\"text-align: right;\">\n",
       "      <th></th>\n",
       "      <th>ticker</th>\n",
       "      <th>fiscal_year</th>\n",
       "      <th>coverage</th>\n",
       "      <th>permno</th>\n",
       "      <th>gvkey_x</th>\n",
       "      <th>gvkey_y</th>\n",
       "    </tr>\n",
       "  </thead>\n",
       "  <tbody>\n",
       "    <tr>\n",
       "      <th>0</th>\n",
       "      <td>0000</td>\n",
       "      <td>2014</td>\n",
       "      <td>4.352113</td>\n",
       "      <td>14471.0</td>\n",
       "      <td>062491</td>\n",
       "      <td>062491</td>\n",
       "    </tr>\n",
       "    <tr>\n",
       "      <th>1</th>\n",
       "      <td>0000</td>\n",
       "      <td>2015</td>\n",
       "      <td>5.000000</td>\n",
       "      <td>14471.0</td>\n",
       "      <td>062491</td>\n",
       "      <td>062491</td>\n",
       "    </tr>\n",
       "    <tr>\n",
       "      <th>2</th>\n",
       "      <td>0000</td>\n",
       "      <td>2016</td>\n",
       "      <td>3.480000</td>\n",
       "      <td>14471.0</td>\n",
       "      <td>062491</td>\n",
       "      <td>062491</td>\n",
       "    </tr>\n",
       "    <tr>\n",
       "      <th>3</th>\n",
       "      <td>0001</td>\n",
       "      <td>2014</td>\n",
       "      <td>13.526316</td>\n",
       "      <td>14392.0</td>\n",
       "      <td>NaN</td>\n",
       "      <td>NaN</td>\n",
       "    </tr>\n",
       "    <tr>\n",
       "      <th>4</th>\n",
       "      <td>0001</td>\n",
       "      <td>2015</td>\n",
       "      <td>14.763158</td>\n",
       "      <td>14392.0</td>\n",
       "      <td>NaN</td>\n",
       "      <td>NaN</td>\n",
       "    </tr>\n",
       "    <tr>\n",
       "      <th>...</th>\n",
       "      <td>...</td>\n",
       "      <td>...</td>\n",
       "      <td>...</td>\n",
       "      <td>...</td>\n",
       "      <td>...</td>\n",
       "      <td>...</td>\n",
       "    </tr>\n",
       "    <tr>\n",
       "      <th>54481</th>\n",
       "      <td>ZYNX</td>\n",
       "      <td>2011</td>\n",
       "      <td>1.000000</td>\n",
       "      <td>NaN</td>\n",
       "      <td>NaN</td>\n",
       "      <td>NaN</td>\n",
       "    </tr>\n",
       "    <tr>\n",
       "      <th>54482</th>\n",
       "      <td>ZYNX</td>\n",
       "      <td>2012</td>\n",
       "      <td>1.000000</td>\n",
       "      <td>NaN</td>\n",
       "      <td>NaN</td>\n",
       "      <td>NaN</td>\n",
       "    </tr>\n",
       "    <tr>\n",
       "      <th>54483</th>\n",
       "      <td>ZYNX</td>\n",
       "      <td>2013</td>\n",
       "      <td>1.000000</td>\n",
       "      <td>NaN</td>\n",
       "      <td>NaN</td>\n",
       "      <td>NaN</td>\n",
       "    </tr>\n",
       "    <tr>\n",
       "      <th>54484</th>\n",
       "      <td>ZYNX</td>\n",
       "      <td>2014</td>\n",
       "      <td>1.000000</td>\n",
       "      <td>NaN</td>\n",
       "      <td>NaN</td>\n",
       "      <td>NaN</td>\n",
       "    </tr>\n",
       "    <tr>\n",
       "      <th>54485</th>\n",
       "      <td>ZYNX</td>\n",
       "      <td>2015</td>\n",
       "      <td>1.000000</td>\n",
       "      <td>NaN</td>\n",
       "      <td>NaN</td>\n",
       "      <td>NaN</td>\n",
       "    </tr>\n",
       "  </tbody>\n",
       "</table>\n",
       "<p>54486 rows × 6 columns</p>\n",
       "</div>"
      ]
     },
     "execution_count": 36,
     "metadata": {},
     "output_type": "execute_result"
    }
   ],
   "execution_count": 36
  },
  {
   "metadata": {},
   "cell_type": "markdown",
   "source": "# Construnt DISPERSION and FCSTERROR",
   "id": "ff7cead49dd0a43f"
  },
  {
   "metadata": {},
   "cell_type": "code",
   "outputs": [],
   "execution_count": null,
   "source": "## Use WRDS package",
   "id": "738e1ef730e9cc6"
  },
  {
   "metadata": {
    "ExecuteTime": {
     "end_time": "2024-10-12T03:35:26.693070Z",
     "start_time": "2024-10-12T03:35:09.156592Z"
    }
   },
   "cell_type": "code",
   "source": [
    "# Query WRDS IBES to obtain the necessary data\n",
    "# We need 'stdev', 'meanest', 'actual' from the IBES dataset\n",
    "ibes_data = conn.raw_sql(f\"\"\"\n",
    "    SELECT ticker, fpi, statpers, numest, fpedats, meanest AS EPS_MEAN, \n",
    "           stdev AS EPS_SD, actual AS EPS_ACTUAL\n",
    "    FROM ibes.statsum_epsus\n",
    "    WHERE fpi = '6' AND statpers BETWEEN '{start_date}' AND '{end_date}' AND measure = 'EPS'\n",
    "\"\"\")\n",
    "# ibes_data.to_pickle(os.path.join(const.TEMP_PATH, '2007_2016_ibes_annual_data.pkl'))\n",
    "ibes_data.to_pickle(os.path.join(const.TEMP_PATH, '2007_2016_ibes_quarter_data.pkl'))"
   ],
   "id": "a968383ec8168d66",
   "outputs": [],
   "execution_count": 5
  },
  {
   "metadata": {
    "ExecuteTime": {
     "end_time": "2025-07-12T09:05:35.899162Z",
     "start_time": "2025-07-12T09:05:04.704832Z"
    }
   },
   "cell_type": "code",
   "source": [
    "# Query WRDS CRSP to obtain the price data for each company at the end of the previous quarter\n",
    "crsp_data = conn.raw_sql(f\"\"\"\n",
    "    SELECT permno, date, prc AS Price_lag\n",
    "    FROM crsp.msf\n",
    "    WHERE date BETWEEN '{start_date}' AND '{end_date}'\n",
    "\"\"\")\n",
    "crsp_data.to_pickle(os.path.join(const.TEMP_PATH, '2001_2016_crsp_monthly_data.pkl'))"
   ],
   "id": "12adad513280a396",
   "outputs": [],
   "execution_count": 19
  },
  {
   "metadata": {
    "ExecuteTime": {
     "end_time": "2024-10-12T03:35:35.824493Z",
     "start_time": "2024-10-12T03:35:35.788289Z"
    }
   },
   "cell_type": "code",
   "source": [
    "# Load the data into pandas DataFrames (WRDS package)\n",
    "ibes_df = pd.DataFrame(ibes_data)\n",
    "crsp_df = pd.DataFrame(crsp_data).rename(columns={'price_lag': 'prc'})\n",
    "link_df = pd.DataFrame(ibes_crsp_link)"
   ],
   "id": "4051fca65d33b857",
   "outputs": [
    {
     "ename": "NameError",
     "evalue": "name 'ibes_crsp_link' is not defined",
     "output_type": "error",
     "traceback": [
      "\u001B[1;31m---------------------------------------------------------------------------\u001B[0m",
      "\u001B[1;31mNameError\u001B[0m                                 Traceback (most recent call last)",
      "Cell \u001B[1;32mIn[7], line 4\u001B[0m\n\u001B[0;32m      2\u001B[0m ibes_df \u001B[38;5;241m=\u001B[39m pd\u001B[38;5;241m.\u001B[39mDataFrame(ibes_data)\n\u001B[0;32m      3\u001B[0m crsp_df \u001B[38;5;241m=\u001B[39m pd\u001B[38;5;241m.\u001B[39mDataFrame(crsp_data)\u001B[38;5;241m.\u001B[39mrename(columns\u001B[38;5;241m=\u001B[39m{\u001B[38;5;124m'\u001B[39m\u001B[38;5;124mprice_lag\u001B[39m\u001B[38;5;124m'\u001B[39m: \u001B[38;5;124m'\u001B[39m\u001B[38;5;124mprc\u001B[39m\u001B[38;5;124m'\u001B[39m})\n\u001B[1;32m----> 4\u001B[0m link_df \u001B[38;5;241m=\u001B[39m pd\u001B[38;5;241m.\u001B[39mDataFrame(ibes_crsp_link)\n",
      "\u001B[1;31mNameError\u001B[0m: name 'ibes_crsp_link' is not defined"
     ]
    }
   ],
   "execution_count": 7
  },
  {
   "metadata": {
    "ExecuteTime": {
     "end_time": "2025-07-12T09:29:50.728098Z",
     "start_time": "2025-07-12T09:29:32.403591Z"
    }
   },
   "cell_type": "code",
   "source": [
    "# Load the data into pandas DataFrames (IBES local package)\n",
    "# ibes_full_df = ibes_df.copy()\n",
    "ibes_df = ibes_df.loc[ibes_df['fpi'] == '1',\n",
    "    ['ticker', 'fpi', 'statpers', 'numest', 'fpedats', 'meanest', 'stdev', 'actual']].rename(columns={'meanest': 'eps_mean', 'stdev': 'eps_sd', 'actual': 'eps_actual'})\n",
    "crsp_df = pd.DataFrame(crsp_data).rename(columns={'price_lag': 'prc'})\n",
    "# link_df = pd.DataFrame(ibes_crsp_link)"
   ],
   "id": "abde915995fc90db",
   "outputs": [],
   "execution_count": 33
  },
  {
   "metadata": {
    "ExecuteTime": {
     "end_time": "2024-10-12T03:35:35.921414400Z",
     "start_time": "2024-10-09T11:50:00.652585Z"
    }
   },
   "cell_type": "code",
   "source": [
    "link_df.to_pickle(os.path.join(const.TEMP_PATH, 'ibes_crsp_link.pkl'))\n",
    "crsp_comp_link.to_pickle(os.path.join(const.TEMP_PATH, 'crsp_comp.pkl'))"
   ],
   "id": "bdf197cccc0d96c9",
   "outputs": [],
   "execution_count": 78
  },
  {
   "metadata": {
    "ExecuteTime": {
     "end_time": "2025-07-12T09:12:56.985368Z",
     "start_time": "2025-07-12T09:12:56.943754Z"
    }
   },
   "cell_type": "code",
   "source": [
    "link_df = pd.read_pickle(os.path.join(const.TEMP_PATH, 'ibes_crsp_link.pkl'))\n",
    "crsp_comp_link = pd.read_pickle(os.path.join(const.TEMP_PATH, 'crsp_comp.pkl'))"
   ],
   "id": "ce2d0235d613ddac",
   "outputs": [],
   "execution_count": 24
  },
  {
   "metadata": {
    "ExecuteTime": {
     "end_time": "2024-10-12T03:35:56.669385Z",
     "start_time": "2024-10-12T03:35:56.459531Z"
    }
   },
   "cell_type": "code",
   "source": [
    "# Convert the IBES data to quarterly by creating a quarter value and aggregating it\n",
    "ibes_df['statpers'] = pd.to_datetime(ibes_df['statpers'])\n",
    "ibes_df['quarter'] = ibes_df['statpers'].dt.to_period('Q')\n",
    "ibes_quarterly = ibes_df.groupby(['ticker', 'quarter']).agg({\n",
    "    'eps_mean': 'mean',\n",
    "    'eps_sd': 'mean',\n",
    "    'eps_actual': 'mean',\n",
    "    'numest': 'last',\n",
    "    'fpedats': 'last'\n",
    "}).reset_index()"
   ],
   "id": "461f4460688464cc",
   "outputs": [],
   "execution_count": 9
  },
  {
   "metadata": {
    "ExecuteTime": {
     "end_time": "2024-10-12T03:36:00.051991Z",
     "start_time": "2024-10-12T03:35:59.859346Z"
    }
   },
   "cell_type": "code",
   "source": [
    "# Convert the CRSP data to quarterly by creating a quarter value\n",
    "crsp_df['date'] = pd.to_datetime(crsp_df['date'])\n",
    "crsp_df['quarter'] = crsp_df['date'].dt.to_period('Q')\n",
    "crsp_quarterly = crsp_df.groupby(['permno', 'quarter']).last().reset_index()"
   ],
   "id": "cbf4b625480fa42d",
   "outputs": [],
   "execution_count": 10
  },
  {
   "metadata": {
    "ExecuteTime": {
     "end_time": "2024-10-12T03:36:02.153264Z",
     "start_time": "2024-10-12T03:36:02.135074Z"
    }
   },
   "cell_type": "code",
   "source": [
    "# Use the price at the end of the previous quarter as Price_lag\n",
    "crsp_quarterly['Price_lag'] = crsp_quarterly.groupby('permno')['prc'].shift(1)"
   ],
   "id": "6c017cdb1b5d24da",
   "outputs": [],
   "execution_count": 11
  },
  {
   "metadata": {
    "ExecuteTime": {
     "end_time": "2024-10-12T03:36:07.953483Z",
     "start_time": "2024-10-12T03:36:07.813865Z"
    }
   },
   "cell_type": "code",
   "source": [
    "# Merge IBES and CRSP Link data to get permno for each IBES ticker\n",
    "ibes_linked_df = pd.merge(ibes_quarterly, link_df, on='ticker', how='inner')\n",
    "\n",
    "# Merge IBES-linked data with CRSP quarterly data on permno and quarter\n",
    "merged_df = pd.merge(ibes_linked_df, crsp_quarterly, on=['permno', 'quarter'], how='inner')\n",
    "\n",
    "# Create DISPERSION\n",
    "# DISPERSION is calculated as the ratio of the standard deviation of EPS forecasts (eps_sd) \n",
    "# to the stock price at the end of the previous quarter (Price_lag)\n",
    "merged_df['DISPERSION'] = merged_df['eps_sd'] / merged_df['Price_lag']\n",
    "\n",
    "# Create FCSTERROR\n",
    "# FCSTERROR is calculated as the absolute value of the difference between the mean analyst EPS forecast (eps_mean)\n",
    "# and the actual EPS (eps_actual), scaled by the stock price at the end of the previous quarter (Price_lag)\n",
    "merged_df['FCSTERROR'] = abs(merged_df['eps_mean'] - merged_df['eps_actual']) / merged_df['Price_lag']\n"
   ],
   "id": "1d285c3644084d0a",
   "outputs": [],
   "execution_count": 12
  },
  {
   "metadata": {
    "ExecuteTime": {
     "end_time": "2024-10-12T03:36:12.193748Z",
     "start_time": "2024-10-12T03:36:10.814614Z"
    }
   },
   "cell_type": "code",
   "source": "merged_df.to_csv(os.path.join(const.TEMP_PATH, '2007_2016_quarterly_dispersion_fcsterror.csv'), index=False)",
   "id": "91a46388bf94f17",
   "outputs": [],
   "execution_count": 13
  },
  {
   "metadata": {
    "ExecuteTime": {
     "end_time": "2025-07-12T09:31:49.709341Z",
     "start_time": "2025-07-12T09:31:47.990427Z"
    }
   },
   "cell_type": "code",
   "source": [
    "# Convert the IBES data to annual by creating a annual value and aggregating it\n",
    "ibes_df['statpers'] = pd.to_datetime(ibes_df['statpers'])\n",
    "ibes_df['year'] = ibes_df['statpers'].dt.year\n",
    "ibes_annual = ibes_df.groupby(['ticker', 'year']).agg({\n",
    "    'eps_mean': 'mean',\n",
    "    'eps_sd': 'mean',\n",
    "    'eps_actual': 'mean',\n",
    "    'numest': 'mean',\n",
    "}).reset_index()\n",
    "\n",
    "ibes_annual2 = ibes_df.groupby(['ticker', 'year']).agg({\n",
    "    'eps_mean': 'last',\n",
    "    'eps_sd': 'last',\n",
    "    'eps_actual': 'last',\n",
    "    'numest': 'last',\n",
    "}).reset_index()\n",
    "\n",
    "ibes_annual = ibes_annual.merge(ibes_annual2, on=['ticker', 'year'], how='left', suffixes=('', '_last'))\n",
    "\n",
    "# Convert the CRSP data to quarterly by creating a quarter value\n",
    "crsp_df['date'] = pd.to_datetime(crsp_df['date'])\n",
    "crsp_df['year'] = crsp_df['date'].dt.year\n",
    "crsp_annual = crsp_df.groupby(['permno', 'year']).last().reset_index()\n",
    "\n",
    "# Use the price at the end of the previous quarter as Price_lag\n",
    "crsp_annual['Price_lag'] = crsp_annual.groupby('permno')['prc'].shift(1)\n",
    "\n",
    "# Merge IBES and CRSP Link data to get permno for each IBES ticker\n",
    "ibes_linked_df = pd.merge(ibes_annual, link_df, on='ticker', how='inner')\n",
    "\n",
    "# Merge IBES-linked data with CRSP quarterly data on permno and quarter\n",
    "merged_df_ann = pd.merge(ibes_linked_df, crsp_annual, on=['permno', 'year'], how='inner')\n",
    "merged_df_ann = merged_df_ann[merged_df_ann['Price_lag'] > 0]\n",
    "\n",
    "# Create DISPERSION\n",
    "# DISPERSION is calculated as the ratio of the standard deviation of EPS forecasts (eps_sd) \n",
    "# to the stock price at the end of the previous quarter (Price_lag)\n",
    "merged_df_ann['DISPERSION'] = merged_df_ann['eps_sd'] / merged_df_ann['Price_lag']\n",
    "merged_df_ann['DISPERSION_last'] = merged_df_ann['eps_sd_last'] / merged_df_ann['Price_lag']\n",
    "\n",
    "# Create FCSTERROR\n",
    "# FCSTERROR is calculated as the absolute value of the difference between the mean analyst EPS forecast (eps_mean)\n",
    "# and the actual EPS (eps_actual), scaled by the stock price at the end of the previous quarter (Price_lag)\n",
    "merged_df_ann['FCSTERROR'] = abs(merged_df_ann['eps_mean'] - merged_df_ann['eps_actual']) / merged_df_ann['Price_lag']\n",
    "merged_df_ann['FCSTERROR_last'] = abs(merged_df_ann['eps_mean_last'] - merged_df_ann['eps_actual_last']) / merged_df_ann['Price_lag']\n",
    "\n",
    "merged_df_ann.to_csv(os.path.join(const.TEMP_PATH, '2001_2016_annual_dispersion_fcsterror.csv'), index=False)"
   ],
   "id": "38bcee5cb88a0b8b",
   "outputs": [],
   "execution_count": 34
  },
  {
   "metadata": {},
   "cell_type": "markdown",
   "source": "# Download data for Li Xintong",
   "id": "453f66e3aff0f4a6"
  },
  {
   "metadata": {
    "ExecuteTime": {
     "end_time": "2025-03-18T13:36:31.658602Z",
     "start_time": "2025-03-18T13:36:00.071397Z"
    }
   },
   "cell_type": "code",
   "source": [
    "# Define start year\n",
    "start_year = 1993\n",
    "\n",
    "# ========================\n",
    "# 1. Earnings Announcements: tr_ibes.actu_epsus\n",
    "# ========================\n",
    "# Download tr_ibes.actu_epsus (Earnings Announcements) table\n",
    "ea_data = conn.raw_sql(f\"\"\"\n",
    "    SELECT *\n",
    "    FROM tr_ibes.actu_epsus\n",
    "    WHERE anndats >= '1993-01-01'\n",
    "\"\"\")"
   ],
   "id": "f30310a429c11f4e",
   "outputs": [],
   "execution_count": 4
  },
  {
   "metadata": {
    "ExecuteTime": {
     "end_time": "2025-03-18T23:44:53.394200Z",
     "start_time": "2025-03-18T23:44:53.390073Z"
    }
   },
   "cell_type": "code",
   "source": [
    "output_path = r'D:\\Users\\wangy\\Documents\\temp\\ibes data'\n",
    "# ea_data.to_csv(os.path.join(output_path, '1993_tr_ibes_actu_epsus.csv'), index=False)"
   ],
   "id": "7e5bdf9576aca896",
   "outputs": [],
   "execution_count": 9
  },
  {
   "metadata": {
    "ExecuteTime": {
     "end_time": "2025-03-18T13:40:07.765507Z",
     "start_time": "2025-03-18T13:40:07.368789Z"
    }
   },
   "cell_type": "code",
   "source": [
    "# ========================\n",
    "# 2. Management Guidance: tr_ibes_guidance.det_guidance\n",
    "# ========================\n",
    "# Download Management Guidance data\n",
    "mg_data = conn.raw_sql(f\"\"\"\n",
    "    SELECT *\n",
    "    FROM tr_ibes_guidance.det_guidance\n",
    "    WHERE anndats >= '1993-01-01'\n",
    "\"\"\")"
   ],
   "id": "74e3a1704b52e5ab",
   "outputs": [
    {
     "ename": "ProgrammingError",
     "evalue": "(psycopg2.errors.InsufficientPrivilege) permission denied for schema tr_ibes_guidance\nLINE 3:     FROM tr_ibes_guidance.det_guidance\n                 ^\n\n[SQL: \n    SELECT *\n    FROM tr_ibes_guidance.det_guidance\n    WHERE anndats >= '1993-01-01'\n]\n(Background on this error at: https://sqlalche.me/e/20/f405)",
     "output_type": "error",
     "traceback": [
      "\u001B[1;31m---------------------------------------------------------------------------\u001B[0m",
      "\u001B[1;31mInsufficientPrivilege\u001B[0m                     Traceback (most recent call last)",
      "File \u001B[1;32mD:\\Users\\wangy\\anaconda3\\Lib\\site-packages\\sqlalchemy\\engine\\base.py:1967\u001B[0m, in \u001B[0;36mConnection._exec_single_context\u001B[1;34m(self, dialect, context, statement, parameters)\u001B[0m\n\u001B[0;32m   1966\u001B[0m     \u001B[38;5;28;01mif\u001B[39;00m \u001B[38;5;129;01mnot\u001B[39;00m evt_handled:\n\u001B[1;32m-> 1967\u001B[0m         \u001B[38;5;28mself\u001B[39m\u001B[38;5;241m.\u001B[39mdialect\u001B[38;5;241m.\u001B[39mdo_execute(\n\u001B[0;32m   1968\u001B[0m             cursor, str_statement, effective_parameters, context\n\u001B[0;32m   1969\u001B[0m         )\n\u001B[0;32m   1971\u001B[0m \u001B[38;5;28;01mif\u001B[39;00m \u001B[38;5;28mself\u001B[39m\u001B[38;5;241m.\u001B[39m_has_events \u001B[38;5;129;01mor\u001B[39;00m \u001B[38;5;28mself\u001B[39m\u001B[38;5;241m.\u001B[39mengine\u001B[38;5;241m.\u001B[39m_has_events:\n",
      "File \u001B[1;32mD:\\Users\\wangy\\anaconda3\\Lib\\site-packages\\sqlalchemy\\engine\\default.py:924\u001B[0m, in \u001B[0;36mDefaultDialect.do_execute\u001B[1;34m(self, cursor, statement, parameters, context)\u001B[0m\n\u001B[0;32m    923\u001B[0m \u001B[38;5;28;01mdef\u001B[39;00m \u001B[38;5;21mdo_execute\u001B[39m(\u001B[38;5;28mself\u001B[39m, cursor, statement, parameters, context\u001B[38;5;241m=\u001B[39m\u001B[38;5;28;01mNone\u001B[39;00m):\n\u001B[1;32m--> 924\u001B[0m     cursor\u001B[38;5;241m.\u001B[39mexecute(statement, parameters)\n",
      "\u001B[1;31mInsufficientPrivilege\u001B[0m: permission denied for schema tr_ibes_guidance\nLINE 3:     FROM tr_ibes_guidance.det_guidance\n                 ^\n",
      "\nThe above exception was the direct cause of the following exception:\n",
      "\u001B[1;31mProgrammingError\u001B[0m                          Traceback (most recent call last)",
      "Cell \u001B[1;32mIn[7], line 5\u001B[0m\n\u001B[0;32m      1\u001B[0m \u001B[38;5;66;03m# ========================\u001B[39;00m\n\u001B[0;32m      2\u001B[0m \u001B[38;5;66;03m# 2. Management Guidance: tr_ibes_guidance.det_guidance\u001B[39;00m\n\u001B[0;32m      3\u001B[0m \u001B[38;5;66;03m# ========================\u001B[39;00m\n\u001B[0;32m      4\u001B[0m \u001B[38;5;66;03m# Download Management Guidance data\u001B[39;00m\n\u001B[1;32m----> 5\u001B[0m mg_data \u001B[38;5;241m=\u001B[39m conn\u001B[38;5;241m.\u001B[39mraw_sql(\u001B[38;5;124mf\u001B[39m\u001B[38;5;124m\"\"\"\u001B[39m\n\u001B[0;32m      6\u001B[0m \u001B[38;5;124m    SELECT *\u001B[39m\n\u001B[0;32m      7\u001B[0m \u001B[38;5;124m    FROM tr_ibes_guidance.det_guidance\u001B[39m\n\u001B[0;32m      8\u001B[0m \u001B[38;5;124m    WHERE anndats >= \u001B[39m\u001B[38;5;124m'\u001B[39m\u001B[38;5;124m1993-01-01\u001B[39m\u001B[38;5;124m'\u001B[39m\n\u001B[0;32m      9\u001B[0m \u001B[38;5;124m\"\"\"\u001B[39m)\n",
      "File \u001B[1;32mD:\\Users\\wangy\\anaconda3\\Lib\\site-packages\\wrds\\sql.py:583\u001B[0m, in \u001B[0;36mConnection.raw_sql\u001B[1;34m(self, sql, coerce_float, date_cols, index_col, params, chunksize, return_iter)\u001B[0m\n\u001B[0;32m    581\u001B[0m         \u001B[38;5;28;01mreturn\u001B[39;00m full_df\n\u001B[0;32m    582\u001B[0m \u001B[38;5;28;01mexcept\u001B[39;00m sa\u001B[38;5;241m.\u001B[39mexc\u001B[38;5;241m.\u001B[39mProgrammingError \u001B[38;5;28;01mas\u001B[39;00m e:\n\u001B[1;32m--> 583\u001B[0m     \u001B[38;5;28;01mraise\u001B[39;00m e\n",
      "File \u001B[1;32mD:\\Users\\wangy\\anaconda3\\Lib\\site-packages\\wrds\\sql.py:566\u001B[0m, in \u001B[0;36mConnection.raw_sql\u001B[1;34m(self, sql, coerce_float, date_cols, index_col, params, chunksize, return_iter)\u001B[0m\n\u001B[0;32m    509\u001B[0m \u001B[38;5;250m\u001B[39m\u001B[38;5;124;03m\"\"\"\u001B[39;00m\n\u001B[0;32m    510\u001B[0m \u001B[38;5;124;03mQueries the database using a raw SQL string.\u001B[39;00m\n\u001B[0;32m    511\u001B[0m \n\u001B[1;32m   (...)\u001B[0m\n\u001B[0;32m    562\u001B[0m \u001B[38;5;124;03m    2003-09-10  09:35:20.709000  N       AA       None     None  108100.0  28.200          N      00  1.929947e+15         C  None\u001B[39;00m\n\u001B[0;32m    563\u001B[0m \u001B[38;5;124;03m\"\"\"\u001B[39;00m  \u001B[38;5;66;03m# noqa\u001B[39;00m\n\u001B[0;32m    565\u001B[0m \u001B[38;5;28;01mtry\u001B[39;00m:\n\u001B[1;32m--> 566\u001B[0m     df \u001B[38;5;241m=\u001B[39m pd\u001B[38;5;241m.\u001B[39mread_sql_query(\n\u001B[0;32m    567\u001B[0m         sql,\n\u001B[0;32m    568\u001B[0m         \u001B[38;5;28mself\u001B[39m\u001B[38;5;241m.\u001B[39mconnection,\n\u001B[0;32m    569\u001B[0m         coerce_float\u001B[38;5;241m=\u001B[39mcoerce_float,\n\u001B[0;32m    570\u001B[0m         parse_dates\u001B[38;5;241m=\u001B[39mdate_cols,\n\u001B[0;32m    571\u001B[0m         index_col\u001B[38;5;241m=\u001B[39mindex_col,\n\u001B[0;32m    572\u001B[0m         chunksize\u001B[38;5;241m=\u001B[39mchunksize,\n\u001B[0;32m    573\u001B[0m         params\u001B[38;5;241m=\u001B[39mparams,\n\u001B[0;32m    574\u001B[0m     )\n\u001B[0;32m    575\u001B[0m     \u001B[38;5;28;01mif\u001B[39;00m return_iter \u001B[38;5;129;01mor\u001B[39;00m chunksize \u001B[38;5;129;01mis\u001B[39;00m \u001B[38;5;28;01mNone\u001B[39;00m:\n\u001B[0;32m    576\u001B[0m         \u001B[38;5;28;01mreturn\u001B[39;00m df\n",
      "File \u001B[1;32mD:\\Users\\wangy\\anaconda3\\Lib\\site-packages\\pandas\\io\\sql.py:526\u001B[0m, in \u001B[0;36mread_sql_query\u001B[1;34m(sql, con, index_col, coerce_float, params, parse_dates, chunksize, dtype, dtype_backend)\u001B[0m\n\u001B[0;32m    523\u001B[0m \u001B[38;5;28;01massert\u001B[39;00m dtype_backend \u001B[38;5;129;01mis\u001B[39;00m \u001B[38;5;129;01mnot\u001B[39;00m lib\u001B[38;5;241m.\u001B[39mno_default\n\u001B[0;32m    525\u001B[0m \u001B[38;5;28;01mwith\u001B[39;00m pandasSQL_builder(con) \u001B[38;5;28;01mas\u001B[39;00m pandas_sql:\n\u001B[1;32m--> 526\u001B[0m     \u001B[38;5;28;01mreturn\u001B[39;00m pandas_sql\u001B[38;5;241m.\u001B[39mread_query(\n\u001B[0;32m    527\u001B[0m         sql,\n\u001B[0;32m    528\u001B[0m         index_col\u001B[38;5;241m=\u001B[39mindex_col,\n\u001B[0;32m    529\u001B[0m         params\u001B[38;5;241m=\u001B[39mparams,\n\u001B[0;32m    530\u001B[0m         coerce_float\u001B[38;5;241m=\u001B[39mcoerce_float,\n\u001B[0;32m    531\u001B[0m         parse_dates\u001B[38;5;241m=\u001B[39mparse_dates,\n\u001B[0;32m    532\u001B[0m         chunksize\u001B[38;5;241m=\u001B[39mchunksize,\n\u001B[0;32m    533\u001B[0m         dtype\u001B[38;5;241m=\u001B[39mdtype,\n\u001B[0;32m    534\u001B[0m         dtype_backend\u001B[38;5;241m=\u001B[39mdtype_backend,\n\u001B[0;32m    535\u001B[0m     )\n",
      "File \u001B[1;32mD:\\Users\\wangy\\anaconda3\\Lib\\site-packages\\pandas\\io\\sql.py:1836\u001B[0m, in \u001B[0;36mSQLDatabase.read_query\u001B[1;34m(self, sql, index_col, coerce_float, parse_dates, params, chunksize, dtype, dtype_backend)\u001B[0m\n\u001B[0;32m   1779\u001B[0m \u001B[38;5;28;01mdef\u001B[39;00m \u001B[38;5;21mread_query\u001B[39m(\n\u001B[0;32m   1780\u001B[0m     \u001B[38;5;28mself\u001B[39m,\n\u001B[0;32m   1781\u001B[0m     sql: \u001B[38;5;28mstr\u001B[39m,\n\u001B[1;32m   (...)\u001B[0m\n\u001B[0;32m   1788\u001B[0m     dtype_backend: DtypeBackend \u001B[38;5;241m|\u001B[39m Literal[\u001B[38;5;124m\"\u001B[39m\u001B[38;5;124mnumpy\u001B[39m\u001B[38;5;124m\"\u001B[39m] \u001B[38;5;241m=\u001B[39m \u001B[38;5;124m\"\u001B[39m\u001B[38;5;124mnumpy\u001B[39m\u001B[38;5;124m\"\u001B[39m,\n\u001B[0;32m   1789\u001B[0m ) \u001B[38;5;241m-\u001B[39m\u001B[38;5;241m>\u001B[39m DataFrame \u001B[38;5;241m|\u001B[39m Iterator[DataFrame]:\n\u001B[0;32m   1790\u001B[0m \u001B[38;5;250m    \u001B[39m\u001B[38;5;124;03m\"\"\"\u001B[39;00m\n\u001B[0;32m   1791\u001B[0m \u001B[38;5;124;03m    Read SQL query into a DataFrame.\u001B[39;00m\n\u001B[0;32m   1792\u001B[0m \n\u001B[1;32m   (...)\u001B[0m\n\u001B[0;32m   1834\u001B[0m \n\u001B[0;32m   1835\u001B[0m \u001B[38;5;124;03m    \"\"\"\u001B[39;00m\n\u001B[1;32m-> 1836\u001B[0m     result \u001B[38;5;241m=\u001B[39m \u001B[38;5;28mself\u001B[39m\u001B[38;5;241m.\u001B[39mexecute(sql, params)\n\u001B[0;32m   1837\u001B[0m     columns \u001B[38;5;241m=\u001B[39m result\u001B[38;5;241m.\u001B[39mkeys()\n\u001B[0;32m   1839\u001B[0m     \u001B[38;5;28;01mif\u001B[39;00m chunksize \u001B[38;5;129;01mis\u001B[39;00m \u001B[38;5;129;01mnot\u001B[39;00m \u001B[38;5;28;01mNone\u001B[39;00m:\n",
      "File \u001B[1;32mD:\\Users\\wangy\\anaconda3\\Lib\\site-packages\\pandas\\io\\sql.py:1659\u001B[0m, in \u001B[0;36mSQLDatabase.execute\u001B[1;34m(self, sql, params)\u001B[0m\n\u001B[0;32m   1657\u001B[0m args \u001B[38;5;241m=\u001B[39m [] \u001B[38;5;28;01mif\u001B[39;00m params \u001B[38;5;129;01mis\u001B[39;00m \u001B[38;5;28;01mNone\u001B[39;00m \u001B[38;5;28;01melse\u001B[39;00m [params]\n\u001B[0;32m   1658\u001B[0m \u001B[38;5;28;01mif\u001B[39;00m \u001B[38;5;28misinstance\u001B[39m(sql, \u001B[38;5;28mstr\u001B[39m):\n\u001B[1;32m-> 1659\u001B[0m     \u001B[38;5;28;01mreturn\u001B[39;00m \u001B[38;5;28mself\u001B[39m\u001B[38;5;241m.\u001B[39mcon\u001B[38;5;241m.\u001B[39mexec_driver_sql(sql, \u001B[38;5;241m*\u001B[39margs)\n\u001B[0;32m   1660\u001B[0m \u001B[38;5;28;01mreturn\u001B[39;00m \u001B[38;5;28mself\u001B[39m\u001B[38;5;241m.\u001B[39mcon\u001B[38;5;241m.\u001B[39mexecute(sql, \u001B[38;5;241m*\u001B[39margs)\n",
      "File \u001B[1;32mD:\\Users\\wangy\\anaconda3\\Lib\\site-packages\\sqlalchemy\\engine\\base.py:1779\u001B[0m, in \u001B[0;36mConnection.exec_driver_sql\u001B[1;34m(self, statement, parameters, execution_options)\u001B[0m\n\u001B[0;32m   1774\u001B[0m execution_options \u001B[38;5;241m=\u001B[39m \u001B[38;5;28mself\u001B[39m\u001B[38;5;241m.\u001B[39m_execution_options\u001B[38;5;241m.\u001B[39mmerge_with(\n\u001B[0;32m   1775\u001B[0m     execution_options\n\u001B[0;32m   1776\u001B[0m )\n\u001B[0;32m   1778\u001B[0m dialect \u001B[38;5;241m=\u001B[39m \u001B[38;5;28mself\u001B[39m\u001B[38;5;241m.\u001B[39mdialect\n\u001B[1;32m-> 1779\u001B[0m ret \u001B[38;5;241m=\u001B[39m \u001B[38;5;28mself\u001B[39m\u001B[38;5;241m.\u001B[39m_execute_context(\n\u001B[0;32m   1780\u001B[0m     dialect,\n\u001B[0;32m   1781\u001B[0m     dialect\u001B[38;5;241m.\u001B[39mexecution_ctx_cls\u001B[38;5;241m.\u001B[39m_init_statement,\n\u001B[0;32m   1782\u001B[0m     statement,\n\u001B[0;32m   1783\u001B[0m     \u001B[38;5;28;01mNone\u001B[39;00m,\n\u001B[0;32m   1784\u001B[0m     execution_options,\n\u001B[0;32m   1785\u001B[0m     statement,\n\u001B[0;32m   1786\u001B[0m     distilled_parameters,\n\u001B[0;32m   1787\u001B[0m )\n\u001B[0;32m   1789\u001B[0m \u001B[38;5;28;01mreturn\u001B[39;00m ret\n",
      "File \u001B[1;32mD:\\Users\\wangy\\anaconda3\\Lib\\site-packages\\sqlalchemy\\engine\\base.py:1846\u001B[0m, in \u001B[0;36mConnection._execute_context\u001B[1;34m(self, dialect, constructor, statement, parameters, execution_options, *args, **kw)\u001B[0m\n\u001B[0;32m   1844\u001B[0m     \u001B[38;5;28;01mreturn\u001B[39;00m \u001B[38;5;28mself\u001B[39m\u001B[38;5;241m.\u001B[39m_exec_insertmany_context(dialect, context)\n\u001B[0;32m   1845\u001B[0m \u001B[38;5;28;01melse\u001B[39;00m:\n\u001B[1;32m-> 1846\u001B[0m     \u001B[38;5;28;01mreturn\u001B[39;00m \u001B[38;5;28mself\u001B[39m\u001B[38;5;241m.\u001B[39m_exec_single_context(\n\u001B[0;32m   1847\u001B[0m         dialect, context, statement, parameters\n\u001B[0;32m   1848\u001B[0m     )\n",
      "File \u001B[1;32mD:\\Users\\wangy\\anaconda3\\Lib\\site-packages\\sqlalchemy\\engine\\base.py:1986\u001B[0m, in \u001B[0;36mConnection._exec_single_context\u001B[1;34m(self, dialect, context, statement, parameters)\u001B[0m\n\u001B[0;32m   1983\u001B[0m     result \u001B[38;5;241m=\u001B[39m context\u001B[38;5;241m.\u001B[39m_setup_result_proxy()\n\u001B[0;32m   1985\u001B[0m \u001B[38;5;28;01mexcept\u001B[39;00m \u001B[38;5;167;01mBaseException\u001B[39;00m \u001B[38;5;28;01mas\u001B[39;00m e:\n\u001B[1;32m-> 1986\u001B[0m     \u001B[38;5;28mself\u001B[39m\u001B[38;5;241m.\u001B[39m_handle_dbapi_exception(\n\u001B[0;32m   1987\u001B[0m         e, str_statement, effective_parameters, cursor, context\n\u001B[0;32m   1988\u001B[0m     )\n\u001B[0;32m   1990\u001B[0m \u001B[38;5;28;01mreturn\u001B[39;00m result\n",
      "File \u001B[1;32mD:\\Users\\wangy\\anaconda3\\Lib\\site-packages\\sqlalchemy\\engine\\base.py:2353\u001B[0m, in \u001B[0;36mConnection._handle_dbapi_exception\u001B[1;34m(self, e, statement, parameters, cursor, context, is_sub_exec)\u001B[0m\n\u001B[0;32m   2351\u001B[0m \u001B[38;5;28;01melif\u001B[39;00m should_wrap:\n\u001B[0;32m   2352\u001B[0m     \u001B[38;5;28;01massert\u001B[39;00m sqlalchemy_exception \u001B[38;5;129;01mis\u001B[39;00m \u001B[38;5;129;01mnot\u001B[39;00m \u001B[38;5;28;01mNone\u001B[39;00m\n\u001B[1;32m-> 2353\u001B[0m     \u001B[38;5;28;01mraise\u001B[39;00m sqlalchemy_exception\u001B[38;5;241m.\u001B[39mwith_traceback(exc_info[\u001B[38;5;241m2\u001B[39m]) \u001B[38;5;28;01mfrom\u001B[39;00m \u001B[38;5;21;01me\u001B[39;00m\n\u001B[0;32m   2354\u001B[0m \u001B[38;5;28;01melse\u001B[39;00m:\n\u001B[0;32m   2355\u001B[0m     \u001B[38;5;28;01massert\u001B[39;00m exc_info[\u001B[38;5;241m1\u001B[39m] \u001B[38;5;129;01mis\u001B[39;00m \u001B[38;5;129;01mnot\u001B[39;00m \u001B[38;5;28;01mNone\u001B[39;00m\n",
      "File \u001B[1;32mD:\\Users\\wangy\\anaconda3\\Lib\\site-packages\\sqlalchemy\\engine\\base.py:1967\u001B[0m, in \u001B[0;36mConnection._exec_single_context\u001B[1;34m(self, dialect, context, statement, parameters)\u001B[0m\n\u001B[0;32m   1965\u001B[0m                 \u001B[38;5;28;01mbreak\u001B[39;00m\n\u001B[0;32m   1966\u001B[0m     \u001B[38;5;28;01mif\u001B[39;00m \u001B[38;5;129;01mnot\u001B[39;00m evt_handled:\n\u001B[1;32m-> 1967\u001B[0m         \u001B[38;5;28mself\u001B[39m\u001B[38;5;241m.\u001B[39mdialect\u001B[38;5;241m.\u001B[39mdo_execute(\n\u001B[0;32m   1968\u001B[0m             cursor, str_statement, effective_parameters, context\n\u001B[0;32m   1969\u001B[0m         )\n\u001B[0;32m   1971\u001B[0m \u001B[38;5;28;01mif\u001B[39;00m \u001B[38;5;28mself\u001B[39m\u001B[38;5;241m.\u001B[39m_has_events \u001B[38;5;129;01mor\u001B[39;00m \u001B[38;5;28mself\u001B[39m\u001B[38;5;241m.\u001B[39mengine\u001B[38;5;241m.\u001B[39m_has_events:\n\u001B[0;32m   1972\u001B[0m     \u001B[38;5;28mself\u001B[39m\u001B[38;5;241m.\u001B[39mdispatch\u001B[38;5;241m.\u001B[39mafter_cursor_execute(\n\u001B[0;32m   1973\u001B[0m         \u001B[38;5;28mself\u001B[39m,\n\u001B[0;32m   1974\u001B[0m         cursor,\n\u001B[1;32m   (...)\u001B[0m\n\u001B[0;32m   1978\u001B[0m         context\u001B[38;5;241m.\u001B[39mexecutemany,\n\u001B[0;32m   1979\u001B[0m     )\n",
      "File \u001B[1;32mD:\\Users\\wangy\\anaconda3\\Lib\\site-packages\\sqlalchemy\\engine\\default.py:924\u001B[0m, in \u001B[0;36mDefaultDialect.do_execute\u001B[1;34m(self, cursor, statement, parameters, context)\u001B[0m\n\u001B[0;32m    923\u001B[0m \u001B[38;5;28;01mdef\u001B[39;00m \u001B[38;5;21mdo_execute\u001B[39m(\u001B[38;5;28mself\u001B[39m, cursor, statement, parameters, context\u001B[38;5;241m=\u001B[39m\u001B[38;5;28;01mNone\u001B[39;00m):\n\u001B[1;32m--> 924\u001B[0m     cursor\u001B[38;5;241m.\u001B[39mexecute(statement, parameters)\n",
      "\u001B[1;31mProgrammingError\u001B[0m: (psycopg2.errors.InsufficientPrivilege) permission denied for schema tr_ibes_guidance\nLINE 3:     FROM tr_ibes_guidance.det_guidance\n                 ^\n\n[SQL: \n    SELECT *\n    FROM tr_ibes_guidance.det_guidance\n    WHERE anndats >= '1993-01-01'\n]\n(Background on this error at: https://sqlalche.me/e/20/f405)"
     ]
    }
   ],
   "execution_count": 7
  },
  {
   "metadata": {
    "ExecuteTime": {
     "end_time": "2025-03-18T15:05:24.970919Z",
     "start_time": "2025-03-18T15:05:15.619145Z"
    }
   },
   "cell_type": "code",
   "source": [
    "# Connect to WRDS\n",
    "conn = wrds.Connection(wrds_username='aheitz')"
   ],
   "id": "1ec7b1f223ac74a1",
   "outputs": [
    {
     "name": "stdout",
     "output_type": "stream",
     "text": [
      "Loading library list...\n",
      "Done\n"
     ]
    }
   ],
   "execution_count": 4
  },
  {
   "metadata": {
    "ExecuteTime": {
     "end_time": "2025-03-18T17:04:42.046045Z",
     "start_time": "2025-03-18T15:05:28.010515Z"
    }
   },
   "cell_type": "code",
   "source": [
    "# Define year range\n",
    "start_year = 2022\n",
    "end_year = 2024  # adjust to your latest desired year\n",
    "\n",
    "# Initialize empty list to store each year's data\n",
    "forecast_list = []\n",
    "\n",
    "for year in range(start_year, end_year + 1):\n",
    "    print(f\"Downloading data for year {year}...\")\n",
    "    query = f\"\"\"\n",
    "        SELECT *\n",
    "        FROM tr_ibes.statsum_epsus\n",
    "        WHERE statpers >= '{year}-01-01' AND statpers < '{year + 1}-01-01'\n",
    "    \"\"\"\n",
    "    try:\n",
    "        yearly_data = conn.raw_sql(query)\n",
    "        forecast_list.append(yearly_data)\n",
    "    except Exception as e:\n",
    "        print(f\"Failed to download data for {year}: {e}\")\n",
    "\n",
    "# Merge all data\n",
    "forecast_data = pd.concat(forecast_list, ignore_index=True)"
   ],
   "id": "b6bf7a3ac11a73bc",
   "outputs": [
    {
     "name": "stdout",
     "output_type": "stream",
     "text": [
      "Downloading data for year 2022...\n",
      "Downloading data for year 2023...\n",
      "Downloading data for year 2024...\n"
     ]
    }
   ],
   "execution_count": 5
  },
  {
   "metadata": {
    "ExecuteTime": {
     "end_time": "2025-03-18T17:04:42.179735Z",
     "start_time": "2025-03-18T17:04:42.174113Z"
    }
   },
   "cell_type": "code",
   "source": "conn.close()",
   "id": "5679f34ab668ae27",
   "outputs": [],
   "execution_count": 6
  },
  {
   "metadata": {
    "ExecuteTime": {
     "end_time": "2025-03-18T23:45:05.822085Z",
     "start_time": "2025-03-18T23:44:57.146491Z"
    }
   },
   "cell_type": "code",
   "source": "forecast_data.to_csv(os.path.join(output_path, '2022_2024_tr_ibes.statsum_epsus.csv'), index=False)",
   "id": "79a4655f7cb362bc",
   "outputs": [],
   "execution_count": 10
  }
 ],
 "metadata": {
  "kernelspec": {
   "display_name": "Python 3",
   "language": "python",
   "name": "python3"
  },
  "language_info": {
   "codemirror_mode": {
    "name": "ipython",
    "version": 2
   },
   "file_extension": ".py",
   "mimetype": "text/x-python",
   "name": "python",
   "nbconvert_exporter": "python",
   "pygments_lexer": "ipython2",
   "version": "2.7.6"
  }
 },
 "nbformat": 4,
 "nbformat_minor": 5
}
