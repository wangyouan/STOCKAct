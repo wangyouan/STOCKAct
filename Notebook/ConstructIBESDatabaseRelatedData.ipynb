{
 "cells": [
  {
   "cell_type": "code",
   "id": "initial_id",
   "metadata": {
    "collapsed": true,
    "ExecuteTime": {
     "end_time": "2024-10-12T03:34:47.678331Z",
     "start_time": "2024-10-12T03:34:46.559080Z"
    }
   },
   "source": [
    "import os\n",
    "\n",
    "import wrds\n",
    "import pandas as pd\n",
    "from pandas import DataFrame\n",
    "import numpy as np\n",
    "\n",
    "from Constants import Constants as const"
   ],
   "outputs": [],
   "execution_count": 1
  },
  {
   "metadata": {
    "ExecuteTime": {
     "end_time": "2024-10-12T03:34:54.182639Z",
     "start_time": "2024-10-12T03:34:47.687847Z"
    }
   },
   "cell_type": "code",
   "source": [
    "# Connect to WRDS\n",
    "conn = wrds.Connection(wrds_username='aheitz')"
   ],
   "id": "5935b3546f257459",
   "outputs": [
    {
     "name": "stdout",
     "output_type": "stream",
     "text": [
      "Loading library list...\n",
      "Done\n"
     ]
    }
   ],
   "execution_count": 2
  },
  {
   "metadata": {
    "ExecuteTime": {
     "end_time": "2024-10-12T03:34:54.278878Z",
     "start_time": "2024-10-12T03:34:54.275047Z"
    }
   },
   "cell_type": "code",
   "source": [
    "# Define start and end dates\n",
    "start_date = '2007-01-01'\n",
    "end_date = '2016-12-31'"
   ],
   "id": "46bd39a68159717d",
   "outputs": [],
   "execution_count": 3
  },
  {
   "metadata": {},
   "cell_type": "markdown",
   "source": [
    "Analyst Coverage\n",
    "\n",
    "Method from He, J. (Jack), & Tian, X. (2013). The dark side of analyst coverage: The case of innovation. Journal of Financial Economics, 109(3), 856–878. https://doi.org/10.1016/j.jfineco.2013.04.001 \n",
    "\n",
    "We obtain analyst information from the I/B/E/S database. For each fiscal year of a firm, we take the average of the 12 monthly numbers of earnings forecasts given by the summary file and treat that as a raw measure of analyst coverage (Coverage). This measure relies on the fact that most analysts following a firm issue at least one earnings forecast for that firm during the year before its fiscal year ending date and that a majority of them issue at most one earnings forecast in each month."
   ],
   "id": "69f15691c98a6779"
  },
  {
   "metadata": {
    "ExecuteTime": {
     "end_time": "2024-10-09T07:57:54.583177Z",
     "start_time": "2024-10-09T07:57:26.657866Z"
    }
   },
   "cell_type": "code",
   "source": [
    "\n",
    "# Query to obtain the monthly number of earnings forecasts from the IBES summary file\n",
    "ibes_summary = conn.raw_sql(f\"\"\"\n",
    "    SELECT ticker, statpers, numest\n",
    "    FROM ibes.statsum_epsus\n",
    "    WHERE fpi = '1' AND measure='EPS' AND statpers >= '{start_date}' AND statpers <= '{end_date}'\n",
    "\"\"\")\n",
    "\n",
    "# Convert the date column to datetime format\n",
    "ibes_summary['statpers'] = pd.to_datetime(ibes_summary['statpers'])\n",
    "\n",
    "# Extract year and month from 'statpers'\n",
    "ibes_summary['year'] = ibes_summary['statpers'].dt.year\n",
    "ibes_summary['month'] = ibes_summary['statpers'].dt.month\n",
    "\n",
    "# Calculate the average number of analysts for each firm for each fiscal year\n",
    "ibes_summary['fiscal_year'] = ibes_summary['statpers'].dt.to_period('Y')\n",
    "\n",
    "# Group by ticker and fiscal year, then calculate the average number of analysts\n",
    "analyst_coverage = ibes_summary.groupby(['ticker', 'fiscal_year'])['numest'].mean().reset_index()\n",
    "\n",
    "# Rename columns\n",
    "analyst_coverage.rename(columns={'numest': 'coverage'}, inplace=True)"
   ],
   "id": "580e6bccbeccc823",
   "outputs": [],
   "execution_count": 15
  },
  {
   "metadata": {
    "ExecuteTime": {
     "end_time": "2024-10-09T08:03:20.172357Z",
     "start_time": "2024-10-09T08:03:19.170379Z"
    }
   },
   "cell_type": "code",
   "source": [
    "# Link the IBES ticker to CRSP using the IBES CRSP Link database\n",
    "ibes_crsp_link = conn.raw_sql(f\"\"\"\n",
    "    SELECT distinct ticker, permno\n",
    "    FROM wrdsapps_link_crsp_ibes.ibcrsphist\n",
    "    WHERE sdate <= '{end_date}' AND (edate IS NULL OR edate >= '{start_date}')\n",
    "\"\"\")\n",
    "\n",
    "# Merge IBES and CRSP data to link ticker with PERMNO\n",
    "analyst_coverage2 = pd.merge(analyst_coverage, ibes_crsp_link, on='ticker', how='left')"
   ],
   "id": "fccb7aff611cb813",
   "outputs": [],
   "execution_count": 23
  },
  {
   "metadata": {
    "ExecuteTime": {
     "end_time": "2024-10-09T08:08:44.605833Z",
     "start_time": "2024-10-09T08:08:43.570080Z"
    }
   },
   "cell_type": "code",
   "source": [
    "ibes_summary['fqtr'] = ibes_summary['statpers'].dt.to_period('Q')\n",
    "analyst_coverage_qtr = ibes_summary.groupby(['ticker', 'fqtr'])['numest'].mean().reset_index()\n",
    "analyst_coverage_qtr.rename(columns={'numest': 'coverage'}, inplace=True)\n",
    "\n",
    "# Merge IBES and CRSP data to link ticker with PERMNO\n",
    "analyst_coverage_qtr2 = pd.merge(analyst_coverage_qtr, ibes_crsp_link, on='ticker', how='left')"
   ],
   "id": "81a8fcb782b4b631",
   "outputs": [],
   "execution_count": 29
  },
  {
   "metadata": {
    "ExecuteTime": {
     "end_time": "2024-10-09T08:13:47.556519Z",
     "start_time": "2024-10-09T08:13:45.287543Z"
    }
   },
   "cell_type": "code",
   "source": [
    "# Link CRSP to Compustat using the CRSP-Compustat Link table\n",
    "crsp_comp_link = conn.raw_sql(f\"\"\"\n",
    "    SELECT distinct permco, gvkey\n",
    "    FROM wrdsapps_link_crsp_comp_bdx.bdxcrspcomplink\n",
    "\"\"\")\n",
    "\n",
    "# Merge CRSP data with Compustat data to add GVKEY to the dataset\n",
    "analyst_coverage2 = pd.merge(analyst_coverage2, crsp_comp_link, left_on='permno', right_on='permco', how='left')\n",
    "\n",
    "# Drop 'permco' column as it is no longer needed\n",
    "analyst_coverage2.drop(columns=['permco'], inplace=True)\n",
    "analyst_coverage2.to_csv(os.path.join(const.TEMP_PATH, '2007_2016_annual_analyst_coverage.csv'), index=False)\n",
    "\n",
    "# Merge CRSP data with Compustat data to add GVKEY to the dataset\n",
    "analyst_coverage_qtr2 = pd.merge(analyst_coverage_qtr2, crsp_comp_link, left_on='permno', right_on='permco', how='left')\n",
    "\n",
    "# Drop 'permco' column as it is no longer needed\n",
    "analyst_coverage_qtr2.drop(columns=['permco'], inplace=True)\n",
    "analyst_coverage_qtr2.to_csv(os.path.join(const.TEMP_PATH, '2007_2016_quarterly_analyst_coverage.csv'), index=False)\n"
   ],
   "id": "40b5d7cb4a750026",
   "outputs": [],
   "execution_count": 34
  },
  {
   "metadata": {
    "ExecuteTime": {
     "end_time": "2024-10-09T08:14:09.610847Z",
     "start_time": "2024-10-09T08:14:09.601362Z"
    }
   },
   "cell_type": "code",
   "source": "analyst_coverage2",
   "id": "67cf86beb0911868",
   "outputs": [
    {
     "data": {
      "text/plain": [
       "      ticker fiscal_year   coverage   permno gvkey_x gvkey_y\n",
       "0       0000        2014   4.352113  14471.0  062491  062491\n",
       "1       0000        2015   5.000000  14471.0  062491  062491\n",
       "2       0000        2016   3.480000  14471.0  062491  062491\n",
       "3       0001        2014  13.526316  14392.0     NaN     NaN\n",
       "4       0001        2015  14.763158  14392.0     NaN     NaN\n",
       "...      ...         ...        ...      ...     ...     ...\n",
       "54481   ZYNX        2011   1.000000      NaN     NaN     NaN\n",
       "54482   ZYNX        2012   1.000000      NaN     NaN     NaN\n",
       "54483   ZYNX        2013   1.000000      NaN     NaN     NaN\n",
       "54484   ZYNX        2014   1.000000      NaN     NaN     NaN\n",
       "54485   ZYNX        2015   1.000000      NaN     NaN     NaN\n",
       "\n",
       "[54486 rows x 6 columns]"
      ],
      "text/html": [
       "<div>\n",
       "<style scoped>\n",
       "    .dataframe tbody tr th:only-of-type {\n",
       "        vertical-align: middle;\n",
       "    }\n",
       "\n",
       "    .dataframe tbody tr th {\n",
       "        vertical-align: top;\n",
       "    }\n",
       "\n",
       "    .dataframe thead th {\n",
       "        text-align: right;\n",
       "    }\n",
       "</style>\n",
       "<table border=\"1\" class=\"dataframe\">\n",
       "  <thead>\n",
       "    <tr style=\"text-align: right;\">\n",
       "      <th></th>\n",
       "      <th>ticker</th>\n",
       "      <th>fiscal_year</th>\n",
       "      <th>coverage</th>\n",
       "      <th>permno</th>\n",
       "      <th>gvkey_x</th>\n",
       "      <th>gvkey_y</th>\n",
       "    </tr>\n",
       "  </thead>\n",
       "  <tbody>\n",
       "    <tr>\n",
       "      <th>0</th>\n",
       "      <td>0000</td>\n",
       "      <td>2014</td>\n",
       "      <td>4.352113</td>\n",
       "      <td>14471.0</td>\n",
       "      <td>062491</td>\n",
       "      <td>062491</td>\n",
       "    </tr>\n",
       "    <tr>\n",
       "      <th>1</th>\n",
       "      <td>0000</td>\n",
       "      <td>2015</td>\n",
       "      <td>5.000000</td>\n",
       "      <td>14471.0</td>\n",
       "      <td>062491</td>\n",
       "      <td>062491</td>\n",
       "    </tr>\n",
       "    <tr>\n",
       "      <th>2</th>\n",
       "      <td>0000</td>\n",
       "      <td>2016</td>\n",
       "      <td>3.480000</td>\n",
       "      <td>14471.0</td>\n",
       "      <td>062491</td>\n",
       "      <td>062491</td>\n",
       "    </tr>\n",
       "    <tr>\n",
       "      <th>3</th>\n",
       "      <td>0001</td>\n",
       "      <td>2014</td>\n",
       "      <td>13.526316</td>\n",
       "      <td>14392.0</td>\n",
       "      <td>NaN</td>\n",
       "      <td>NaN</td>\n",
       "    </tr>\n",
       "    <tr>\n",
       "      <th>4</th>\n",
       "      <td>0001</td>\n",
       "      <td>2015</td>\n",
       "      <td>14.763158</td>\n",
       "      <td>14392.0</td>\n",
       "      <td>NaN</td>\n",
       "      <td>NaN</td>\n",
       "    </tr>\n",
       "    <tr>\n",
       "      <th>...</th>\n",
       "      <td>...</td>\n",
       "      <td>...</td>\n",
       "      <td>...</td>\n",
       "      <td>...</td>\n",
       "      <td>...</td>\n",
       "      <td>...</td>\n",
       "    </tr>\n",
       "    <tr>\n",
       "      <th>54481</th>\n",
       "      <td>ZYNX</td>\n",
       "      <td>2011</td>\n",
       "      <td>1.000000</td>\n",
       "      <td>NaN</td>\n",
       "      <td>NaN</td>\n",
       "      <td>NaN</td>\n",
       "    </tr>\n",
       "    <tr>\n",
       "      <th>54482</th>\n",
       "      <td>ZYNX</td>\n",
       "      <td>2012</td>\n",
       "      <td>1.000000</td>\n",
       "      <td>NaN</td>\n",
       "      <td>NaN</td>\n",
       "      <td>NaN</td>\n",
       "    </tr>\n",
       "    <tr>\n",
       "      <th>54483</th>\n",
       "      <td>ZYNX</td>\n",
       "      <td>2013</td>\n",
       "      <td>1.000000</td>\n",
       "      <td>NaN</td>\n",
       "      <td>NaN</td>\n",
       "      <td>NaN</td>\n",
       "    </tr>\n",
       "    <tr>\n",
       "      <th>54484</th>\n",
       "      <td>ZYNX</td>\n",
       "      <td>2014</td>\n",
       "      <td>1.000000</td>\n",
       "      <td>NaN</td>\n",
       "      <td>NaN</td>\n",
       "      <td>NaN</td>\n",
       "    </tr>\n",
       "    <tr>\n",
       "      <th>54485</th>\n",
       "      <td>ZYNX</td>\n",
       "      <td>2015</td>\n",
       "      <td>1.000000</td>\n",
       "      <td>NaN</td>\n",
       "      <td>NaN</td>\n",
       "      <td>NaN</td>\n",
       "    </tr>\n",
       "  </tbody>\n",
       "</table>\n",
       "<p>54486 rows × 6 columns</p>\n",
       "</div>"
      ]
     },
     "execution_count": 36,
     "metadata": {},
     "output_type": "execute_result"
    }
   ],
   "execution_count": 36
  },
  {
   "metadata": {},
   "cell_type": "markdown",
   "source": "DISPERSION and FCSTERROR data",
   "id": "ff7cead49dd0a43f"
  },
  {
   "metadata": {
    "ExecuteTime": {
     "end_time": "2024-10-12T03:35:26.693070Z",
     "start_time": "2024-10-12T03:35:09.156592Z"
    }
   },
   "cell_type": "code",
   "source": [
    "# Query WRDS IBES to obtain the necessary data\n",
    "# We need 'stdev', 'meanest', 'actual' from the IBES dataset\n",
    "ibes_data = conn.raw_sql(f\"\"\"\n",
    "    SELECT ticker, fpi, statpers, numest, fpedats, meanest AS EPS_MEAN, \n",
    "           stdev AS EPS_SD, actual AS EPS_ACTUAL\n",
    "    FROM ibes.statsum_epsus\n",
    "    WHERE fpi = '6' AND statpers BETWEEN '{start_date}' AND '{end_date}' AND measure = 'EPS'\n",
    "\"\"\")\n",
    "# ibes_data.to_pickle(os.path.join(const.TEMP_PATH, '2007_2016_ibes_annual_data.pkl'))\n",
    "ibes_data.to_pickle(os.path.join(const.TEMP_PATH, '2007_2016_ibes_quarter_data.pkl'))"
   ],
   "id": "a968383ec8168d66",
   "outputs": [],
   "execution_count": 5
  },
  {
   "metadata": {
    "ExecuteTime": {
     "end_time": "2024-10-12T03:35:35.763831Z",
     "start_time": "2024-10-12T03:35:26.699921Z"
    }
   },
   "cell_type": "code",
   "source": [
    "# Query WRDS CRSP to obtain the price data for each company at the end of the previous quarter\n",
    "crsp_data = conn.raw_sql(f\"\"\"\n",
    "    SELECT permno, date, prc AS Price_lag\n",
    "    FROM crsp.msf\n",
    "    WHERE date BETWEEN '{start_date}' AND '{end_date}'\n",
    "\"\"\")\n",
    "crsp_data.to_pickle(os.path.join(const.TEMP_PATH, '2007_2016_crsp_monthly_data.pkl'))"
   ],
   "id": "12adad513280a396",
   "outputs": [],
   "execution_count": 6
  },
  {
   "metadata": {
    "ExecuteTime": {
     "end_time": "2024-10-12T03:35:35.824493Z",
     "start_time": "2024-10-12T03:35:35.788289Z"
    }
   },
   "cell_type": "code",
   "source": [
    "# Load the data into pandas DataFrames\n",
    "ibes_df = pd.DataFrame(ibes_data)\n",
    "crsp_df = pd.DataFrame(crsp_data).rename(columns={'price_lag': 'prc'})\n",
    "link_df = pd.DataFrame(ibes_crsp_link)"
   ],
   "id": "4051fca65d33b857",
   "outputs": [
    {
     "ename": "NameError",
     "evalue": "name 'ibes_crsp_link' is not defined",
     "output_type": "error",
     "traceback": [
      "\u001B[1;31m---------------------------------------------------------------------------\u001B[0m",
      "\u001B[1;31mNameError\u001B[0m                                 Traceback (most recent call last)",
      "Cell \u001B[1;32mIn[7], line 4\u001B[0m\n\u001B[0;32m      2\u001B[0m ibes_df \u001B[38;5;241m=\u001B[39m pd\u001B[38;5;241m.\u001B[39mDataFrame(ibes_data)\n\u001B[0;32m      3\u001B[0m crsp_df \u001B[38;5;241m=\u001B[39m pd\u001B[38;5;241m.\u001B[39mDataFrame(crsp_data)\u001B[38;5;241m.\u001B[39mrename(columns\u001B[38;5;241m=\u001B[39m{\u001B[38;5;124m'\u001B[39m\u001B[38;5;124mprice_lag\u001B[39m\u001B[38;5;124m'\u001B[39m: \u001B[38;5;124m'\u001B[39m\u001B[38;5;124mprc\u001B[39m\u001B[38;5;124m'\u001B[39m})\n\u001B[1;32m----> 4\u001B[0m link_df \u001B[38;5;241m=\u001B[39m pd\u001B[38;5;241m.\u001B[39mDataFrame(ibes_crsp_link)\n",
      "\u001B[1;31mNameError\u001B[0m: name 'ibes_crsp_link' is not defined"
     ]
    }
   ],
   "execution_count": 7
  },
  {
   "metadata": {
    "ExecuteTime": {
     "end_time": "2024-10-12T03:35:35.921414400Z",
     "start_time": "2024-10-09T11:50:00.652585Z"
    }
   },
   "cell_type": "code",
   "source": [
    "link_df.to_pickle(os.path.join(const.TEMP_PATH, 'ibes_crsp_link.pkl'))\n",
    "crsp_comp_link.to_pickle(os.path.join(const.TEMP_PATH, 'crsp_comp.pkl'))"
   ],
   "id": "bdf197cccc0d96c9",
   "outputs": [],
   "execution_count": 78
  },
  {
   "metadata": {
    "ExecuteTime": {
     "end_time": "2024-10-12T03:35:43.353355Z",
     "start_time": "2024-10-12T03:35:43.346152Z"
    }
   },
   "cell_type": "code",
   "source": "link_df = pd.read_pickle(os.path.join(const.TEMP_PATH, 'ibes_crsp_link.pkl'))",
   "id": "ce2d0235d613ddac",
   "outputs": [],
   "execution_count": 8
  },
  {
   "metadata": {
    "ExecuteTime": {
     "end_time": "2024-10-12T03:35:56.669385Z",
     "start_time": "2024-10-12T03:35:56.459531Z"
    }
   },
   "cell_type": "code",
   "source": [
    "# Convert the IBES data to quarterly by creating a quarter value and aggregating it\n",
    "ibes_df['statpers'] = pd.to_datetime(ibes_df['statpers'])\n",
    "ibes_df['quarter'] = ibes_df['statpers'].dt.to_period('Q')\n",
    "ibes_quarterly = ibes_df.groupby(['ticker', 'quarter']).agg({\n",
    "    'eps_mean': 'mean',\n",
    "    'eps_sd': 'mean',\n",
    "    'eps_actual': 'mean',\n",
    "    'numest': 'last',\n",
    "    'fpedats': 'last'\n",
    "}).reset_index()"
   ],
   "id": "461f4460688464cc",
   "outputs": [],
   "execution_count": 9
  },
  {
   "metadata": {
    "ExecuteTime": {
     "end_time": "2024-10-12T03:36:00.051991Z",
     "start_time": "2024-10-12T03:35:59.859346Z"
    }
   },
   "cell_type": "code",
   "source": [
    "# Convert the CRSP data to quarterly by creating a quarter value\n",
    "crsp_df['date'] = pd.to_datetime(crsp_df['date'])\n",
    "crsp_df['quarter'] = crsp_df['date'].dt.to_period('Q')\n",
    "crsp_quarterly = crsp_df.groupby(['permno', 'quarter']).last().reset_index()"
   ],
   "id": "cbf4b625480fa42d",
   "outputs": [],
   "execution_count": 10
  },
  {
   "metadata": {
    "ExecuteTime": {
     "end_time": "2024-10-12T03:36:02.153264Z",
     "start_time": "2024-10-12T03:36:02.135074Z"
    }
   },
   "cell_type": "code",
   "source": [
    "# Use the price at the end of the previous quarter as Price_lag\n",
    "crsp_quarterly['Price_lag'] = crsp_quarterly.groupby('permno')['prc'].shift(1)"
   ],
   "id": "6c017cdb1b5d24da",
   "outputs": [],
   "execution_count": 11
  },
  {
   "metadata": {
    "ExecuteTime": {
     "end_time": "2024-10-12T03:36:07.953483Z",
     "start_time": "2024-10-12T03:36:07.813865Z"
    }
   },
   "cell_type": "code",
   "source": [
    "# Merge IBES and CRSP Link data to get permno for each IBES ticker\n",
    "ibes_linked_df = pd.merge(ibes_quarterly, link_df, on='ticker', how='inner')\n",
    "\n",
    "# Merge IBES-linked data with CRSP quarterly data on permno and quarter\n",
    "merged_df = pd.merge(ibes_linked_df, crsp_quarterly, on=['permno', 'quarter'], how='inner')\n",
    "\n",
    "# Create DISPERSION\n",
    "# DISPERSION is calculated as the ratio of the standard deviation of EPS forecasts (eps_sd) \n",
    "# to the stock price at the end of the previous quarter (Price_lag)\n",
    "merged_df['DISPERSION'] = merged_df['eps_sd'] / merged_df['Price_lag']\n",
    "\n",
    "# Create FCSTERROR\n",
    "# FCSTERROR is calculated as the absolute value of the difference between the mean analyst EPS forecast (eps_mean)\n",
    "# and the actual EPS (eps_actual), scaled by the stock price at the end of the previous quarter (Price_lag)\n",
    "merged_df['FCSTERROR'] = abs(merged_df['eps_mean'] - merged_df['eps_actual']) / merged_df['Price_lag']\n"
   ],
   "id": "1d285c3644084d0a",
   "outputs": [],
   "execution_count": 12
  },
  {
   "metadata": {
    "ExecuteTime": {
     "end_time": "2024-10-12T03:36:12.193748Z",
     "start_time": "2024-10-12T03:36:10.814614Z"
    }
   },
   "cell_type": "code",
   "source": "merged_df.to_csv(os.path.join(const.TEMP_PATH, '2007_2016_quarterly_dispersion_fcsterror.csv'), index=False)",
   "id": "91a46388bf94f17",
   "outputs": [],
   "execution_count": 13
  },
  {
   "metadata": {
    "ExecuteTime": {
     "end_time": "2024-10-10T06:22:38.742240Z",
     "start_time": "2024-10-10T06:22:38.729504Z"
    }
   },
   "cell_type": "code",
   "source": "ibes_df.head()",
   "id": "cf7f5a97ce4951b3",
   "outputs": [
    {
     "data": {
      "text/plain": [
       "  ticker fpi   statpers  numest     fpedats  eps_mean  eps_sd  eps_actual  \\\n",
       "0   0000   1 2014-04-17     4.0  2014-12-31      0.52    0.03        1.21   \n",
       "1   0000   1 2014-05-15     4.0  2014-12-31      0.56    0.04        1.21   \n",
       "2   0000   1 2014-06-19     4.0  2014-12-31      0.56    0.04        1.21   \n",
       "3   0000   1 2014-07-17     3.0  2014-12-31      0.56    0.05        1.21   \n",
       "4   0000   1 2014-08-14     5.0  2014-12-31      1.18    0.06        1.21   \n",
       "\n",
       "   year  \n",
       "0  2014  \n",
       "1  2014  \n",
       "2  2014  \n",
       "3  2014  \n",
       "4  2014  "
      ],
      "text/html": [
       "<div>\n",
       "<style scoped>\n",
       "    .dataframe tbody tr th:only-of-type {\n",
       "        vertical-align: middle;\n",
       "    }\n",
       "\n",
       "    .dataframe tbody tr th {\n",
       "        vertical-align: top;\n",
       "    }\n",
       "\n",
       "    .dataframe thead th {\n",
       "        text-align: right;\n",
       "    }\n",
       "</style>\n",
       "<table border=\"1\" class=\"dataframe\">\n",
       "  <thead>\n",
       "    <tr style=\"text-align: right;\">\n",
       "      <th></th>\n",
       "      <th>ticker</th>\n",
       "      <th>fpi</th>\n",
       "      <th>statpers</th>\n",
       "      <th>numest</th>\n",
       "      <th>fpedats</th>\n",
       "      <th>eps_mean</th>\n",
       "      <th>eps_sd</th>\n",
       "      <th>eps_actual</th>\n",
       "      <th>year</th>\n",
       "    </tr>\n",
       "  </thead>\n",
       "  <tbody>\n",
       "    <tr>\n",
       "      <th>0</th>\n",
       "      <td>0000</td>\n",
       "      <td>1</td>\n",
       "      <td>2014-04-17</td>\n",
       "      <td>4.0</td>\n",
       "      <td>2014-12-31</td>\n",
       "      <td>0.52</td>\n",
       "      <td>0.03</td>\n",
       "      <td>1.21</td>\n",
       "      <td>2014</td>\n",
       "    </tr>\n",
       "    <tr>\n",
       "      <th>1</th>\n",
       "      <td>0000</td>\n",
       "      <td>1</td>\n",
       "      <td>2014-05-15</td>\n",
       "      <td>4.0</td>\n",
       "      <td>2014-12-31</td>\n",
       "      <td>0.56</td>\n",
       "      <td>0.04</td>\n",
       "      <td>1.21</td>\n",
       "      <td>2014</td>\n",
       "    </tr>\n",
       "    <tr>\n",
       "      <th>2</th>\n",
       "      <td>0000</td>\n",
       "      <td>1</td>\n",
       "      <td>2014-06-19</td>\n",
       "      <td>4.0</td>\n",
       "      <td>2014-12-31</td>\n",
       "      <td>0.56</td>\n",
       "      <td>0.04</td>\n",
       "      <td>1.21</td>\n",
       "      <td>2014</td>\n",
       "    </tr>\n",
       "    <tr>\n",
       "      <th>3</th>\n",
       "      <td>0000</td>\n",
       "      <td>1</td>\n",
       "      <td>2014-07-17</td>\n",
       "      <td>3.0</td>\n",
       "      <td>2014-12-31</td>\n",
       "      <td>0.56</td>\n",
       "      <td>0.05</td>\n",
       "      <td>1.21</td>\n",
       "      <td>2014</td>\n",
       "    </tr>\n",
       "    <tr>\n",
       "      <th>4</th>\n",
       "      <td>0000</td>\n",
       "      <td>1</td>\n",
       "      <td>2014-08-14</td>\n",
       "      <td>5.0</td>\n",
       "      <td>2014-12-31</td>\n",
       "      <td>1.18</td>\n",
       "      <td>0.06</td>\n",
       "      <td>1.21</td>\n",
       "      <td>2014</td>\n",
       "    </tr>\n",
       "  </tbody>\n",
       "</table>\n",
       "</div>"
      ]
     },
     "execution_count": 10,
     "metadata": {},
     "output_type": "execute_result"
    }
   ],
   "execution_count": 10
  },
  {
   "metadata": {
    "ExecuteTime": {
     "end_time": "2024-10-10T06:42:13.676337Z",
     "start_time": "2024-10-10T06:42:12.973728Z"
    }
   },
   "cell_type": "code",
   "source": [
    "# Convert the IBES data to annual by creating a annual value and aggregating it\n",
    "ibes_df['statpers'] = pd.to_datetime(ibes_df['statpers'])\n",
    "ibes_df['year'] = ibes_df['statpers'].dt.year\n",
    "ibes_annual = ibes_df.groupby(['ticker', 'year']).agg({\n",
    "    'eps_mean': 'mean',\n",
    "    'eps_sd': 'mean',\n",
    "    'eps_actual': 'mean',\n",
    "    'numest': 'mean',\n",
    "}).reset_index()\n",
    "\n",
    "ibes_annual2 = ibes_df.groupby(['ticker', 'year']).agg({\n",
    "    'eps_mean': 'last',\n",
    "    'eps_sd': 'last',\n",
    "    'eps_actual': 'last',\n",
    "    'numest': 'last',\n",
    "}).reset_index()\n",
    "\n",
    "ibes_annual = ibes_annual.merge(ibes_annual2, on=['ticker', 'year'], how='left', suffixes=('', '_last'))\n",
    "\n",
    "# Convert the CRSP data to quarterly by creating a quarter value\n",
    "crsp_df['date'] = pd.to_datetime(crsp_df['date'])\n",
    "crsp_df['year'] = crsp_df['date'].dt.year\n",
    "crsp_annual = crsp_df.groupby(['permno', 'year']).last().reset_index()\n",
    "\n",
    "# Use the price at the end of the previous quarter as Price_lag\n",
    "crsp_annual['Price_lag'] = crsp_annual.groupby('permno')['prc'].shift(1)\n",
    "\n",
    "# Merge IBES and CRSP Link data to get permno for each IBES ticker\n",
    "ibes_linked_df = pd.merge(ibes_annual, link_df, on='ticker', how='inner')\n",
    "\n",
    "# Merge IBES-linked data with CRSP quarterly data on permno and quarter\n",
    "merged_df_ann = pd.merge(ibes_linked_df, crsp_annual, on=['permno', 'year'], how='inner')\n",
    "merged_df_ann = merged_df_ann[merged_df_ann['Price_lag'] > 0]\n",
    "\n",
    "# Create DISPERSION\n",
    "# DISPERSION is calculated as the ratio of the standard deviation of EPS forecasts (eps_sd) \n",
    "# to the stock price at the end of the previous quarter (Price_lag)\n",
    "merged_df_ann['DISPERSION'] = merged_df_ann['eps_sd'] / merged_df_ann['Price_lag']\n",
    "merged_df_ann['DISPERSION_last'] = merged_df_ann['eps_sd_last'] / merged_df_ann['Price_lag']\n",
    "\n",
    "# Create FCSTERROR\n",
    "# FCSTERROR is calculated as the absolute value of the difference between the mean analyst EPS forecast (eps_mean)\n",
    "# and the actual EPS (eps_actual), scaled by the stock price at the end of the previous quarter (Price_lag)\n",
    "merged_df_ann['FCSTERROR'] = abs(merged_df_ann['eps_mean'] - merged_df_ann['eps_actual']) / merged_df_ann['Price_lag']\n",
    "merged_df_ann['FCSTERROR_last'] = abs(merged_df_ann['eps_mean_last'] - merged_df_ann['eps_actual_last']) / merged_df_ann['Price_lag']\n",
    "\n",
    "merged_df_ann.to_csv(os.path.join(const.TEMP_PATH, '2007_2016_annual_dispersion_fcsterror.csv'), index=False)"
   ],
   "id": "38bcee5cb88a0b8b",
   "outputs": [],
   "execution_count": 14
  },
  {
   "metadata": {},
   "cell_type": "markdown",
   "source": "Query WRDS database information.",
   "id": "21c2c2f78c3969df"
  },
  {
   "metadata": {
    "ExecuteTime": {
     "end_time": "2024-10-09T08:09:47.187566Z",
     "start_time": "2024-10-09T08:09:45.334288Z"
    }
   },
   "cell_type": "code",
   "source": [
    "# List all libraries\n",
    "libraries = conn.list_libraries()\n",
    "print(libraries)"
   ],
   "id": "445f92a8e218b280",
   "outputs": [
    {
     "name": "stdout",
     "output_type": "stream",
     "text": [
      "['aha_sample', 'ahasamp', 'audit', 'audit_audit_comp', 'audit_common', 'audit_corp_legal', 'audit_oia', 'auditsmp', 'auditsmp_all', 'bank', 'bank_all', 'bank_premium_samp', 'banksamp', 'block', 'block_all', 'boardex', 'boardex_na', 'boardex_trial', 'boardsmp', 'bvd_amadeus_trial', 'bvd_bvdbankf_trial', 'bvd_orbis_trial', 'bvdsamp', 'calcbench_trial', 'calcbnch', 'cboe', 'cboe_all', 'cboe_sample', 'cboesamp', 'ciq', 'ciq_common', 'ciqsamp', 'ciqsamp_capstrct', 'ciqsamp_common', 'ciqsamp_keydev', 'ciqsamp_pplintel', 'ciqsamp_ratings', 'ciqsamp_transactions', 'ciqsamp_transcripts', 'cisdmsmp', 'columnar', 'comp', 'comp_bank', 'comp_bank_daily', 'comp_execucomp', 'comp_global', 'comp_global_daily', 'comp_na_annual_all', 'comp_na_daily_all', 'comp_na_monthly_all', 'comp_segments_hist', 'comp_segments_hist_daily', 'compa', 'compb', 'compg', 'compm', 'compsamp', 'compsamp_all', 'compsamp_snapshot', 'compseg', 'contrib', 'contrib_as_filed_financials', 'contrib_ceo_turnover', 'contrib_char_returns', 'contrib_general', 'contrib_global_factor', 'contrib_intangible_value', 'contrib_kpss', 'contrib_liva', 'crsp', 'crsp_a_ccm', 'crsp_a_indexes', 'crsp_a_stock', 'crsp_q_mutualfunds', 'crspsamp', 'crspsamp_all', 'crspsamp_mf', 'csmsamp_all', 'dealscan', 'djones', 'djones_all', 'dmef', 'dmef_all', 'doe', 'doe_all', 'etfg_samp', 'etfgsamp', 'eurekahedge_sample', 'eursamp', 'eventus', 'evts_all', 'execcomp', 'factsamp_all', 'factsamp_revere', 'ff', 'ff_all', 'fjc', 'fjc_linking', 'fjc_litigation', 'frb', 'frb_all', 'fssamp', 'ftsesamp', 'ftsesamp_russell_us', 'gutenberg', 'hfrsamp', 'hfrsamp_hfrdb', 'ibes', 'ibessamp_kpi', 'ifgrsamp', 'ims_obp_trial', 'imssamp', 'infogroupsamp_business', 'infogroupsamp_residential', 'insdsamp', 'iri', 'iri_all', 'iss_va_mf', 'iss_va_vote_us', 'issm', 'issm_nasd1987', 'issm_nasd1988', 'issm_nasd1989', 'issm_nasd1990', 'issm_nasd1991', 'issm_nasd1992', 'issm_nyam1983', 'issm_nyam1984', 'issm_nyam1985', 'issm_nyam1986', 'issm_nyam1987', 'issm_nyam1988', 'issm_nyam1989', 'issm_nyam1990', 'issm_nyam1991', 'issm_nyam1992', 'kpisamp', 'ktmine_patents_samp', 'ktsamp', 'lvnsamp', 'lvnsamp_all', 'macrofin', 'macrofin_comm_trade', 'mfl', 'mflinks_all', 'midas', 'morningstarsamp_cisdm', 'mrktsamp', 'mrktsamp_cds', 'mrktsamp_cdx', 'mrktsamp_msf', 'msci_esg_samp', 'msciesmp', 'msrb', 'msrb_all', 'msrbsamp', 'msrbsamp_all', 'omtrial', 'optionm', 'optionm_all', 'optionmsamp_europe', 'optionmsamp_us', 'otc', 'otc_endofday', 'phlx', 'phlx_all', 'pitchsmp', 'ppubsamp', 'ppubsamp_d4d', 'ppubsamp_rx_checkup', 'preqin', 'preqin_cashflow', 'preqin_deals', 'preqin_gp', 'preqin_lp', 'preqin_pe', 'preqin_vc', 'preqsamp', 'preqsamp_all', 'public', 'public_all', 'pwt', 'pwt_all', 'ravenpack_common', 'ravenpack_dj', 'ravenpack_trial', 'reprisk_sample', 'repsamp', 'revelio_samp', 'revsamp', 'risk', 'risk_directors', 'risk_governance', 'risksamp', 'risksamp_all', 'rpna', 'rpnasamp', 'rq_all', 'rstat_samp', 'rstatsmp', 'sdc', 'sdcsamp', 'secsamp', 'secsamp_all', 'snapsamp', 'snl', 'snl_fundamentals', 'snlsamp', 'snlsamp_fig', 'sp_esg', 'sustainalyticssamp_all', 'sustsamp', 'taqm_2014', 'taqm_2015', 'taqm_2016', 'taqm_2017', 'taqm_2018', 'taqm_2019', 'taqm_2020', 'taqm_2021', 'taqm_2022', 'taqm_2023', 'taqm_2024', 'taqmsamp', 'taqmsamp_all', 'taqmsec', 'taqsamp', 'taqsamp_all', 'tfn', 'totalq', 'totalq_all', 'tr_13f', 'tr_common', 'tr_dealscan', 'tr_ds_comds', 'tr_ds_econ', 'tr_ds_equities', 'tr_ds_fut', 'tr_ibes', 'tr_mutualfunds', 'tr_sdc_ma', 'tr_sdc_ni', 'tr_sdc_samples', 'tr_worldscope', 'trace', 'trace_enhanced', 'trace_standard', 'trcommon', 'trcstsmp', 'trdbdmismp', 'trdbwbsmp', 'trdssamp', 'trdstrm', 'tresgsmp', 'trsamp', 'trsamp_all', 'trsamp_db_dmi', 'trsamp_db_wb', 'trsamp_ds_eq', 'trsamp_dscom', 'trsamp_dsecon', 'trsamp_dsfut', 'trsamp_esg', 'trsamp_sdc_ma', 'trsamp_sdc_ni', 'trsamp_worldscope', 'trucost', 'trucost_common', 'trucost_environ', 'trucost_fossilfuel', 'trucost_samp', 'trucost_sector_ff', 'trucost_sector_revenue', 'trws', 'twoiq_samp', 'twoiqsmp', 'wappsamp', 'wenvsmp', 'wmfsmp', 'wrds_environmental_samp', 'wrds_insiders_samp', 'wrds_lib_internal', 'wrds_mutualfund_samp', 'wrdsapps', 'wrdsapps_backtest_basic', 'wrdsapps_backtest_plus', 'wrdsapps_eushort', 'wrdsapps_evtstudy_int', 'wrdsapps_evtstudy_int_ginsight', 'wrdsapps_evtstudy_lr', 'wrdsapps_evtstudy_us', 'wrdsapps_finratio', 'wrdsapps_finratio_ccm', 'wrdsapps_finratio_ibes', 'wrdsapps_finratio_ibes_ccm', 'wrdsapps_link_comp_eushort', 'wrdsapps_link_crsp_bond', 'wrdsapps_link_crsp_comp_bdx', 'wrdsapps_link_crsp_factset', 'wrdsapps_link_crsp_ibes', 'wrdsapps_link_crsp_optionm', 'wrdsapps_link_crsp_taq', 'wrdsapps_link_crsp_taqm', 'wrdsapps_link_datastream_wscope', 'wrdsapps_link_dealscan_wscope', 'wrdsapps_link_supplychain', 'wrdsapps_patents', 'wrdsapps_plink_exec_boardex', 'wrdsapps_subsidiary', 'wrdsapps_windices', 'wrdsappssamp_all', 'wrdssec_midas', 'zacksamp', 'zacksamp_all']\n",
      "['_eq_2_bm_', 'bdxcrspcomplink', 'bdxinslink', 'boardex_ciq', 'boardex_ciq_link', 'boardex_trinsider', 'boardex_trinsider_link', 'boardex_twoiq', 'boardex_twoiq_link', 'bondcrsp_link', 'bondret', 'bondret_std', 'chars', 'compeushortlink', 'country', 'crspm', 'ds2ws_linktable', 'dswslink', 'dwcountryreturns', 'eushort', 'exec_boardex', 'exec_boardex_link', 'exec_ciq', 'exec_ciq_link', 'exec_trinsider', 'exec_trinsider_link', 'exec_twoiq', 'exec_twoiq_link', 'firm_ratio', 'firm_ratio_ccm', 'firm_ratio_ibes', 'firm_ratio_ibes_ccm', 'fscrsplink', 'ibcrsphist', 'id', 'id_ccm', 'id_ibes', 'id_ibes_ccm', 'intl_market_values', 'intl_security_returns', 'mastertable', 'motherfile', 'mwcountryreturns', 'opcrsphist', 'rpevts', 'seed_20180418', 'seglink', 'signals_raw_basic', 'signals_raw_plus', 'taqmclink', 'taqmclink_cusip_2010', 'tclink', 'trace_enhanced_clean', 'trace_standard_clean', 'trinsider_ciq', 'trinsider_ciq_link', 'trinsider_twoiq', 'trinsider_twoiq_link', 'twoiq_ciq', 'twoiq_ciq_link', 'usa_market_values', 'usa_security_returns', 'usage', 'usage_pg', 'usage_va', 'uspatents_citations', 'uspatents_gvkey_linking', 'uspatents_meta', 'wcountryconstituents', 'wrds_relationships']\n",
      "There was a problem with retrieving the row count: (psycopg2.errors.UndefinedTable) relation \"wrdsapps.iclink\" does not exist\n",
      "LINE 2: ...           EXPLAIN (FORMAT 'json')  SELECT 1 FROM wrdsapps.i...\n",
      "                                                             ^\n",
      "\n",
      "[SQL: \n",
      "            EXPLAIN (FORMAT 'json')  SELECT 1 FROM wrdsapps.iclink ;\n",
      "        ]\n",
      "(Background on this error at: https://sqlalche.me/e/20/f405)\n",
      "Approximately 0 rows in wrdsapps.iclink.\n"
     ]
    },
    {
     "ename": "NoSuchTableError",
     "evalue": "wrdsapps.iclink",
     "output_type": "error",
     "traceback": [
      "\u001B[1;31m---------------------------------------------------------------------------\u001B[0m",
      "\u001B[1;31mNoSuchTableError\u001B[0m                          Traceback (most recent call last)",
      "Cell \u001B[1;32mIn[31], line 12\u001B[0m\n\u001B[0;32m      8\u001B[0m \u001B[38;5;28mprint\u001B[39m(tables)\n\u001B[0;32m     10\u001B[0m \u001B[38;5;66;03m# Assuming you found a table, e.g., 'iclink'\u001B[39;00m\n\u001B[0;32m     11\u001B[0m \u001B[38;5;66;03m# Describe the table to see its columns\u001B[39;00m\n\u001B[1;32m---> 12\u001B[0m columns \u001B[38;5;241m=\u001B[39m conn\u001B[38;5;241m.\u001B[39mdescribe_table(\u001B[38;5;124m'\u001B[39m\u001B[38;5;124mwrdsapps\u001B[39m\u001B[38;5;124m'\u001B[39m, \u001B[38;5;124m'\u001B[39m\u001B[38;5;124miclink\u001B[39m\u001B[38;5;124m'\u001B[39m)\n\u001B[0;32m     13\u001B[0m \u001B[38;5;28mprint\u001B[39m(columns)\n",
      "File \u001B[1;32mD:\\Users\\wangy\\anaconda3\\Lib\\site-packages\\wrds\\sql.py:465\u001B[0m, in \u001B[0;36mConnection.describe_table\u001B[1;34m(self, library, table)\u001B[0m\n\u001B[0;32m    462\u001B[0m rows \u001B[38;5;241m=\u001B[39m \u001B[38;5;28mself\u001B[39m\u001B[38;5;241m.\u001B[39mget_row_count(library, table)\n\u001B[0;32m    463\u001B[0m \u001B[38;5;28mprint\u001B[39m(\u001B[38;5;124m\"\u001B[39m\u001B[38;5;124mApproximately \u001B[39m\u001B[38;5;132;01m{}\u001B[39;00m\u001B[38;5;124m rows in \u001B[39m\u001B[38;5;132;01m{}\u001B[39;00m\u001B[38;5;124m.\u001B[39m\u001B[38;5;132;01m{}\u001B[39;00m\u001B[38;5;124m.\u001B[39m\u001B[38;5;124m\"\u001B[39m\u001B[38;5;241m.\u001B[39mformat(rows, library, table))\n\u001B[0;32m    464\u001B[0m table_info \u001B[38;5;241m=\u001B[39m pd\u001B[38;5;241m.\u001B[39mDataFrame\u001B[38;5;241m.\u001B[39mfrom_dict(\n\u001B[1;32m--> 465\u001B[0m     \u001B[38;5;28mself\u001B[39m\u001B[38;5;241m.\u001B[39minsp\u001B[38;5;241m.\u001B[39mget_columns(table, schema\u001B[38;5;241m=\u001B[39mlibrary)\n\u001B[0;32m    466\u001B[0m )\n\u001B[0;32m    467\u001B[0m \u001B[38;5;28;01mreturn\u001B[39;00m table_info[[\u001B[38;5;124m\"\u001B[39m\u001B[38;5;124mname\u001B[39m\u001B[38;5;124m\"\u001B[39m, \u001B[38;5;124m\"\u001B[39m\u001B[38;5;124mnullable\u001B[39m\u001B[38;5;124m\"\u001B[39m, \u001B[38;5;124m\"\u001B[39m\u001B[38;5;124mtype\u001B[39m\u001B[38;5;124m\"\u001B[39m, \u001B[38;5;124m\"\u001B[39m\u001B[38;5;124mcomment\u001B[39m\u001B[38;5;124m\"\u001B[39m]]\n",
      "File \u001B[1;32mD:\\Users\\wangy\\anaconda3\\Lib\\site-packages\\sqlalchemy\\engine\\reflection.py:859\u001B[0m, in \u001B[0;36mInspector.get_columns\u001B[1;34m(self, table_name, schema, **kw)\u001B[0m\n\u001B[0;32m    835\u001B[0m \u001B[38;5;250m\u001B[39m\u001B[38;5;124mr\u001B[39m\u001B[38;5;124;03m\"\"\"Return information about columns in ``table_name``.\u001B[39;00m\n\u001B[0;32m    836\u001B[0m \n\u001B[0;32m    837\u001B[0m \u001B[38;5;124;03mGiven a string ``table_name`` and an optional string ``schema``,\u001B[39;00m\n\u001B[1;32m   (...)\u001B[0m\n\u001B[0;32m    855\u001B[0m \n\u001B[0;32m    856\u001B[0m \u001B[38;5;124;03m\"\"\"\u001B[39;00m\n\u001B[0;32m    858\u001B[0m \u001B[38;5;28;01mwith\u001B[39;00m \u001B[38;5;28mself\u001B[39m\u001B[38;5;241m.\u001B[39m_operation_context() \u001B[38;5;28;01mas\u001B[39;00m conn:\n\u001B[1;32m--> 859\u001B[0m     col_defs \u001B[38;5;241m=\u001B[39m \u001B[38;5;28mself\u001B[39m\u001B[38;5;241m.\u001B[39mdialect\u001B[38;5;241m.\u001B[39mget_columns(\n\u001B[0;32m    860\u001B[0m         conn, table_name, schema, info_cache\u001B[38;5;241m=\u001B[39m\u001B[38;5;28mself\u001B[39m\u001B[38;5;241m.\u001B[39minfo_cache, \u001B[38;5;241m*\u001B[39m\u001B[38;5;241m*\u001B[39mkw\n\u001B[0;32m    861\u001B[0m     )\n\u001B[0;32m    862\u001B[0m \u001B[38;5;28;01mif\u001B[39;00m col_defs:\n\u001B[0;32m    863\u001B[0m     \u001B[38;5;28mself\u001B[39m\u001B[38;5;241m.\u001B[39m_instantiate_types([col_defs])\n",
      "File \u001B[1;32m<string>:2\u001B[0m, in \u001B[0;36mget_columns\u001B[1;34m(self, connection, table_name, schema, **kw)\u001B[0m\n",
      "File \u001B[1;32mD:\\Users\\wangy\\anaconda3\\Lib\\site-packages\\sqlalchemy\\engine\\reflection.py:97\u001B[0m, in \u001B[0;36mcache\u001B[1;34m(fn, self, con, *args, **kw)\u001B[0m\n\u001B[0;32m     95\u001B[0m ret: _R \u001B[38;5;241m=\u001B[39m info_cache\u001B[38;5;241m.\u001B[39mget(key)\n\u001B[0;32m     96\u001B[0m \u001B[38;5;28;01mif\u001B[39;00m ret \u001B[38;5;129;01mis\u001B[39;00m \u001B[38;5;28;01mNone\u001B[39;00m:\n\u001B[1;32m---> 97\u001B[0m     ret \u001B[38;5;241m=\u001B[39m fn(\u001B[38;5;28mself\u001B[39m, con, \u001B[38;5;241m*\u001B[39margs, \u001B[38;5;241m*\u001B[39m\u001B[38;5;241m*\u001B[39mkw)\n\u001B[0;32m     98\u001B[0m     info_cache[key] \u001B[38;5;241m=\u001B[39m ret\n\u001B[0;32m     99\u001B[0m \u001B[38;5;28;01mreturn\u001B[39;00m ret\n",
      "File \u001B[1;32mD:\\Users\\wangy\\anaconda3\\Lib\\site-packages\\sqlalchemy\\dialects\\postgresql\\base.py:3548\u001B[0m, in \u001B[0;36mPGDialect.get_columns\u001B[1;34m(self, connection, table_name, schema, **kw)\u001B[0m\n\u001B[0;32m   3538\u001B[0m \u001B[38;5;129m@reflection\u001B[39m\u001B[38;5;241m.\u001B[39mcache\n\u001B[0;32m   3539\u001B[0m \u001B[38;5;28;01mdef\u001B[39;00m \u001B[38;5;21mget_columns\u001B[39m(\u001B[38;5;28mself\u001B[39m, connection, table_name, schema\u001B[38;5;241m=\u001B[39m\u001B[38;5;28;01mNone\u001B[39;00m, \u001B[38;5;241m*\u001B[39m\u001B[38;5;241m*\u001B[39mkw):\n\u001B[0;32m   3540\u001B[0m     data \u001B[38;5;241m=\u001B[39m \u001B[38;5;28mself\u001B[39m\u001B[38;5;241m.\u001B[39mget_multi_columns(\n\u001B[0;32m   3541\u001B[0m         connection,\n\u001B[0;32m   3542\u001B[0m         schema\u001B[38;5;241m=\u001B[39mschema,\n\u001B[1;32m   (...)\u001B[0m\n\u001B[0;32m   3546\u001B[0m         \u001B[38;5;241m*\u001B[39m\u001B[38;5;241m*\u001B[39mkw,\n\u001B[0;32m   3547\u001B[0m     )\n\u001B[1;32m-> 3548\u001B[0m     \u001B[38;5;28;01mreturn\u001B[39;00m \u001B[38;5;28mself\u001B[39m\u001B[38;5;241m.\u001B[39m_value_or_raise(data, table_name, schema)\n",
      "File \u001B[1;32mD:\\Users\\wangy\\anaconda3\\Lib\\site-packages\\sqlalchemy\\dialects\\postgresql\\base.py:3516\u001B[0m, in \u001B[0;36mPGDialect._value_or_raise\u001B[1;34m(self, data, table, schema)\u001B[0m\n\u001B[0;32m   3514\u001B[0m     \u001B[38;5;28;01mreturn\u001B[39;00m \u001B[38;5;28mdict\u001B[39m(data)[(schema, table)]\n\u001B[0;32m   3515\u001B[0m \u001B[38;5;28;01mexcept\u001B[39;00m \u001B[38;5;167;01mKeyError\u001B[39;00m:\n\u001B[1;32m-> 3516\u001B[0m     \u001B[38;5;28;01mraise\u001B[39;00m exc\u001B[38;5;241m.\u001B[39mNoSuchTableError(\n\u001B[0;32m   3517\u001B[0m         \u001B[38;5;124mf\u001B[39m\u001B[38;5;124m\"\u001B[39m\u001B[38;5;132;01m{\u001B[39;00mschema\u001B[38;5;132;01m}\u001B[39;00m\u001B[38;5;124m.\u001B[39m\u001B[38;5;132;01m{\u001B[39;00mtable\u001B[38;5;132;01m}\u001B[39;00m\u001B[38;5;124m\"\u001B[39m \u001B[38;5;28;01mif\u001B[39;00m schema \u001B[38;5;28;01melse\u001B[39;00m table\n\u001B[0;32m   3518\u001B[0m     ) \u001B[38;5;28;01mfrom\u001B[39;00m \u001B[38;5;28;01mNone\u001B[39;00m\n",
      "\u001B[1;31mNoSuchTableError\u001B[0m: wrdsapps.iclink"
     ]
    }
   ],
   "execution_count": 31
  },
  {
   "metadata": {
    "ExecuteTime": {
     "end_time": "2024-10-09T08:10:59.232689Z",
     "start_time": "2024-10-09T08:10:58.427041Z"
    }
   },
   "cell_type": "code",
   "source": [
    "# Assuming you found a relevant library, e.g., 'wrdsapps'\n",
    "# List all tables in that library\n",
    "tables = conn.list_tables('wrdsapps_link_crsp_comp_bdx')\n",
    "print(tables)"
   ],
   "id": "6e12a8ab4ed3daec",
   "outputs": [
    {
     "name": "stdout",
     "output_type": "stream",
     "text": [
      "['bdxcrspcomplink']\n"
     ]
    }
   ],
   "execution_count": 32
  },
  {
   "metadata": {
    "ExecuteTime": {
     "end_time": "2024-10-09T08:11:07.177389Z",
     "start_time": "2024-10-09T08:11:06.656667Z"
    }
   },
   "cell_type": "code",
   "source": [
    "\n",
    "\n",
    "# Assuming you found a table, e.g., 'iclink'\n",
    "# Describe the table to see its columns\n",
    "columns = conn.describe_table('wrdsapps_link_crsp_comp_bdx', 'bdxcrspcomplink')\n",
    "print(columns)"
   ],
   "id": "fd4e92455c182e16",
   "outputs": [
    {
     "name": "stdout",
     "output_type": "stream",
     "text": [
      "Approximately 12045 rows in wrdsapps_link_crsp_comp_bdx.bdxcrspcomplink.\n",
      "        name  nullable              type            comment\n",
      "0     permco      True           INTEGER        CRSP PERMCO\n",
      "1      gvkey      True        VARCHAR(6)    Compustat GVKEY\n",
      "2  companyid      True  DOUBLE PRECISION  Boardex CompanyID\n",
      "3      score      True  DOUBLE PRECISION              Score\n",
      "4  preferred      True  DOUBLE PRECISION          Preferred\n",
      "5  duplicate      True  DOUBLE PRECISION          Duplicate\n"
     ]
    }
   ],
   "execution_count": 33
  }
 ],
 "metadata": {
  "kernelspec": {
   "display_name": "Python 3",
   "language": "python",
   "name": "python3"
  },
  "language_info": {
   "codemirror_mode": {
    "name": "ipython",
    "version": 2
   },
   "file_extension": ".py",
   "mimetype": "text/x-python",
   "name": "python",
   "nbconvert_exporter": "python",
   "pygments_lexer": "ipython2",
   "version": "2.7.6"
  }
 },
 "nbformat": 4,
 "nbformat_minor": 5
}
