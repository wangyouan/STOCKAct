{
 "cells": [
  {
   "cell_type": "code",
   "id": "initial_id",
   "metadata": {
    "collapsed": true,
    "ExecuteTime": {
     "end_time": "2024-10-13T13:12:47.804772Z",
     "start_time": "2024-10-13T13:12:47.796500Z"
    }
   },
   "source": [
    "import os\n",
    "import datetime\n",
    "\n",
    "import numpy as np\n",
    "from scipy.special import gammaln\n",
    "import pandas as pd\n",
    "from numpy import log, exp\n",
    "import wrds\n",
    "from pandas import DataFrame\n",
    "\n",
    "try:\n",
    "    from itertools import imap\n",
    "except ImportError:\n",
    "    imap = map\n",
    "\n",
    "# optimization\n",
    "from numba import jit\n",
    "\n",
    "\n",
    "def lfact(x):\n",
    "    \"\"\"Compute the log factorial using the scipy gammaln function.\n",
    "\n",
    "    This is commonly referred to as Stirlings approximation/formula for factorials.\"\"\"\n",
    "    return gammaln(x + 1)\n",
    "\n",
    "\n",
    "def nanexp(x):\n",
    "    \"\"\"Computes the exponential of x, and replaces nan and inf with finite numbers.\n",
    "\n",
    "    Returns an array or scalar replacing Not a Number (NaN) with zero, (positive) infinity with a very large number and negative infinity with a very small (or negative) number.\"\"\"\n",
    "    return np.nan_to_num(np.exp(x))"
   ],
   "outputs": [],
   "execution_count": 92
  },
  {
   "metadata": {
    "ExecuteTime": {
     "end_time": "2024-10-13T08:38:25.125391Z",
     "start_time": "2024-10-13T08:38:25.115050Z"
    }
   },
   "cell_type": "code",
   "source": [
    "# GPIN method\n",
    "def _lf_gpin(th_b, th_s, r, p, n_buys, n_sells, pdenom=1):\n",
    "    res = log(th_b) * n_buys + log(1 - th_s) * n_sells - lfact(n_buys) - lfact(n_sells) - gammaln(r) + log(\n",
    "        1 - p) * r + log(p) * (n_buys + n_sells) + gammaln(r + n_buys + n_sells) - log(pdenom) * r - log(pdenom) * (\n",
    "                  n_buys + n_sells)\n",
    "    return res\n",
    "\n",
    "\n",
    "def _ll_gpin(a, r, p, eta, d, th, n_buys, n_sells):\n",
    "    return np.array([log(1 - a) + _lf_gpin(th, th, r, p, n_buys, n_sells),\n",
    "                     log(a * d) + _lf_gpin(th + eta, th, r, p, n_buys, n_sells, 1 + eta * p),\n",
    "                     log(a * (1 - d)) + _lf_gpin(th, th - eta, r, p, n_buys, n_sells, 1 + eta * p)])\n",
    "\n",
    "\n",
    "def compute_alpha_gpin(a, r, p, eta, d, th, n_buys, n_sells):\n",
    "    \"\"\"Compute the conditional alpha given parameters, buys, and sells.\n",
    "\n",
    "    \"\"\"\n",
    "    ys = _ll_gpin(a, r, p, eta, d, th, n_buys, n_sells)\n",
    "\n",
    "    ymax = ys.max(axis=0)\n",
    "    lik = exp(ys - ymax)\n",
    "    alpha = lik[1:].sum(axis=0) / lik.sum(axis=0)\n",
    "\n",
    "    return alpha"
   ],
   "id": "457ff7e74d979527",
   "outputs": [],
   "execution_count": 68
  },
  {
   "metadata": {
    "ExecuteTime": {
     "end_time": "2024-10-13T13:34:54.969119Z",
     "start_time": "2024-10-13T13:34:54.954520Z"
    }
   },
   "cell_type": "code",
   "source": [
    "# OWR calculation\n",
    "def det3_owr(a):\n",
    "    return (a[0][0] * (a[1][1] * a[2][2] - a[2][1] * a[1][2])\n",
    "            - a[1][0] * (a[0][1] * a[2][2] - a[2][1] * a[0][2])\n",
    "            + a[2][0] * (a[0][1] * a[1][2] - a[1][1] * a[0][2]))\n",
    "\n",
    "\n",
    "def inv3_owr(a):\n",
    "    invdet = 1 / det3_owr(a)\n",
    "    m = np.zeros((3, 3))\n",
    "    m[0, 0] = a[1, 1] * a[2, 2] - a[2, 1] * a[1, 2]\n",
    "    m[0, 1] = a[0, 2] * a[2, 1] - a[0, 1] * a[2, 2]\n",
    "    m[0, 2] = a[0, 1] * a[1, 2] - a[0, 2] * a[1, 1]\n",
    "    m[1, 0] = a[1, 2] * a[2, 0] - a[1, 0] * a[2, 2]\n",
    "    m[1, 1] = a[0, 0] * a[2, 2] - a[0, 2] * a[2, 0]\n",
    "    m[1, 2] = a[1, 0] * a[0, 2] - a[0, 0] * a[1, 2]\n",
    "    m[2, 0] = a[1, 0] * a[2, 1] - a[2, 0] * a[1, 1]\n",
    "    m[2, 1] = a[2, 0] * a[0, 1] - a[0, 0] * a[2, 1]\n",
    "    m[2, 2] = a[0, 0] * a[1, 1] - a[1, 0] * a[0, 1]\n",
    "    return m * invdet\n",
    "\n",
    "\n",
    "def _compute_cov_owr(a, su, sz, si, spd, spo):\n",
    "    # compute covariance matrices\n",
    "    s_n = np.array([[su ** 2 + sz ** 2, a ** 0.5 * si * su / 2, -a ** 0.5 * si * su / 2],\n",
    "                    [a ** 0.5 * si * su / 2, spd ** 2 + a * si ** 2 / 4, -a * si ** 2 / 4],\n",
    "                    [-a ** 0.5 * si * su / 2, -a * si ** 2 / 4, spo ** 2 + (1 + a) * si ** 2 / 4]])\n",
    "\n",
    "    s_e = np.array([[(1 + 1 / a) * su ** 2 + sz ** 2, a ** (-0.5) * si * su / 2 + a ** 0.5 * si * su / 2,\n",
    "                     a ** (-0.5) * si * su / 2 - a ** 0.5 * si * su / 2],\n",
    "                    [a ** (-0.5) * si * su / 2 + a ** 0.5 * si * su / 2, spd ** 2 + (1 + a) * si ** 2 / 4,\n",
    "                     (1 - a) * si ** 2 / 4],\n",
    "                    [a ** (-0.5) * si * su / 2 - a ** 0.5 * si * su / 2, (1 - a) * si ** 2 / 4,\n",
    "                     spo ** 2 + (1 + a) * si ** 2 / 4]])\n",
    "\n",
    "    return s_n, s_e\n",
    "\n",
    "\n",
    "def _compute_alpha_owr(x, a, dsd, isd):\n",
    "    alphas = np.zeros(x.shape[1])\n",
    "    for i in range(x.shape[1]):\n",
    "        alphas[i] = 1 / (1 + (1 - a) / a * exp(_lf_owr(x[:, i], dsd, isd)))\n",
    "    return alphas\n",
    "\n",
    "\n",
    "def _lf_owr(x, det, inv):\n",
    "    return -0.5 * log(det) - 0.5 * _qvmv_owr(x, inv)\n",
    "\n",
    "\n",
    "@jit\n",
    "def _qvmv_owr(x, A):\n",
    "    \"\"\"Computes x'Ax.\n",
    "    \"\"\"\n",
    "    m, n = A.shape\n",
    "    qsum = 0\n",
    "\n",
    "    for i in range(m):\n",
    "        for j in range(n):\n",
    "            qsum += A[i, j] * x[i] * x[j]\n",
    "\n",
    "    return qsum\n",
    "\n",
    "\n",
    "def compute_alpha_owr(oib, ret_d, ret_o, a, su, sz, si, spd, spo):\n",
    "    \"\"\"Computes conditional alpha.\n",
    "    \n",
    "    Params\n",
    "    ------\n",
    "    oib : pandas.Series or numpy.ndarray\n",
    "        Order imbalance, representing the net difference between buy and sell orders.\n",
    "    ret_d : pandas.Series or numpy.ndarray\n",
    "        Returns calculated during the day.\n",
    "    ret_o : pandas.Series or numpy.ndarray\n",
    "        Overnight returns.\n",
    "    a : float\n",
    "        Unconditional probability of an information event.\n",
    "    su : float\n",
    "        Standard deviation of uninformed trades.\n",
    "    sz : float\n",
    "        Standard deviation of noise trades.\n",
    "    si : float\n",
    "        Standard deviation of informed trades.\n",
    "    spd : float\n",
    "        Standard deviation of daily price changes.\n",
    "    spo : float\n",
    "        Standard deviation of overnight price changes.\n",
    "    \n",
    "    Returns\n",
    "    -------\n",
    "    pandas.Series\n",
    "        Conditional probability (`alpha`) of an information event occurring for each time period.\n",
    "    \n",
    "    \"\"\"\n",
    "    # if len(a) > 1:\n",
    "    #     a = a.tolist().pop()\n",
    "    #     su = su.tolist().pop()\n",
    "    #     sz = sz.tolist().pop()\n",
    "    #     si = si.tolist().pop()\n",
    "    #     spd = spd.tolist().pop()\n",
    "    #     spo = spo.tolist().pop()\n",
    "    # s_n, s_e = _compute_cov_owr(a, su, sz, si, spd, spo)\n",
    "    # dsn, isn = det3_owr(s_n), inv3_owr(s_n)\n",
    "    # dse, ise = det3_owr(s_e), inv3_owr(s_e)\n",
    "    # dsd = dsn / dse\n",
    "    # isd = isn - ise\n",
    "    # \n",
    "    # x = np.array([oib, ret_d, ret_o])\n",
    "    # cpie = pd.Series(_compute_alpha_owr(x, a, dsd, isd), index=oib.index)\n",
    "    # return cpie\n",
    "    s_n, s_e = _compute_cov_owr(a, su, sz, si, spd, spo)\n",
    "    dsn, isn = det3_owr(s_n), inv3_owr(s_n)\n",
    "    dse, ise = det3_owr(s_e), inv3_owr(s_e)\n",
    "    dsd = dsn/dse\n",
    "    isd = isn-ise\n",
    "    \n",
    "    x = np.array([oib, ret_d, ret_o])\n",
    "    cpie = pd.Series(_compute_alpha_owr(x, a, dsd, isd), index=oib.index)\n",
    "    return cpie[0]\n"
   ],
   "id": "2ce3af3e206af1ae",
   "outputs": [],
   "execution_count": 126
  },
  {
   "metadata": {
    "ExecuteTime": {
     "end_time": "2024-10-13T13:35:12.350121Z",
     "start_time": "2024-10-13T13:35:12.345889Z"
    }
   },
   "cell_type": "code",
   "source": [
    "a, su, sz, si, spd, spo = 0.780775, 0.188613492, 0.47896027, 0.022607443, 0.005858138, 0.01009005\n",
    "ro, rd, o = -0.00662909, -0.013827281, -0.352941176\n",
    "\n",
    "alpha_result = compute_alpha_owr(pd.Series([o]), pd.Series([rd]), pd.Series([ro]), a, su, sz, si, spd, spo)\n",
    "print(\"Computed alpha:\", alpha_result)"
   ],
   "id": "c90e4f56cbdd1b7",
   "outputs": [
    {
     "name": "stdout",
     "output_type": "stream",
     "text": [
      "Computed alpha: 0    0.848057\n",
      "dtype: float64\n"
     ]
    }
   ],
   "execution_count": 129
  },
  {
   "metadata": {
    "ExecuteTime": {
     "end_time": "2024-10-13T01:56:45.415310Z",
     "start_time": "2024-10-13T01:56:45.410087Z"
    }
   },
   "cell_type": "code",
   "source": [
    "# Example usage to download data from WRDS TAQ database using WRDS package\n",
    "def download_taq_data(start_year, end_year):\n",
    "    \"\"\"Downloads required data from WRDS TAQ database for calculating r_d, r_o, and y_e.\n",
    "    \n",
    "    Params\n",
    "    ------\n",
    "    start_year : int\n",
    "        The starting year for the data download.\n",
    "    end_year : int\n",
    "        The ending year for the data download.\n",
    "    \n",
    "    Returns\n",
    "    -------\n",
    "    DataFrame\n",
    "        A DataFrame containing the data needed to calculate r_d, r_o, and y_e.\n",
    "    \"\"\"\n",
    "    db = wrds.Connection(wrds_username='aheitz')\n",
    "    data_list = []\n",
    "\n",
    "    for year in range(start_year, end_year + 1):\n",
    "        query = f\"\"\"\n",
    "        SELECT date, sym_root, sym_suffix, buynumtrades_lr, sellnumtrades_lr, oprc, cprc, ret_mkt_m,\n",
    "               vw_price_m, mid_after_open, total_vol_m, total_vol_b, total_vol_a\n",
    "        FROM taqmsec.wrds_iid_{year}\n",
    "        WHERE sym_root IS NOT NULL\n",
    "        \"\"\"\n",
    "        yearly_data = db.raw_sql(query)\n",
    "        data_list.append(yearly_data)\n",
    "\n",
    "    db.close()\n",
    "    taq_data = pd.concat(data_list, ignore_index=True)\n",
    "    return taq_data"
   ],
   "id": "28c07f60d5f5c8ec",
   "outputs": [],
   "execution_count": 45
  },
  {
   "metadata": {
    "ExecuteTime": {
     "end_time": "2024-10-13T08:55:12.357407Z",
     "start_time": "2024-10-13T08:55:05.577861Z"
    }
   },
   "cell_type": "code",
   "source": "db = wrds.Connection(wrds_username='aheitz')",
   "id": "6a28abc658dfd945",
   "outputs": [
    {
     "name": "stdout",
     "output_type": "stream",
     "text": [
      "Loading library list...\n",
      "Done\n"
     ]
    }
   ],
   "execution_count": 79
  },
  {
   "metadata": {
    "ExecuteTime": {
     "end_time": "2024-10-13T02:07:25.540220Z",
     "start_time": "2024-10-13T02:07:24.710949Z"
    }
   },
   "cell_type": "code",
   "source": "describe_table = db.describe_table('taqmsec', 'wrds_iid_2003')",
   "id": "97a72eff17c8dbb2",
   "outputs": [
    {
     "name": "stdout",
     "output_type": "stream",
     "text": [
      "Approximately 602729 rows in taqmsec.wrds_iid_2003.\n"
     ]
    }
   ],
   "execution_count": 55
  },
  {
   "metadata": {
    "ExecuteTime": {
     "end_time": "2024-10-13T05:31:34.360417Z",
     "start_time": "2024-10-13T05:31:34.238829Z"
    }
   },
   "cell_type": "code",
   "source": "db.close()",
   "id": "eca26883399c7ddb",
   "outputs": [
    {
     "ename": "AttributeError",
     "evalue": "'NoneType' object has no attribute 'dispose'",
     "output_type": "error",
     "traceback": [
      "\u001B[1;31m---------------------------------------------------------------------------\u001B[0m",
      "\u001B[1;31mAttributeError\u001B[0m                            Traceback (most recent call last)",
      "Cell \u001B[1;32mIn[66], line 1\u001B[0m\n\u001B[1;32m----> 1\u001B[0m db\u001B[38;5;241m.\u001B[39mclose()\n",
      "File \u001B[1;32mD:\\Users\\wangy\\anaconda3\\Lib\\site-packages\\wrds\\sql.py:143\u001B[0m, in \u001B[0;36mConnection.close\u001B[1;34m(self)\u001B[0m\n\u001B[0;32m    139\u001B[0m \u001B[38;5;250m\u001B[39m\u001B[38;5;124;03m\"\"\"\u001B[39;00m\n\u001B[0;32m    140\u001B[0m \u001B[38;5;124;03mClose the connection to the database.\u001B[39;00m\n\u001B[0;32m    141\u001B[0m \u001B[38;5;124;03m\"\"\"\u001B[39;00m\n\u001B[0;32m    142\u001B[0m \u001B[38;5;28mself\u001B[39m\u001B[38;5;241m.\u001B[39mconnection\u001B[38;5;241m.\u001B[39mclose()\n\u001B[1;32m--> 143\u001B[0m \u001B[38;5;28mself\u001B[39m\u001B[38;5;241m.\u001B[39mengine\u001B[38;5;241m.\u001B[39mdispose()\n\u001B[0;32m    144\u001B[0m \u001B[38;5;28mself\u001B[39m\u001B[38;5;241m.\u001B[39mengine \u001B[38;5;241m=\u001B[39m \u001B[38;5;28;01mNone\u001B[39;00m\n",
      "\u001B[1;31mAttributeError\u001B[0m: 'NoneType' object has no attribute 'dispose'"
     ]
    }
   ],
   "execution_count": 66
  },
  {
   "metadata": {
    "ExecuteTime": {
     "end_time": "2024-10-13T02:12:36.620696Z",
     "start_time": "2024-10-13T02:12:36.614320Z"
    }
   },
   "cell_type": "code",
   "source": "db.list_libraries()",
   "id": "20ebbe87b40d8989",
   "outputs": [
    {
     "data": {
      "text/plain": [
       "['aha_sample',\n",
       " 'ahasamp',\n",
       " 'audit',\n",
       " 'audit_audit_comp',\n",
       " 'audit_common',\n",
       " 'audit_corp_legal',\n",
       " 'audit_oia',\n",
       " 'auditsmp',\n",
       " 'auditsmp_all',\n",
       " 'bank',\n",
       " 'bank_all',\n",
       " 'bank_premium_samp',\n",
       " 'banksamp',\n",
       " 'block',\n",
       " 'block_all',\n",
       " 'boardex',\n",
       " 'boardex_na',\n",
       " 'boardex_trial',\n",
       " 'boardsmp',\n",
       " 'bvd_amadeus_trial',\n",
       " 'bvd_bvdbankf_trial',\n",
       " 'bvd_orbis_trial',\n",
       " 'bvdsamp',\n",
       " 'calcbench_trial',\n",
       " 'calcbnch',\n",
       " 'cboe',\n",
       " 'cboe_all',\n",
       " 'cboe_sample',\n",
       " 'cboesamp',\n",
       " 'ciq',\n",
       " 'ciq_common',\n",
       " 'ciqsamp',\n",
       " 'ciqsamp_capstrct',\n",
       " 'ciqsamp_common',\n",
       " 'ciqsamp_keydev',\n",
       " 'ciqsamp_pplintel',\n",
       " 'ciqsamp_ratings',\n",
       " 'ciqsamp_transactions',\n",
       " 'ciqsamp_transcripts',\n",
       " 'cisdmsmp',\n",
       " 'columnar',\n",
       " 'comp',\n",
       " 'comp_bank',\n",
       " 'comp_bank_daily',\n",
       " 'comp_execucomp',\n",
       " 'comp_global',\n",
       " 'comp_global_daily',\n",
       " 'comp_na_annual_all',\n",
       " 'comp_na_daily_all',\n",
       " 'comp_na_monthly_all',\n",
       " 'comp_segments_hist',\n",
       " 'comp_segments_hist_daily',\n",
       " 'compa',\n",
       " 'compb',\n",
       " 'compg',\n",
       " 'compm',\n",
       " 'compsamp',\n",
       " 'compsamp_all',\n",
       " 'compsamp_snapshot',\n",
       " 'compseg',\n",
       " 'contrib',\n",
       " 'contrib_as_filed_financials',\n",
       " 'contrib_ceo_turnover',\n",
       " 'contrib_char_returns',\n",
       " 'contrib_general',\n",
       " 'contrib_global_factor',\n",
       " 'contrib_intangible_value',\n",
       " 'contrib_kpss',\n",
       " 'contrib_liva',\n",
       " 'crsp',\n",
       " 'crsp_a_ccm',\n",
       " 'crsp_a_indexes',\n",
       " 'crsp_a_stock',\n",
       " 'crsp_q_mutualfunds',\n",
       " 'crspsamp',\n",
       " 'crspsamp_all',\n",
       " 'crspsamp_mf',\n",
       " 'csmsamp_all',\n",
       " 'dealscan',\n",
       " 'djones',\n",
       " 'djones_all',\n",
       " 'dmef',\n",
       " 'dmef_all',\n",
       " 'doe',\n",
       " 'doe_all',\n",
       " 'etfg_samp',\n",
       " 'etfgsamp',\n",
       " 'eurekahedge_sample',\n",
       " 'eursamp',\n",
       " 'eventus',\n",
       " 'evts_all',\n",
       " 'execcomp',\n",
       " 'factsamp_all',\n",
       " 'factsamp_revere',\n",
       " 'ff',\n",
       " 'ff_all',\n",
       " 'fjc',\n",
       " 'fjc_linking',\n",
       " 'fjc_litigation',\n",
       " 'frb',\n",
       " 'frb_all',\n",
       " 'fssamp',\n",
       " 'ftsesamp',\n",
       " 'ftsesamp_russell_us',\n",
       " 'gutenberg',\n",
       " 'hfrsamp',\n",
       " 'hfrsamp_hfrdb',\n",
       " 'ibes',\n",
       " 'ibessamp_kpi',\n",
       " 'ifgrsamp',\n",
       " 'ims_obp_trial',\n",
       " 'imssamp',\n",
       " 'infogroupsamp_business',\n",
       " 'infogroupsamp_residential',\n",
       " 'insdsamp',\n",
       " 'iri',\n",
       " 'iri_all',\n",
       " 'iss_va_mf',\n",
       " 'iss_va_vote_us',\n",
       " 'issm',\n",
       " 'issm_nasd1987',\n",
       " 'issm_nasd1988',\n",
       " 'issm_nasd1989',\n",
       " 'issm_nasd1990',\n",
       " 'issm_nasd1991',\n",
       " 'issm_nasd1992',\n",
       " 'issm_nyam1983',\n",
       " 'issm_nyam1984',\n",
       " 'issm_nyam1985',\n",
       " 'issm_nyam1986',\n",
       " 'issm_nyam1987',\n",
       " 'issm_nyam1988',\n",
       " 'issm_nyam1989',\n",
       " 'issm_nyam1990',\n",
       " 'issm_nyam1991',\n",
       " 'issm_nyam1992',\n",
       " 'kpisamp',\n",
       " 'ktmine_patents_samp',\n",
       " 'ktsamp',\n",
       " 'lvnsamp',\n",
       " 'lvnsamp_all',\n",
       " 'macrofin',\n",
       " 'macrofin_comm_trade',\n",
       " 'mfl',\n",
       " 'mflinks_all',\n",
       " 'midas',\n",
       " 'morningstarsamp_cisdm',\n",
       " 'mrktsamp',\n",
       " 'mrktsamp_cds',\n",
       " 'mrktsamp_cdx',\n",
       " 'mrktsamp_msf',\n",
       " 'msci_esg_samp',\n",
       " 'msciesmp',\n",
       " 'msrb',\n",
       " 'msrb_all',\n",
       " 'msrbsamp',\n",
       " 'msrbsamp_all',\n",
       " 'omtrial',\n",
       " 'optionm',\n",
       " 'optionm_all',\n",
       " 'optionmsamp_europe',\n",
       " 'optionmsamp_us',\n",
       " 'otc',\n",
       " 'otc_endofday',\n",
       " 'phlx',\n",
       " 'phlx_all',\n",
       " 'pitchsmp',\n",
       " 'ppubsamp',\n",
       " 'ppubsamp_d4d',\n",
       " 'ppubsamp_rx_checkup',\n",
       " 'preqin',\n",
       " 'preqin_cashflow',\n",
       " 'preqin_deals',\n",
       " 'preqin_gp',\n",
       " 'preqin_lp',\n",
       " 'preqin_pe',\n",
       " 'preqin_vc',\n",
       " 'preqsamp',\n",
       " 'preqsamp_all',\n",
       " 'public',\n",
       " 'public_all',\n",
       " 'pwt',\n",
       " 'pwt_all',\n",
       " 'ravenpack_common',\n",
       " 'ravenpack_dj',\n",
       " 'ravenpack_trial',\n",
       " 'reprisk_sample',\n",
       " 'repsamp',\n",
       " 'revelio_samp',\n",
       " 'revsamp',\n",
       " 'risk',\n",
       " 'risk_directors',\n",
       " 'risk_governance',\n",
       " 'risksamp',\n",
       " 'risksamp_all',\n",
       " 'rpna',\n",
       " 'rpnasamp',\n",
       " 'rq_all',\n",
       " 'rstat_samp',\n",
       " 'rstatsmp',\n",
       " 'sdc',\n",
       " 'sdcsamp',\n",
       " 'secsamp',\n",
       " 'secsamp_all',\n",
       " 'snapsamp',\n",
       " 'snl',\n",
       " 'snl_fundamentals',\n",
       " 'snlsamp',\n",
       " 'snlsamp_fig',\n",
       " 'sp_esg',\n",
       " 'sustainalyticssamp_all',\n",
       " 'sustsamp',\n",
       " 'taqm_2014',\n",
       " 'taqm_2015',\n",
       " 'taqm_2016',\n",
       " 'taqm_2017',\n",
       " 'taqm_2018',\n",
       " 'taqm_2019',\n",
       " 'taqm_2020',\n",
       " 'taqm_2021',\n",
       " 'taqm_2022',\n",
       " 'taqm_2023',\n",
       " 'taqm_2024',\n",
       " 'taqmsamp',\n",
       " 'taqmsamp_all',\n",
       " 'taqmsec',\n",
       " 'taqsamp',\n",
       " 'taqsamp_all',\n",
       " 'tfn',\n",
       " 'totalq',\n",
       " 'totalq_all',\n",
       " 'tr_13f',\n",
       " 'tr_common',\n",
       " 'tr_dealscan',\n",
       " 'tr_ds_comds',\n",
       " 'tr_ds_econ',\n",
       " 'tr_ds_equities',\n",
       " 'tr_ds_fut',\n",
       " 'tr_ibes',\n",
       " 'tr_mutualfunds',\n",
       " 'tr_sdc_ma',\n",
       " 'tr_sdc_ni',\n",
       " 'tr_sdc_samples',\n",
       " 'tr_worldscope',\n",
       " 'trace',\n",
       " 'trace_enhanced',\n",
       " 'trace_standard',\n",
       " 'trcommon',\n",
       " 'trcstsmp',\n",
       " 'trdbdmismp',\n",
       " 'trdbwbsmp',\n",
       " 'trdssamp',\n",
       " 'trdstrm',\n",
       " 'tresgsmp',\n",
       " 'trsamp',\n",
       " 'trsamp_all',\n",
       " 'trsamp_db_dmi',\n",
       " 'trsamp_db_wb',\n",
       " 'trsamp_ds_eq',\n",
       " 'trsamp_dscom',\n",
       " 'trsamp_dsecon',\n",
       " 'trsamp_dsfut',\n",
       " 'trsamp_esg',\n",
       " 'trsamp_sdc_ma',\n",
       " 'trsamp_sdc_ni',\n",
       " 'trsamp_worldscope',\n",
       " 'trucost',\n",
       " 'trucost_common',\n",
       " 'trucost_environ',\n",
       " 'trucost_fossilfuel',\n",
       " 'trucost_samp',\n",
       " 'trucost_sector_ff',\n",
       " 'trucost_sector_revenue',\n",
       " 'trws',\n",
       " 'twoiq_samp',\n",
       " 'twoiqsmp',\n",
       " 'wappsamp',\n",
       " 'wenvsmp',\n",
       " 'wmfsmp',\n",
       " 'wrds_environmental_samp',\n",
       " 'wrds_insiders_samp',\n",
       " 'wrds_lib_internal',\n",
       " 'wrds_mutualfund_samp',\n",
       " 'wrdsapps',\n",
       " 'wrdsapps_backtest_basic',\n",
       " 'wrdsapps_backtest_plus',\n",
       " 'wrdsapps_eushort',\n",
       " 'wrdsapps_evtstudy_int',\n",
       " 'wrdsapps_evtstudy_int_ginsight',\n",
       " 'wrdsapps_evtstudy_lr',\n",
       " 'wrdsapps_evtstudy_us',\n",
       " 'wrdsapps_finratio',\n",
       " 'wrdsapps_finratio_ccm',\n",
       " 'wrdsapps_finratio_ibes',\n",
       " 'wrdsapps_finratio_ibes_ccm',\n",
       " 'wrdsapps_link_comp_eushort',\n",
       " 'wrdsapps_link_crsp_bond',\n",
       " 'wrdsapps_link_crsp_comp_bdx',\n",
       " 'wrdsapps_link_crsp_factset',\n",
       " 'wrdsapps_link_crsp_ibes',\n",
       " 'wrdsapps_link_crsp_optionm',\n",
       " 'wrdsapps_link_crsp_taq',\n",
       " 'wrdsapps_link_crsp_taqm',\n",
       " 'wrdsapps_link_datastream_wscope',\n",
       " 'wrdsapps_link_dealscan_wscope',\n",
       " 'wrdsapps_link_supplychain',\n",
       " 'wrdsapps_patents',\n",
       " 'wrdsapps_plink_exec_boardex',\n",
       " 'wrdsapps_subsidiary',\n",
       " 'wrdsapps_windices',\n",
       " 'wrdsappssamp_all',\n",
       " 'wrdssec_midas',\n",
       " 'zacksamp',\n",
       " 'zacksamp_all']"
      ]
     },
     "execution_count": 64,
     "metadata": {},
     "output_type": "execute_result"
    }
   ],
   "execution_count": 64
  },
  {
   "metadata": {
    "ExecuteTime": {
     "end_time": "2024-10-13T02:07:43.542960Z",
     "start_time": "2024-10-13T02:07:43.539386Z"
    }
   },
   "cell_type": "code",
   "source": "help(db.list_tables)",
   "id": "b9205c2151484032",
   "outputs": [
    {
     "name": "stdout",
     "output_type": "stream",
     "text": [
      "Help on method list_tables in module wrds.sql:\n",
      "\n",
      "list_tables(library) method of wrds.sql.Connection instance\n",
      "    Returns a list of all the views/tables/foreign tables within a schema.\n",
      "    \n",
      "    :param library: Postgres schema name.\n",
      "    \n",
      "    :rtype: list\n",
      "    \n",
      "    Usage::\n",
      "    >>> db.list_tables('wrdssec')\n",
      "    ['wciklink_gvkey', 'dforms', 'wciklink_cusip', 'wrds_forms', ...]\n",
      "\n"
     ]
    }
   ],
   "execution_count": 56
  },
  {
   "metadata": {
    "ExecuteTime": {
     "end_time": "2024-10-13T02:05:53.618567Z",
     "start_time": "2024-10-13T02:05:53.598461Z"
    }
   },
   "cell_type": "code",
   "source": [
    "from Constants import Constants as const\n",
    "import os\n",
    "\n",
    "table_list = db.list_tables('taqmsec')\n",
    "with open(os.path.join(const.TEMP_PATH, 'taqmsec_tabls.txt'), 'w') as f:\n",
    "    for table in table_list:\n",
    "        f.write(f\"{table}\\n\")"
   ],
   "id": "70aaaca1c5026d56",
   "outputs": [],
   "execution_count": 52
  },
  {
   "metadata": {
    "ExecuteTime": {
     "end_time": "2024-10-13T02:10:51.265813Z",
     "start_time": "2024-10-13T02:10:51.262519Z"
    }
   },
   "cell_type": "code",
   "source": "data_list = list()",
   "id": "54fda7d9945f94bd",
   "outputs": [],
   "execution_count": 60
  },
  {
   "metadata": {
    "ExecuteTime": {
     "end_time": "2024-10-13T02:12:26.113761Z",
     "start_time": "2024-10-13T02:10:59.584041Z"
    }
   },
   "cell_type": "code",
   "source": [
    "for year in range(2006, 2014):\n",
    "    query = f\"\"\"\n",
    "    SELECT date, sym_root, sym_suffix, buynumtrades_lr, sellnumtrades_lr, oprc, cprc, ret_mkt_m,\n",
    "           vw_price_m, mid_after_open, total_vol_m, total_vol_b, total_vol_a\n",
    "    FROM taqmsec.wrds_iid_{year}\n",
    "    WHERE sym_root IS NOT NULL\n",
    "    \"\"\"\n",
    "    yearly_data = db.raw_sql(query)\n",
    "    data_list.append(yearly_data)"
   ],
   "id": "32319ef4fbbdaef8",
   "outputs": [],
   "execution_count": 62
  },
  {
   "metadata": {
    "ExecuteTime": {
     "end_time": "2024-10-13T02:12:36.592402Z",
     "start_time": "2024-10-13T02:12:26.119939Z"
    }
   },
   "cell_type": "code",
   "source": [
    "wrds_iid_df = pd.concat(data_list, ignore_index=True)\n",
    "wrds_iid_df.to_pickle(os.path.join(const.TEMP_PATH, 'wrds_iid_2014_2016.pkl'))"
   ],
   "id": "e9e4368b0ce72cdb",
   "outputs": [],
   "execution_count": 63
  },
  {
   "metadata": {
    "ExecuteTime": {
     "end_time": "2024-10-13T08:36:21.337666Z",
     "start_time": "2024-10-13T08:36:18.228987Z"
    }
   },
   "cell_type": "code",
   "source": [
    "wrds_iid_2013 = pd.read_pickle(os.path.join(const.TEMP_PATH, 'wrds_iid_2013.pkl'))\n",
    "taq_data = pd.concat([wrds_iid_2013, wrds_iid_df], ignore_index=True)\n",
    "\n",
    "# Calculating y_e, r_d, and r_o\n",
    "taq_data['y_e'] = (taq_data['buynumtrades_lr'] - taq_data['sellnumtrades_lr']) / (taq_data['buynumtrades_lr'] + taq_data['sellnumtrades_lr'])\n",
    "taq_data['r_d'] = (taq_data['vw_price_m'] - taq_data['mid_after_open'] + taq_data.get('divamt', 0)) / taq_data['mid_after_open']\n",
    "taq_data['r_o'] = (taq_data['mid_after_open'] - taq_data['vw_price_m']) / taq_data['mid_after_open']\n",
    "\n",
    "print(taq_data.head())"
   ],
   "id": "8af0604c04b363ab",
   "outputs": [
    {
     "name": "stdout",
     "output_type": "stream",
     "text": [
      "         date sym_root sym_suffix  buynumtrades_lr  sellnumtrades_lr   oprc  \\\n",
      "0  2013-01-02        A       None          13885.0           15996.0  41.88   \n",
      "1  2013-01-02       AA       None          25249.0           24626.0   8.88   \n",
      "2  2013-01-02       AA         PR              1.0               1.0  84.79   \n",
      "3  2013-01-02     AACC       None            327.0             367.0   4.69   \n",
      "4  2013-01-02     AADR       None              3.0               2.0  31.65   \n",
      "\n",
      "    cprc  ret_mkt_m  vw_price_m  mid_after_open  total_vol_m  total_vol_b  \\\n",
      "0  41.88   0.000000   41.575585          41.880    6264024.0      14270.0   \n",
      "1   8.99   0.012311    8.915031           8.875   20558520.0     357248.0   \n",
      "2  84.00  -0.009361   84.263333          84.420        300.0          NaN   \n",
      "3   4.84   0.031482    4.845709           4.915     113543.0          NaN   \n",
      "4  31.50  -0.004751   31.527453          31.485       2159.0          NaN   \n",
      "\n",
      "   total_vol_a       y_e       r_d       r_o  \n",
      "0      12480.0 -0.070647 -0.007269  0.007269  \n",
      "1     134827.0  0.012491  0.004510 -0.004510  \n",
      "2          NaN  0.000000 -0.001856  0.001856  \n",
      "3       4185.0 -0.057637 -0.014098  0.014098  \n",
      "4          NaN  0.200000  0.001348 -0.001348  \n"
     ]
    }
   ],
   "execution_count": 67
  },
  {
   "metadata": {
    "ExecuteTime": {
     "end_time": "2024-10-13T13:21:29.768250Z",
     "start_time": "2024-10-13T13:21:29.730667Z"
    }
   },
   "cell_type": "code",
   "source": [
    "gpin_parameter_df: DataFrame = pd.read_csv(os.path.join(const.DATA_PATH, 'gpin-1319.csv')).drop(['f', 'rc'], axis=1).rename(\n",
    "    columns={'yyyy': 'year'})\n",
    "owr_parameter_df: DataFrame = pd.read_csv(os.path.join(const.DATA_PATH, 'owr-1319.csv')).drop(['f', 'rc'], axis=1).rename(\n",
    "    columns={'yyyy': 'year'})"
   ],
   "id": "f1e51ebaa2d58121",
   "outputs": [],
   "execution_count": 107
  },
  {
   "metadata": {
    "ExecuteTime": {
     "end_time": "2024-10-13T09:05:20.691835Z",
     "start_time": "2024-10-13T08:59:27.943597Z"
    }
   },
   "cell_type": "code",
   "source": [
    "query = f\"\"\"\n",
    "SELECT date, permno, sym_suffix, sym_root\n",
    "FROM wrdsapps_link_crsp_taqm.taqmclink\n",
    "WHERE sym_root IS NOT NULL AND date between '2013-01-01' and '2016-12-31' \n",
    "\"\"\"\n",
    "taq_crsp_link = db.raw_sql(query)"
   ],
   "id": "c618fce2a3710807",
   "outputs": [],
   "execution_count": 81
  },
  {
   "metadata": {
    "ExecuteTime": {
     "end_time": "2024-10-13T09:05:20.703456Z",
     "start_time": "2024-10-13T09:05:20.698205Z"
    }
   },
   "cell_type": "code",
   "source": "db.close()",
   "id": "d296db24f3701ac6",
   "outputs": [],
   "execution_count": 82
  },
  {
   "metadata": {
    "ExecuteTime": {
     "end_time": "2024-10-13T13:19:35.093658Z",
     "start_time": "2024-10-13T13:19:35.088469Z"
    }
   },
   "cell_type": "code",
   "source": "taq_crsp_link.memory_usage(True).sum() /(1024 * 1024)",
   "id": "8a1989a44d23df2b",
   "outputs": [
    {
     "data": {
      "text/plain": [
       "603.9910926818848"
      ]
     },
     "execution_count": 103,
     "metadata": {},
     "output_type": "execute_result"
    }
   ],
   "execution_count": 103
  },
  {
   "metadata": {
    "ExecuteTime": {
     "end_time": "2024-10-13T13:11:30.630874Z",
     "start_time": "2024-10-13T13:11:30.624469Z"
    }
   },
   "cell_type": "code",
   "source": "taq_data.shape",
   "id": "7e00e6a12a4526c1",
   "outputs": [
    {
     "data": {
      "text/plain": [
       "(7917668, 16)"
      ]
     },
     "execution_count": 88,
     "metadata": {},
     "output_type": "execute_result"
    }
   ],
   "execution_count": 88
  },
  {
   "metadata": {
    "ExecuteTime": {
     "end_time": "2024-10-13T13:19:10.484014Z",
     "start_time": "2024-10-13T13:19:03.218096Z"
    }
   },
   "cell_type": "code",
   "source": [
    "taq_data_crsp = taq_data.drop(['sym_suffix'], axis=1).drop_duplicates(\n",
    "    subset=['date', 'sym_root'], keep='first').merge(\n",
    "    taq_crsp_link.dropna(subset=['permno']).drop(['sym_suffix'], axis=1).drop_duplicates(\n",
    "    subset=['date', 'sym_root'], keep='first'), on=['date', 'sym_root'], how='inner')\n",
    "taq_data_crsp.shape"
   ],
   "id": "a84490268f34f766",
   "outputs": [
    {
     "data": {
      "text/plain": [
       "(4947894, 16)"
      ]
     },
     "execution_count": 102,
     "metadata": {},
     "output_type": "execute_result"
    }
   ],
   "execution_count": 102
  },
  {
   "metadata": {
    "ExecuteTime": {
     "end_time": "2024-10-13T13:23:17.369850Z",
     "start_time": "2024-10-13T13:23:14.703089Z"
    }
   },
   "cell_type": "code",
   "source": [
    "taq_data_crsp['date'] = pd.to_datetime(taq_data['date'])\n",
    "taq_data_crsp['year'] = taq_data_crsp['date'].dt.year\n",
    "taq_data_crsp['permno'] = pd.to_numeric(taq_data_crsp['permno'], errors='coerce')\n",
    "taq_data_crsp_model = taq_data_crsp.merge(gpin_parameter_df, on=['permno', 'year'], how='left').merge(\n",
    "    owr_parameter_df, on=['permno', 'year'], how='left', suffixes=(\"\", '_owr'))"
   ],
   "id": "d63ef7d5284376af",
   "outputs": [],
   "execution_count": 112
  },
  {
   "metadata": {
    "ExecuteTime": {
     "end_time": "2024-10-13T13:23:38.154197Z",
     "start_time": "2024-10-13T13:23:38.148535Z"
    }
   },
   "cell_type": "code",
   "source": "taq_data_crsp_model.keys()",
   "id": "f847e72c7d61f97c",
   "outputs": [
    {
     "data": {
      "text/plain": [
       "Index(['date', 'sym_root', 'buynumtrades_lr', 'sellnumtrades_lr', 'oprc',\n",
       "       'cprc', 'ret_mkt_m', 'vw_price_m', 'mid_after_open', 'total_vol_m',\n",
       "       'total_vol_b', 'total_vol_a', 'y_e', 'r_d', 'r_o', 'permno', 'year',\n",
       "       'a', 'd', 'eta', 'p', 'r', 'th', 'a_owr', 'si', 'spd', 'spo', 'su',\n",
       "       'sz'],\n",
       "      dtype='object')"
      ]
     },
     "execution_count": 114,
     "metadata": {},
     "output_type": "execute_result"
    }
   ],
   "execution_count": 114
  },
  {
   "metadata": {
    "ExecuteTime": {
     "end_time": "2024-10-13T13:24:15.926771Z",
     "start_time": "2024-10-13T13:24:15.514338Z"
    }
   },
   "cell_type": "code",
   "source": "taq_data_crsp_model.dropna(subset=['a', 'd', 'eta', 'p', 'r', 'th', 'a_owr', 'si', 'spd', 'spo', 'su', 'sz'], how='all', inplace=True)",
   "id": "7c65fa2d215b3a9",
   "outputs": [],
   "execution_count": 116
  },
  {
   "metadata": {
    "ExecuteTime": {
     "end_time": "2024-10-13T13:29:13.990688Z",
     "start_time": "2024-10-13T13:27:44.499423Z"
    }
   },
   "cell_type": "code",
   "source": [
    "taq_data_crsp_model.loc[:, 'gpin'] = taq_data_crsp_model.apply(\n",
    "    lambda x: compute_alpha_gpin(x['a'], x['r'], x['p'], x['eta'], x['d'], x['th'], x['buynumtrades_lr'], x['sellnumtrades_lr']), axis=1)"
   ],
   "id": "cc32cd6c172e8e2",
   "outputs": [],
   "execution_count": 120
  },
  {
   "metadata": {
    "ExecuteTime": {
     "end_time": "2024-10-13T13:43:52.710397Z",
     "start_time": "2024-10-13T13:35:48.793355Z"
    }
   },
   "cell_type": "code",
   "source": [
    "taq_data_crsp_model.loc[:, 'owr'] = taq_data_crsp_model.apply(\n",
    "    lambda x: compute_alpha_owr(pd.Series([x['y_e']]), pd.Series([x['r_d']]), pd.Series([x['r_o']]), x['a_owr'], x['su'], x['sz'], x['si'], x['spd'], x['spo']), axis=1)"
   ],
   "id": "42da4fd327e4e7c7",
   "outputs": [
    {
     "name": "stderr",
     "output_type": "stream",
     "text": [
      "C:\\Users\\wangy\\AppData\\Local\\Temp\\ipykernel_23904\\3575950180.py:42: RuntimeWarning: overflow encountered in exp\n",
      "  alphas[i] = 1 / (1 + (1 - a) / a * exp(_lf_owr(x[:, i], dsd, isd)))\n",
      "C:\\Users\\wangy\\AppData\\Local\\Temp\\ipykernel_23904\\3575950180.py:42: RuntimeWarning: overflow encountered in scalar multiply\n",
      "  alphas[i] = 1 / (1 + (1 - a) / a * exp(_lf_owr(x[:, i], dsd, isd)))\n"
     ]
    }
   ],
   "execution_count": 130
  },
  {
   "metadata": {
    "ExecuteTime": {
     "end_time": "2024-10-13T13:44:41.932287Z",
     "start_time": "2024-10-13T13:44:40.835339Z"
    }
   },
   "cell_type": "code",
   "source": "taq_data_crsp_model.to_pickle(os.path.join(const.TEMP_PATH, '2013_2016_gpin_owr.pkl'))",
   "id": "9919522583107382",
   "outputs": [],
   "execution_count": 132
  }
 ],
 "metadata": {
  "kernelspec": {
   "display_name": "Python 3",
   "language": "python",
   "name": "python3"
  },
  "language_info": {
   "codemirror_mode": {
    "name": "ipython",
    "version": 2
   },
   "file_extension": ".py",
   "mimetype": "text/x-python",
   "name": "python",
   "nbconvert_exporter": "python",
   "pygments_lexer": "ipython2",
   "version": "2.7.6"
  }
 },
 "nbformat": 4,
 "nbformat_minor": 5
}
