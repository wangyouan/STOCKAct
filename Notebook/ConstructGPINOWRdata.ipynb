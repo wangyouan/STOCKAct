{
 "cells": [
  {
   "cell_type": "code",
   "id": "initial_id",
   "metadata": {
    "collapsed": true,
    "ExecuteTime": {
     "end_time": "2025-03-26T03:55:15.450046Z",
     "start_time": "2025-03-26T03:54:52.522644Z"
    }
   },
   "source": [
    "## Source: https://edwinhu.github.io/pin/\n",
    "\n",
    "\n",
    "import os\n",
    "import datetime\n",
    "\n",
    "import numpy as np\n",
    "from scipy.special import gammaln\n",
    "import pandas as pd\n",
    "from numpy import log, exp\n",
    "import wrds\n",
    "from pandas import DataFrame\n",
    "\n",
    "try:\n",
    "    from itertools import imap\n",
    "except ImportError:\n",
    "    imap = map\n",
    "\n",
    "# optimization\n",
    "from numba import jit\n",
    "\n",
    "\n",
    "def lfact(x):\n",
    "    \"\"\"Compute the log factorial using the scipy gammaln function.\n",
    "\n",
    "    This is commonly referred to as Stirlings approximation/formula for factorials.\"\"\"\n",
    "    return gammaln(x + 1)\n",
    "\n",
    "\n",
    "def nanexp(x):\n",
    "    \"\"\"Computes the exponential of x, and replaces nan and inf with finite numbers.\n",
    "\n",
    "    Returns an array or scalar replacing Not a Number (NaN) with zero, (positive) infinity with a very large number and negative infinity with a very small (or negative) number.\"\"\"\n",
    "    return np.nan_to_num(np.exp(x))"
   ],
   "outputs": [],
   "execution_count": 1
  },
  {
   "metadata": {
    "ExecuteTime": {
     "end_time": "2025-03-26T05:46:05.714578Z",
     "start_time": "2025-03-26T05:46:05.705334Z"
    }
   },
   "cell_type": "code",
   "source": [
    "# GPIN method\n",
    "def _lf_gpin(th_b, th_s, r, p, n_buys, n_sells, pdenom=1):\n",
    "    res = log(th_b) * n_buys + log(1 - th_s) * n_sells - lfact(n_buys) - lfact(n_sells) - gammaln(r) + log(\n",
    "        1 - p) * r + log(p) * (n_buys + n_sells) + gammaln(r + n_buys + n_sells) - log(pdenom) * r - log(pdenom) * (\n",
    "                  n_buys + n_sells)\n",
    "    return res\n",
    "\n",
    "\n",
    "def _ll_gpin(a, r, p, eta, d, th, n_buys, n_sells):\n",
    "    return np.array([log(1 - a) + _lf_gpin(th, th, r, p, n_buys, n_sells),\n",
    "                     log(a * d) + _lf_gpin(th + eta, th, r, p, n_buys, n_sells, 1 + eta * p),\n",
    "                     log(a * (1 - d)) + _lf_gpin(th, th - eta, r, p, n_buys, n_sells, 1 + eta * p)])\n",
    "\n",
    "\n",
    "def compute_alpha_gpin(a, r, p, eta, d, th, n_buys, n_sells):\n",
    "    \"\"\"Compute the conditional alpha given parameters, buys, and sells.\n",
    "\n",
    "    \"\"\"\n",
    "    ys = _ll_gpin(a, r, p, eta, d, th, n_buys, n_sells)\n",
    "\n",
    "    ymax = ys.max(axis=0)\n",
    "    lik = exp(ys - ymax)\n",
    "    alpha = lik[1:].sum(axis=0) / lik.sum(axis=0)\n",
    "\n",
    "    return alpha"
   ],
   "id": "457ff7e74d979527",
   "outputs": [],
   "execution_count": 24
  },
  {
   "metadata": {
    "ExecuteTime": {
     "end_time": "2024-10-13T13:34:54.969119Z",
     "start_time": "2024-10-13T13:34:54.954520Z"
    }
   },
   "cell_type": "code",
   "source": [
    "# OWR calculation\n",
    "def det3_owr(a):\n",
    "    return (a[0][0] * (a[1][1] * a[2][2] - a[2][1] * a[1][2])\n",
    "            - a[1][0] * (a[0][1] * a[2][2] - a[2][1] * a[0][2])\n",
    "            + a[2][0] * (a[0][1] * a[1][2] - a[1][1] * a[0][2]))\n",
    "\n",
    "\n",
    "def inv3_owr(a):\n",
    "    invdet = 1 / det3_owr(a)\n",
    "    m = np.zeros((3, 3))\n",
    "    m[0, 0] = a[1, 1] * a[2, 2] - a[2, 1] * a[1, 2]\n",
    "    m[0, 1] = a[0, 2] * a[2, 1] - a[0, 1] * a[2, 2]\n",
    "    m[0, 2] = a[0, 1] * a[1, 2] - a[0, 2] * a[1, 1]\n",
    "    m[1, 0] = a[1, 2] * a[2, 0] - a[1, 0] * a[2, 2]\n",
    "    m[1, 1] = a[0, 0] * a[2, 2] - a[0, 2] * a[2, 0]\n",
    "    m[1, 2] = a[1, 0] * a[0, 2] - a[0, 0] * a[1, 2]\n",
    "    m[2, 0] = a[1, 0] * a[2, 1] - a[2, 0] * a[1, 1]\n",
    "    m[2, 1] = a[2, 0] * a[0, 1] - a[0, 0] * a[2, 1]\n",
    "    m[2, 2] = a[0, 0] * a[1, 1] - a[1, 0] * a[0, 1]\n",
    "    return m * invdet\n",
    "\n",
    "\n",
    "def _compute_cov_owr(a, su, sz, si, spd, spo):\n",
    "    # compute covariance matrices\n",
    "    s_n = np.array([[su ** 2 + sz ** 2, a ** 0.5 * si * su / 2, -a ** 0.5 * si * su / 2],\n",
    "                    [a ** 0.5 * si * su / 2, spd ** 2 + a * si ** 2 / 4, -a * si ** 2 / 4],\n",
    "                    [-a ** 0.5 * si * su / 2, -a * si ** 2 / 4, spo ** 2 + (1 + a) * si ** 2 / 4]])\n",
    "\n",
    "    s_e = np.array([[(1 + 1 / a) * su ** 2 + sz ** 2, a ** (-0.5) * si * su / 2 + a ** 0.5 * si * su / 2,\n",
    "                     a ** (-0.5) * si * su / 2 - a ** 0.5 * si * su / 2],\n",
    "                    [a ** (-0.5) * si * su / 2 + a ** 0.5 * si * su / 2, spd ** 2 + (1 + a) * si ** 2 / 4,\n",
    "                     (1 - a) * si ** 2 / 4],\n",
    "                    [a ** (-0.5) * si * su / 2 - a ** 0.5 * si * su / 2, (1 - a) * si ** 2 / 4,\n",
    "                     spo ** 2 + (1 + a) * si ** 2 / 4]])\n",
    "\n",
    "    return s_n, s_e\n",
    "\n",
    "\n",
    "def _compute_alpha_owr(x, a, dsd, isd):\n",
    "    alphas = np.zeros(x.shape[1])\n",
    "    for i in range(x.shape[1]):\n",
    "        alphas[i] = 1 / (1 + (1 - a) / a * exp(_lf_owr(x[:, i], dsd, isd)))\n",
    "    return alphas\n",
    "\n",
    "\n",
    "def _lf_owr(x, det, inv):\n",
    "    return -0.5 * log(det) - 0.5 * _qvmv_owr(x, inv)\n",
    "\n",
    "\n",
    "@jit\n",
    "def _qvmv_owr(x, A):\n",
    "    \"\"\"Computes x'Ax.\n",
    "    \"\"\"\n",
    "    m, n = A.shape\n",
    "    qsum = 0\n",
    "\n",
    "    for i in range(m):\n",
    "        for j in range(n):\n",
    "            qsum += A[i, j] * x[i] * x[j]\n",
    "\n",
    "    return qsum\n",
    "\n",
    "\n",
    "def compute_alpha_owr(oib, ret_d, ret_o, a, su, sz, si, spd, spo):\n",
    "    \"\"\"Computes conditional alpha.\n",
    "    \n",
    "    Params\n",
    "    ------\n",
    "    oib : pandas.Series or numpy.ndarray\n",
    "        Order imbalance, representing the net difference between buy and sell orders.\n",
    "    ret_d : pandas.Series or numpy.ndarray\n",
    "        Returns calculated during the day.\n",
    "    ret_o : pandas.Series or numpy.ndarray\n",
    "        Overnight returns.\n",
    "    a : float\n",
    "        Unconditional probability of an information event.\n",
    "    su : float\n",
    "        Standard deviation of uninformed trades.\n",
    "    sz : float\n",
    "        Standard deviation of noise trades.\n",
    "    si : float\n",
    "        Standard deviation of informed trades.\n",
    "    spd : float\n",
    "        Standard deviation of daily price changes.\n",
    "    spo : float\n",
    "        Standard deviation of overnight price changes.\n",
    "    \n",
    "    Returns\n",
    "    -------\n",
    "    pandas.Series\n",
    "        Conditional probability (`alpha`) of an information event occurring for each time period.\n",
    "    \n",
    "    \"\"\"\n",
    "    # if len(a) > 1:\n",
    "    #     a = a.tolist().pop()\n",
    "    #     su = su.tolist().pop()\n",
    "    #     sz = sz.tolist().pop()\n",
    "    #     si = si.tolist().pop()\n",
    "    #     spd = spd.tolist().pop()\n",
    "    #     spo = spo.tolist().pop()\n",
    "    # s_n, s_e = _compute_cov_owr(a, su, sz, si, spd, spo)\n",
    "    # dsn, isn = det3_owr(s_n), inv3_owr(s_n)\n",
    "    # dse, ise = det3_owr(s_e), inv3_owr(s_e)\n",
    "    # dsd = dsn / dse\n",
    "    # isd = isn - ise\n",
    "    # \n",
    "    # x = np.array([oib, ret_d, ret_o])\n",
    "    # cpie = pd.Series(_compute_alpha_owr(x, a, dsd, isd), index=oib.index)\n",
    "    # return cpie\n",
    "    s_n, s_e = _compute_cov_owr(a, su, sz, si, spd, spo)\n",
    "    dsn, isn = det3_owr(s_n), inv3_owr(s_n)\n",
    "    dse, ise = det3_owr(s_e), inv3_owr(s_e)\n",
    "    dsd = dsn/dse\n",
    "    isd = isn-ise\n",
    "    \n",
    "    x = np.array([oib, ret_d, ret_o])\n",
    "    cpie = pd.Series(_compute_alpha_owr(x, a, dsd, isd), index=oib.index)\n",
    "    return cpie[0]\n"
   ],
   "id": "2ce3af3e206af1ae",
   "outputs": [],
   "execution_count": 126
  },
  {
   "metadata": {
    "ExecuteTime": {
     "end_time": "2024-10-13T13:35:12.350121Z",
     "start_time": "2024-10-13T13:35:12.345889Z"
    }
   },
   "cell_type": "code",
   "source": [
    "a, su, sz, si, spd, spo = 0.780775, 0.188613492, 0.47896027, 0.022607443, 0.005858138, 0.01009005\n",
    "ro, rd, o = -0.00662909, -0.013827281, -0.352941176\n",
    "\n",
    "alpha_result = compute_alpha_owr(pd.Series([o]), pd.Series([rd]), pd.Series([ro]), a, su, sz, si, spd, spo)\n",
    "print(\"Computed alpha:\", alpha_result)"
   ],
   "id": "c90e4f56cbdd1b7",
   "outputs": [
    {
     "name": "stdout",
     "output_type": "stream",
     "text": [
      "Computed alpha: 0    0.848057\n",
      "dtype: float64\n"
     ]
    }
   ],
   "execution_count": 129
  },
  {
   "metadata": {
    "ExecuteTime": {
     "end_time": "2025-03-26T04:08:20.565144Z",
     "start_time": "2025-03-26T04:08:20.560334Z"
    }
   },
   "cell_type": "code",
   "source": [
    "# Example usage to download data from WRDS TAQ database using WRDS package\n",
    "def download_taq_data(start_year, end_year):\n",
    "    \"\"\"Downloads required data from WRDS TAQ database for calculating r_d, r_o, and y_e.\n",
    "    \n",
    "    Params\n",
    "    ------\n",
    "    start_year : int\n",
    "        The starting year for the data download.\n",
    "    end_year : int\n",
    "        The ending year for the data download.\n",
    "    \n",
    "    Returns\n",
    "    -------\n",
    "    DataFrame\n",
    "        A DataFrame containing the data needed to calculate r_d, r_o, and y_e.\n",
    "    \"\"\"\n",
    "    db = wrds.Connection(wrds_username='aheitz')\n",
    "    data_list = []\n",
    "\n",
    "    for year in range(start_year, end_year + 1):\n",
    "        query = f\"\"\"\n",
    "        SELECT date, sym_root, sym_suffix, buynumtrades_lr, sellnumtrades_lr, oprc, cprc, ret_mkt_m,\n",
    "               vw_price_m, mid_after_open, total_vol_m, total_vol_b, total_vol_a\n",
    "        FROM taqmsec.wrds_iid_{year}\n",
    "        WHERE sym_root IS NOT NULL\n",
    "        \"\"\"\n",
    "        yearly_data = db.raw_sql(query)\n",
    "        data_list.append(yearly_data)\n",
    "\n",
    "    db.close()\n",
    "    taq_data = pd.concat(data_list, ignore_index=True)\n",
    "    return taq_data"
   ],
   "id": "28c07f60d5f5c8ec",
   "outputs": [],
   "execution_count": 14
  },
  {
   "metadata": {
    "ExecuteTime": {
     "end_time": "2025-03-26T05:51:38.781491Z",
     "start_time": "2025-03-26T05:51:33.412245Z"
    }
   },
   "cell_type": "code",
   "source": "db = wrds.Connection(wrds_username='aheitz')",
   "id": "6a28abc658dfd945",
   "outputs": [
    {
     "name": "stdout",
     "output_type": "stream",
     "text": [
      "Loading library list...\n",
      "Done\n"
     ]
    }
   ],
   "execution_count": 29
  },
  {
   "metadata": {
    "ExecuteTime": {
     "end_time": "2024-10-13T02:07:25.540220Z",
     "start_time": "2024-10-13T02:07:24.710949Z"
    }
   },
   "cell_type": "code",
   "source": "describe_table = db.describe_table('taqmsec', 'wrds_iid_2003')",
   "id": "97a72eff17c8dbb2",
   "outputs": [
    {
     "name": "stdout",
     "output_type": "stream",
     "text": [
      "Approximately 602729 rows in taqmsec.wrds_iid_2003.\n"
     ]
    }
   ],
   "execution_count": 55
  },
  {
   "metadata": {
    "ExecuteTime": {
     "end_time": "2025-03-26T05:48:23.118666Z",
     "start_time": "2025-03-26T05:47:31.385401Z"
    }
   },
   "cell_type": "code",
   "source": "test_taq_df3 = download_taq_data(2014, 2014)\n",
   "id": "e653de744575f675",
   "outputs": [
    {
     "name": "stdout",
     "output_type": "stream",
     "text": [
      "Loading library list...\n",
      "Done\n"
     ]
    }
   ],
   "execution_count": 27
  },
  {
   "metadata": {
    "ExecuteTime": {
     "end_time": "2025-03-26T04:10:29.596854Z",
     "start_time": "2025-03-26T04:08:59.557690Z"
    }
   },
   "cell_type": "code",
   "source": "test_taq_df = download_taq_data(2015, 2016)",
   "id": "d77864d1fba567d0",
   "outputs": [
    {
     "name": "stdout",
     "output_type": "stream",
     "text": [
      "Loading library list...\n",
      "Done\n"
     ]
    }
   ],
   "execution_count": 15
  },
  {
   "metadata": {
    "ExecuteTime": {
     "end_time": "2025-03-26T05:43:25.476340Z",
     "start_time": "2025-03-26T05:43:25.470040Z"
    }
   },
   "cell_type": "code",
   "source": "test_taq_df",
   "id": "d324fb4202b62485",
   "outputs": [
    {
     "data": {
      "text/plain": [
       "(4070283, 13)"
      ]
     },
     "execution_count": 23,
     "metadata": {},
     "output_type": "execute_result"
    }
   ],
   "execution_count": 23
  },
  {
   "metadata": {
    "ExecuteTime": {
     "end_time": "2025-03-26T05:39:48.288943Z",
     "start_time": "2025-03-26T05:37:16.419529Z"
    }
   },
   "cell_type": "code",
   "source": "test_taq_df2 = download_taq_data(2017, 2019)",
   "id": "b9205c2151484032",
   "outputs": [
    {
     "name": "stdout",
     "output_type": "stream",
     "text": [
      "Loading library list...\n",
      "Done\n"
     ]
    }
   ],
   "execution_count": 20
  },
  {
   "metadata": {
    "ExecuteTime": {
     "end_time": "2025-03-26T05:48:56.315285Z",
     "start_time": "2025-03-26T05:48:55.114706Z"
    }
   },
   "cell_type": "code",
   "source": "taq_df_14_19 = pd.concat([test_taq_df3, test_taq_df, test_taq_df2], ignore_index=True)",
   "id": "4bdb2f33a039b71",
   "outputs": [],
   "execution_count": 28
  },
  {
   "metadata": {
    "ExecuteTime": {
     "end_time": "2025-03-26T03:58:43.229992Z",
     "start_time": "2025-03-26T03:58:43.226756Z"
    }
   },
   "cell_type": "code",
   "source": [
    "from Constants import Constants as const\n",
    "import os\n",
    "\n",
    "table_list = db.list_tables('taqmsec')\n",
    "with open(os.path.join(const.TEMP_PATH, 'taqmsec_tabls.txt'), 'w') as f:\n",
    "    for table in table_list:\n",
    "        f.write(f\"{table}\\n\")"
   ],
   "id": "70aaaca1c5026d56",
   "outputs": [],
   "execution_count": 4
  },
  {
   "metadata": {
    "ExecuteTime": {
     "end_time": "2025-03-26T05:51:38.792659Z",
     "start_time": "2025-03-26T05:51:38.788623Z"
    }
   },
   "cell_type": "code",
   "source": "data_list = list()",
   "id": "54fda7d9945f94bd",
   "outputs": [],
   "execution_count": 30
  },
  {
   "metadata": {
    "ExecuteTime": {
     "end_time": "2025-03-26T05:51:42.092878Z",
     "start_time": "2025-03-26T05:51:41.709114Z"
    }
   },
   "cell_type": "code",
   "source": [
    "for year in range(2010, 2013):\n",
    "    query = f\"\"\"\n",
    "    SELECT date, sym_root, sym_suffix, buynumtrades_lr, sellnumtrades_lr, oprc, cprc, ret_mkt_m,\n",
    "           vw_price_m, mid_after_open, total_vol_m, total_vol_b, total_vol_a\n",
    "    FROM taqmsec.wrds_iid_{year}\n",
    "    WHERE sym_root IS NOT NULL\n",
    "    \"\"\"\n",
    "    yearly_data = db.raw_sql(query)\n",
    "    data_list.append(yearly_data)"
   ],
   "id": "32319ef4fbbdaef8",
   "outputs": [
    {
     "ename": "ProgrammingError",
     "evalue": "(psycopg2.errors.InsufficientPrivilege) permission denied for schema taqm_2010\n\n[SQL: \n    SELECT date, sym_root, sym_suffix, buynumtrades_lr, sellnumtrades_lr, oprc, cprc, ret_mkt_m,\n           vw_price_m, mid_after_open, total_vol_m, total_vol_b, total_vol_a\n    FROM taqmsec.wrds_iid_2010\n    WHERE sym_root IS NOT NULL\n    ]\n(Background on this error at: https://sqlalche.me/e/20/f405)",
     "output_type": "error",
     "traceback": [
      "\u001B[1;31m---------------------------------------------------------------------------\u001B[0m",
      "\u001B[1;31mInsufficientPrivilege\u001B[0m                     Traceback (most recent call last)",
      "File \u001B[1;32mD:\\Users\\Dell\\anaconda3\\Lib\\site-packages\\sqlalchemy\\engine\\base.py:1967\u001B[0m, in \u001B[0;36mConnection._exec_single_context\u001B[1;34m(self, dialect, context, statement, parameters)\u001B[0m\n\u001B[0;32m   1966\u001B[0m     \u001B[38;5;28;01mif\u001B[39;00m \u001B[38;5;129;01mnot\u001B[39;00m evt_handled:\n\u001B[1;32m-> 1967\u001B[0m         \u001B[38;5;28mself\u001B[39m\u001B[38;5;241m.\u001B[39mdialect\u001B[38;5;241m.\u001B[39mdo_execute(\n\u001B[0;32m   1968\u001B[0m             cursor, str_statement, effective_parameters, context\n\u001B[0;32m   1969\u001B[0m         )\n\u001B[0;32m   1971\u001B[0m \u001B[38;5;28;01mif\u001B[39;00m \u001B[38;5;28mself\u001B[39m\u001B[38;5;241m.\u001B[39m_has_events \u001B[38;5;129;01mor\u001B[39;00m \u001B[38;5;28mself\u001B[39m\u001B[38;5;241m.\u001B[39mengine\u001B[38;5;241m.\u001B[39m_has_events:\n",
      "File \u001B[1;32mD:\\Users\\Dell\\anaconda3\\Lib\\site-packages\\sqlalchemy\\engine\\default.py:924\u001B[0m, in \u001B[0;36mDefaultDialect.do_execute\u001B[1;34m(self, cursor, statement, parameters, context)\u001B[0m\n\u001B[0;32m    923\u001B[0m \u001B[38;5;28;01mdef\u001B[39;00m \u001B[38;5;21mdo_execute\u001B[39m(\u001B[38;5;28mself\u001B[39m, cursor, statement, parameters, context\u001B[38;5;241m=\u001B[39m\u001B[38;5;28;01mNone\u001B[39;00m):\n\u001B[1;32m--> 924\u001B[0m     cursor\u001B[38;5;241m.\u001B[39mexecute(statement, parameters)\n",
      "\u001B[1;31mInsufficientPrivilege\u001B[0m: permission denied for schema taqm_2010\n",
      "\nThe above exception was the direct cause of the following exception:\n",
      "\u001B[1;31mProgrammingError\u001B[0m                          Traceback (most recent call last)",
      "Cell \u001B[1;32mIn[31], line 8\u001B[0m\n\u001B[0;32m      1\u001B[0m \u001B[38;5;28;01mfor\u001B[39;00m year \u001B[38;5;129;01min\u001B[39;00m \u001B[38;5;28mrange\u001B[39m(\u001B[38;5;241m2010\u001B[39m, \u001B[38;5;241m2013\u001B[39m):\n\u001B[0;32m      2\u001B[0m     query \u001B[38;5;241m=\u001B[39m \u001B[38;5;124mf\u001B[39m\u001B[38;5;124m\"\"\"\u001B[39m\n\u001B[0;32m      3\u001B[0m \u001B[38;5;124m    SELECT date, sym_root, sym_suffix, buynumtrades_lr, sellnumtrades_lr, oprc, cprc, ret_mkt_m,\u001B[39m\n\u001B[0;32m      4\u001B[0m \u001B[38;5;124m           vw_price_m, mid_after_open, total_vol_m, total_vol_b, total_vol_a\u001B[39m\n\u001B[0;32m      5\u001B[0m \u001B[38;5;124m    FROM taqmsec.wrds_iid_\u001B[39m\u001B[38;5;132;01m{\u001B[39;00myear\u001B[38;5;132;01m}\u001B[39;00m\n\u001B[0;32m      6\u001B[0m \u001B[38;5;124m    WHERE sym_root IS NOT NULL\u001B[39m\n\u001B[0;32m      7\u001B[0m \u001B[38;5;124m    \u001B[39m\u001B[38;5;124m\"\"\"\u001B[39m\n\u001B[1;32m----> 8\u001B[0m     yearly_data \u001B[38;5;241m=\u001B[39m db\u001B[38;5;241m.\u001B[39mraw_sql(query)\n\u001B[0;32m      9\u001B[0m     data_list\u001B[38;5;241m.\u001B[39mappend(yearly_data)\n",
      "File \u001B[1;32mD:\\Users\\Dell\\anaconda3\\Lib\\site-packages\\wrds\\sql.py:594\u001B[0m, in \u001B[0;36mConnection.raw_sql\u001B[1;34m(self, sql, coerce_float, date_cols, index_col, params, chunksize, return_iter, dtype, dtype_backend)\u001B[0m\n\u001B[0;32m    592\u001B[0m         \u001B[38;5;28;01mreturn\u001B[39;00m full_df\n\u001B[0;32m    593\u001B[0m \u001B[38;5;28;01mexcept\u001B[39;00m sa\u001B[38;5;241m.\u001B[39mexc\u001B[38;5;241m.\u001B[39mProgrammingError \u001B[38;5;28;01mas\u001B[39;00m e:\n\u001B[1;32m--> 594\u001B[0m     \u001B[38;5;28;01mraise\u001B[39;00m e\n",
      "File \u001B[1;32mD:\\Users\\Dell\\anaconda3\\Lib\\site-packages\\wrds\\sql.py:575\u001B[0m, in \u001B[0;36mConnection.raw_sql\u001B[1;34m(self, sql, coerce_float, date_cols, index_col, params, chunksize, return_iter, dtype, dtype_backend)\u001B[0m\n\u001B[0;32m    511\u001B[0m \u001B[38;5;250m\u001B[39m\u001B[38;5;124;03m\"\"\"\u001B[39;00m\n\u001B[0;32m    512\u001B[0m \u001B[38;5;124;03mQueries the database using a raw SQL string.\u001B[39;00m\n\u001B[0;32m    513\u001B[0m \n\u001B[1;32m   (...)\u001B[0m\n\u001B[0;32m    571\u001B[0m \u001B[38;5;124;03m    2003-09-10  09:35:20.709000  N       AA       None     None  108100.0  28.200          N      00  1.929947e+15         C  None\u001B[39;00m\n\u001B[0;32m    572\u001B[0m \u001B[38;5;124;03m\"\"\"\u001B[39;00m  \u001B[38;5;66;03m# noqa\u001B[39;00m\n\u001B[0;32m    574\u001B[0m \u001B[38;5;28;01mtry\u001B[39;00m:\n\u001B[1;32m--> 575\u001B[0m     df \u001B[38;5;241m=\u001B[39m pd\u001B[38;5;241m.\u001B[39mread_sql_query(\n\u001B[0;32m    576\u001B[0m         sql,\n\u001B[0;32m    577\u001B[0m         \u001B[38;5;28mself\u001B[39m\u001B[38;5;241m.\u001B[39mconnection,\n\u001B[0;32m    578\u001B[0m         coerce_float\u001B[38;5;241m=\u001B[39mcoerce_float,\n\u001B[0;32m    579\u001B[0m         parse_dates\u001B[38;5;241m=\u001B[39mdate_cols,\n\u001B[0;32m    580\u001B[0m         index_col\u001B[38;5;241m=\u001B[39mindex_col,\n\u001B[0;32m    581\u001B[0m         chunksize\u001B[38;5;241m=\u001B[39mchunksize,\n\u001B[0;32m    582\u001B[0m         params\u001B[38;5;241m=\u001B[39mparams,\n\u001B[0;32m    583\u001B[0m         dtype\u001B[38;5;241m=\u001B[39mdtype,\n\u001B[0;32m    584\u001B[0m         dtype_backend\u001B[38;5;241m=\u001B[39mdtype_backend,\n\u001B[0;32m    585\u001B[0m     )\n\u001B[0;32m    586\u001B[0m     \u001B[38;5;28;01mif\u001B[39;00m return_iter \u001B[38;5;129;01mor\u001B[39;00m chunksize \u001B[38;5;129;01mis\u001B[39;00m \u001B[38;5;28;01mNone\u001B[39;00m:\n\u001B[0;32m    587\u001B[0m         \u001B[38;5;28;01mreturn\u001B[39;00m df\n",
      "File \u001B[1;32mD:\\Users\\Dell\\anaconda3\\Lib\\site-packages\\pandas\\io\\sql.py:526\u001B[0m, in \u001B[0;36mread_sql_query\u001B[1;34m(sql, con, index_col, coerce_float, params, parse_dates, chunksize, dtype, dtype_backend)\u001B[0m\n\u001B[0;32m    523\u001B[0m \u001B[38;5;28;01massert\u001B[39;00m dtype_backend \u001B[38;5;129;01mis\u001B[39;00m \u001B[38;5;129;01mnot\u001B[39;00m lib\u001B[38;5;241m.\u001B[39mno_default\n\u001B[0;32m    525\u001B[0m \u001B[38;5;28;01mwith\u001B[39;00m pandasSQL_builder(con) \u001B[38;5;28;01mas\u001B[39;00m pandas_sql:\n\u001B[1;32m--> 526\u001B[0m     \u001B[38;5;28;01mreturn\u001B[39;00m pandas_sql\u001B[38;5;241m.\u001B[39mread_query(\n\u001B[0;32m    527\u001B[0m         sql,\n\u001B[0;32m    528\u001B[0m         index_col\u001B[38;5;241m=\u001B[39mindex_col,\n\u001B[0;32m    529\u001B[0m         params\u001B[38;5;241m=\u001B[39mparams,\n\u001B[0;32m    530\u001B[0m         coerce_float\u001B[38;5;241m=\u001B[39mcoerce_float,\n\u001B[0;32m    531\u001B[0m         parse_dates\u001B[38;5;241m=\u001B[39mparse_dates,\n\u001B[0;32m    532\u001B[0m         chunksize\u001B[38;5;241m=\u001B[39mchunksize,\n\u001B[0;32m    533\u001B[0m         dtype\u001B[38;5;241m=\u001B[39mdtype,\n\u001B[0;32m    534\u001B[0m         dtype_backend\u001B[38;5;241m=\u001B[39mdtype_backend,\n\u001B[0;32m    535\u001B[0m     )\n",
      "File \u001B[1;32mD:\\Users\\Dell\\anaconda3\\Lib\\site-packages\\pandas\\io\\sql.py:1836\u001B[0m, in \u001B[0;36mSQLDatabase.read_query\u001B[1;34m(self, sql, index_col, coerce_float, parse_dates, params, chunksize, dtype, dtype_backend)\u001B[0m\n\u001B[0;32m   1779\u001B[0m \u001B[38;5;28;01mdef\u001B[39;00m \u001B[38;5;21mread_query\u001B[39m(\n\u001B[0;32m   1780\u001B[0m     \u001B[38;5;28mself\u001B[39m,\n\u001B[0;32m   1781\u001B[0m     sql: \u001B[38;5;28mstr\u001B[39m,\n\u001B[1;32m   (...)\u001B[0m\n\u001B[0;32m   1788\u001B[0m     dtype_backend: DtypeBackend \u001B[38;5;241m|\u001B[39m Literal[\u001B[38;5;124m\"\u001B[39m\u001B[38;5;124mnumpy\u001B[39m\u001B[38;5;124m\"\u001B[39m] \u001B[38;5;241m=\u001B[39m \u001B[38;5;124m\"\u001B[39m\u001B[38;5;124mnumpy\u001B[39m\u001B[38;5;124m\"\u001B[39m,\n\u001B[0;32m   1789\u001B[0m ) \u001B[38;5;241m-\u001B[39m\u001B[38;5;241m>\u001B[39m DataFrame \u001B[38;5;241m|\u001B[39m Iterator[DataFrame]:\n\u001B[0;32m   1790\u001B[0m \u001B[38;5;250m    \u001B[39m\u001B[38;5;124;03m\"\"\"\u001B[39;00m\n\u001B[0;32m   1791\u001B[0m \u001B[38;5;124;03m    Read SQL query into a DataFrame.\u001B[39;00m\n\u001B[0;32m   1792\u001B[0m \n\u001B[1;32m   (...)\u001B[0m\n\u001B[0;32m   1834\u001B[0m \n\u001B[0;32m   1835\u001B[0m \u001B[38;5;124;03m    \"\"\"\u001B[39;00m\n\u001B[1;32m-> 1836\u001B[0m     result \u001B[38;5;241m=\u001B[39m \u001B[38;5;28mself\u001B[39m\u001B[38;5;241m.\u001B[39mexecute(sql, params)\n\u001B[0;32m   1837\u001B[0m     columns \u001B[38;5;241m=\u001B[39m result\u001B[38;5;241m.\u001B[39mkeys()\n\u001B[0;32m   1839\u001B[0m     \u001B[38;5;28;01mif\u001B[39;00m chunksize \u001B[38;5;129;01mis\u001B[39;00m \u001B[38;5;129;01mnot\u001B[39;00m \u001B[38;5;28;01mNone\u001B[39;00m:\n",
      "File \u001B[1;32mD:\\Users\\Dell\\anaconda3\\Lib\\site-packages\\pandas\\io\\sql.py:1659\u001B[0m, in \u001B[0;36mSQLDatabase.execute\u001B[1;34m(self, sql, params)\u001B[0m\n\u001B[0;32m   1657\u001B[0m args \u001B[38;5;241m=\u001B[39m [] \u001B[38;5;28;01mif\u001B[39;00m params \u001B[38;5;129;01mis\u001B[39;00m \u001B[38;5;28;01mNone\u001B[39;00m \u001B[38;5;28;01melse\u001B[39;00m [params]\n\u001B[0;32m   1658\u001B[0m \u001B[38;5;28;01mif\u001B[39;00m \u001B[38;5;28misinstance\u001B[39m(sql, \u001B[38;5;28mstr\u001B[39m):\n\u001B[1;32m-> 1659\u001B[0m     \u001B[38;5;28;01mreturn\u001B[39;00m \u001B[38;5;28mself\u001B[39m\u001B[38;5;241m.\u001B[39mcon\u001B[38;5;241m.\u001B[39mexec_driver_sql(sql, \u001B[38;5;241m*\u001B[39margs)\n\u001B[0;32m   1660\u001B[0m \u001B[38;5;28;01mreturn\u001B[39;00m \u001B[38;5;28mself\u001B[39m\u001B[38;5;241m.\u001B[39mcon\u001B[38;5;241m.\u001B[39mexecute(sql, \u001B[38;5;241m*\u001B[39margs)\n",
      "File \u001B[1;32mD:\\Users\\Dell\\anaconda3\\Lib\\site-packages\\sqlalchemy\\engine\\base.py:1779\u001B[0m, in \u001B[0;36mConnection.exec_driver_sql\u001B[1;34m(self, statement, parameters, execution_options)\u001B[0m\n\u001B[0;32m   1774\u001B[0m execution_options \u001B[38;5;241m=\u001B[39m \u001B[38;5;28mself\u001B[39m\u001B[38;5;241m.\u001B[39m_execution_options\u001B[38;5;241m.\u001B[39mmerge_with(\n\u001B[0;32m   1775\u001B[0m     execution_options\n\u001B[0;32m   1776\u001B[0m )\n\u001B[0;32m   1778\u001B[0m dialect \u001B[38;5;241m=\u001B[39m \u001B[38;5;28mself\u001B[39m\u001B[38;5;241m.\u001B[39mdialect\n\u001B[1;32m-> 1779\u001B[0m ret \u001B[38;5;241m=\u001B[39m \u001B[38;5;28mself\u001B[39m\u001B[38;5;241m.\u001B[39m_execute_context(\n\u001B[0;32m   1780\u001B[0m     dialect,\n\u001B[0;32m   1781\u001B[0m     dialect\u001B[38;5;241m.\u001B[39mexecution_ctx_cls\u001B[38;5;241m.\u001B[39m_init_statement,\n\u001B[0;32m   1782\u001B[0m     statement,\n\u001B[0;32m   1783\u001B[0m     \u001B[38;5;28;01mNone\u001B[39;00m,\n\u001B[0;32m   1784\u001B[0m     execution_options,\n\u001B[0;32m   1785\u001B[0m     statement,\n\u001B[0;32m   1786\u001B[0m     distilled_parameters,\n\u001B[0;32m   1787\u001B[0m )\n\u001B[0;32m   1789\u001B[0m \u001B[38;5;28;01mreturn\u001B[39;00m ret\n",
      "File \u001B[1;32mD:\\Users\\Dell\\anaconda3\\Lib\\site-packages\\sqlalchemy\\engine\\base.py:1846\u001B[0m, in \u001B[0;36mConnection._execute_context\u001B[1;34m(self, dialect, constructor, statement, parameters, execution_options, *args, **kw)\u001B[0m\n\u001B[0;32m   1844\u001B[0m     \u001B[38;5;28;01mreturn\u001B[39;00m \u001B[38;5;28mself\u001B[39m\u001B[38;5;241m.\u001B[39m_exec_insertmany_context(dialect, context)\n\u001B[0;32m   1845\u001B[0m \u001B[38;5;28;01melse\u001B[39;00m:\n\u001B[1;32m-> 1846\u001B[0m     \u001B[38;5;28;01mreturn\u001B[39;00m \u001B[38;5;28mself\u001B[39m\u001B[38;5;241m.\u001B[39m_exec_single_context(\n\u001B[0;32m   1847\u001B[0m         dialect, context, statement, parameters\n\u001B[0;32m   1848\u001B[0m     )\n",
      "File \u001B[1;32mD:\\Users\\Dell\\anaconda3\\Lib\\site-packages\\sqlalchemy\\engine\\base.py:1986\u001B[0m, in \u001B[0;36mConnection._exec_single_context\u001B[1;34m(self, dialect, context, statement, parameters)\u001B[0m\n\u001B[0;32m   1983\u001B[0m     result \u001B[38;5;241m=\u001B[39m context\u001B[38;5;241m.\u001B[39m_setup_result_proxy()\n\u001B[0;32m   1985\u001B[0m \u001B[38;5;28;01mexcept\u001B[39;00m \u001B[38;5;167;01mBaseException\u001B[39;00m \u001B[38;5;28;01mas\u001B[39;00m e:\n\u001B[1;32m-> 1986\u001B[0m     \u001B[38;5;28mself\u001B[39m\u001B[38;5;241m.\u001B[39m_handle_dbapi_exception(\n\u001B[0;32m   1987\u001B[0m         e, str_statement, effective_parameters, cursor, context\n\u001B[0;32m   1988\u001B[0m     )\n\u001B[0;32m   1990\u001B[0m \u001B[38;5;28;01mreturn\u001B[39;00m result\n",
      "File \u001B[1;32mD:\\Users\\Dell\\anaconda3\\Lib\\site-packages\\sqlalchemy\\engine\\base.py:2353\u001B[0m, in \u001B[0;36mConnection._handle_dbapi_exception\u001B[1;34m(self, e, statement, parameters, cursor, context, is_sub_exec)\u001B[0m\n\u001B[0;32m   2351\u001B[0m \u001B[38;5;28;01melif\u001B[39;00m should_wrap:\n\u001B[0;32m   2352\u001B[0m     \u001B[38;5;28;01massert\u001B[39;00m sqlalchemy_exception \u001B[38;5;129;01mis\u001B[39;00m \u001B[38;5;129;01mnot\u001B[39;00m \u001B[38;5;28;01mNone\u001B[39;00m\n\u001B[1;32m-> 2353\u001B[0m     \u001B[38;5;28;01mraise\u001B[39;00m sqlalchemy_exception\u001B[38;5;241m.\u001B[39mwith_traceback(exc_info[\u001B[38;5;241m2\u001B[39m]) \u001B[38;5;28;01mfrom\u001B[39;00m \u001B[38;5;21;01me\u001B[39;00m\n\u001B[0;32m   2354\u001B[0m \u001B[38;5;28;01melse\u001B[39;00m:\n\u001B[0;32m   2355\u001B[0m     \u001B[38;5;28;01massert\u001B[39;00m exc_info[\u001B[38;5;241m1\u001B[39m] \u001B[38;5;129;01mis\u001B[39;00m \u001B[38;5;129;01mnot\u001B[39;00m \u001B[38;5;28;01mNone\u001B[39;00m\n",
      "File \u001B[1;32mD:\\Users\\Dell\\anaconda3\\Lib\\site-packages\\sqlalchemy\\engine\\base.py:1967\u001B[0m, in \u001B[0;36mConnection._exec_single_context\u001B[1;34m(self, dialect, context, statement, parameters)\u001B[0m\n\u001B[0;32m   1965\u001B[0m                 \u001B[38;5;28;01mbreak\u001B[39;00m\n\u001B[0;32m   1966\u001B[0m     \u001B[38;5;28;01mif\u001B[39;00m \u001B[38;5;129;01mnot\u001B[39;00m evt_handled:\n\u001B[1;32m-> 1967\u001B[0m         \u001B[38;5;28mself\u001B[39m\u001B[38;5;241m.\u001B[39mdialect\u001B[38;5;241m.\u001B[39mdo_execute(\n\u001B[0;32m   1968\u001B[0m             cursor, str_statement, effective_parameters, context\n\u001B[0;32m   1969\u001B[0m         )\n\u001B[0;32m   1971\u001B[0m \u001B[38;5;28;01mif\u001B[39;00m \u001B[38;5;28mself\u001B[39m\u001B[38;5;241m.\u001B[39m_has_events \u001B[38;5;129;01mor\u001B[39;00m \u001B[38;5;28mself\u001B[39m\u001B[38;5;241m.\u001B[39mengine\u001B[38;5;241m.\u001B[39m_has_events:\n\u001B[0;32m   1972\u001B[0m     \u001B[38;5;28mself\u001B[39m\u001B[38;5;241m.\u001B[39mdispatch\u001B[38;5;241m.\u001B[39mafter_cursor_execute(\n\u001B[0;32m   1973\u001B[0m         \u001B[38;5;28mself\u001B[39m,\n\u001B[0;32m   1974\u001B[0m         cursor,\n\u001B[1;32m   (...)\u001B[0m\n\u001B[0;32m   1978\u001B[0m         context\u001B[38;5;241m.\u001B[39mexecutemany,\n\u001B[0;32m   1979\u001B[0m     )\n",
      "File \u001B[1;32mD:\\Users\\Dell\\anaconda3\\Lib\\site-packages\\sqlalchemy\\engine\\default.py:924\u001B[0m, in \u001B[0;36mDefaultDialect.do_execute\u001B[1;34m(self, cursor, statement, parameters, context)\u001B[0m\n\u001B[0;32m    923\u001B[0m \u001B[38;5;28;01mdef\u001B[39;00m \u001B[38;5;21mdo_execute\u001B[39m(\u001B[38;5;28mself\u001B[39m, cursor, statement, parameters, context\u001B[38;5;241m=\u001B[39m\u001B[38;5;28;01mNone\u001B[39;00m):\n\u001B[1;32m--> 924\u001B[0m     cursor\u001B[38;5;241m.\u001B[39mexecute(statement, parameters)\n",
      "\u001B[1;31mProgrammingError\u001B[0m: (psycopg2.errors.InsufficientPrivilege) permission denied for schema taqm_2010\n\n[SQL: \n    SELECT date, sym_root, sym_suffix, buynumtrades_lr, sellnumtrades_lr, oprc, cprc, ret_mkt_m,\n           vw_price_m, mid_after_open, total_vol_m, total_vol_b, total_vol_a\n    FROM taqmsec.wrds_iid_2010\n    WHERE sym_root IS NOT NULL\n    ]\n(Background on this error at: https://sqlalche.me/e/20/f405)"
     ]
    }
   ],
   "execution_count": 31
  },
  {
   "metadata": {
    "ExecuteTime": {
     "end_time": "2024-10-13T02:12:36.592402Z",
     "start_time": "2024-10-13T02:12:26.119939Z"
    }
   },
   "cell_type": "code",
   "source": [
    "wrds_iid_df = pd.concat(data_list, ignore_index=True)\n",
    "wrds_iid_df.to_pickle(os.path.join(const.TEMP_PATH, 'wrds_iid_2014_2016.pkl'))"
   ],
   "id": "e9e4368b0ce72cdb",
   "outputs": [],
   "execution_count": 63
  },
  {
   "metadata": {
    "ExecuteTime": {
     "end_time": "2025-03-26T05:54:15.788798Z",
     "start_time": "2025-03-26T05:54:12.359267Z"
    }
   },
   "cell_type": "code",
   "source": [
    "wrds_iid_2013 = pd.read_pickle(os.path.join(const.TEMP_PATH, 'wrds_iid_2013.pkl'))\n",
    "taq_data = pd.concat([wrds_iid_2013, taq_df_14_19], ignore_index=True)\n",
    "\n",
    "# Calculating y_e, r_d, and r_o\n",
    "taq_data['y_e'] = (taq_data['buynumtrades_lr'] - taq_data['sellnumtrades_lr']) / (taq_data['buynumtrades_lr'] + taq_data['sellnumtrades_lr'])\n",
    "taq_data['r_d'] = (taq_data['vw_price_m'] - taq_data['mid_after_open'] + taq_data.get('divamt', 0)) / taq_data['mid_after_open']\n",
    "taq_data['r_o'] = (taq_data['mid_after_open'] - taq_data['vw_price_m']) / taq_data['mid_after_open']\n",
    "\n",
    "print(taq_data.head())"
   ],
   "id": "8af0604c04b363ab",
   "outputs": [
    {
     "name": "stdout",
     "output_type": "stream",
     "text": [
      "         date sym_root sym_suffix  buynumtrades_lr  sellnumtrades_lr   oprc  \\\n",
      "0  2013-01-02        A       None          13885.0           15996.0  41.88   \n",
      "1  2013-01-02       AA       None          25249.0           24626.0   8.88   \n",
      "2  2013-01-02       AA         PR              1.0               1.0  84.79   \n",
      "3  2013-01-02     AACC       None            327.0             367.0   4.69   \n",
      "4  2013-01-02     AADR       None              3.0               2.0  31.65   \n",
      "\n",
      "    cprc  ret_mkt_m  vw_price_m  mid_after_open  total_vol_m  total_vol_b  \\\n",
      "0  41.88        0.0   41.575585           41.88    6264024.0      14270.0   \n",
      "1   8.99   0.012311    8.915031           8.875   20558520.0     357248.0   \n",
      "2   84.0  -0.009361   84.263333           84.42        300.0         <NA>   \n",
      "3   4.84   0.031482    4.845709           4.915     113543.0         <NA>   \n",
      "4   31.5  -0.004751   31.527453          31.485       2159.0         <NA>   \n",
      "\n",
      "   total_vol_a       y_e       r_d       r_o  \n",
      "0      12480.0 -0.070647 -0.007269  0.007269  \n",
      "1     134827.0  0.012491   0.00451  -0.00451  \n",
      "2         <NA>       0.0 -0.001856  0.001856  \n",
      "3       4185.0 -0.057637 -0.014098  0.014098  \n",
      "4         <NA>       0.2  0.001348 -0.001348  \n"
     ]
    }
   ],
   "execution_count": 32
  },
  {
   "metadata": {
    "ExecuteTime": {
     "end_time": "2025-03-26T05:54:59.429363Z",
     "start_time": "2025-03-26T05:54:59.354414Z"
    }
   },
   "cell_type": "code",
   "source": [
    "gpin_parameter_df: DataFrame = pd.read_csv(os.path.join(const.DATA_PATH, 'gpin-1319.csv')).drop(['f', 'rc'], axis=1).rename(\n",
    "    columns={'yyyy': 'year'})\n",
    "gpin_parameter_df2: DataFrame = pd.read_csv(os.path.join(const.DATA_PATH, 'gpin_yearly.csv')).rename(\n",
    "    columns={'yyyy': 'year'})\n",
    "gpin_parameter_df: DataFrame = pd.concat([gpin_parameter_df, gpin_parameter_df2], ignore_index=True)\n",
    "owr_parameter_df: DataFrame = pd.read_csv(os.path.join(const.DATA_PATH, 'owr-1319.csv')).drop(['f', 'rc'], axis=1).rename(\n",
    "    columns={'yyyy': 'year'})"
   ],
   "id": "f1e51ebaa2d58121",
   "outputs": [],
   "execution_count": 33
  },
  {
   "metadata": {
    "ExecuteTime": {
     "end_time": "2025-03-26T05:55:07.832305Z",
     "start_time": "2025-03-26T05:55:07.823528Z"
    }
   },
   "cell_type": "code",
   "source": "gpin_parameter_df.head()",
   "id": "644e821609cb2879",
   "outputs": [
    {
     "data": {
      "text/plain": [
       "   permno  year         a         d       eta         p         r        th\n",
       "0   10001  2014  0.220027  0.265507  0.656442  0.991624  2.476459  0.524532\n",
       "1   10001  2015  0.219685  0.432980  0.737374  0.967467  3.892695  0.484113\n",
       "2   10001  2016  0.109689  0.572849  0.866667  0.989822  1.590691  0.473054\n",
       "3   10028  2013  0.527100  0.456038  1.000000  0.970895  1.299785  0.557524\n",
       "4   10028  2015  0.500349  0.449523  1.000000  0.989289  0.714275  0.532772"
      ],
      "text/html": [
       "<div>\n",
       "<style scoped>\n",
       "    .dataframe tbody tr th:only-of-type {\n",
       "        vertical-align: middle;\n",
       "    }\n",
       "\n",
       "    .dataframe tbody tr th {\n",
       "        vertical-align: top;\n",
       "    }\n",
       "\n",
       "    .dataframe thead th {\n",
       "        text-align: right;\n",
       "    }\n",
       "</style>\n",
       "<table border=\"1\" class=\"dataframe\">\n",
       "  <thead>\n",
       "    <tr style=\"text-align: right;\">\n",
       "      <th></th>\n",
       "      <th>permno</th>\n",
       "      <th>year</th>\n",
       "      <th>a</th>\n",
       "      <th>d</th>\n",
       "      <th>eta</th>\n",
       "      <th>p</th>\n",
       "      <th>r</th>\n",
       "      <th>th</th>\n",
       "    </tr>\n",
       "  </thead>\n",
       "  <tbody>\n",
       "    <tr>\n",
       "      <th>0</th>\n",
       "      <td>10001</td>\n",
       "      <td>2014</td>\n",
       "      <td>0.220027</td>\n",
       "      <td>0.265507</td>\n",
       "      <td>0.656442</td>\n",
       "      <td>0.991624</td>\n",
       "      <td>2.476459</td>\n",
       "      <td>0.524532</td>\n",
       "    </tr>\n",
       "    <tr>\n",
       "      <th>1</th>\n",
       "      <td>10001</td>\n",
       "      <td>2015</td>\n",
       "      <td>0.219685</td>\n",
       "      <td>0.432980</td>\n",
       "      <td>0.737374</td>\n",
       "      <td>0.967467</td>\n",
       "      <td>3.892695</td>\n",
       "      <td>0.484113</td>\n",
       "    </tr>\n",
       "    <tr>\n",
       "      <th>2</th>\n",
       "      <td>10001</td>\n",
       "      <td>2016</td>\n",
       "      <td>0.109689</td>\n",
       "      <td>0.572849</td>\n",
       "      <td>0.866667</td>\n",
       "      <td>0.989822</td>\n",
       "      <td>1.590691</td>\n",
       "      <td>0.473054</td>\n",
       "    </tr>\n",
       "    <tr>\n",
       "      <th>3</th>\n",
       "      <td>10028</td>\n",
       "      <td>2013</td>\n",
       "      <td>0.527100</td>\n",
       "      <td>0.456038</td>\n",
       "      <td>1.000000</td>\n",
       "      <td>0.970895</td>\n",
       "      <td>1.299785</td>\n",
       "      <td>0.557524</td>\n",
       "    </tr>\n",
       "    <tr>\n",
       "      <th>4</th>\n",
       "      <td>10028</td>\n",
       "      <td>2015</td>\n",
       "      <td>0.500349</td>\n",
       "      <td>0.449523</td>\n",
       "      <td>1.000000</td>\n",
       "      <td>0.989289</td>\n",
       "      <td>0.714275</td>\n",
       "      <td>0.532772</td>\n",
       "    </tr>\n",
       "  </tbody>\n",
       "</table>\n",
       "</div>"
      ]
     },
     "execution_count": 35,
     "metadata": {},
     "output_type": "execute_result"
    }
   ],
   "execution_count": 35
  },
  {
   "metadata": {
    "ExecuteTime": {
     "end_time": "2025-03-26T05:56:19.537443Z",
     "start_time": "2025-03-26T05:55:18.677563Z"
    }
   },
   "cell_type": "code",
   "source": [
    "query = f\"\"\"\n",
    "SELECT date, permno, sym_suffix, sym_root\n",
    "FROM wrdsapps_link_crsp_taqm.taqmclink\n",
    "WHERE sym_root IS NOT NULL AND date between '2013-01-01' and '2019-12-31'\n",
    "\"\"\"\n",
    "taq_crsp_link = db.raw_sql(query)"
   ],
   "id": "c618fce2a3710807",
   "outputs": [],
   "execution_count": 36
  },
  {
   "metadata": {
    "ExecuteTime": {
     "end_time": "2025-03-26T05:56:38.881817Z",
     "start_time": "2025-03-26T05:56:38.875183Z"
    }
   },
   "cell_type": "code",
   "source": "db.close()",
   "id": "d296db24f3701ac6",
   "outputs": [],
   "execution_count": 37
  },
  {
   "metadata": {
    "ExecuteTime": {
     "end_time": "2025-03-26T05:56:45.359328Z",
     "start_time": "2025-03-26T05:56:39.872129Z"
    }
   },
   "cell_type": "code",
   "source": "taq_crsp_link.to_pickle(os.path.join(const.TEMP_PATH, 'taq_crsp_linkage.pkl'))",
   "id": "b93ac1a0c62f59e",
   "outputs": [],
   "execution_count": 38
  },
  {
   "metadata": {
    "ExecuteTime": {
     "end_time": "2025-03-26T05:56:46.388194Z",
     "start_time": "2025-03-26T05:56:46.367218Z"
    }
   },
   "cell_type": "code",
   "source": "taq_crsp_link.memory_usage(True).sum() /(1024 * 1024)",
   "id": "8a1989a44d23df2b",
   "outputs": [
    {
     "data": {
      "text/plain": [
       "344.9998664855957"
      ]
     },
     "execution_count": 39,
     "metadata": {},
     "output_type": "execute_result"
    }
   ],
   "execution_count": 39
  },
  {
   "metadata": {
    "ExecuteTime": {
     "end_time": "2025-03-26T06:28:28.348342Z",
     "start_time": "2025-03-26T06:28:28.335728Z"
    }
   },
   "cell_type": "code",
   "source": "taq_crsp_link.head()",
   "id": "7c1f230faa6d297a",
   "outputs": [
    {
     "data": {
      "text/plain": [
       "         date  permno sym_suffix sym_root\n",
       "0  2013-01-02   87432       <NA>        A\n",
       "1  2013-01-03   87432       <NA>        A\n",
       "2  2013-01-04   87432       <NA>        A\n",
       "3  2013-01-07   87432       <NA>        A\n",
       "4  2013-01-08   87432       <NA>        A"
      ],
      "text/html": [
       "<div>\n",
       "<style scoped>\n",
       "    .dataframe tbody tr th:only-of-type {\n",
       "        vertical-align: middle;\n",
       "    }\n",
       "\n",
       "    .dataframe tbody tr th {\n",
       "        vertical-align: top;\n",
       "    }\n",
       "\n",
       "    .dataframe thead th {\n",
       "        text-align: right;\n",
       "    }\n",
       "</style>\n",
       "<table border=\"1\" class=\"dataframe\">\n",
       "  <thead>\n",
       "    <tr style=\"text-align: right;\">\n",
       "      <th></th>\n",
       "      <th>date</th>\n",
       "      <th>permno</th>\n",
       "      <th>sym_suffix</th>\n",
       "      <th>sym_root</th>\n",
       "    </tr>\n",
       "  </thead>\n",
       "  <tbody>\n",
       "    <tr>\n",
       "      <th>0</th>\n",
       "      <td>2013-01-02</td>\n",
       "      <td>87432</td>\n",
       "      <td>&lt;NA&gt;</td>\n",
       "      <td>A</td>\n",
       "    </tr>\n",
       "    <tr>\n",
       "      <th>1</th>\n",
       "      <td>2013-01-03</td>\n",
       "      <td>87432</td>\n",
       "      <td>&lt;NA&gt;</td>\n",
       "      <td>A</td>\n",
       "    </tr>\n",
       "    <tr>\n",
       "      <th>2</th>\n",
       "      <td>2013-01-04</td>\n",
       "      <td>87432</td>\n",
       "      <td>&lt;NA&gt;</td>\n",
       "      <td>A</td>\n",
       "    </tr>\n",
       "    <tr>\n",
       "      <th>3</th>\n",
       "      <td>2013-01-07</td>\n",
       "      <td>87432</td>\n",
       "      <td>&lt;NA&gt;</td>\n",
       "      <td>A</td>\n",
       "    </tr>\n",
       "    <tr>\n",
       "      <th>4</th>\n",
       "      <td>2013-01-08</td>\n",
       "      <td>87432</td>\n",
       "      <td>&lt;NA&gt;</td>\n",
       "      <td>A</td>\n",
       "    </tr>\n",
       "  </tbody>\n",
       "</table>\n",
       "</div>"
      ]
     },
     "execution_count": 63,
     "metadata": {},
     "output_type": "execute_result"
    }
   ],
   "execution_count": 63
  },
  {
   "metadata": {
    "ExecuteTime": {
     "end_time": "2025-03-26T06:29:36.841369Z",
     "start_time": "2025-03-26T06:29:36.836452Z"
    }
   },
   "cell_type": "code",
   "source": "taq_data.shape",
   "id": "7e00e6a12a4526c1",
   "outputs": [
    {
     "data": {
      "text/plain": [
       "(14217482, 16)"
      ]
     },
     "execution_count": 64,
     "metadata": {},
     "output_type": "execute_result"
    }
   ],
   "execution_count": 64
  },
  {
   "metadata": {
    "ExecuteTime": {
     "end_time": "2025-03-26T06:30:47.543214Z",
     "start_time": "2025-03-26T06:30:26.172584Z"
    }
   },
   "cell_type": "code",
   "source": [
    "taq_data_crsp = taq_data.drop(['sym_suffix'], axis=1).drop_duplicates(\n",
    "    subset=['date', 'sym_root'], keep='first').merge(\n",
    "    taq_crsp_link.dropna(subset=['permno']).drop(['sym_suffix'], axis=1).drop_duplicates(\n",
    "    subset=['date', 'sym_root'], keep='first'), on=['date', 'sym_root'], how='left')\n",
    "taq_data_crsp.shape"
   ],
   "id": "a84490268f34f766",
   "outputs": [
    {
     "data": {
      "text/plain": [
       "(13080717, 16)"
      ]
     },
     "execution_count": 66,
     "metadata": {},
     "output_type": "execute_result"
    }
   ],
   "execution_count": 66
  },
  {
   "metadata": {
    "ExecuteTime": {
     "end_time": "2025-03-26T06:31:36.336762Z",
     "start_time": "2025-03-26T06:31:30.652889Z"
    }
   },
   "cell_type": "code",
   "source": [
    "taq_data_crsp['permno'] = taq_data_crsp.groupby(['sym_root'])['permno'].bfill()\n",
    "taq_data_crsp['permno'] = taq_data_crsp.groupby(['sym_root'])['permno'].ffill()\n",
    "taq_data_crsp.dropna(subset=['permno'], inplace=True)\n",
    "taq_data_crsp.shape"
   ],
   "id": "23a87baba03829e8",
   "outputs": [
    {
     "data": {
      "text/plain": [
       "(8907055, 16)"
      ]
     },
     "execution_count": 67,
     "metadata": {},
     "output_type": "execute_result"
    }
   ],
   "execution_count": 67
  },
  {
   "metadata": {
    "ExecuteTime": {
     "end_time": "2025-03-26T06:31:55.125951Z",
     "start_time": "2025-03-26T06:31:50.442037Z"
    }
   },
   "cell_type": "code",
   "source": [
    "taq_data_crsp['date'] = pd.to_datetime(taq_data['date'])\n",
    "taq_data_crsp['year'] = taq_data_crsp['date'].dt.year\n",
    "taq_data_crsp['permno'] = pd.to_numeric(taq_data_crsp['permno'], errors='coerce')\n",
    "taq_data_crsp_model = taq_data_crsp.merge(gpin_parameter_df, on=['permno', 'year'], how='left').replace({'NA': np.nan})"
   ],
   "id": "d63ef7d5284376af",
   "outputs": [],
   "execution_count": 68
  },
  {
   "metadata": {
    "ExecuteTime": {
     "end_time": "2025-03-26T05:57:40.953246Z",
     "start_time": "2025-03-26T05:57:40.946346Z"
    }
   },
   "cell_type": "code",
   "source": "taq_data_crsp_model.keys()",
   "id": "f847e72c7d61f97c",
   "outputs": [
    {
     "data": {
      "text/plain": [
       "Index(['date', 'sym_root', 'buynumtrades_lr', 'sellnumtrades_lr', 'oprc',\n",
       "       'cprc', 'ret_mkt_m', 'vw_price_m', 'mid_after_open', 'total_vol_m',\n",
       "       'total_vol_b', 'total_vol_a', 'y_e', 'r_d', 'r_o', 'permno', 'year',\n",
       "       'a', 'd', 'eta', 'p', 'r', 'th', 'a_owr', 'si', 'spd', 'spo', 'su',\n",
       "       'sz'],\n",
       "      dtype='object')"
      ]
     },
     "execution_count": 42,
     "metadata": {},
     "output_type": "execute_result"
    }
   ],
   "execution_count": 42
  },
  {
   "metadata": {
    "ExecuteTime": {
     "end_time": "2025-03-26T06:31:57.766225Z",
     "start_time": "2025-03-26T06:31:56.955630Z"
    }
   },
   "cell_type": "code",
   "source": "taq_data_crsp_model.dropna(subset=['a', 'd', 'eta', 'p', 'r', 'th', 'buynumtrades_lr'], how='any', inplace=True)",
   "id": "7c65fa2d215b3a9",
   "outputs": [],
   "execution_count": 69
  },
  {
   "metadata": {
    "ExecuteTime": {
     "end_time": "2025-03-26T06:00:36.247884Z",
     "start_time": "2025-03-26T06:00:36.242431Z"
    }
   },
   "cell_type": "code",
   "source": [
    "from tqdm.notebook import tqdm\n",
    "\n",
    "tqdm.pandas()"
   ],
   "id": "5bf8535fcfecf47a",
   "outputs": [],
   "execution_count": 52
  },
  {
   "metadata": {
    "ExecuteTime": {
     "end_time": "2025-03-26T06:36:14.335618Z",
     "start_time": "2025-03-26T06:32:07.369254Z"
    }
   },
   "cell_type": "code",
   "source": [
    "taq_data_crsp_model.loc[:, 'gpin'] = taq_data_crsp_model.progress_apply(\n",
    "    lambda x: compute_alpha_gpin(x['a'], x['r'], x['p'], x['eta'], x['d'], x['th'], x['buynumtrades_lr'], x['sellnumtrades_lr']), axis=1)"
   ],
   "id": "cc32cd6c172e8e2",
   "outputs": [
    {
     "data": {
      "text/plain": [
       "  0%|          | 0/3840389 [00:00<?, ?it/s]"
      ],
      "application/vnd.jupyter.widget-view+json": {
       "version_major": 2,
       "version_minor": 0,
       "model_id": "34adcff1d3724b02916d6c99ee9def06"
      }
     },
     "metadata": {},
     "output_type": "display_data"
    }
   ],
   "execution_count": 70
  },
  {
   "metadata": {
    "ExecuteTime": {
     "end_time": "2025-03-26T06:36:18.307487Z",
     "start_time": "2025-03-26T06:36:18.300600Z"
    }
   },
   "cell_type": "code",
   "source": "taq_data_crsp_model.iloc[1950]",
   "id": "2f24d7609fa58ef1",
   "outputs": [
    {
     "data": {
      "text/plain": [
       "date                2013-01-02 00:00:00\n",
       "sym_root                           SONS\n",
       "buynumtrades_lr                  8244.0\n",
       "sellnumtrades_lr                 4491.0\n",
       "oprc                               1.78\n",
       "cprc                               1.95\n",
       "ret_mkt_m                      0.091216\n",
       "vw_price_m                     1.853086\n",
       "mid_after_open                     1.74\n",
       "total_vol_m                   5561178.0\n",
       "total_vol_b                     20500.0\n",
       "total_vol_a                     54820.0\n",
       "y_e                              0.2947\n",
       "r_d                            0.064992\n",
       "r_o                           -0.064992\n",
       "permno                            88264\n",
       "year                               2013\n",
       "a                              0.546487\n",
       "d                              0.419592\n",
       "eta                            0.195658\n",
       "p                              0.999065\n",
       "r                              4.881155\n",
       "th                             0.503015\n",
       "gpin                                1.0\n",
       "Name: 3639, dtype: object"
      ]
     },
     "execution_count": 71,
     "metadata": {},
     "output_type": "execute_result"
    }
   ],
   "execution_count": 71
  },
  {
   "metadata": {
    "ExecuteTime": {
     "end_time": "2025-03-26T06:03:27.032875Z",
     "start_time": "2025-03-26T06:03:26.999037Z"
    }
   },
   "cell_type": "code",
   "source": [
    "row = taq_data_crsp_model.iloc[1950]\n",
    "compute_alpha_gpin(row['a'], row['r'], row['p'], row['eta'], row['d'], row['th'], row['buynumtrades_lr'], row['sellnumtrades_lr'])"
   ],
   "id": "1808fbdd49fa392d",
   "outputs": [
    {
     "ename": "TypeError",
     "evalue": "boolean value of NA is ambiguous",
     "output_type": "error",
     "traceback": [
      "\u001B[1;31m---------------------------------------------------------------------------\u001B[0m",
      "\u001B[1;31mTypeError\u001B[0m                                 Traceback (most recent call last)",
      "Cell \u001B[1;32mIn[57], line 2\u001B[0m\n\u001B[0;32m      1\u001B[0m row \u001B[38;5;241m=\u001B[39m taq_data_crsp_model\u001B[38;5;241m.\u001B[39miloc[\u001B[38;5;241m1950\u001B[39m]\n\u001B[1;32m----> 2\u001B[0m compute_alpha_gpin(row[\u001B[38;5;124m'\u001B[39m\u001B[38;5;124ma\u001B[39m\u001B[38;5;124m'\u001B[39m], row[\u001B[38;5;124m'\u001B[39m\u001B[38;5;124mr\u001B[39m\u001B[38;5;124m'\u001B[39m], row[\u001B[38;5;124m'\u001B[39m\u001B[38;5;124mp\u001B[39m\u001B[38;5;124m'\u001B[39m], row[\u001B[38;5;124m'\u001B[39m\u001B[38;5;124meta\u001B[39m\u001B[38;5;124m'\u001B[39m], row[\u001B[38;5;124m'\u001B[39m\u001B[38;5;124md\u001B[39m\u001B[38;5;124m'\u001B[39m], row[\u001B[38;5;124m'\u001B[39m\u001B[38;5;124mth\u001B[39m\u001B[38;5;124m'\u001B[39m], row[\u001B[38;5;124m'\u001B[39m\u001B[38;5;124mbuynumtrades_lr\u001B[39m\u001B[38;5;124m'\u001B[39m], row[\u001B[38;5;124m'\u001B[39m\u001B[38;5;124msellnumtrades_lr\u001B[39m\u001B[38;5;124m'\u001B[39m])\n",
      "Cell \u001B[1;32mIn[24], line 21\u001B[0m, in \u001B[0;36mcompute_alpha_gpin\u001B[1;34m(a, r, p, eta, d, th, n_buys, n_sells)\u001B[0m\n\u001B[0;32m     16\u001B[0m \u001B[38;5;250m\u001B[39m\u001B[38;5;124;03m\"\"\"Compute the conditional alpha given parameters, buys, and sells.\u001B[39;00m\n\u001B[0;32m     17\u001B[0m \n\u001B[0;32m     18\u001B[0m \u001B[38;5;124;03m\"\"\"\u001B[39;00m\n\u001B[0;32m     19\u001B[0m ys \u001B[38;5;241m=\u001B[39m _ll_gpin(a, r, p, eta, d, th, n_buys, n_sells)\n\u001B[1;32m---> 21\u001B[0m ymax \u001B[38;5;241m=\u001B[39m ys\u001B[38;5;241m.\u001B[39mmax(axis\u001B[38;5;241m=\u001B[39m\u001B[38;5;241m0\u001B[39m)\n\u001B[0;32m     22\u001B[0m lik \u001B[38;5;241m=\u001B[39m exp(ys \u001B[38;5;241m-\u001B[39m ymax)\n\u001B[0;32m     23\u001B[0m alpha \u001B[38;5;241m=\u001B[39m lik[\u001B[38;5;241m1\u001B[39m:]\u001B[38;5;241m.\u001B[39msum(axis\u001B[38;5;241m=\u001B[39m\u001B[38;5;241m0\u001B[39m) \u001B[38;5;241m/\u001B[39m lik\u001B[38;5;241m.\u001B[39msum(axis\u001B[38;5;241m=\u001B[39m\u001B[38;5;241m0\u001B[39m)\n",
      "File \u001B[1;32mD:\\Users\\Dell\\anaconda3\\Lib\\site-packages\\numpy\\core\\_methods.py:41\u001B[0m, in \u001B[0;36m_amax\u001B[1;34m(a, axis, out, keepdims, initial, where)\u001B[0m\n\u001B[0;32m     39\u001B[0m \u001B[38;5;28;01mdef\u001B[39;00m \u001B[38;5;21m_amax\u001B[39m(a, axis\u001B[38;5;241m=\u001B[39m\u001B[38;5;28;01mNone\u001B[39;00m, out\u001B[38;5;241m=\u001B[39m\u001B[38;5;28;01mNone\u001B[39;00m, keepdims\u001B[38;5;241m=\u001B[39m\u001B[38;5;28;01mFalse\u001B[39;00m,\n\u001B[0;32m     40\u001B[0m           initial\u001B[38;5;241m=\u001B[39m_NoValue, where\u001B[38;5;241m=\u001B[39m\u001B[38;5;28;01mTrue\u001B[39;00m):\n\u001B[1;32m---> 41\u001B[0m     \u001B[38;5;28;01mreturn\u001B[39;00m umr_maximum(a, axis, \u001B[38;5;28;01mNone\u001B[39;00m, out, keepdims, initial, where)\n",
      "File \u001B[1;32mmissing.pyx:392\u001B[0m, in \u001B[0;36mpandas._libs.missing.NAType.__bool__\u001B[1;34m()\u001B[0m\n",
      "\u001B[1;31mTypeError\u001B[0m: boolean value of NA is ambiguous"
     ]
    }
   ],
   "execution_count": 57
  },
  {
   "metadata": {
    "ExecuteTime": {
     "end_time": "2024-10-13T13:43:52.710397Z",
     "start_time": "2024-10-13T13:35:48.793355Z"
    }
   },
   "cell_type": "code",
   "source": [
    "taq_data_crsp_model.loc[:, 'owr'] = taq_data_crsp_model.apply(\n",
    "    lambda x: compute_alpha_owr(pd.Series([x['y_e']]), pd.Series([x['r_d']]), pd.Series([x['r_o']]), x['a_owr'], x['su'], x['sz'], x['si'], x['spd'], x['spo']), axis=1)"
   ],
   "id": "42da4fd327e4e7c7",
   "outputs": [
    {
     "name": "stderr",
     "output_type": "stream",
     "text": [
      "C:\\Users\\wangy\\AppData\\Local\\Temp\\ipykernel_23904\\3575950180.py:42: RuntimeWarning: overflow encountered in exp\n",
      "  alphas[i] = 1 / (1 + (1 - a) / a * exp(_lf_owr(x[:, i], dsd, isd)))\n",
      "C:\\Users\\wangy\\AppData\\Local\\Temp\\ipykernel_23904\\3575950180.py:42: RuntimeWarning: overflow encountered in scalar multiply\n",
      "  alphas[i] = 1 / (1 + (1 - a) / a * exp(_lf_owr(x[:, i], dsd, isd)))\n"
     ]
    }
   ],
   "execution_count": 130
  },
  {
   "metadata": {
    "ExecuteTime": {
     "end_time": "2025-03-26T06:36:29.923406Z",
     "start_time": "2025-03-26T06:36:26.245983Z"
    }
   },
   "cell_type": "code",
   "source": "taq_data_crsp_model.to_pickle(os.path.join(const.TEMP_PATH, '2013_2019_gpin.pkl'))",
   "id": "9919522583107382",
   "outputs": [],
   "execution_count": 72
  },
  {
   "metadata": {
    "ExecuteTime": {
     "end_time": "2025-03-26T03:58:51.450190Z",
     "start_time": "2025-03-26T03:58:47.684611Z"
    }
   },
   "cell_type": "code",
   "source": "taq_data_crsp_model = pd.read_pickle(os.path.join(const.TEMP_PATH, '2013_2016_gpin_owr.pkl'))",
   "id": "106e6bdfd6edf3c9",
   "outputs": [],
   "execution_count": 5
  },
  {
   "metadata": {
    "ExecuteTime": {
     "end_time": "2025-03-26T04:00:32.494916Z",
     "start_time": "2025-03-26T04:00:32.473229Z"
    }
   },
   "cell_type": "code",
   "source": "taq_data_crsp_model.head()",
   "id": "9bd6be47ab9ff117",
   "outputs": [
    {
     "data": {
      "text/plain": [
       "        date sym_root  buynumtrades_lr  sellnumtrades_lr   oprc     cprc  \\\n",
       "0 2013-01-02        A          13885.0           15996.0  41.88  41.8800   \n",
       "1 2013-01-02       AA          25249.0           24626.0   8.88   8.9900   \n",
       "5 2013-01-02     AAME              9.0              14.0   3.09   3.1999   \n",
       "6 2013-01-02      AAN           1901.0            1607.0  28.72  28.7000   \n",
       "8 2013-01-02      AAP           2591.0            2443.0  73.58  72.4900   \n",
       "\n",
       "   ret_mkt_m  vw_price_m  mid_after_open  total_vol_m  ...         r  \\\n",
       "0   0.000000   41.575585          41.880    6264024.0  ...  5.586394   \n",
       "1   0.012311    8.915031           8.875   20558520.0  ...  6.382776   \n",
       "5   0.034948    3.168289           3.190       3700.0  ...  2.034722   \n",
       "6  -0.000697   28.527780          28.730     454686.0  ...  6.100579   \n",
       "8  -0.014925   72.460757          73.495     754331.0  ...  4.295786   \n",
       "\n",
       "         th     a_owr        si       spd       spo        su        sz  \\\n",
       "0  0.505736  0.999990  0.003834  0.006773  0.006000  0.028366  0.044506   \n",
       "1  0.497251  0.701706  0.011844  0.004628  0.000010  0.025246  0.091121   \n",
       "5  0.461257  0.694292  0.030881  0.007788  0.000010  0.085575  0.404290   \n",
       "6  0.497322  0.880591  0.005125  0.007729  0.005901  0.068434  0.010389   \n",
       "8  0.505725  0.749298  0.010862  0.003318  0.000010  0.020013  0.081053   \n",
       "\n",
       "           gpin       owr  \n",
       "0  1.000000e+00  0.999989  \n",
       "1  8.106653e-93  0.591216  \n",
       "5  1.065108e-02  0.568964  \n",
       "6  9.999848e-01  0.932259  \n",
       "8  1.048363e-09  0.460071  \n",
       "\n",
       "[5 rows x 31 columns]"
      ],
      "text/html": [
       "<div>\n",
       "<style scoped>\n",
       "    .dataframe tbody tr th:only-of-type {\n",
       "        vertical-align: middle;\n",
       "    }\n",
       "\n",
       "    .dataframe tbody tr th {\n",
       "        vertical-align: top;\n",
       "    }\n",
       "\n",
       "    .dataframe thead th {\n",
       "        text-align: right;\n",
       "    }\n",
       "</style>\n",
       "<table border=\"1\" class=\"dataframe\">\n",
       "  <thead>\n",
       "    <tr style=\"text-align: right;\">\n",
       "      <th></th>\n",
       "      <th>date</th>\n",
       "      <th>sym_root</th>\n",
       "      <th>buynumtrades_lr</th>\n",
       "      <th>sellnumtrades_lr</th>\n",
       "      <th>oprc</th>\n",
       "      <th>cprc</th>\n",
       "      <th>ret_mkt_m</th>\n",
       "      <th>vw_price_m</th>\n",
       "      <th>mid_after_open</th>\n",
       "      <th>total_vol_m</th>\n",
       "      <th>...</th>\n",
       "      <th>r</th>\n",
       "      <th>th</th>\n",
       "      <th>a_owr</th>\n",
       "      <th>si</th>\n",
       "      <th>spd</th>\n",
       "      <th>spo</th>\n",
       "      <th>su</th>\n",
       "      <th>sz</th>\n",
       "      <th>gpin</th>\n",
       "      <th>owr</th>\n",
       "    </tr>\n",
       "  </thead>\n",
       "  <tbody>\n",
       "    <tr>\n",
       "      <th>0</th>\n",
       "      <td>2013-01-02</td>\n",
       "      <td>A</td>\n",
       "      <td>13885.0</td>\n",
       "      <td>15996.0</td>\n",
       "      <td>41.88</td>\n",
       "      <td>41.8800</td>\n",
       "      <td>0.000000</td>\n",
       "      <td>41.575585</td>\n",
       "      <td>41.880</td>\n",
       "      <td>6264024.0</td>\n",
       "      <td>...</td>\n",
       "      <td>5.586394</td>\n",
       "      <td>0.505736</td>\n",
       "      <td>0.999990</td>\n",
       "      <td>0.003834</td>\n",
       "      <td>0.006773</td>\n",
       "      <td>0.006000</td>\n",
       "      <td>0.028366</td>\n",
       "      <td>0.044506</td>\n",
       "      <td>1.000000e+00</td>\n",
       "      <td>0.999989</td>\n",
       "    </tr>\n",
       "    <tr>\n",
       "      <th>1</th>\n",
       "      <td>2013-01-02</td>\n",
       "      <td>AA</td>\n",
       "      <td>25249.0</td>\n",
       "      <td>24626.0</td>\n",
       "      <td>8.88</td>\n",
       "      <td>8.9900</td>\n",
       "      <td>0.012311</td>\n",
       "      <td>8.915031</td>\n",
       "      <td>8.875</td>\n",
       "      <td>20558520.0</td>\n",
       "      <td>...</td>\n",
       "      <td>6.382776</td>\n",
       "      <td>0.497251</td>\n",
       "      <td>0.701706</td>\n",
       "      <td>0.011844</td>\n",
       "      <td>0.004628</td>\n",
       "      <td>0.000010</td>\n",
       "      <td>0.025246</td>\n",
       "      <td>0.091121</td>\n",
       "      <td>8.106653e-93</td>\n",
       "      <td>0.591216</td>\n",
       "    </tr>\n",
       "    <tr>\n",
       "      <th>5</th>\n",
       "      <td>2013-01-02</td>\n",
       "      <td>AAME</td>\n",
       "      <td>9.0</td>\n",
       "      <td>14.0</td>\n",
       "      <td>3.09</td>\n",
       "      <td>3.1999</td>\n",
       "      <td>0.034948</td>\n",
       "      <td>3.168289</td>\n",
       "      <td>3.190</td>\n",
       "      <td>3700.0</td>\n",
       "      <td>...</td>\n",
       "      <td>2.034722</td>\n",
       "      <td>0.461257</td>\n",
       "      <td>0.694292</td>\n",
       "      <td>0.030881</td>\n",
       "      <td>0.007788</td>\n",
       "      <td>0.000010</td>\n",
       "      <td>0.085575</td>\n",
       "      <td>0.404290</td>\n",
       "      <td>1.065108e-02</td>\n",
       "      <td>0.568964</td>\n",
       "    </tr>\n",
       "    <tr>\n",
       "      <th>6</th>\n",
       "      <td>2013-01-02</td>\n",
       "      <td>AAN</td>\n",
       "      <td>1901.0</td>\n",
       "      <td>1607.0</td>\n",
       "      <td>28.72</td>\n",
       "      <td>28.7000</td>\n",
       "      <td>-0.000697</td>\n",
       "      <td>28.527780</td>\n",
       "      <td>28.730</td>\n",
       "      <td>454686.0</td>\n",
       "      <td>...</td>\n",
       "      <td>6.100579</td>\n",
       "      <td>0.497322</td>\n",
       "      <td>0.880591</td>\n",
       "      <td>0.005125</td>\n",
       "      <td>0.007729</td>\n",
       "      <td>0.005901</td>\n",
       "      <td>0.068434</td>\n",
       "      <td>0.010389</td>\n",
       "      <td>9.999848e-01</td>\n",
       "      <td>0.932259</td>\n",
       "    </tr>\n",
       "    <tr>\n",
       "      <th>8</th>\n",
       "      <td>2013-01-02</td>\n",
       "      <td>AAP</td>\n",
       "      <td>2591.0</td>\n",
       "      <td>2443.0</td>\n",
       "      <td>73.58</td>\n",
       "      <td>72.4900</td>\n",
       "      <td>-0.014925</td>\n",
       "      <td>72.460757</td>\n",
       "      <td>73.495</td>\n",
       "      <td>754331.0</td>\n",
       "      <td>...</td>\n",
       "      <td>4.295786</td>\n",
       "      <td>0.505725</td>\n",
       "      <td>0.749298</td>\n",
       "      <td>0.010862</td>\n",
       "      <td>0.003318</td>\n",
       "      <td>0.000010</td>\n",
       "      <td>0.020013</td>\n",
       "      <td>0.081053</td>\n",
       "      <td>1.048363e-09</td>\n",
       "      <td>0.460071</td>\n",
       "    </tr>\n",
       "  </tbody>\n",
       "</table>\n",
       "<p>5 rows × 31 columns</p>\n",
       "</div>"
      ]
     },
     "execution_count": 10,
     "metadata": {},
     "output_type": "execute_result"
    }
   ],
   "execution_count": 10
  },
  {
   "metadata": {
    "ExecuteTime": {
     "end_time": "2025-03-26T04:02:55.949856Z",
     "start_time": "2025-03-26T04:02:55.846733Z"
    }
   },
   "cell_type": "code",
   "source": "quarter_gpin_owr_link: DataFrame = pd.read_pickle(os.path.join(const.TEMP_PATH, 'cpin_gpin_owr_quarterly.pkl'))",
   "id": "530a51351f1b3a9a",
   "outputs": [],
   "execution_count": 11
  },
  {
   "metadata": {
    "ExecuteTime": {
     "end_time": "2025-03-26T04:04:00.006858Z",
     "start_time": "2025-03-26T04:03:59.987916Z"
    }
   },
   "cell_type": "code",
   "source": "quarter_gpin_owr_link.fqtr.max()",
   "id": "9227d461bc55ad77",
   "outputs": [
    {
     "data": {
      "text/plain": [
       "Period('2015Q3', 'Q-DEC')"
      ]
     },
     "execution_count": 13,
     "metadata": {},
     "output_type": "execute_result"
    }
   ],
   "execution_count": 13
  }
 ],
 "metadata": {
  "kernelspec": {
   "display_name": "Python 3",
   "language": "python",
   "name": "python3"
  },
  "language_info": {
   "codemirror_mode": {
    "name": "ipython",
    "version": 2
   },
   "file_extension": ".py",
   "mimetype": "text/x-python",
   "name": "python",
   "nbconvert_exporter": "python",
   "pygments_lexer": "ipython2",
   "version": "2.7.6"
  }
 },
 "nbformat": 4,
 "nbformat_minor": 5
}
