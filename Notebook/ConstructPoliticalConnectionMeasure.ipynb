{
 "cells": [
  {
   "cell_type": "code",
   "id": "initial_id",
   "metadata": {
    "collapsed": true,
    "ExecuteTime": {
     "end_time": "2024-12-11T21:44:18.594718Z",
     "start_time": "2024-12-11T21:44:16.885055Z"
    }
   },
   "source": [
    "import os\n",
    "\n",
    "import pandas as pd\n",
    "from pandas import DataFrame\n",
    "import numpy as np\n",
    "from scipy.stats.mstats import winsorize\n",
    "\n",
    "from Constants import Constants as const"
   ],
   "outputs": [],
   "execution_count": 1
  },
  {
   "metadata": {
    "ExecuteTime": {
     "end_time": "2024-12-11T21:48:35.520516Z",
     "start_time": "2024-12-11T21:48:35.480247Z"
    }
   },
   "cell_type": "code",
   "source": [
    "pc3_df: DataFrame = pd.read_stata(os.path.join(const.DATA_PATH, 'fromZGY', 'firm_year_num_political_donar_3years.dta')).rename(\n",
    "    columns={'recipient_ext_id': 'numDonation3year'}).drop(['index'], axis=1)\n",
    "pc4_df: DataFrame = pd.read_stata(os.path.join(const.DATA_PATH, 'fromZGY', 'firm_year_num_political_donar_4year.dta')).rename(\n",
    "    columns={'recipient_ext_id': 'numDonation4year'}).drop(['index'], axis=1)"
   ],
   "id": "d97b3ee8236ddf63",
   "outputs": [],
   "execution_count": 2
  },
  {
   "metadata": {
    "ExecuteTime": {
     "end_time": "2024-12-11T21:52:34.577328Z",
     "start_time": "2024-12-11T21:52:34.567512Z"
    }
   },
   "cell_type": "code",
   "source": [
    "pc3_avg = pc3_df.groupby([const.GVKEY])['numDonation3year'].mean()\n",
    "pc4_avg = pc4_df.groupby([const.GVKEY])['numDonation4year'].mean()"
   ],
   "id": "e74bdf75bafd5397",
   "outputs": [],
   "execution_count": 7
  },
  {
   "metadata": {
    "ExecuteTime": {
     "end_time": "2024-12-11T21:53:52.724143Z",
     "start_time": "2024-12-11T21:53:52.718095Z"
    }
   },
   "cell_type": "code",
   "source": [
    "pc3_avg_df: DataFrame = pc3_avg.reset_index(drop=False)\n",
    "pc4_avg_df: DataFrame = pc4_avg.reset_index(drop=False)"
   ],
   "id": "bc46182a7681c3e6",
   "outputs": [],
   "execution_count": 9
  },
  {
   "metadata": {
    "ExecuteTime": {
     "end_time": "2024-12-11T22:00:33.319644Z",
     "start_time": "2024-12-11T22:00:33.089962Z"
    }
   },
   "cell_type": "code",
   "source": [
    "reg_df: DataFrame = pd.read_stata(os.path.join(const.RESULT_PATH, '20241014_stock_act_reg_data_v2.dta'))\n",
    "gvkey_series = reg_df[const.GVKEY].unique()"
   ],
   "id": "e3be6d11e43ec696",
   "outputs": [
    {
     "name": "stderr",
     "output_type": "stream",
     "text": [
      "C:\\Users\\wangy\\AppData\\Local\\Temp\\ipykernel_20864\\88727916.py:1: UnicodeWarning: \n",
      "One or more strings in the dta file could not be decoded using utf-8, and\n",
      "so the fallback encoding of latin-1 is being used.  This can happen when a file\n",
      "has been incorrectly encoded by Stata or some other software. You should verify\n",
      "the string values returned are correct.\n",
      "  reg_df: DataFrame = pd.read_stata(os.path.join(const.RESULT_PATH, '20241014_stock_act_reg_data_v2.dta'))\n"
     ]
    }
   ],
   "execution_count": 10
  },
  {
   "metadata": {
    "ExecuteTime": {
     "end_time": "2024-12-11T22:01:47.162819Z",
     "start_time": "2024-12-11T22:01:47.158002Z"
    }
   },
   "cell_type": "code",
   "source": [
    "# Update the function to handle numpy.ndarray as input\n",
    "def ensure_gvkeys_with_ndarray(df, gvkey_array, num_col_name):\n",
    "    # Convert the numpy array to a set for quick lookup\n",
    "    gvkey_set = set(gvkey_array)\n",
    "    # Identify missing gvkeys\n",
    "    existing_gvkeys = set(df['gvkey'])\n",
    "    missing_gvkeys = gvkey_set - existing_gvkeys\n",
    "    # Create a DataFrame with missing gvkeys\n",
    "    missing_rows = pd.DataFrame({\n",
    "        'gvkey': list(missing_gvkeys),\n",
    "        num_col_name: [None] * len(missing_gvkeys)\n",
    "    })\n",
    "    # Concatenate the original DataFrame with missing rows and sort by gvkey\n",
    "    updated_df = pd.concat([df, missing_rows], ignore_index=True)\n",
    "    updated_df = updated_df.sort_values('gvkey').reset_index(drop=True)\n",
    "    return updated_df"
   ],
   "id": "6e7ec0a55295910b",
   "outputs": [],
   "execution_count": 13
  },
  {
   "metadata": {
    "ExecuteTime": {
     "end_time": "2024-12-11T22:01:48.495477Z",
     "start_time": "2024-12-11T22:01:48.480062Z"
    }
   },
   "cell_type": "code",
   "source": [
    "# Update pc3_avg_df and pc4_avg_df\n",
    "pc3_avg_df2 = ensure_gvkeys_with_ndarray(pc3_avg_df, gvkey_series, 'numDonation3year')\n",
    "pc4_avg_df2 = ensure_gvkeys_with_ndarray(pc4_avg_df, gvkey_series, 'numDonation4year')\n"
   ],
   "id": "ea1bef1ae11a0af2",
   "outputs": [
    {
     "name": "stderr",
     "output_type": "stream",
     "text": [
      "C:\\Users\\wangy\\AppData\\Local\\Temp\\ipykernel_20864\\1236285319.py:14: FutureWarning: The behavior of DataFrame concatenation with empty or all-NA entries is deprecated. In a future version, this will no longer exclude empty or all-NA columns when determining the result dtypes. To retain the old behavior, exclude the relevant entries before the concat operation.\n",
      "  updated_df = pd.concat([df, missing_rows], ignore_index=True)\n"
     ]
    }
   ],
   "execution_count": 14
  },
  {
   "metadata": {
    "ExecuteTime": {
     "end_time": "2024-12-11T22:02:31.876634Z",
     "start_time": "2024-12-11T22:02:31.867664Z"
    }
   },
   "cell_type": "code",
   "source": [
    "pc_avg_df: DataFrame = pc3_avg_df2.merge(pc4_avg_df2, on=[const.GVKEY])\n",
    "pc_avg_df.shape"
   ],
   "id": "286cbd0537fc5a28",
   "outputs": [
    {
     "data": {
      "text/plain": [
       "(1837, 3)"
      ]
     },
     "execution_count": 16,
     "metadata": {},
     "output_type": "execute_result"
    }
   ],
   "execution_count": 16
  },
  {
   "metadata": {
    "ExecuteTime": {
     "end_time": "2024-12-11T22:03:04.964140Z",
     "start_time": "2024-12-11T22:03:04.959193Z"
    }
   },
   "cell_type": "code",
   "source": [
    "for key in ['numDonation3year', 'numDonation4year']:\n",
    "    pc_avg_df[key] = pc_avg_df[key].fillna(0)"
   ],
   "id": "6acae5237be809bd",
   "outputs": [],
   "execution_count": 17
  },
  {
   "metadata": {
    "ExecuteTime": {
     "end_time": "2024-12-11T22:04:27.457399Z",
     "start_time": "2024-12-11T22:04:27.451900Z"
    }
   },
   "cell_type": "code",
   "source": [
    "pc_avg_df['highDonation3Year'] = (pc_avg_df['numDonation3year'] > pc_avg_df['numDonation3year'].median()).astype(int)\n",
    "pc_avg_df['highDonation4Year'] = (pc_avg_df['numDonation4year'] > pc_avg_df['numDonation4year'].median()).astype(int)"
   ],
   "id": "831839a61145b9e7",
   "outputs": [],
   "execution_count": 20
  },
  {
   "metadata": {
    "ExecuteTime": {
     "end_time": "2024-12-11T22:06:11.399285Z",
     "start_time": "2024-12-11T22:06:11.087636Z"
    }
   },
   "cell_type": "code",
   "source": [
    "reg_df2: DataFrame = reg_df.merge(pc_avg_df, on=[const.GVKEY], how='left')\n",
    "reg_df2.to_stata(os.path.join(const.RESULT_PATH, '20241212_stock_act_reg_data.dta'), write_index=False, version=119)"
   ],
   "id": "dd77bf9962ace20a",
   "outputs": [],
   "execution_count": 22
  }
 ],
 "metadata": {
  "kernelspec": {
   "display_name": "Python 3",
   "language": "python",
   "name": "python3"
  },
  "language_info": {
   "codemirror_mode": {
    "name": "ipython",
    "version": 2
   },
   "file_extension": ".py",
   "mimetype": "text/x-python",
   "name": "python",
   "nbconvert_exporter": "python",
   "pygments_lexer": "ipython2",
   "version": "2.7.6"
  }
 },
 "nbformat": 4,
 "nbformat_minor": 5
}
