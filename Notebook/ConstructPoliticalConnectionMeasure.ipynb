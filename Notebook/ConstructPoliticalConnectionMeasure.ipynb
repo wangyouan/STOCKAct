{
 "cells": [
  {
   "cell_type": "code",
   "id": "initial_id",
   "metadata": {
    "collapsed": true,
    "ExecuteTime": {
     "end_time": "2025-07-18T05:21:37.260947Z",
     "start_time": "2025-07-18T05:21:36.093710Z"
    }
   },
   "source": [
    "import os\n",
    "\n",
    "import pandas as pd\n",
    "from pandas import DataFrame\n",
    "import numpy as np\n",
    "from scipy.stats.mstats import winsorize\n",
    "\n",
    "from Constants import Constants as const"
   ],
   "outputs": [],
   "execution_count": 2
  },
  {
   "metadata": {
    "ExecuteTime": {
     "end_time": "2024-12-11T21:48:35.520516Z",
     "start_time": "2024-12-11T21:48:35.480247Z"
    }
   },
   "cell_type": "code",
   "source": [
    "pc3_df: DataFrame = pd.read_stata(os.path.join(const.DATA_PATH, 'fromZGY', 'firm_year_num_political_donar_3years.dta')).rename(\n",
    "    columns={'recipient_ext_id': 'numDonation3year'}).drop(['index'], axis=1)\n",
    "pc4_df: DataFrame = pd.read_stata(os.path.join(const.DATA_PATH, 'fromZGY', 'firm_year_num_political_donar_4year.dta')).rename(\n",
    "    columns={'recipient_ext_id': 'numDonation4year'}).drop(['index'], axis=1)"
   ],
   "id": "d97b3ee8236ddf63",
   "outputs": [],
   "execution_count": 2
  },
  {
   "metadata": {
    "ExecuteTime": {
     "end_time": "2024-12-11T21:52:34.577328Z",
     "start_time": "2024-12-11T21:52:34.567512Z"
    }
   },
   "cell_type": "code",
   "source": [
    "pc3_avg = pc3_df.groupby([const.GVKEY])['numDonation3year'].mean()\n",
    "pc4_avg = pc4_df.groupby([const.GVKEY])['numDonation4year'].mean()"
   ],
   "id": "e74bdf75bafd5397",
   "outputs": [],
   "execution_count": 7
  },
  {
   "metadata": {
    "ExecuteTime": {
     "end_time": "2024-12-11T21:53:52.724143Z",
     "start_time": "2024-12-11T21:53:52.718095Z"
    }
   },
   "cell_type": "code",
   "source": [
    "pc3_avg_df: DataFrame = pc3_avg.reset_index(drop=False)\n",
    "pc4_avg_df: DataFrame = pc4_avg.reset_index(drop=False)"
   ],
   "id": "bc46182a7681c3e6",
   "outputs": [],
   "execution_count": 9
  },
  {
   "metadata": {
    "ExecuteTime": {
     "end_time": "2024-12-11T22:00:33.319644Z",
     "start_time": "2024-12-11T22:00:33.089962Z"
    }
   },
   "cell_type": "code",
   "source": [
    "reg_df: DataFrame = pd.read_stata(os.path.join(const.RESULT_PATH, '20241014_stock_act_reg_data_v2.dta'))\n",
    "gvkey_series = reg_df[const.GVKEY].unique()"
   ],
   "id": "e3be6d11e43ec696",
   "outputs": [
    {
     "name": "stderr",
     "output_type": "stream",
     "text": [
      "C:\\Users\\wangy\\AppData\\Local\\Temp\\ipykernel_20864\\88727916.py:1: UnicodeWarning: \n",
      "One or more strings in the dta file could not be decoded using utf-8, and\n",
      "so the fallback encoding of latin-1 is being used.  This can happen when a file\n",
      "has been incorrectly encoded by Stata or some other software. You should verify\n",
      "the string values returned are correct.\n",
      "  reg_df: DataFrame = pd.read_stata(os.path.join(const.RESULT_PATH, '20241014_stock_act_reg_data_v2.dta'))\n"
     ]
    }
   ],
   "execution_count": 10
  },
  {
   "metadata": {
    "ExecuteTime": {
     "end_time": "2024-12-11T22:01:47.162819Z",
     "start_time": "2024-12-11T22:01:47.158002Z"
    }
   },
   "cell_type": "code",
   "source": [
    "# Update the function to handle numpy.ndarray as input\n",
    "def ensure_gvkeys_with_ndarray(df, gvkey_array, num_col_name):\n",
    "    # Convert the numpy array to a set for quick lookup\n",
    "    gvkey_set = set(gvkey_array)\n",
    "    # Identify missing gvkeys\n",
    "    existing_gvkeys = set(df['gvkey'])\n",
    "    missing_gvkeys = gvkey_set - existing_gvkeys\n",
    "    # Create a DataFrame with missing gvkeys\n",
    "    missing_rows = pd.DataFrame({\n",
    "        'gvkey': list(missing_gvkeys),\n",
    "        num_col_name: [None] * len(missing_gvkeys)\n",
    "    })\n",
    "    # Concatenate the original DataFrame with missing rows and sort by gvkey\n",
    "    updated_df = pd.concat([df, missing_rows], ignore_index=True)\n",
    "    updated_df = updated_df.sort_values('gvkey').reset_index(drop=True)\n",
    "    return updated_df"
   ],
   "id": "6e7ec0a55295910b",
   "outputs": [],
   "execution_count": 13
  },
  {
   "metadata": {
    "ExecuteTime": {
     "end_time": "2024-12-11T22:01:48.495477Z",
     "start_time": "2024-12-11T22:01:48.480062Z"
    }
   },
   "cell_type": "code",
   "source": [
    "# Update pc3_avg_df and pc4_avg_df\n",
    "pc3_avg_df2 = ensure_gvkeys_with_ndarray(pc3_avg_df, gvkey_series, 'numDonation3year')\n",
    "pc4_avg_df2 = ensure_gvkeys_with_ndarray(pc4_avg_df, gvkey_series, 'numDonation4year')\n"
   ],
   "id": "ea1bef1ae11a0af2",
   "outputs": [
    {
     "name": "stderr",
     "output_type": "stream",
     "text": [
      "C:\\Users\\wangy\\AppData\\Local\\Temp\\ipykernel_20864\\1236285319.py:14: FutureWarning: The behavior of DataFrame concatenation with empty or all-NA entries is deprecated. In a future version, this will no longer exclude empty or all-NA columns when determining the result dtypes. To retain the old behavior, exclude the relevant entries before the concat operation.\n",
      "  updated_df = pd.concat([df, missing_rows], ignore_index=True)\n"
     ]
    }
   ],
   "execution_count": 14
  },
  {
   "metadata": {
    "ExecuteTime": {
     "end_time": "2024-12-11T22:02:31.876634Z",
     "start_time": "2024-12-11T22:02:31.867664Z"
    }
   },
   "cell_type": "code",
   "source": [
    "pc_avg_df: DataFrame = pc3_avg_df2.merge(pc4_avg_df2, on=[const.GVKEY])\n",
    "pc_avg_df.shape"
   ],
   "id": "286cbd0537fc5a28",
   "outputs": [
    {
     "data": {
      "text/plain": [
       "(1837, 3)"
      ]
     },
     "execution_count": 16,
     "metadata": {},
     "output_type": "execute_result"
    }
   ],
   "execution_count": 16
  },
  {
   "metadata": {
    "ExecuteTime": {
     "end_time": "2024-12-11T22:03:04.964140Z",
     "start_time": "2024-12-11T22:03:04.959193Z"
    }
   },
   "cell_type": "code",
   "source": [
    "for key in ['numDonation3year', 'numDonation4year']:\n",
    "    pc_avg_df[key] = pc_avg_df[key].fillna(0)"
   ],
   "id": "6acae5237be809bd",
   "outputs": [],
   "execution_count": 17
  },
  {
   "metadata": {
    "ExecuteTime": {
     "end_time": "2024-12-11T22:04:27.457399Z",
     "start_time": "2024-12-11T22:04:27.451900Z"
    }
   },
   "cell_type": "code",
   "source": [
    "pc_avg_df['highDonation3Year'] = (pc_avg_df['numDonation3year'] > pc_avg_df['numDonation3year'].median()).astype(int)\n",
    "pc_avg_df['highDonation4Year'] = (pc_avg_df['numDonation4year'] > pc_avg_df['numDonation4year'].median()).astype(int)"
   ],
   "id": "831839a61145b9e7",
   "outputs": [],
   "execution_count": 20
  },
  {
   "metadata": {
    "ExecuteTime": {
     "end_time": "2024-12-11T22:06:11.399285Z",
     "start_time": "2024-12-11T22:06:11.087636Z"
    }
   },
   "cell_type": "code",
   "source": [
    "reg_df2: DataFrame = reg_df.merge(pc_avg_df, on=[const.GVKEY], how='left')\n",
    "reg_df2.to_stata(os.path.join(const.RESULT_PATH, '20241212_stock_act_reg_data.dta'), write_index=False, version=119)"
   ],
   "id": "dd77bf9962ace20a",
   "outputs": [],
   "execution_count": 22
  },
  {
   "metadata": {},
   "cell_type": "markdown",
   "source": "# Append Government Contract data",
   "id": "98c33989a9283c68"
  },
  {
   "metadata": {
    "ExecuteTime": {
     "end_time": "2024-12-23T06:24:14.127463Z",
     "start_time": "2024-12-23T06:24:13.941256Z"
    }
   },
   "cell_type": "code",
   "source": [
    "reg_df: DataFrame = pd.read_stata(os.path.join(const.RESULT_PATH, '20241212_stock_act_reg_data.dta'))\n",
    "gov_contract_df: DataFrame = pd.read_csv(os.path.join(const.DATA_PATH, 'fromZGY', 'gov_characters_data.csv')).drop(['tic'], axis=1)"
   ],
   "id": "e91703744fd84fe8",
   "outputs": [],
   "execution_count": 2
  },
  {
   "metadata": {
    "ExecuteTime": {
     "end_time": "2024-12-23T06:25:12.575573Z",
     "start_time": "2024-12-23T06:25:12.571692Z"
    }
   },
   "cell_type": "code",
   "source": "gov_contract_df.rename(columns=lambda x: '{}_num'.format(x) if x.endswith('gov') else x, inplace=True)",
   "id": "b581cd410b16d701",
   "outputs": [],
   "execution_count": 3
  },
  {
   "metadata": {
    "ExecuteTime": {
     "end_time": "2024-12-23T06:25:16.263866Z",
     "start_time": "2024-12-23T06:25:16.249452Z"
    }
   },
   "cell_type": "code",
   "source": "gov_contract_df",
   "id": "159541c87c2f0eef",
   "outputs": [
    {
     "data": {
      "text/plain": [
       "       fiscal_year  fed_gov_num  gov_num  state_gov_num  loc_gov_num   gvkey\n",
       "0           2008.0          0.0      0.0            0.0          0.0  151832\n",
       "1           2009.0          0.0      0.0            0.0          0.0  151832\n",
       "2           2010.0          0.0      0.0            0.0          0.0  151832\n",
       "3           2011.0          0.0      0.0            0.0          0.0  151832\n",
       "4           2012.0          0.0      0.0            0.0          0.0  151832\n",
       "...            ...          ...      ...            ...          ...     ...\n",
       "85811       2011.0          0.0      0.0            0.0          0.0   30165\n",
       "85812       2012.0          0.0      0.0            0.0          0.0   30165\n",
       "85813       2013.0          0.0      0.0            0.0          0.0   30165\n",
       "85814       2014.0          0.0      0.0            0.0          0.0   30165\n",
       "85815       2015.0          0.0      0.0            0.0          0.0   30165\n",
       "\n",
       "[85816 rows x 6 columns]"
      ],
      "text/html": [
       "<div>\n",
       "<style scoped>\n",
       "    .dataframe tbody tr th:only-of-type {\n",
       "        vertical-align: middle;\n",
       "    }\n",
       "\n",
       "    .dataframe tbody tr th {\n",
       "        vertical-align: top;\n",
       "    }\n",
       "\n",
       "    .dataframe thead th {\n",
       "        text-align: right;\n",
       "    }\n",
       "</style>\n",
       "<table border=\"1\" class=\"dataframe\">\n",
       "  <thead>\n",
       "    <tr style=\"text-align: right;\">\n",
       "      <th></th>\n",
       "      <th>fiscal_year</th>\n",
       "      <th>fed_gov_num</th>\n",
       "      <th>gov_num</th>\n",
       "      <th>state_gov_num</th>\n",
       "      <th>loc_gov_num</th>\n",
       "      <th>gvkey</th>\n",
       "    </tr>\n",
       "  </thead>\n",
       "  <tbody>\n",
       "    <tr>\n",
       "      <th>0</th>\n",
       "      <td>2008.0</td>\n",
       "      <td>0.0</td>\n",
       "      <td>0.0</td>\n",
       "      <td>0.0</td>\n",
       "      <td>0.0</td>\n",
       "      <td>151832</td>\n",
       "    </tr>\n",
       "    <tr>\n",
       "      <th>1</th>\n",
       "      <td>2009.0</td>\n",
       "      <td>0.0</td>\n",
       "      <td>0.0</td>\n",
       "      <td>0.0</td>\n",
       "      <td>0.0</td>\n",
       "      <td>151832</td>\n",
       "    </tr>\n",
       "    <tr>\n",
       "      <th>2</th>\n",
       "      <td>2010.0</td>\n",
       "      <td>0.0</td>\n",
       "      <td>0.0</td>\n",
       "      <td>0.0</td>\n",
       "      <td>0.0</td>\n",
       "      <td>151832</td>\n",
       "    </tr>\n",
       "    <tr>\n",
       "      <th>3</th>\n",
       "      <td>2011.0</td>\n",
       "      <td>0.0</td>\n",
       "      <td>0.0</td>\n",
       "      <td>0.0</td>\n",
       "      <td>0.0</td>\n",
       "      <td>151832</td>\n",
       "    </tr>\n",
       "    <tr>\n",
       "      <th>4</th>\n",
       "      <td>2012.0</td>\n",
       "      <td>0.0</td>\n",
       "      <td>0.0</td>\n",
       "      <td>0.0</td>\n",
       "      <td>0.0</td>\n",
       "      <td>151832</td>\n",
       "    </tr>\n",
       "    <tr>\n",
       "      <th>...</th>\n",
       "      <td>...</td>\n",
       "      <td>...</td>\n",
       "      <td>...</td>\n",
       "      <td>...</td>\n",
       "      <td>...</td>\n",
       "      <td>...</td>\n",
       "    </tr>\n",
       "    <tr>\n",
       "      <th>85811</th>\n",
       "      <td>2011.0</td>\n",
       "      <td>0.0</td>\n",
       "      <td>0.0</td>\n",
       "      <td>0.0</td>\n",
       "      <td>0.0</td>\n",
       "      <td>30165</td>\n",
       "    </tr>\n",
       "    <tr>\n",
       "      <th>85812</th>\n",
       "      <td>2012.0</td>\n",
       "      <td>0.0</td>\n",
       "      <td>0.0</td>\n",
       "      <td>0.0</td>\n",
       "      <td>0.0</td>\n",
       "      <td>30165</td>\n",
       "    </tr>\n",
       "    <tr>\n",
       "      <th>85813</th>\n",
       "      <td>2013.0</td>\n",
       "      <td>0.0</td>\n",
       "      <td>0.0</td>\n",
       "      <td>0.0</td>\n",
       "      <td>0.0</td>\n",
       "      <td>30165</td>\n",
       "    </tr>\n",
       "    <tr>\n",
       "      <th>85814</th>\n",
       "      <td>2014.0</td>\n",
       "      <td>0.0</td>\n",
       "      <td>0.0</td>\n",
       "      <td>0.0</td>\n",
       "      <td>0.0</td>\n",
       "      <td>30165</td>\n",
       "    </tr>\n",
       "    <tr>\n",
       "      <th>85815</th>\n",
       "      <td>2015.0</td>\n",
       "      <td>0.0</td>\n",
       "      <td>0.0</td>\n",
       "      <td>0.0</td>\n",
       "      <td>0.0</td>\n",
       "      <td>30165</td>\n",
       "    </tr>\n",
       "  </tbody>\n",
       "</table>\n",
       "<p>85816 rows × 6 columns</p>\n",
       "</div>"
      ]
     },
     "execution_count": 4,
     "metadata": {},
     "output_type": "execute_result"
    }
   ],
   "execution_count": 4
  },
  {
   "metadata": {
    "ExecuteTime": {
     "end_time": "2024-12-23T06:30:40.472776Z",
     "start_time": "2024-12-23T06:30:40.418270Z"
    }
   },
   "cell_type": "code",
   "source": [
    "reg_df_gov_num = reg_df.merge(gov_contract_df, on=[const.GVKEY, const.YEAR], how='left')\n",
    "for key in gov_contract_df.keys():\n",
    "    if key not in {const.GVKEY, const.YEAR}:\n",
    "        reg_df_gov_num[key].fillna(0, inplace=True)\n",
    "        reg_df_gov_num[key.replace('num', 'dummy')] = reg_df_gov_num[key].apply(lambda x: int(x > 0))"
   ],
   "id": "1062968e74c4accc",
   "outputs": [
    {
     "name": "stderr",
     "output_type": "stream",
     "text": [
      "C:\\Users\\wangy\\AppData\\Local\\Temp\\ipykernel_28288\\2904554935.py:4: FutureWarning: A value is trying to be set on a copy of a DataFrame or Series through chained assignment using an inplace method.\n",
      "The behavior will change in pandas 3.0. This inplace method will never work because the intermediate object on which we are setting values always behaves as a copy.\n",
      "\n",
      "For example, when doing 'df[col].method(value, inplace=True)', try using 'df.method({col: value}, inplace=True)' or df[col] = df[col].method(value) instead, to perform the operation inplace on the original object.\n",
      "\n",
      "\n",
      "  reg_df_gov_num[key].fillna(0, inplace=True)\n",
      "C:\\Users\\wangy\\AppData\\Local\\Temp\\ipykernel_28288\\2904554935.py:4: FutureWarning: A value is trying to be set on a copy of a DataFrame or Series through chained assignment using an inplace method.\n",
      "The behavior will change in pandas 3.0. This inplace method will never work because the intermediate object on which we are setting values always behaves as a copy.\n",
      "\n",
      "For example, when doing 'df[col].method(value, inplace=True)', try using 'df.method({col: value}, inplace=True)' or df[col] = df[col].method(value) instead, to perform the operation inplace on the original object.\n",
      "\n",
      "\n",
      "  reg_df_gov_num[key].fillna(0, inplace=True)\n",
      "C:\\Users\\wangy\\AppData\\Local\\Temp\\ipykernel_28288\\2904554935.py:4: FutureWarning: A value is trying to be set on a copy of a DataFrame or Series through chained assignment using an inplace method.\n",
      "The behavior will change in pandas 3.0. This inplace method will never work because the intermediate object on which we are setting values always behaves as a copy.\n",
      "\n",
      "For example, when doing 'df[col].method(value, inplace=True)', try using 'df.method({col: value}, inplace=True)' or df[col] = df[col].method(value) instead, to perform the operation inplace on the original object.\n",
      "\n",
      "\n",
      "  reg_df_gov_num[key].fillna(0, inplace=True)\n",
      "C:\\Users\\wangy\\AppData\\Local\\Temp\\ipykernel_28288\\2904554935.py:4: FutureWarning: A value is trying to be set on a copy of a DataFrame or Series through chained assignment using an inplace method.\n",
      "The behavior will change in pandas 3.0. This inplace method will never work because the intermediate object on which we are setting values always behaves as a copy.\n",
      "\n",
      "For example, when doing 'df[col].method(value, inplace=True)', try using 'df.method({col: value}, inplace=True)' or df[col] = df[col].method(value) instead, to perform the operation inplace on the original object.\n",
      "\n",
      "\n",
      "  reg_df_gov_num[key].fillna(0, inplace=True)\n"
     ]
    }
   ],
   "execution_count": 10
  },
  {
   "metadata": {
    "ExecuteTime": {
     "end_time": "2024-12-23T06:30:42.951684Z",
     "start_time": "2024-12-23T06:30:42.757029Z"
    }
   },
   "cell_type": "code",
   "source": "reg_df_gov_num.describe()",
   "id": "92f47b6317f313e1",
   "outputs": [
    {
     "data": {
      "text/plain": [
       "             index          gvkey   fiscal_year  mf_indicator     frequency  \\\n",
       "count  12074.00000   12074.000000  12074.000000  12074.000000  12074.000000   \n",
       "mean    6036.50000   81220.205317   2011.546960      0.363508      4.817459   \n",
       "min        0.00000    1004.000000   2008.000000      0.000000      0.000000   \n",
       "25%     3018.25000   12142.000000   2010.000000      0.000000      0.000000   \n",
       "50%     6036.50000   62592.000000   2012.000000      0.000000      0.000000   \n",
       "75%     9054.75000  156153.000000   2014.000000      1.000000      7.000000   \n",
       "max    12073.00000  296753.000000   2015.000000      1.000000     36.000000   \n",
       "std     3485.60791   73644.923742      2.279738      0.481029      8.551352   \n",
       "\n",
       "       log_frequency  MajorGovCustomer          post  log_market_value  \\\n",
       "count   12074.000000      12074.000000  12074.000000      12074.000000   \n",
       "mean        0.868412          0.153553      0.508945          6.517410   \n",
       "min         0.000000          0.000000      0.000000          0.786519   \n",
       "25%         0.000000          0.000000      0.000000          5.012064   \n",
       "50%         0.000000          0.000000      1.000000          6.520895   \n",
       "75%         2.079442          0.000000      1.000000          7.976261   \n",
       "max         3.610918          1.000000      1.000000         11.561005   \n",
       "std         1.245300          0.360535      0.499941          2.163776   \n",
       "\n",
       "                lev  ...  highDonation3Year  highDonation4Year   fed_gov_num  \\\n",
       "count  12074.000000  ...       12074.000000       12074.000000  12074.000000   \n",
       "mean       0.181687  ...           0.439043           0.465629      0.263541   \n",
       "min        0.000000  ...           0.000000           0.000000      0.000000   \n",
       "25%        0.000930  ...           0.000000           0.000000      0.000000   \n",
       "50%        0.148584  ...           0.000000           0.000000      0.000000   \n",
       "75%        0.264176  ...           1.000000           1.000000      0.000000   \n",
       "max       17.825450  ...           1.000000           1.000000     19.000000   \n",
       "std        0.273871  ...           0.496291           0.498838      0.862415   \n",
       "\n",
       "            gov_num  state_gov_num   loc_gov_num  fed_gov_dummy     gov_dummy  \\\n",
       "count  12074.000000   12074.000000  12074.000000   12074.000000  12074.000000   \n",
       "mean       0.295511       0.023025      0.008945       0.152725      0.160593   \n",
       "min        0.000000       0.000000      0.000000       0.000000      0.000000   \n",
       "25%        0.000000       0.000000      0.000000       0.000000      0.000000   \n",
       "50%        0.000000       0.000000      0.000000       0.000000      0.000000   \n",
       "75%        0.000000       0.000000      0.000000       0.000000      0.000000   \n",
       "max       19.000000      10.000000      3.000000       1.000000      1.000000   \n",
       "std        0.934783       0.219107      0.114772       0.359737      0.367170   \n",
       "\n",
       "       state_gov_dummy  loc_gov_dummy  \n",
       "count     12074.000000   12074.000000  \n",
       "mean          0.016316       0.006957  \n",
       "min           0.000000       0.000000  \n",
       "25%           0.000000       0.000000  \n",
       "50%           0.000000       0.000000  \n",
       "75%           0.000000       0.000000  \n",
       "max           1.000000       1.000000  \n",
       "std           0.126693       0.083122  \n",
       "\n",
       "[8 rows x 193 columns]"
      ],
      "text/html": [
       "<div>\n",
       "<style scoped>\n",
       "    .dataframe tbody tr th:only-of-type {\n",
       "        vertical-align: middle;\n",
       "    }\n",
       "\n",
       "    .dataframe tbody tr th {\n",
       "        vertical-align: top;\n",
       "    }\n",
       "\n",
       "    .dataframe thead th {\n",
       "        text-align: right;\n",
       "    }\n",
       "</style>\n",
       "<table border=\"1\" class=\"dataframe\">\n",
       "  <thead>\n",
       "    <tr style=\"text-align: right;\">\n",
       "      <th></th>\n",
       "      <th>index</th>\n",
       "      <th>gvkey</th>\n",
       "      <th>fiscal_year</th>\n",
       "      <th>mf_indicator</th>\n",
       "      <th>frequency</th>\n",
       "      <th>log_frequency</th>\n",
       "      <th>MajorGovCustomer</th>\n",
       "      <th>post</th>\n",
       "      <th>log_market_value</th>\n",
       "      <th>lev</th>\n",
       "      <th>...</th>\n",
       "      <th>highDonation3Year</th>\n",
       "      <th>highDonation4Year</th>\n",
       "      <th>fed_gov_num</th>\n",
       "      <th>gov_num</th>\n",
       "      <th>state_gov_num</th>\n",
       "      <th>loc_gov_num</th>\n",
       "      <th>fed_gov_dummy</th>\n",
       "      <th>gov_dummy</th>\n",
       "      <th>state_gov_dummy</th>\n",
       "      <th>loc_gov_dummy</th>\n",
       "    </tr>\n",
       "  </thead>\n",
       "  <tbody>\n",
       "    <tr>\n",
       "      <th>count</th>\n",
       "      <td>12074.00000</td>\n",
       "      <td>12074.000000</td>\n",
       "      <td>12074.000000</td>\n",
       "      <td>12074.000000</td>\n",
       "      <td>12074.000000</td>\n",
       "      <td>12074.000000</td>\n",
       "      <td>12074.000000</td>\n",
       "      <td>12074.000000</td>\n",
       "      <td>12074.000000</td>\n",
       "      <td>12074.000000</td>\n",
       "      <td>...</td>\n",
       "      <td>12074.000000</td>\n",
       "      <td>12074.000000</td>\n",
       "      <td>12074.000000</td>\n",
       "      <td>12074.000000</td>\n",
       "      <td>12074.000000</td>\n",
       "      <td>12074.000000</td>\n",
       "      <td>12074.000000</td>\n",
       "      <td>12074.000000</td>\n",
       "      <td>12074.000000</td>\n",
       "      <td>12074.000000</td>\n",
       "    </tr>\n",
       "    <tr>\n",
       "      <th>mean</th>\n",
       "      <td>6036.50000</td>\n",
       "      <td>81220.205317</td>\n",
       "      <td>2011.546960</td>\n",
       "      <td>0.363508</td>\n",
       "      <td>4.817459</td>\n",
       "      <td>0.868412</td>\n",
       "      <td>0.153553</td>\n",
       "      <td>0.508945</td>\n",
       "      <td>6.517410</td>\n",
       "      <td>0.181687</td>\n",
       "      <td>...</td>\n",
       "      <td>0.439043</td>\n",
       "      <td>0.465629</td>\n",
       "      <td>0.263541</td>\n",
       "      <td>0.295511</td>\n",
       "      <td>0.023025</td>\n",
       "      <td>0.008945</td>\n",
       "      <td>0.152725</td>\n",
       "      <td>0.160593</td>\n",
       "      <td>0.016316</td>\n",
       "      <td>0.006957</td>\n",
       "    </tr>\n",
       "    <tr>\n",
       "      <th>min</th>\n",
       "      <td>0.00000</td>\n",
       "      <td>1004.000000</td>\n",
       "      <td>2008.000000</td>\n",
       "      <td>0.000000</td>\n",
       "      <td>0.000000</td>\n",
       "      <td>0.000000</td>\n",
       "      <td>0.000000</td>\n",
       "      <td>0.000000</td>\n",
       "      <td>0.786519</td>\n",
       "      <td>0.000000</td>\n",
       "      <td>...</td>\n",
       "      <td>0.000000</td>\n",
       "      <td>0.000000</td>\n",
       "      <td>0.000000</td>\n",
       "      <td>0.000000</td>\n",
       "      <td>0.000000</td>\n",
       "      <td>0.000000</td>\n",
       "      <td>0.000000</td>\n",
       "      <td>0.000000</td>\n",
       "      <td>0.000000</td>\n",
       "      <td>0.000000</td>\n",
       "    </tr>\n",
       "    <tr>\n",
       "      <th>25%</th>\n",
       "      <td>3018.25000</td>\n",
       "      <td>12142.000000</td>\n",
       "      <td>2010.000000</td>\n",
       "      <td>0.000000</td>\n",
       "      <td>0.000000</td>\n",
       "      <td>0.000000</td>\n",
       "      <td>0.000000</td>\n",
       "      <td>0.000000</td>\n",
       "      <td>5.012064</td>\n",
       "      <td>0.000930</td>\n",
       "      <td>...</td>\n",
       "      <td>0.000000</td>\n",
       "      <td>0.000000</td>\n",
       "      <td>0.000000</td>\n",
       "      <td>0.000000</td>\n",
       "      <td>0.000000</td>\n",
       "      <td>0.000000</td>\n",
       "      <td>0.000000</td>\n",
       "      <td>0.000000</td>\n",
       "      <td>0.000000</td>\n",
       "      <td>0.000000</td>\n",
       "    </tr>\n",
       "    <tr>\n",
       "      <th>50%</th>\n",
       "      <td>6036.50000</td>\n",
       "      <td>62592.000000</td>\n",
       "      <td>2012.000000</td>\n",
       "      <td>0.000000</td>\n",
       "      <td>0.000000</td>\n",
       "      <td>0.000000</td>\n",
       "      <td>0.000000</td>\n",
       "      <td>1.000000</td>\n",
       "      <td>6.520895</td>\n",
       "      <td>0.148584</td>\n",
       "      <td>...</td>\n",
       "      <td>0.000000</td>\n",
       "      <td>0.000000</td>\n",
       "      <td>0.000000</td>\n",
       "      <td>0.000000</td>\n",
       "      <td>0.000000</td>\n",
       "      <td>0.000000</td>\n",
       "      <td>0.000000</td>\n",
       "      <td>0.000000</td>\n",
       "      <td>0.000000</td>\n",
       "      <td>0.000000</td>\n",
       "    </tr>\n",
       "    <tr>\n",
       "      <th>75%</th>\n",
       "      <td>9054.75000</td>\n",
       "      <td>156153.000000</td>\n",
       "      <td>2014.000000</td>\n",
       "      <td>1.000000</td>\n",
       "      <td>7.000000</td>\n",
       "      <td>2.079442</td>\n",
       "      <td>0.000000</td>\n",
       "      <td>1.000000</td>\n",
       "      <td>7.976261</td>\n",
       "      <td>0.264176</td>\n",
       "      <td>...</td>\n",
       "      <td>1.000000</td>\n",
       "      <td>1.000000</td>\n",
       "      <td>0.000000</td>\n",
       "      <td>0.000000</td>\n",
       "      <td>0.000000</td>\n",
       "      <td>0.000000</td>\n",
       "      <td>0.000000</td>\n",
       "      <td>0.000000</td>\n",
       "      <td>0.000000</td>\n",
       "      <td>0.000000</td>\n",
       "    </tr>\n",
       "    <tr>\n",
       "      <th>max</th>\n",
       "      <td>12073.00000</td>\n",
       "      <td>296753.000000</td>\n",
       "      <td>2015.000000</td>\n",
       "      <td>1.000000</td>\n",
       "      <td>36.000000</td>\n",
       "      <td>3.610918</td>\n",
       "      <td>1.000000</td>\n",
       "      <td>1.000000</td>\n",
       "      <td>11.561005</td>\n",
       "      <td>17.825450</td>\n",
       "      <td>...</td>\n",
       "      <td>1.000000</td>\n",
       "      <td>1.000000</td>\n",
       "      <td>19.000000</td>\n",
       "      <td>19.000000</td>\n",
       "      <td>10.000000</td>\n",
       "      <td>3.000000</td>\n",
       "      <td>1.000000</td>\n",
       "      <td>1.000000</td>\n",
       "      <td>1.000000</td>\n",
       "      <td>1.000000</td>\n",
       "    </tr>\n",
       "    <tr>\n",
       "      <th>std</th>\n",
       "      <td>3485.60791</td>\n",
       "      <td>73644.923742</td>\n",
       "      <td>2.279738</td>\n",
       "      <td>0.481029</td>\n",
       "      <td>8.551352</td>\n",
       "      <td>1.245300</td>\n",
       "      <td>0.360535</td>\n",
       "      <td>0.499941</td>\n",
       "      <td>2.163776</td>\n",
       "      <td>0.273871</td>\n",
       "      <td>...</td>\n",
       "      <td>0.496291</td>\n",
       "      <td>0.498838</td>\n",
       "      <td>0.862415</td>\n",
       "      <td>0.934783</td>\n",
       "      <td>0.219107</td>\n",
       "      <td>0.114772</td>\n",
       "      <td>0.359737</td>\n",
       "      <td>0.367170</td>\n",
       "      <td>0.126693</td>\n",
       "      <td>0.083122</td>\n",
       "    </tr>\n",
       "  </tbody>\n",
       "</table>\n",
       "<p>8 rows × 193 columns</p>\n",
       "</div>"
      ]
     },
     "execution_count": 11,
     "metadata": {},
     "output_type": "execute_result"
    }
   ],
   "execution_count": 11
  },
  {
   "metadata": {
    "ExecuteTime": {
     "end_time": "2024-12-23T06:32:02.995562Z",
     "start_time": "2024-12-23T06:32:02.707464Z"
    }
   },
   "cell_type": "code",
   "source": "reg_df_gov_num.to_stata(os.path.join(const.RESULT_PATH, '20241223_stock_act_reg_data.dta'), write_index=False, version=119)",
   "id": "5e9f5b05fd89203e",
   "outputs": [],
   "execution_count": 12
  },
  {
   "metadata": {},
   "cell_type": "markdown",
   "source": "# append some annual data",
   "id": "270f890cd3dc4355"
  },
  {
   "metadata": {
    "ExecuteTime": {
     "end_time": "2024-12-31T08:14:29.918490Z",
     "start_time": "2024-12-31T08:14:29.731602Z"
    }
   },
   "cell_type": "code",
   "source": [
    "reg_df: DataFrame = pd.read_stata(os.path.join(const.RESULT_PATH, '20241223_stock_act_reg_data.dta'))\n",
    "gov_contract: DataFrame = pd.read_stata(os.path.join(const.DATA_PATH, 'fromZGY', 'gov_contract.dta')).rename(\n",
    "    columns={'year': const.YEAR, 'if_gov_contract': 'hasGovContractPanel'}).drop(\n",
    "    ['index', 'if_cpdata', 'if_costplus', 'if_cas', 'if_noncomm'], axis=1).dropna(how='any').drop_duplicates(\n",
    "    subset=[const.GVKEY, const.YEAR], keep='first')\n",
    "govsales_percentage: DataFrame = pd.read_stata(os.path.join(const.DATA_PATH, 'fromZGY', 'govsales_percentage.dta')).rename(\n",
    "    columns={'tic': const.TICKER, 'annual_per_sale': 'GovSalePercent'}).drop(\n",
    "    ['index', 'gov_annual_sales', 'all_annual_sales'], axis=1).dropna(how='any')\n",
    "\n"
   ],
   "id": "f4c22670c1dbd2e0",
   "outputs": [],
   "execution_count": 50
  },
  {
   "metadata": {
    "ExecuteTime": {
     "end_time": "2024-12-31T08:14:30.686774Z",
     "start_time": "2024-12-31T08:14:30.670517Z"
    }
   },
   "cell_type": "code",
   "source": [
    "dollar_amount = pd.read_stata(os.path.join(const.DATA_PATH, 'fromZGY', 'fec_2008_2015_firmlevel_dollarnum.dta')).rename(\n",
    "    columns={'year': const.YEAR, 'amount': 'contrAmt'}).drop(['index'], axis=1).dropna(how='any')\n",
    "people_num = pd.read_stata(os.path.join(const.DATA_PATH, 'fromZGY', 'fec_2008_2015_firmlevel_peoplenum.dta')).rename(\n",
    "    columns={'year': const.YEAR, 'recipient_ext_id': 'numPolitician'}).drop(['index'], axis=1).dropna(how='any')"
   ],
   "id": "803b39cc2c705bd2",
   "outputs": [],
   "execution_count": 51
  },
  {
   "metadata": {
    "ExecuteTime": {
     "end_time": "2024-12-31T08:14:32.198666Z",
     "start_time": "2024-12-31T08:14:32.192313Z"
    }
   },
   "cell_type": "code",
   "source": [
    "gov_contract[const.YEAR] = gov_contract[const.YEAR].astype(int)\n",
    "govsales_percentage[const.YEAR] = govsales_percentage[const.YEAR].astype(int)\n",
    "dollar_amount[const.YEAR] = dollar_amount[const.YEAR].astype(int)\n",
    "people_num[const.YEAR] = people_num[const.YEAR].astype(int)\n",
    "gov_contract[const.GVKEY] = gov_contract[const.GVKEY].astype(int)\n",
    "dollar_amount[const.GVKEY] = dollar_amount[const.GVKEY].astype(int)\n",
    "people_num[const.GVKEY] = people_num[const.GVKEY].astype(int)"
   ],
   "id": "90c2a2900f1f0b15",
   "outputs": [],
   "execution_count": 52
  },
  {
   "metadata": {
    "ExecuteTime": {
     "end_time": "2024-12-31T08:18:30.997267Z",
     "start_time": "2024-12-31T08:18:30.913820Z"
    }
   },
   "cell_type": "code",
   "source": [
    "reg_df2: DataFrame = reg_df.merge(govsales_percentage, on=[const.TICKER, const.YEAR], how='left').merge(\n",
    "    gov_contract, on=[const.GVKEY, const.YEAR], how='left').merge(\n",
    "    dollar_amount, on=[const.GVKEY, const.YEAR], how='left').merge(\n",
    "    people_num, on=[const.GVKEY, const.YEAR], how='left')\n",
    "reg_df2.loc[:, 'hasGovContractPanel'] = reg_df2['hasGovContractPanel'].fillna(0)\n"
   ],
   "id": "b20861c3f907fc49",
   "outputs": [],
   "execution_count": 63
  },
  {
   "metadata": {
    "ExecuteTime": {
     "end_time": "2024-12-31T07:48:16.423246Z",
     "start_time": "2024-12-31T07:48:16.411172Z"
    }
   },
   "cell_type": "code",
   "source": "reg_df2[['hasGovContract', 'hasGovContractPanel']].describe()",
   "id": "88bab480dc6d8e96",
   "outputs": [
    {
     "data": {
      "text/plain": [
       "       hasGovContract  hasGovContractPanel\n",
       "count    12074.000000         12074.000000\n",
       "mean         0.281762             0.430098\n",
       "std          0.449877             0.495110\n",
       "min          0.000000             0.000000\n",
       "25%          0.000000             0.000000\n",
       "50%          0.000000             0.000000\n",
       "75%          1.000000             1.000000\n",
       "max          1.000000             1.000000"
      ],
      "text/html": [
       "<div>\n",
       "<style scoped>\n",
       "    .dataframe tbody tr th:only-of-type {\n",
       "        vertical-align: middle;\n",
       "    }\n",
       "\n",
       "    .dataframe tbody tr th {\n",
       "        vertical-align: top;\n",
       "    }\n",
       "\n",
       "    .dataframe thead th {\n",
       "        text-align: right;\n",
       "    }\n",
       "</style>\n",
       "<table border=\"1\" class=\"dataframe\">\n",
       "  <thead>\n",
       "    <tr style=\"text-align: right;\">\n",
       "      <th></th>\n",
       "      <th>hasGovContract</th>\n",
       "      <th>hasGovContractPanel</th>\n",
       "    </tr>\n",
       "  </thead>\n",
       "  <tbody>\n",
       "    <tr>\n",
       "      <th>count</th>\n",
       "      <td>12074.000000</td>\n",
       "      <td>12074.000000</td>\n",
       "    </tr>\n",
       "    <tr>\n",
       "      <th>mean</th>\n",
       "      <td>0.281762</td>\n",
       "      <td>0.430098</td>\n",
       "    </tr>\n",
       "    <tr>\n",
       "      <th>std</th>\n",
       "      <td>0.449877</td>\n",
       "      <td>0.495110</td>\n",
       "    </tr>\n",
       "    <tr>\n",
       "      <th>min</th>\n",
       "      <td>0.000000</td>\n",
       "      <td>0.000000</td>\n",
       "    </tr>\n",
       "    <tr>\n",
       "      <th>25%</th>\n",
       "      <td>0.000000</td>\n",
       "      <td>0.000000</td>\n",
       "    </tr>\n",
       "    <tr>\n",
       "      <th>50%</th>\n",
       "      <td>0.000000</td>\n",
       "      <td>0.000000</td>\n",
       "    </tr>\n",
       "    <tr>\n",
       "      <th>75%</th>\n",
       "      <td>1.000000</td>\n",
       "      <td>1.000000</td>\n",
       "    </tr>\n",
       "    <tr>\n",
       "      <th>max</th>\n",
       "      <td>1.000000</td>\n",
       "      <td>1.000000</td>\n",
       "    </tr>\n",
       "  </tbody>\n",
       "</table>\n",
       "</div>"
      ]
     },
     "execution_count": 47,
     "metadata": {},
     "output_type": "execute_result"
    }
   ],
   "execution_count": 47
  },
  {
   "metadata": {
    "ExecuteTime": {
     "end_time": "2024-12-31T08:18:33.897636Z",
     "start_time": "2024-12-31T08:18:33.675249Z"
    }
   },
   "cell_type": "code",
   "source": [
    "reg_df2['hasGovPanelMajor'] = reg_df2.apply(lambda x: int((x['hasGovContractPanel'] == 1) and (x['MajorGovCustomer'] == 0)), axis=1)\n",
    "reg_df2['hasGovPanelFed'] = reg_df2.apply(lambda x: int((x['hasGovContractPanel'] == 1) and (x['fed_gov_dummy'] == 0)), axis=1)"
   ],
   "id": "1712b5a461a7246e",
   "outputs": [],
   "execution_count": 64
  },
  {
   "metadata": {
    "ExecuteTime": {
     "end_time": "2024-12-31T08:15:19.343040Z",
     "start_time": "2024-12-31T08:15:19.328324Z"
    }
   },
   "cell_type": "code",
   "source": "reg_df2.loc[:, ['GovSalePercent', 'contrAmt', 'numPolitician']].describe()",
   "id": "a64779ad596214a4",
   "outputs": [
    {
     "data": {
      "text/plain": [
       "       GovSalePercent      contrAmt  numPolitician\n",
       "count     1362.000000  4.984000e+03    4984.000000\n",
       "mean         0.421257  3.017618e+04      33.989767\n",
       "std          0.341576  1.046634e+05     114.451020\n",
       "min          0.001727 -6.618000e+03       1.000000\n",
       "25%          0.104907  1.250000e+03       2.000000\n",
       "50%          0.327493  5.300000e+03       6.000000\n",
       "75%          0.694477  2.264300e+04      22.000000\n",
       "max          1.000000  3.602357e+06    2581.000000"
      ],
      "text/html": [
       "<div>\n",
       "<style scoped>\n",
       "    .dataframe tbody tr th:only-of-type {\n",
       "        vertical-align: middle;\n",
       "    }\n",
       "\n",
       "    .dataframe tbody tr th {\n",
       "        vertical-align: top;\n",
       "    }\n",
       "\n",
       "    .dataframe thead th {\n",
       "        text-align: right;\n",
       "    }\n",
       "</style>\n",
       "<table border=\"1\" class=\"dataframe\">\n",
       "  <thead>\n",
       "    <tr style=\"text-align: right;\">\n",
       "      <th></th>\n",
       "      <th>GovSalePercent</th>\n",
       "      <th>contrAmt</th>\n",
       "      <th>numPolitician</th>\n",
       "    </tr>\n",
       "  </thead>\n",
       "  <tbody>\n",
       "    <tr>\n",
       "      <th>count</th>\n",
       "      <td>1362.000000</td>\n",
       "      <td>4.984000e+03</td>\n",
       "      <td>4984.000000</td>\n",
       "    </tr>\n",
       "    <tr>\n",
       "      <th>mean</th>\n",
       "      <td>0.421257</td>\n",
       "      <td>3.017618e+04</td>\n",
       "      <td>33.989767</td>\n",
       "    </tr>\n",
       "    <tr>\n",
       "      <th>std</th>\n",
       "      <td>0.341576</td>\n",
       "      <td>1.046634e+05</td>\n",
       "      <td>114.451020</td>\n",
       "    </tr>\n",
       "    <tr>\n",
       "      <th>min</th>\n",
       "      <td>0.001727</td>\n",
       "      <td>-6.618000e+03</td>\n",
       "      <td>1.000000</td>\n",
       "    </tr>\n",
       "    <tr>\n",
       "      <th>25%</th>\n",
       "      <td>0.104907</td>\n",
       "      <td>1.250000e+03</td>\n",
       "      <td>2.000000</td>\n",
       "    </tr>\n",
       "    <tr>\n",
       "      <th>50%</th>\n",
       "      <td>0.327493</td>\n",
       "      <td>5.300000e+03</td>\n",
       "      <td>6.000000</td>\n",
       "    </tr>\n",
       "    <tr>\n",
       "      <th>75%</th>\n",
       "      <td>0.694477</td>\n",
       "      <td>2.264300e+04</td>\n",
       "      <td>22.000000</td>\n",
       "    </tr>\n",
       "    <tr>\n",
       "      <th>max</th>\n",
       "      <td>1.000000</td>\n",
       "      <td>3.602357e+06</td>\n",
       "      <td>2581.000000</td>\n",
       "    </tr>\n",
       "  </tbody>\n",
       "</table>\n",
       "</div>"
      ]
     },
     "execution_count": 55,
     "metadata": {},
     "output_type": "execute_result"
    }
   ],
   "execution_count": 55
  },
  {
   "metadata": {
    "ExecuteTime": {
     "end_time": "2024-12-31T08:16:54.683384Z",
     "start_time": "2024-12-31T08:16:54.678858Z"
    }
   },
   "cell_type": "code",
   "source": [
    "def create_high_low_dummy(df: DataFrame, check_key: str):\n",
    "    df_median = df[check_key].median()\n",
    "    df[f'High{check_key}'] = 0\n",
    "    df[f'Low{check_key}'] = 0\n",
    "    df.loc[df[check_key] > df_median, f'High{check_key}'] = 1\n",
    "    df.loc[df[check_key] < df_median, f'Low{check_key}'] = 1\n",
    "\n",
    "    return df\n"
   ],
   "id": "2adc1e708c0e3c5e",
   "outputs": [],
   "execution_count": 56
  },
  {
   "metadata": {
    "ExecuteTime": {
     "end_time": "2024-12-31T08:18:52.391598Z",
     "start_time": "2024-12-31T08:18:52.206808Z"
    }
   },
   "cell_type": "code",
   "source": [
    "reg_df3 = reg_df2.copy()\n",
    "for key in ['GovSalePercent', 'contrAmt', 'numPolitician']:\n",
    "    reg_df3: DataFrame = reg_df3.groupby(const.YEAR).apply(create_high_low_dummy, check_key=key).reset_index(drop=True)\n"
   ],
   "id": "e999a068f830822b",
   "outputs": [
    {
     "name": "stderr",
     "output_type": "stream",
     "text": [
      "C:\\Users\\wangy\\AppData\\Local\\Temp\\ipykernel_33884\\690486281.py:3: DeprecationWarning: DataFrameGroupBy.apply operated on the grouping columns. This behavior is deprecated, and in a future version of pandas the grouping columns will be excluded from the operation. Either pass `include_groups=False` to exclude the groupings or explicitly select the grouping columns after groupby to silence this warning.\n",
      "  reg_df3: DataFrame = reg_df3.groupby(const.YEAR).apply(create_high_low_dummy, check_key=key).reset_index(drop=True)\n",
      "C:\\Users\\wangy\\AppData\\Local\\Temp\\ipykernel_33884\\690486281.py:3: DeprecationWarning: DataFrameGroupBy.apply operated on the grouping columns. This behavior is deprecated, and in a future version of pandas the grouping columns will be excluded from the operation. Either pass `include_groups=False` to exclude the groupings or explicitly select the grouping columns after groupby to silence this warning.\n",
      "  reg_df3: DataFrame = reg_df3.groupby(const.YEAR).apply(create_high_low_dummy, check_key=key).reset_index(drop=True)\n",
      "C:\\Users\\wangy\\AppData\\Local\\Temp\\ipykernel_33884\\690486281.py:3: DeprecationWarning: DataFrameGroupBy.apply operated on the grouping columns. This behavior is deprecated, and in a future version of pandas the grouping columns will be excluded from the operation. Either pass `include_groups=False` to exclude the groupings or explicitly select the grouping columns after groupby to silence this warning.\n",
      "  reg_df3: DataFrame = reg_df3.groupby(const.YEAR).apply(create_high_low_dummy, check_key=key).reset_index(drop=True)\n"
     ]
    }
   ],
   "execution_count": 65
  },
  {
   "metadata": {
    "ExecuteTime": {
     "end_time": "2024-12-31T09:56:16.721125Z",
     "start_time": "2024-12-31T09:56:16.694878Z"
    }
   },
   "cell_type": "code",
   "source": [
    "reg_df3['GovSalePercent'] = reg_df3['GovSalePercent'].fillna(0)\n",
    "reg_df3['contrAmt'] = reg_df3['contrAmt'].fillna(0)\n",
    "reg_df3['numPolitician'] = reg_df3['numPolitician'].fillna(0)"
   ],
   "id": "9e30dd9e6ddf849d",
   "outputs": [],
   "execution_count": 71
  },
  {
   "metadata": {
    "ExecuteTime": {
     "end_time": "2024-12-31T09:56:19.053274Z",
     "start_time": "2024-12-31T09:56:18.687560Z"
    }
   },
   "cell_type": "code",
   "source": "reg_df3.to_stata(os.path.join(const.RESULT_PATH, '20241231_stock_act_data.dta'), write_index=False, version=117)",
   "id": "1f4cb82f577f9846",
   "outputs": [],
   "execution_count": 72
  },
  {
   "metadata": {},
   "cell_type": "markdown",
   "source": "# Prepare regression data for totalP and disclosure",
   "id": "fb996d512debe452"
  },
  {
   "metadata": {
    "ExecuteTime": {
     "end_time": "2025-07-12T12:04:28.808717Z",
     "start_time": "2025-07-12T12:04:28.594206Z"
    }
   },
   "cell_type": "code",
   "source": [
    "main_reg_df = pd.read_stata(os.path.join(const.RESULT_PATH, '20250704_stock_act_reg_data_v1.dta'))\n",
    "placebo_reg_df = pd.read_stata(os.path.join(const.RESULT_PATH, '20250516_2002_2010_regression_data.dta'))\n",
    "\n",
    "const.YEAR"
   ],
   "id": "cdea384e6fb43851",
   "outputs": [
    {
     "data": {
      "text/plain": [
       "'fiscal_year'"
      ]
     },
     "execution_count": 45,
     "metadata": {},
     "output_type": "execute_result"
    }
   ],
   "execution_count": 45
  },
  {
   "metadata": {
    "ExecuteTime": {
     "end_time": "2025-07-12T12:04:31.097483Z",
     "start_time": "2025-07-12T12:04:31.087918Z"
    }
   },
   "cell_type": "code",
   "source": [
    "placebo_reg_df = placebo_reg_df[placebo_reg_df['gov_counts'].notnull()].copy()\n",
    "usekey_list = 'log_frequency gov_indicator sic fiscal_year gvkey Size LEV BM ROA GuidanceForecast'.split(' ')\n",
    "placebo_reg_df_useful = placebo_reg_df[usekey_list].rename(columns={'gov_indicator': 'MajorGovCustomer', 'log_frequency': 'logGuidanceForecast'})"
   ],
   "id": "178a21ed000f4a72",
   "outputs": [],
   "execution_count": 46
  },
  {
   "metadata": {
    "ExecuteTime": {
     "end_time": "2025-07-12T12:04:33.646360Z",
     "start_time": "2025-07-12T12:04:33.632571Z"
    }
   },
   "cell_type": "code",
   "source": [
    "main_reg_useful_df = main_reg_df[['frequency', 'log_frequency_w', 'MajorGovCustomer', 'log_market_value_w', 'lev_w', 'BM_w', 'ROA_w', 'sic', 'fiscal_year', 'gvkey']].rename(\n",
    "    columns={'log_frequency_w': 'logGuidanceForecast', 'frequency': 'GuidanceForecast', 'log_market_value_w': \"Size\", 'lev_w': 'LEV', 'BM_w': 'BM', 'ROA_w': 'ROA'})\n",
    "merged_df = pd.concat([placebo_reg_df_useful, main_reg_useful_df], axis=0, ignore_index=True).drop_duplicates(subset=[const.GVKEY, const.YEAR], keep='last')"
   ],
   "id": "5f4f849c602a00ae",
   "outputs": [],
   "execution_count": 47
  },
  {
   "metadata": {
    "ExecuteTime": {
     "end_time": "2025-07-12T12:04:38.505290Z",
     "start_time": "2025-07-12T12:04:38.143564Z"
    }
   },
   "cell_type": "code",
   "source": [
    "pc_df = pd.read_stata(os.path.join(const.DATA_PATH, '20190217_FEC_general_firm_year_interaction_newly_without_duplicates_interactions3.dta'))\n",
    "pc_valid_df = pc_df[['CSTAT_gvkey', 'year', 'FEC_LoseP', 'FEC_WonP', 'FEC_TotalP']].rename(\n",
    "    columns={'CSTAT_gvkey': const.GVKEY, 'year': const.YEAR, 'FEC_LoseP': 'LoseP', 'FEC_WonP': 'WinP', 'FEC_TotalP': 'TotalP'})\n",
    "pc_valid_df.loc[:, 'NumP'] = pc_valid_df['WinP'] + pc_valid_df['LoseP']\n",
    "pc_valid_df['WinRatio'] = pc_valid_df['WinP'] / pc_valid_df['NumP']\n",
    "pc_valid_df['LoseRatio'] = pc_valid_df['LoseP'] / pc_valid_df['NumP']"
   ],
   "id": "7656d56a86b9d073",
   "outputs": [],
   "execution_count": 48
  },
  {
   "metadata": {
    "ExecuteTime": {
     "end_time": "2025-07-12T12:05:23.774552Z",
     "start_time": "2025-07-12T12:05:23.699840Z"
    }
   },
   "cell_type": "code",
   "source": [
    "tmp_pc_df = pc_valid_df.copy()\n",
    "pc_dis_df = merged_df.merge(tmp_pc_df, on=[const.GVKEY, const.YEAR], how='right')\n",
    "pc_dis_df['sic'] = pc_dis_df['sic'].astype(str)\n",
    "pc_dis_df.to_stata(os.path.join(const.RESULT_PATH, '20250711_stock_act_pc_reg_data.dta'), write_index=False)"
   ],
   "id": "c225399461eaad53",
   "outputs": [],
   "execution_count": 51
  },
  {
   "metadata": {
    "ExecuteTime": {
     "end_time": "2025-07-11T04:48:46.146832Z",
     "start_time": "2025-07-11T04:48:46.131Z"
    }
   },
   "cell_type": "code",
   "source": [
    "tmp_pc_df = pc_valid_df.copy()\n",
    "tmp_pc_df.loc[:, const.YEAR] -= 1\n",
    "pc_dis_df = merged_df.merge(tmp_pc_df, on=[const.GVKEY, const.YEAR], how='inner')\n",
    "pc_dis_df['sic'] = pc_dis_df['sic'].astype(int)\n",
    "pc_dis_df.to_stata(os.path.join(const.RESULT_PATH, '20250711_stock_act_pc_reg_data_v2.dta'), write_index=False)"
   ],
   "id": "1c3fb9d15029f8e",
   "outputs": [],
   "execution_count": 15
  },
  {
   "metadata": {
    "ExecuteTime": {
     "end_time": "2025-07-11T05:35:27.946909Z",
     "start_time": "2025-07-11T05:35:27.901074Z"
    }
   },
   "cell_type": "code",
   "source": [
    "def get_election_cycle(fiscal_year):\n",
    "    if fiscal_year % 2 == 0:\n",
    "        return fiscal_year - 2\n",
    "    else:\n",
    "        return fiscal_year - 1\n",
    "\n",
    "tmp_pc_df = pc_valid_df.rename(columns={const.YEAR: 'ElectionCycle'})\n",
    "merged_df.loc[:, 'ElectionCycle'] = merged_df[const.YEAR].apply(get_election_cycle)\n",
    "\n",
    "pc_dis_df = merged_df.merge(tmp_pc_df, on=[const.GVKEY, 'ElectionCycle'], how='inner')\n",
    "pc_dis_df['sic'] = pc_dis_df['sic'].astype(int)\n",
    "pc_dis_df.to_stata(os.path.join(const.RESULT_PATH, '20250711_stock_act_pc_reg_data_v3.dta'), write_index=False)\n"
   ],
   "id": "896ee31bfc957f",
   "outputs": [],
   "execution_count": 20
  },
  {
   "metadata": {
    "ExecuteTime": {
     "end_time": "2025-07-11T05:35:29.316489Z",
     "start_time": "2025-07-11T05:35:29.295249Z"
    }
   },
   "cell_type": "code",
   "source": [
    "tmp_pc_df = pc_valid_df.rename(columns={const.YEAR: 'ElectionCycle'})\n",
    "tmp_dis_df = merged_df.groupby([const.GVKEY, 'ElectionCycle'])[['Size', 'LEV', 'BM', 'ROA', 'GuidanceForecast']].mean().reset_index(drop=False)\n",
    "pc_dis_df = tmp_dis_df.merge(tmp_pc_df, on=[const.GVKEY, 'ElectionCycle'], how='inner')\n",
    "pc_dis_df['logGuidanceForecast'] = pc_dis_df['GuidanceForecast'].apply(np.log1p)\n",
    "pc_dis_df.to_stata(os.path.join(const.RESULT_PATH, '20250711_stock_act_pc_reg_data_v4.dta'), write_index=False)"
   ],
   "id": "55e25de60d290383",
   "outputs": [],
   "execution_count": 21
  },
  {
   "metadata": {},
   "cell_type": "markdown",
   "source": "## merge with special election data",
   "id": "4f68002968687a18"
  },
  {
   "metadata": {
    "ExecuteTime": {
     "end_time": "2025-07-12T12:03:51.890279Z",
     "start_time": "2025-07-12T12:03:51.738046Z"
    }
   },
   "cell_type": "code",
   "source": [
    "spc_df = pd.read_stata(os.path.join(const.DATA_PATH, '20180829_FEC_federal_special_firm_year_candidate_merged_data.dta'))\n",
    "useful_col = 'year FEC_margin FEC_is_win FEC_is_close_election CSTAT_gvkey'.split(' ')\n",
    "spc_df = spc_df[useful_col].rename(columns={'year': const.YEAR, 'CSTAT_gvkey': const.GVKEY})"
   ],
   "id": "be68db64bab15b49",
   "outputs": [],
   "execution_count": 43
  },
  {
   "metadata": {
    "ExecuteTime": {
     "end_time": "2025-07-12T12:05:42.490358Z",
     "start_time": "2025-07-12T12:05:42.434683Z"
    }
   },
   "cell_type": "code",
   "source": [
    "spc_dis_df = merged_df.merge(spc_df, on=[const.GVKEY, const.YEAR], how='right')\n",
    "spc_dis_df.describe()\n",
    "spc_dis_df['sic'] = spc_dis_df['sic'].astype(str)\n",
    "spc_dis_df.drop_duplicates(subset=[const.GVKEY, const.YEAR], keep='last').to_stata(os.path.join(const.RESULT_PATH, '20250711_stock_act_spc_reg_data.dta'), write_index=False)"
   ],
   "id": "de2ed1fa126d8aac",
   "outputs": [],
   "execution_count": 53
  },
  {
   "metadata": {},
   "cell_type": "markdown",
   "source": [
    "# Construct Regression data for the following variables\n",
    "## GPIN"
   ],
   "id": "83dc4d5793112261"
  },
  {
   "metadata": {
    "ExecuteTime": {
     "end_time": "2025-07-12T09:38:30.345595Z",
     "start_time": "2025-07-12T09:38:30.338762Z"
    }
   },
   "cell_type": "code",
   "source": [
    "crsp_comp_link = pd.read_pickle(os.path.join(const.TEMP_PATH, 'crsp_comp.pkl'))\n",
    "crsp_comp_link['permco'] = crsp_comp_link['permco'].astype(int)\n",
    "crsp_comp_link[const.GVKEY] = crsp_comp_link[const.GVKEY].astype(int)"
   ],
   "id": "c216568063a3eb03",
   "outputs": [],
   "execution_count": 15
  },
  {
   "metadata": {
    "ExecuteTime": {
     "end_time": "2025-07-18T05:21:47.897493Z",
     "start_time": "2025-07-18T05:21:44.900694Z"
    }
   },
   "cell_type": "code",
   "source": [
    "cpin_daily_full = pd.read_csv(os.path.join(const.RESULT_PATH, '1993_2019_cpie_daily.csv'))\n",
    "annual_gpin = cpin_daily_full.groupby(['permno', 'year']).agg({\n",
    "    'cpie_gpin': 'mean',\n",
    "}).reset_index(drop=False)\n",
    "annual_gpin.rename(columns={'year': const.YEAR}, inplace=True)"
   ],
   "id": "b768c9425a8ff554",
   "outputs": [],
   "execution_count": 3
  },
  {
   "metadata": {
    "ExecuteTime": {
     "end_time": "2025-07-12T09:38:32.277943Z",
     "start_time": "2025-07-12T09:38:32.268409Z"
    }
   },
   "cell_type": "code",
   "source": [
    "annual_gpin_gvkey = pd.merge(annual_gpin, crsp_comp_link,\n",
    "                             left_on='permno', right_on='permco', how='left')"
   ],
   "id": "f9d78047776219e2",
   "outputs": [],
   "execution_count": 16
  },
  {
   "metadata": {},
   "cell_type": "markdown",
   "source": "## IDIOSYN",
   "id": "dd92ab439abd0a05"
  },
  {
   "metadata": {
    "ExecuteTime": {
     "end_time": "2025-07-12T03:47:05.135741Z",
     "start_time": "2025-07-12T03:47:05.035543Z"
    }
   },
   "cell_type": "code",
   "source": [
    "synchrony_monthly_df = pd.read_pickle(os.path.join(const.TEMP_PATH, '20250712_synchrony_monthly.pkl'))\n",
    "synchrony_monthly_df['IDIOSYN'] = synchrony_monthly_df['SYNCHRONICITY'] * -1"
   ],
   "id": "8d8bbded29f9776c",
   "outputs": [],
   "execution_count": 5
  },
  {
   "metadata": {
    "ExecuteTime": {
     "end_time": "2025-07-12T09:39:59.088835Z",
     "start_time": "2025-07-12T09:39:59.071087Z"
    }
   },
   "cell_type": "code",
   "source": [
    "synchrony_gvkey_df = pd.merge(synchrony_monthly_df.drop(['SYNCHRONICITY', 'SYNCHRONICITY_MKT', 'SYNCHRONICITY_IND'], axis=1),\n",
    "                                crsp_comp_link,\n",
    "                             left_on='PERMNO', right_on='permco', how='left')"
   ],
   "id": "1620c964aac7665f",
   "outputs": [],
   "execution_count": 18
  },
  {
   "metadata": {
    "ExecuteTime": {
     "end_time": "2025-07-18T05:22:34.881070Z",
     "start_time": "2025-07-18T05:22:34.835348Z"
    }
   },
   "cell_type": "code",
   "source": [
    "idiosyn_df = pd.read_pickle(os.path.join(const.TEMP_PATH, '20250717_idiosyn_monthly.pkl'))\n",
    "idiosyn_df.describe()"
   ],
   "id": "1f48aa8cd19f311e",
   "outputs": [
    {
     "data": {
      "text/plain": [
       "              PERMNO           year        IDIOSYN\n",
       "count  444782.000000  444782.000000  385109.000000\n",
       "mean    52339.816402    1994.478781      -1.445707\n",
       "std     29679.843760      20.945936       1.985146\n",
       "min     10000.000000    1926.000000     -36.736801\n",
       "25%     20722.000000    1982.000000      -2.151028\n",
       "50%     54317.000000    1997.000000      -1.271565\n",
       "75%     80830.000000    2011.000000      -0.478086\n",
       "max     93436.000000    2024.000000       8.074132"
      ],
      "text/html": [
       "<div>\n",
       "<style scoped>\n",
       "    .dataframe tbody tr th:only-of-type {\n",
       "        vertical-align: middle;\n",
       "    }\n",
       "\n",
       "    .dataframe tbody tr th {\n",
       "        vertical-align: top;\n",
       "    }\n",
       "\n",
       "    .dataframe thead th {\n",
       "        text-align: right;\n",
       "    }\n",
       "</style>\n",
       "<table border=\"1\" class=\"dataframe\">\n",
       "  <thead>\n",
       "    <tr style=\"text-align: right;\">\n",
       "      <th></th>\n",
       "      <th>PERMNO</th>\n",
       "      <th>year</th>\n",
       "      <th>IDIOSYN</th>\n",
       "    </tr>\n",
       "  </thead>\n",
       "  <tbody>\n",
       "    <tr>\n",
       "      <th>count</th>\n",
       "      <td>444782.000000</td>\n",
       "      <td>444782.000000</td>\n",
       "      <td>385109.000000</td>\n",
       "    </tr>\n",
       "    <tr>\n",
       "      <th>mean</th>\n",
       "      <td>52339.816402</td>\n",
       "      <td>1994.478781</td>\n",
       "      <td>-1.445707</td>\n",
       "    </tr>\n",
       "    <tr>\n",
       "      <th>std</th>\n",
       "      <td>29679.843760</td>\n",
       "      <td>20.945936</td>\n",
       "      <td>1.985146</td>\n",
       "    </tr>\n",
       "    <tr>\n",
       "      <th>min</th>\n",
       "      <td>10000.000000</td>\n",
       "      <td>1926.000000</td>\n",
       "      <td>-36.736801</td>\n",
       "    </tr>\n",
       "    <tr>\n",
       "      <th>25%</th>\n",
       "      <td>20722.000000</td>\n",
       "      <td>1982.000000</td>\n",
       "      <td>-2.151028</td>\n",
       "    </tr>\n",
       "    <tr>\n",
       "      <th>50%</th>\n",
       "      <td>54317.000000</td>\n",
       "      <td>1997.000000</td>\n",
       "      <td>-1.271565</td>\n",
       "    </tr>\n",
       "    <tr>\n",
       "      <th>75%</th>\n",
       "      <td>80830.000000</td>\n",
       "      <td>2011.000000</td>\n",
       "      <td>-0.478086</td>\n",
       "    </tr>\n",
       "    <tr>\n",
       "      <th>max</th>\n",
       "      <td>93436.000000</td>\n",
       "      <td>2024.000000</td>\n",
       "      <td>8.074132</td>\n",
       "    </tr>\n",
       "  </tbody>\n",
       "</table>\n",
       "</div>"
      ]
     },
     "execution_count": 8,
     "metadata": {},
     "output_type": "execute_result"
    }
   ],
   "execution_count": 8
  },
  {
   "metadata": {},
   "cell_type": "markdown",
   "source": "## DELAY",
   "id": "42c159ff87133b82"
  },
  {
   "metadata": {
    "ExecuteTime": {
     "end_time": "2025-07-18T05:21:54.037635Z",
     "start_time": "2025-07-18T05:21:54.017397Z"
    }
   },
   "cell_type": "code",
   "source": "price_delay_df = pd.read_pickle(os.path.join(const.TEMP_PATH, 'hm2005_all_price_delay.pkl'))",
   "id": "9f099f71b8b9ba7",
   "outputs": [],
   "execution_count": 4
  },
  {
   "metadata": {
    "ExecuteTime": {
     "end_time": "2025-07-17T10:57:35.956239Z",
     "start_time": "2025-07-17T10:57:35.950653Z"
    }
   },
   "cell_type": "code",
   "source": "price_delay_df.keys()",
   "id": "8198869f1c9b24b9",
   "outputs": [
    {
     "data": {
      "text/plain": [
       "Index(['PERMNO', 'year', 'price_delay', 'r2_full', 'r2_restricted', 'n_obs'], dtype='object')"
      ]
     },
     "execution_count": 5,
     "metadata": {},
     "output_type": "execute_result"
    }
   ],
   "execution_count": 5
  },
  {
   "metadata": {
    "ExecuteTime": {
     "end_time": "2025-07-17T10:57:43.167037Z",
     "start_time": "2025-07-17T10:57:43.090164Z"
    }
   },
   "cell_type": "code",
   "source": "price_delay_df.describe()",
   "id": "50df135e9b9e8fbd",
   "outputs": [
    {
     "data": {
      "text/plain": [
       "              PERMNO           year    price_delay        r2_full  \\\n",
       "count  435361.000000  435361.000000  433884.000000  433884.000000   \n",
       "mean    52247.041577    1994.373591       0.474898       0.269389   \n",
       "std     29631.207052      21.023619       0.327104       0.201966   \n",
       "min     10000.000000    1926.000000       0.000000       0.000740   \n",
       "25%     20748.000000    1982.000000       0.171768       0.119707   \n",
       "50%     54114.000000    1997.000000       0.430954       0.213365   \n",
       "75%     80723.000000    2011.000000       0.784484       0.363214   \n",
       "max     93436.000000    2024.000000       1.000000       1.000000   \n",
       "\n",
       "       r2_restricted          n_obs  \n",
       "count   4.338840e+05  435361.000000  \n",
       "mean    1.803564e-01      45.998470  \n",
       "std     2.088700e-01       7.169638  \n",
       "min     1.197764e-11      10.000000  \n",
       "25%     2.459033e-02      48.000000  \n",
       "50%     1.018642e-01      48.000000  \n",
       "75%     2.621346e-01      48.000000  \n",
       "max     1.000000e+00      49.000000  "
      ],
      "text/html": [
       "<div>\n",
       "<style scoped>\n",
       "    .dataframe tbody tr th:only-of-type {\n",
       "        vertical-align: middle;\n",
       "    }\n",
       "\n",
       "    .dataframe tbody tr th {\n",
       "        vertical-align: top;\n",
       "    }\n",
       "\n",
       "    .dataframe thead th {\n",
       "        text-align: right;\n",
       "    }\n",
       "</style>\n",
       "<table border=\"1\" class=\"dataframe\">\n",
       "  <thead>\n",
       "    <tr style=\"text-align: right;\">\n",
       "      <th></th>\n",
       "      <th>PERMNO</th>\n",
       "      <th>year</th>\n",
       "      <th>price_delay</th>\n",
       "      <th>r2_full</th>\n",
       "      <th>r2_restricted</th>\n",
       "      <th>n_obs</th>\n",
       "    </tr>\n",
       "  </thead>\n",
       "  <tbody>\n",
       "    <tr>\n",
       "      <th>count</th>\n",
       "      <td>435361.000000</td>\n",
       "      <td>435361.000000</td>\n",
       "      <td>433884.000000</td>\n",
       "      <td>433884.000000</td>\n",
       "      <td>4.338840e+05</td>\n",
       "      <td>435361.000000</td>\n",
       "    </tr>\n",
       "    <tr>\n",
       "      <th>mean</th>\n",
       "      <td>52247.041577</td>\n",
       "      <td>1994.373591</td>\n",
       "      <td>0.474898</td>\n",
       "      <td>0.269389</td>\n",
       "      <td>1.803564e-01</td>\n",
       "      <td>45.998470</td>\n",
       "    </tr>\n",
       "    <tr>\n",
       "      <th>std</th>\n",
       "      <td>29631.207052</td>\n",
       "      <td>21.023619</td>\n",
       "      <td>0.327104</td>\n",
       "      <td>0.201966</td>\n",
       "      <td>2.088700e-01</td>\n",
       "      <td>7.169638</td>\n",
       "    </tr>\n",
       "    <tr>\n",
       "      <th>min</th>\n",
       "      <td>10000.000000</td>\n",
       "      <td>1926.000000</td>\n",
       "      <td>0.000000</td>\n",
       "      <td>0.000740</td>\n",
       "      <td>1.197764e-11</td>\n",
       "      <td>10.000000</td>\n",
       "    </tr>\n",
       "    <tr>\n",
       "      <th>25%</th>\n",
       "      <td>20748.000000</td>\n",
       "      <td>1982.000000</td>\n",
       "      <td>0.171768</td>\n",
       "      <td>0.119707</td>\n",
       "      <td>2.459033e-02</td>\n",
       "      <td>48.000000</td>\n",
       "    </tr>\n",
       "    <tr>\n",
       "      <th>50%</th>\n",
       "      <td>54114.000000</td>\n",
       "      <td>1997.000000</td>\n",
       "      <td>0.430954</td>\n",
       "      <td>0.213365</td>\n",
       "      <td>1.018642e-01</td>\n",
       "      <td>48.000000</td>\n",
       "    </tr>\n",
       "    <tr>\n",
       "      <th>75%</th>\n",
       "      <td>80723.000000</td>\n",
       "      <td>2011.000000</td>\n",
       "      <td>0.784484</td>\n",
       "      <td>0.363214</td>\n",
       "      <td>2.621346e-01</td>\n",
       "      <td>48.000000</td>\n",
       "    </tr>\n",
       "    <tr>\n",
       "      <th>max</th>\n",
       "      <td>93436.000000</td>\n",
       "      <td>2024.000000</td>\n",
       "      <td>1.000000</td>\n",
       "      <td>1.000000</td>\n",
       "      <td>1.000000e+00</td>\n",
       "      <td>49.000000</td>\n",
       "    </tr>\n",
       "  </tbody>\n",
       "</table>\n",
       "</div>"
      ]
     },
     "execution_count": 6,
     "metadata": {},
     "output_type": "execute_result"
    }
   ],
   "execution_count": 6
  },
  {
   "metadata": {
    "ExecuteTime": {
     "end_time": "2025-07-12T11:47:50.570995Z",
     "start_time": "2025-07-12T11:47:50.553156Z"
    }
   },
   "cell_type": "code",
   "source": [
    "delay_gvkey_df = pd.merge(price_delay_df, crsp_comp_link,\n",
    "                          left_on='PERMNO', right_on='permco', how='left').dropna(subset=[const.GVKEY]).rename(columns={'year': const.YEAR}).drop(['PERMNO', 'r2_full',  'r2_restricted', 'n_obs', 'permco'], axis=1)"
   ],
   "id": "2c5c516120921ac4",
   "outputs": [],
   "execution_count": 28
  },
  {
   "metadata": {},
   "cell_type": "markdown",
   "source": "## ANALYSTS, FCSTERROR and DISPERSION",
   "id": "e564a968cefd37ce"
  },
  {
   "metadata": {
    "ExecuteTime": {
     "end_time": "2025-07-18T05:22:03.005265Z",
     "start_time": "2025-07-18T05:22:02.812623Z"
    }
   },
   "cell_type": "code",
   "source": [
    "afd_df = pd.read_pickle(os.path.join(const.TEMP_PATH, '1976_2023_analysts_fd_data.pkl'))\n",
    "afd_df.describe()"
   ],
   "id": "c4bfea5f3c52644f",
   "outputs": [
    {
     "data": {
      "text/plain": [
       "         fiscal_year      eps_mean        eps_sd    eps_actual         numest  \\\n",
       "count  172208.000000  1.721590e+05  1.473560e+05  1.670650e+05  172208.000000   \n",
       "mean     2001.524035  2.092903e+04  1.918929e+05 -1.553316e+06       6.669149   \n",
       "min      1977.000000 -9.750000e+08  0.000000e+00 -3.564587e+10       1.000000   \n",
       "25%      1993.000000  1.958333e-01  2.916667e-02  6.833333e-02       1.916667   \n",
       "50%      2001.000000  7.983333e-01  6.583333e-02  6.958333e-01       4.166667   \n",
       "75%      2011.000000  1.740000e+00  1.641964e-01  1.645000e+00       9.000000   \n",
       "max      2021.000000  4.800000e+09  4.806799e+09  4.080000e+09      54.666667   \n",
       "std        11.561869  1.646140e+07  2.312975e+07  1.731301e+08       6.704304   \n",
       "\n",
       "       eps_mean_last   eps_sd_last  eps_actual_last    numest_last  \\\n",
       "count   1.721590e+05  1.473560e+05     1.670650e+05  172208.000000   \n",
       "mean   -1.270912e+04  1.494321e+05    -1.534378e+06       6.642345   \n",
       "min    -9.882353e+08  0.000000e+00    -3.763200e+10       1.000000   \n",
       "25%     1.600000e-01  2.000000e-02     6.020000e-02       2.000000   \n",
       "50%     7.800000e-01  5.000000e-02     7.000000e-01       4.000000   \n",
       "75%     1.740000e+00  1.300000e-01     1.670000e+00       9.000000   \n",
       "max     4.800000e+09  5.623709e+09     4.080000e+09      57.000000   \n",
       "std     1.438131e+07  2.160761e+07     1.745210e+08       6.810433   \n",
       "\n",
       "              permno  ...     mthprevprc         mthret         vwretd  \\\n",
       "count  172208.000000  ...  172131.000000  172127.000000  172208.000000   \n",
       "mean    59601.252340  ...      50.250090       0.015151       0.017939   \n",
       "min     10001.000000  ...       0.015625      -1.000000      -0.225361   \n",
       "25%     30728.000000  ...       7.812500      -0.048321       0.003676   \n",
       "50%     75055.000000  ...      17.670000       0.010870       0.018294   \n",
       "75%     84001.000000  ...      32.500000       0.072959       0.031839   \n",
       "max     93436.000000  ...  416876.000000      15.774194       0.129674   \n",
       "std     28512.242719  ...    2305.437187       0.173908       0.035051   \n",
       "\n",
       "                                date      Price_lag    DISPERSION  \\\n",
       "count                         172208  172208.000000  1.473560e+05   \n",
       "mean   2002-06-30 22:38:55.835733504      47.237687  8.673160e+04   \n",
       "min              1977-12-30 00:00:00       0.020000  0.000000e+00   \n",
       "25%              1993-12-31 00:00:00       8.375000  1.230753e-03   \n",
       "50%              2001-12-31 00:00:00      17.660000  3.423006e-03   \n",
       "75%              2011-12-30 00:00:00      31.642500  1.074177e-02   \n",
       "max              2021-12-31 00:00:00  347815.000000  2.247453e+09   \n",
       "std                              NaN    2083.659628  1.038527e+07   \n",
       "\n",
       "      DISPERSION_last     FCSTERROR  FCSTERROR_last  ANALYSTS  \n",
       "count    1.473560e+05  1.670360e+05    1.670360e+05       0.0  \n",
       "mean     5.574889e+04  6.038095e+04    5.865943e+04       NaN  \n",
       "min      0.000000e+00  0.000000e+00    0.000000e+00       NaN  \n",
       "25%      7.390300e-04  2.003949e-03    1.181536e-03       NaN  \n",
       "50%      2.305919e-03  7.588250e-03    5.151602e-03       NaN  \n",
       "75%      8.212652e-03  3.143124e-02    2.495423e-02       NaN  \n",
       "max      1.739205e+09  2.482667e+09    2.900800e+09       NaN  \n",
       "std      7.201449e+06  8.490775e+06    9.372193e+06       NaN  \n",
       "\n",
       "[8 rows x 23 columns]"
      ],
      "text/html": [
       "<div>\n",
       "<style scoped>\n",
       "    .dataframe tbody tr th:only-of-type {\n",
       "        vertical-align: middle;\n",
       "    }\n",
       "\n",
       "    .dataframe tbody tr th {\n",
       "        vertical-align: top;\n",
       "    }\n",
       "\n",
       "    .dataframe thead th {\n",
       "        text-align: right;\n",
       "    }\n",
       "</style>\n",
       "<table border=\"1\" class=\"dataframe\">\n",
       "  <thead>\n",
       "    <tr style=\"text-align: right;\">\n",
       "      <th></th>\n",
       "      <th>fiscal_year</th>\n",
       "      <th>eps_mean</th>\n",
       "      <th>eps_sd</th>\n",
       "      <th>eps_actual</th>\n",
       "      <th>numest</th>\n",
       "      <th>eps_mean_last</th>\n",
       "      <th>eps_sd_last</th>\n",
       "      <th>eps_actual_last</th>\n",
       "      <th>numest_last</th>\n",
       "      <th>permno</th>\n",
       "      <th>...</th>\n",
       "      <th>mthprevprc</th>\n",
       "      <th>mthret</th>\n",
       "      <th>vwretd</th>\n",
       "      <th>date</th>\n",
       "      <th>Price_lag</th>\n",
       "      <th>DISPERSION</th>\n",
       "      <th>DISPERSION_last</th>\n",
       "      <th>FCSTERROR</th>\n",
       "      <th>FCSTERROR_last</th>\n",
       "      <th>ANALYSTS</th>\n",
       "    </tr>\n",
       "  </thead>\n",
       "  <tbody>\n",
       "    <tr>\n",
       "      <th>count</th>\n",
       "      <td>172208.000000</td>\n",
       "      <td>1.721590e+05</td>\n",
       "      <td>1.473560e+05</td>\n",
       "      <td>1.670650e+05</td>\n",
       "      <td>172208.000000</td>\n",
       "      <td>1.721590e+05</td>\n",
       "      <td>1.473560e+05</td>\n",
       "      <td>1.670650e+05</td>\n",
       "      <td>172208.000000</td>\n",
       "      <td>172208.000000</td>\n",
       "      <td>...</td>\n",
       "      <td>172131.000000</td>\n",
       "      <td>172127.000000</td>\n",
       "      <td>172208.000000</td>\n",
       "      <td>172208</td>\n",
       "      <td>172208.000000</td>\n",
       "      <td>1.473560e+05</td>\n",
       "      <td>1.473560e+05</td>\n",
       "      <td>1.670360e+05</td>\n",
       "      <td>1.670360e+05</td>\n",
       "      <td>0.0</td>\n",
       "    </tr>\n",
       "    <tr>\n",
       "      <th>mean</th>\n",
       "      <td>2001.524035</td>\n",
       "      <td>2.092903e+04</td>\n",
       "      <td>1.918929e+05</td>\n",
       "      <td>-1.553316e+06</td>\n",
       "      <td>6.669149</td>\n",
       "      <td>-1.270912e+04</td>\n",
       "      <td>1.494321e+05</td>\n",
       "      <td>-1.534378e+06</td>\n",
       "      <td>6.642345</td>\n",
       "      <td>59601.252340</td>\n",
       "      <td>...</td>\n",
       "      <td>50.250090</td>\n",
       "      <td>0.015151</td>\n",
       "      <td>0.017939</td>\n",
       "      <td>2002-06-30 22:38:55.835733504</td>\n",
       "      <td>47.237687</td>\n",
       "      <td>8.673160e+04</td>\n",
       "      <td>5.574889e+04</td>\n",
       "      <td>6.038095e+04</td>\n",
       "      <td>5.865943e+04</td>\n",
       "      <td>NaN</td>\n",
       "    </tr>\n",
       "    <tr>\n",
       "      <th>min</th>\n",
       "      <td>1977.000000</td>\n",
       "      <td>-9.750000e+08</td>\n",
       "      <td>0.000000e+00</td>\n",
       "      <td>-3.564587e+10</td>\n",
       "      <td>1.000000</td>\n",
       "      <td>-9.882353e+08</td>\n",
       "      <td>0.000000e+00</td>\n",
       "      <td>-3.763200e+10</td>\n",
       "      <td>1.000000</td>\n",
       "      <td>10001.000000</td>\n",
       "      <td>...</td>\n",
       "      <td>0.015625</td>\n",
       "      <td>-1.000000</td>\n",
       "      <td>-0.225361</td>\n",
       "      <td>1977-12-30 00:00:00</td>\n",
       "      <td>0.020000</td>\n",
       "      <td>0.000000e+00</td>\n",
       "      <td>0.000000e+00</td>\n",
       "      <td>0.000000e+00</td>\n",
       "      <td>0.000000e+00</td>\n",
       "      <td>NaN</td>\n",
       "    </tr>\n",
       "    <tr>\n",
       "      <th>25%</th>\n",
       "      <td>1993.000000</td>\n",
       "      <td>1.958333e-01</td>\n",
       "      <td>2.916667e-02</td>\n",
       "      <td>6.833333e-02</td>\n",
       "      <td>1.916667</td>\n",
       "      <td>1.600000e-01</td>\n",
       "      <td>2.000000e-02</td>\n",
       "      <td>6.020000e-02</td>\n",
       "      <td>2.000000</td>\n",
       "      <td>30728.000000</td>\n",
       "      <td>...</td>\n",
       "      <td>7.812500</td>\n",
       "      <td>-0.048321</td>\n",
       "      <td>0.003676</td>\n",
       "      <td>1993-12-31 00:00:00</td>\n",
       "      <td>8.375000</td>\n",
       "      <td>1.230753e-03</td>\n",
       "      <td>7.390300e-04</td>\n",
       "      <td>2.003949e-03</td>\n",
       "      <td>1.181536e-03</td>\n",
       "      <td>NaN</td>\n",
       "    </tr>\n",
       "    <tr>\n",
       "      <th>50%</th>\n",
       "      <td>2001.000000</td>\n",
       "      <td>7.983333e-01</td>\n",
       "      <td>6.583333e-02</td>\n",
       "      <td>6.958333e-01</td>\n",
       "      <td>4.166667</td>\n",
       "      <td>7.800000e-01</td>\n",
       "      <td>5.000000e-02</td>\n",
       "      <td>7.000000e-01</td>\n",
       "      <td>4.000000</td>\n",
       "      <td>75055.000000</td>\n",
       "      <td>...</td>\n",
       "      <td>17.670000</td>\n",
       "      <td>0.010870</td>\n",
       "      <td>0.018294</td>\n",
       "      <td>2001-12-31 00:00:00</td>\n",
       "      <td>17.660000</td>\n",
       "      <td>3.423006e-03</td>\n",
       "      <td>2.305919e-03</td>\n",
       "      <td>7.588250e-03</td>\n",
       "      <td>5.151602e-03</td>\n",
       "      <td>NaN</td>\n",
       "    </tr>\n",
       "    <tr>\n",
       "      <th>75%</th>\n",
       "      <td>2011.000000</td>\n",
       "      <td>1.740000e+00</td>\n",
       "      <td>1.641964e-01</td>\n",
       "      <td>1.645000e+00</td>\n",
       "      <td>9.000000</td>\n",
       "      <td>1.740000e+00</td>\n",
       "      <td>1.300000e-01</td>\n",
       "      <td>1.670000e+00</td>\n",
       "      <td>9.000000</td>\n",
       "      <td>84001.000000</td>\n",
       "      <td>...</td>\n",
       "      <td>32.500000</td>\n",
       "      <td>0.072959</td>\n",
       "      <td>0.031839</td>\n",
       "      <td>2011-12-30 00:00:00</td>\n",
       "      <td>31.642500</td>\n",
       "      <td>1.074177e-02</td>\n",
       "      <td>8.212652e-03</td>\n",
       "      <td>3.143124e-02</td>\n",
       "      <td>2.495423e-02</td>\n",
       "      <td>NaN</td>\n",
       "    </tr>\n",
       "    <tr>\n",
       "      <th>max</th>\n",
       "      <td>2021.000000</td>\n",
       "      <td>4.800000e+09</td>\n",
       "      <td>4.806799e+09</td>\n",
       "      <td>4.080000e+09</td>\n",
       "      <td>54.666667</td>\n",
       "      <td>4.800000e+09</td>\n",
       "      <td>5.623709e+09</td>\n",
       "      <td>4.080000e+09</td>\n",
       "      <td>57.000000</td>\n",
       "      <td>93436.000000</td>\n",
       "      <td>...</td>\n",
       "      <td>416876.000000</td>\n",
       "      <td>15.774194</td>\n",
       "      <td>0.129674</td>\n",
       "      <td>2021-12-31 00:00:00</td>\n",
       "      <td>347815.000000</td>\n",
       "      <td>2.247453e+09</td>\n",
       "      <td>1.739205e+09</td>\n",
       "      <td>2.482667e+09</td>\n",
       "      <td>2.900800e+09</td>\n",
       "      <td>NaN</td>\n",
       "    </tr>\n",
       "    <tr>\n",
       "      <th>std</th>\n",
       "      <td>11.561869</td>\n",
       "      <td>1.646140e+07</td>\n",
       "      <td>2.312975e+07</td>\n",
       "      <td>1.731301e+08</td>\n",
       "      <td>6.704304</td>\n",
       "      <td>1.438131e+07</td>\n",
       "      <td>2.160761e+07</td>\n",
       "      <td>1.745210e+08</td>\n",
       "      <td>6.810433</td>\n",
       "      <td>28512.242719</td>\n",
       "      <td>...</td>\n",
       "      <td>2305.437187</td>\n",
       "      <td>0.173908</td>\n",
       "      <td>0.035051</td>\n",
       "      <td>NaN</td>\n",
       "      <td>2083.659628</td>\n",
       "      <td>1.038527e+07</td>\n",
       "      <td>7.201449e+06</td>\n",
       "      <td>8.490775e+06</td>\n",
       "      <td>9.372193e+06</td>\n",
       "      <td>NaN</td>\n",
       "    </tr>\n",
       "  </tbody>\n",
       "</table>\n",
       "<p>8 rows × 23 columns</p>\n",
       "</div>"
      ]
     },
     "execution_count": 5,
     "metadata": {},
     "output_type": "execute_result"
    }
   ],
   "execution_count": 5
  },
  {
   "metadata": {},
   "cell_type": "markdown",
   "source": "## Guaidance RangeForecast",
   "id": "2447e07c1ed5ba18"
  },
  {
   "metadata": {
    "ExecuteTime": {
     "end_time": "2025-07-18T05:22:05.769061Z",
     "start_time": "2025-07-18T05:22:05.729432Z"
    }
   },
   "cell_type": "code",
   "source": [
    "guidance_df = pd.read_pickle(os.path.join(const.TEMP_PATH, '20250718_ibes_firm_year_guidance.pkl'))\n",
    "guidance_df.describe()"
   ],
   "id": "46890f9a93f87c42",
   "outputs": [
    {
     "data": {
      "text/plain": [
       "        fiscal_year  guidancecount  rangeforecast\n",
       "count  60140.000000   60140.000000   60140.000000\n",
       "mean    2009.203475       9.603991       0.640832\n",
       "std        6.836092       9.613754       0.384548\n",
       "min     1992.000000       1.000000       0.000000\n",
       "25%     2004.000000       2.000000       0.333333\n",
       "50%     2009.000000       6.000000       0.793103\n",
       "75%     2015.000000      14.000000       1.000000\n",
       "max     2021.000000     131.000000       1.000000"
      ],
      "text/html": [
       "<div>\n",
       "<style scoped>\n",
       "    .dataframe tbody tr th:only-of-type {\n",
       "        vertical-align: middle;\n",
       "    }\n",
       "\n",
       "    .dataframe tbody tr th {\n",
       "        vertical-align: top;\n",
       "    }\n",
       "\n",
       "    .dataframe thead th {\n",
       "        text-align: right;\n",
       "    }\n",
       "</style>\n",
       "<table border=\"1\" class=\"dataframe\">\n",
       "  <thead>\n",
       "    <tr style=\"text-align: right;\">\n",
       "      <th></th>\n",
       "      <th>fiscal_year</th>\n",
       "      <th>guidancecount</th>\n",
       "      <th>rangeforecast</th>\n",
       "    </tr>\n",
       "  </thead>\n",
       "  <tbody>\n",
       "    <tr>\n",
       "      <th>count</th>\n",
       "      <td>60140.000000</td>\n",
       "      <td>60140.000000</td>\n",
       "      <td>60140.000000</td>\n",
       "    </tr>\n",
       "    <tr>\n",
       "      <th>mean</th>\n",
       "      <td>2009.203475</td>\n",
       "      <td>9.603991</td>\n",
       "      <td>0.640832</td>\n",
       "    </tr>\n",
       "    <tr>\n",
       "      <th>std</th>\n",
       "      <td>6.836092</td>\n",
       "      <td>9.613754</td>\n",
       "      <td>0.384548</td>\n",
       "    </tr>\n",
       "    <tr>\n",
       "      <th>min</th>\n",
       "      <td>1992.000000</td>\n",
       "      <td>1.000000</td>\n",
       "      <td>0.000000</td>\n",
       "    </tr>\n",
       "    <tr>\n",
       "      <th>25%</th>\n",
       "      <td>2004.000000</td>\n",
       "      <td>2.000000</td>\n",
       "      <td>0.333333</td>\n",
       "    </tr>\n",
       "    <tr>\n",
       "      <th>50%</th>\n",
       "      <td>2009.000000</td>\n",
       "      <td>6.000000</td>\n",
       "      <td>0.793103</td>\n",
       "    </tr>\n",
       "    <tr>\n",
       "      <th>75%</th>\n",
       "      <td>2015.000000</td>\n",
       "      <td>14.000000</td>\n",
       "      <td>1.000000</td>\n",
       "    </tr>\n",
       "    <tr>\n",
       "      <th>max</th>\n",
       "      <td>2021.000000</td>\n",
       "      <td>131.000000</td>\n",
       "      <td>1.000000</td>\n",
       "    </tr>\n",
       "  </tbody>\n",
       "</table>\n",
       "</div>"
      ]
     },
     "execution_count": 6,
     "metadata": {},
     "output_type": "execute_result"
    }
   ],
   "execution_count": 6
  },
  {
   "metadata": {},
   "cell_type": "markdown",
   "source": "## Merge all five dataset",
   "id": "6498f554e92959cf"
  },
  {
   "metadata": {
    "ExecuteTime": {
     "end_time": "2025-07-18T03:55:06.335193Z",
     "start_time": "2025-07-18T03:55:06.326938Z"
    }
   },
   "cell_type": "code",
   "source": [
    "print(annual_gpin.keys())\n",
    "print(idiosyn_df.keys())\n",
    "print(afd_df.keys())\n",
    "print(price_delay_df.keys())\n",
    "print(guidance_df.keys())"
   ],
   "id": "21345893e38171e8",
   "outputs": [
    {
     "name": "stdout",
     "output_type": "stream",
     "text": [
      "Index(['permno', 'fiscal_year', 'cpie_gpin'], dtype='object')\n",
      "Index(['PERMNO', 'year', 'IDIOSYN'], dtype='object')\n",
      "Index(['permno', 'fiscal_year', 'numest', 'numest_last', 'DISPERSION',\n",
      "       'DISPERSION_last', 'FCSTERROR', 'FCSTERROR_last'],\n",
      "      dtype='object')\n",
      "Index(['PERMNO', 'year', 'price_delay', 'r2_full', 'r2_restricted', 'n_obs'], dtype='object')\n",
      "Index(['permno', 'fiscal_year', 'guidancecount', 'rangeforecast'], dtype='object')\n"
     ]
    }
   ],
   "execution_count": 15
  },
  {
   "metadata": {
    "ExecuteTime": {
     "end_time": "2025-07-18T05:22:42.979226Z",
     "start_time": "2025-07-18T05:22:42.371278Z"
    }
   },
   "cell_type": "code",
   "source": [
    "id_df = idiosyn_df.rename(columns={'year': const.YEAR, 'PERMNO': 'permno'}).dropna(how='any')\n",
    "afd_df = afd_df[['permno', const.YEAR, 'numest', 'numest_last', 'DISPERSION', 'DISPERSION_last', 'FCSTERROR', 'FCSTERROR_last']].dropna(subset=['permno', const.YEAR], how='any')\n",
    "pd_df = price_delay_df[['PERMNO', 'year', 'price_delay']].rename(columns={'year': const.YEAR, 'PERMNO': 'permno'}).dropna(how='any')\n",
    "dep_df = annual_gpin.merge(id_df, on=['permno', const.YEAR], how='outer').merge(\n",
    "    afd_df, on=['permno', const.YEAR], how='outer').merge(\n",
    "    pd_df, on=['permno', const.YEAR], how='outer').merge(\n",
    "    guidance_df, on=['permno', const.YEAR], how='outer')"
   ],
   "id": "618d2e0d461e2fc0",
   "outputs": [],
   "execution_count": 9
  },
  {
   "metadata": {
    "ExecuteTime": {
     "end_time": "2025-07-18T05:22:45.445725Z",
     "start_time": "2025-07-18T05:22:45.300567Z"
    }
   },
   "cell_type": "code",
   "source": "dep_df.describe()",
   "id": "4ffc9bec206d9143",
   "outputs": [
    {
     "data": {
      "text/plain": [
       "         fiscal_year      cpie_gpin        IDIOSYN         numest  \\\n",
       "count  436027.000000   3.659300e+04  385109.000000  172208.000000   \n",
       "mean     1994.438402   3.864901e-01      -1.445707       6.669149   \n",
       "std        21.005916   1.822650e-01       1.985146       6.704304   \n",
       "min      1926.000000  7.634524e-272     -36.736801       1.000000   \n",
       "25%      1982.000000   2.285479e-01      -2.151028       1.916667   \n",
       "50%      1997.000000   4.126209e-01      -1.271565       4.166667   \n",
       "75%      2011.000000   5.244818e-01      -0.478086       9.000000   \n",
       "max      2024.000000   1.000000e+00       8.074132      54.666667   \n",
       "\n",
       "         numest_last    DISPERSION  DISPERSION_last     FCSTERROR  \\\n",
       "count  172208.000000  1.473560e+05     1.473560e+05  1.670360e+05   \n",
       "mean        6.642345  8.673160e+04     5.574889e+04  6.038095e+04   \n",
       "std         6.810433  1.038527e+07     7.201449e+06  8.490775e+06   \n",
       "min         1.000000  0.000000e+00     0.000000e+00  0.000000e+00   \n",
       "25%         2.000000  1.230753e-03     7.390300e-04  2.003949e-03   \n",
       "50%         4.000000  3.423006e-03     2.305919e-03  7.588250e-03   \n",
       "75%         9.000000  1.074177e-02     8.212652e-03  3.143124e-02   \n",
       "max        57.000000  2.247453e+09     1.739205e+09  2.482667e+09   \n",
       "\n",
       "       FCSTERROR_last    price_delay  guidancecount  rangeforecast  \n",
       "count    1.670360e+05  433884.000000   60140.000000   60140.000000  \n",
       "mean     5.865943e+04       0.474898       9.603991       0.640832  \n",
       "std      9.372193e+06       0.327104       9.613754       0.384548  \n",
       "min      0.000000e+00       0.000000       1.000000       0.000000  \n",
       "25%      1.181536e-03       0.171768       2.000000       0.333333  \n",
       "50%      5.151602e-03       0.430954       6.000000       0.793103  \n",
       "75%      2.495423e-02       0.784484      14.000000       1.000000  \n",
       "max      2.900800e+09       1.000000     131.000000       1.000000  "
      ],
      "text/html": [
       "<div>\n",
       "<style scoped>\n",
       "    .dataframe tbody tr th:only-of-type {\n",
       "        vertical-align: middle;\n",
       "    }\n",
       "\n",
       "    .dataframe tbody tr th {\n",
       "        vertical-align: top;\n",
       "    }\n",
       "\n",
       "    .dataframe thead th {\n",
       "        text-align: right;\n",
       "    }\n",
       "</style>\n",
       "<table border=\"1\" class=\"dataframe\">\n",
       "  <thead>\n",
       "    <tr style=\"text-align: right;\">\n",
       "      <th></th>\n",
       "      <th>fiscal_year</th>\n",
       "      <th>cpie_gpin</th>\n",
       "      <th>IDIOSYN</th>\n",
       "      <th>numest</th>\n",
       "      <th>numest_last</th>\n",
       "      <th>DISPERSION</th>\n",
       "      <th>DISPERSION_last</th>\n",
       "      <th>FCSTERROR</th>\n",
       "      <th>FCSTERROR_last</th>\n",
       "      <th>price_delay</th>\n",
       "      <th>guidancecount</th>\n",
       "      <th>rangeforecast</th>\n",
       "    </tr>\n",
       "  </thead>\n",
       "  <tbody>\n",
       "    <tr>\n",
       "      <th>count</th>\n",
       "      <td>436027.000000</td>\n",
       "      <td>3.659300e+04</td>\n",
       "      <td>385109.000000</td>\n",
       "      <td>172208.000000</td>\n",
       "      <td>172208.000000</td>\n",
       "      <td>1.473560e+05</td>\n",
       "      <td>1.473560e+05</td>\n",
       "      <td>1.670360e+05</td>\n",
       "      <td>1.670360e+05</td>\n",
       "      <td>433884.000000</td>\n",
       "      <td>60140.000000</td>\n",
       "      <td>60140.000000</td>\n",
       "    </tr>\n",
       "    <tr>\n",
       "      <th>mean</th>\n",
       "      <td>1994.438402</td>\n",
       "      <td>3.864901e-01</td>\n",
       "      <td>-1.445707</td>\n",
       "      <td>6.669149</td>\n",
       "      <td>6.642345</td>\n",
       "      <td>8.673160e+04</td>\n",
       "      <td>5.574889e+04</td>\n",
       "      <td>6.038095e+04</td>\n",
       "      <td>5.865943e+04</td>\n",
       "      <td>0.474898</td>\n",
       "      <td>9.603991</td>\n",
       "      <td>0.640832</td>\n",
       "    </tr>\n",
       "    <tr>\n",
       "      <th>std</th>\n",
       "      <td>21.005916</td>\n",
       "      <td>1.822650e-01</td>\n",
       "      <td>1.985146</td>\n",
       "      <td>6.704304</td>\n",
       "      <td>6.810433</td>\n",
       "      <td>1.038527e+07</td>\n",
       "      <td>7.201449e+06</td>\n",
       "      <td>8.490775e+06</td>\n",
       "      <td>9.372193e+06</td>\n",
       "      <td>0.327104</td>\n",
       "      <td>9.613754</td>\n",
       "      <td>0.384548</td>\n",
       "    </tr>\n",
       "    <tr>\n",
       "      <th>min</th>\n",
       "      <td>1926.000000</td>\n",
       "      <td>7.634524e-272</td>\n",
       "      <td>-36.736801</td>\n",
       "      <td>1.000000</td>\n",
       "      <td>1.000000</td>\n",
       "      <td>0.000000e+00</td>\n",
       "      <td>0.000000e+00</td>\n",
       "      <td>0.000000e+00</td>\n",
       "      <td>0.000000e+00</td>\n",
       "      <td>0.000000</td>\n",
       "      <td>1.000000</td>\n",
       "      <td>0.000000</td>\n",
       "    </tr>\n",
       "    <tr>\n",
       "      <th>25%</th>\n",
       "      <td>1982.000000</td>\n",
       "      <td>2.285479e-01</td>\n",
       "      <td>-2.151028</td>\n",
       "      <td>1.916667</td>\n",
       "      <td>2.000000</td>\n",
       "      <td>1.230753e-03</td>\n",
       "      <td>7.390300e-04</td>\n",
       "      <td>2.003949e-03</td>\n",
       "      <td>1.181536e-03</td>\n",
       "      <td>0.171768</td>\n",
       "      <td>2.000000</td>\n",
       "      <td>0.333333</td>\n",
       "    </tr>\n",
       "    <tr>\n",
       "      <th>50%</th>\n",
       "      <td>1997.000000</td>\n",
       "      <td>4.126209e-01</td>\n",
       "      <td>-1.271565</td>\n",
       "      <td>4.166667</td>\n",
       "      <td>4.000000</td>\n",
       "      <td>3.423006e-03</td>\n",
       "      <td>2.305919e-03</td>\n",
       "      <td>7.588250e-03</td>\n",
       "      <td>5.151602e-03</td>\n",
       "      <td>0.430954</td>\n",
       "      <td>6.000000</td>\n",
       "      <td>0.793103</td>\n",
       "    </tr>\n",
       "    <tr>\n",
       "      <th>75%</th>\n",
       "      <td>2011.000000</td>\n",
       "      <td>5.244818e-01</td>\n",
       "      <td>-0.478086</td>\n",
       "      <td>9.000000</td>\n",
       "      <td>9.000000</td>\n",
       "      <td>1.074177e-02</td>\n",
       "      <td>8.212652e-03</td>\n",
       "      <td>3.143124e-02</td>\n",
       "      <td>2.495423e-02</td>\n",
       "      <td>0.784484</td>\n",
       "      <td>14.000000</td>\n",
       "      <td>1.000000</td>\n",
       "    </tr>\n",
       "    <tr>\n",
       "      <th>max</th>\n",
       "      <td>2024.000000</td>\n",
       "      <td>1.000000e+00</td>\n",
       "      <td>8.074132</td>\n",
       "      <td>54.666667</td>\n",
       "      <td>57.000000</td>\n",
       "      <td>2.247453e+09</td>\n",
       "      <td>1.739205e+09</td>\n",
       "      <td>2.482667e+09</td>\n",
       "      <td>2.900800e+09</td>\n",
       "      <td>1.000000</td>\n",
       "      <td>131.000000</td>\n",
       "      <td>1.000000</td>\n",
       "    </tr>\n",
       "  </tbody>\n",
       "</table>\n",
       "</div>"
      ]
     },
     "execution_count": 10,
     "metadata": {},
     "output_type": "execute_result"
    }
   ],
   "execution_count": 10
  },
  {
   "metadata": {
    "ExecuteTime": {
     "end_time": "2025-07-18T05:22:50.699710Z",
     "start_time": "2025-07-18T05:22:50.658192Z"
    }
   },
   "cell_type": "code",
   "source": "dep_df.to_pickle(os.path.join(const.TEMP_PATH, '20250718_temp_dependent_variables.pkl'))",
   "id": "98a8cee57bc4e9ba",
   "outputs": [],
   "execution_count": 11
  },
  {
   "metadata": {},
   "cell_type": "markdown",
   "source": "## Construct Regression data",
   "id": "5e0a4932255e5a0"
  },
  {
   "metadata": {
    "ExecuteTime": {
     "end_time": "2025-07-18T07:26:33.085789Z",
     "start_time": "2025-07-18T07:26:32.082759Z"
    }
   },
   "cell_type": "code",
   "source": [
    "dep_df = pd.read_pickle(os.path.join(const.TEMP_PATH, '20250718_temp_dependent_variables.pkl'))\n",
    "ccm_path = r'D:\\Users\\wangy\\Documents\\data\\ccm'\n",
    "ccm_df = pd.read_sas(os.path.join(os.path.join(ccm_path, 'ccm_lookup.sas7bdat')), encoding='utf-8')"
   ],
   "id": "53b90939b0ec633b",
   "outputs": [],
   "execution_count": 12
  },
  {
   "metadata": {
    "ExecuteTime": {
     "end_time": "2025-07-18T07:26:37.110004Z",
     "start_time": "2025-07-18T07:26:37.105511Z"
    }
   },
   "cell_type": "code",
   "source": [
    "print('dep_df keys: ', list(dep_df.keys()))\n",
    "print('ccm_df keys: ', list(ccm_df.keys()))"
   ],
   "id": "f5d0213b61afdf67",
   "outputs": [
    {
     "name": "stdout",
     "output_type": "stream",
     "text": [
      "dep_df keys:  ['permno', 'fiscal_year', 'cpie_gpin', 'IDIOSYN', 'numest', 'numest_last', 'DISPERSION', 'DISPERSION_last', 'FCSTERROR', 'FCSTERROR_last', 'price_delay', 'guidancecount', 'rangeforecast']\n",
      "ccm_df keys:  ['GVKEY', 'LPERMNO', 'LPERMCO', 'LINKDT', 'LINKENDDT', 'conm', 'tic', 'cusip', 'cik', 'sic', 'naics', 'gsubind', 'gind', 'year1', 'year2']\n"
     ]
    }
   ],
   "execution_count": 13
  },
  {
   "metadata": {
    "ExecuteTime": {
     "end_time": "2025-07-13T01:38:59.184557Z",
     "start_time": "2025-07-13T01:38:59.079411Z"
    }
   },
   "cell_type": "code",
   "source": [
    "# 标准化列名\n",
    "dep_df.columns = dep_df.columns.str.lower()\n",
    "ccm_df.columns = ccm_df.columns.str.lower()\n",
    "\n",
    "# 保留需要的字段\n",
    "ccm_sub = ccm_df[['gvkey', 'lpermno', 'year1', 'year2']].copy()\n",
    "\n",
    "# 为提高 merge 效率，先 merge on permno，再做年份筛选\n",
    "merged = pd.merge(dep_df, ccm_sub, left_on='permno', right_on='lpermno', how='left')\n",
    "\n",
    "# 年份条件筛选：fiscal_year ∈ [year1, year2]\n",
    "matched = merged[\n",
    "    (merged['fiscal_year'] >= merged['year1']) &\n",
    "    (merged['fiscal_year'] <= merged['year2'])\n",
    "].copy()\n",
    "\n",
    "# 如果多个匹配，选择最近的 year1（可选）\n",
    "matched = matched.sort_values(by=['permno', 'fiscal_year', 'year1'], ascending=[True, True, False])\n",
    "matched = matched.drop_duplicates(subset=['permno', 'fiscal_year'], keep='first')\n",
    "\n",
    "# 删除辅助列（可选）\n",
    "matched = matched.drop(columns=['lpermno', 'year1', 'year2'])\n",
    "matched[const.GVKEY] = matched[const.GVKEY].astype(int)\n"
   ],
   "id": "d202b0dc6d7b305a",
   "outputs": [],
   "execution_count": 6
  },
  {
   "metadata": {
    "ExecuteTime": {
     "end_time": "2025-07-13T01:38:07.825203Z",
     "start_time": "2025-07-13T01:38:07.814664Z"
    }
   },
   "cell_type": "code",
   "source": [
    "reg_df = pd.read_stata(os.path.join(const.RESULT_PATH, '20250711_stock_act_pc_reg_data_v2.dta'))\n",
    "spc_reg_df = pd.read_stata(os.path.join(const.RESULT_PATH, '20250711_stock_act_spc_reg_data_v2.dta'))"
   ],
   "id": "442acbe2131c1ba4",
   "outputs": [],
   "execution_count": 2
  },
  {
   "metadata": {
    "ExecuteTime": {
     "end_time": "2025-07-13T01:39:01.077795Z",
     "start_time": "2025-07-13T01:39:01.017943Z"
    }
   },
   "cell_type": "code",
   "source": [
    "# merge to next year\n",
    "tmp_dep_df = matched.copy()\n",
    "tmp_dep_df['fiscal_year'] = tmp_dep_df['fiscal_year'] + 1\n",
    "\n",
    "reg_df2 = reg_df.merge(tmp_dep_df, on=[const.GVKEY, const.YEAR], how='left').drop_duplicates(subset=[const.GVKEY, const.YEAR], keep='first')\n",
    "reg_df2['coverage'] = reg_df2['coverage'].fillna(0)\n",
    "\n",
    "reg_df2.to_stata(os.path.join(const.RESULT_PATH, '20250713_staock_act_pc_reg_data.dta'), write_index=False)\n",
    "\n",
    "spc_reg_df2 = spc_reg_df.merge(tmp_dep_df, on=[const.GVKEY, const.YEAR], how='left').drop_duplicates(subset=[const.GVKEY, const.YEAR], keep='first')\n",
    "spc_reg_df2['coverage'] = spc_reg_df2['coverage'].fillna(0)\n",
    "\n",
    "spc_reg_df2.to_stata(os.path.join(const.RESULT_PATH, '20250713_staock_act_spc_reg_data.dta'), write_index=False)"
   ],
   "id": "a57d26d43c3080cb",
   "outputs": [],
   "execution_count": 7
  },
  {
   "metadata": {
    "ExecuteTime": {
     "end_time": "2025-07-18T08:18:10.964435Z",
     "start_time": "2025-07-18T08:18:10.620545Z"
    }
   },
   "cell_type": "code",
   "source": [
    "ctrl_df = pd.read_pickle(os.path.join(const.TEMP_PATH, '20250718_ctat_controls.pkl'))\n",
    "# 清理极端值（可选）\n",
    "for var in ['lev', 'bm', 'roa', 'size']:\n",
    "    ctrl_df[var] = ctrl_df[var].replace([np.inf, -np.inf], np.nan)\n",
    "ctrl_df.describe()"
   ],
   "id": "16fe541305412a28",
   "outputs": [
    {
     "data": {
      "text/plain": [
       "                            datadate        fyear           at          dltt  \\\n",
       "count                         557558     557558.0     491792.0      489197.0   \n",
       "mean   1998-12-31 11:40:59.638638848  1998.038767  6037.858243   1130.930462   \n",
       "min              1950-06-30 00:00:00       1950.0          0.0        -0.023   \n",
       "25%              1986-12-31 00:00:00       1986.0     17.43975         0.105   \n",
       "50%              2000-08-31 00:00:00       2000.0      111.415         7.798   \n",
       "75%              2013-05-31 00:00:00       2012.0     826.6605       131.982   \n",
       "max              2025-06-30 00:00:00       2025.0    4349731.0     4216909.0   \n",
       "std                              NaN     17.21838  68113.67766  24821.395229   \n",
       "\n",
       "               ceq          csho      prcc_f           ib        mkvalt  \\\n",
       "count     475336.0      550220.0    461084.0     489218.0      460293.0   \n",
       "mean   1017.306112    138.664963   26.206488   108.175955   2519.428044   \n",
       "min      -139965.0           0.0    0.000001     -99289.0           0.0   \n",
       "25%          5.423         2.813    3.499996       -1.234       19.4675   \n",
       "50%         40.721        10.425     12.1865        1.588         96.12   \n",
       "75%      259.50025         39.46   25.999978     19.81275      553.7411   \n",
       "max       649368.0  25974962.446    141600.0     104821.0   3522211.138   \n",
       "std    6814.797664  35103.410682  508.372195  1133.313807  21754.476467   \n",
       "\n",
       "               dlc       size       lev        bm       roa  \n",
       "count     484236.0   460196.0  491293.0  391611.0  488206.0  \n",
       "mean    542.675002   4.689986      <NA>      <NA>      <NA>  \n",
       "min      -3753.453 -12.144413      <NA>      <NA>      <NA>  \n",
       "25%          0.061   2.969639      <NA>      <NA>      <NA>  \n",
       "50%          1.775   4.566277      <NA>      <NA>      <NA>  \n",
       "75%           18.1   6.317074      <NA>      <NA>      <NA>  \n",
       "max     614237.411    15.0746      <NA>      <NA>      <NA>  \n",
       "std    9100.107825   2.481943      <NA>      <NA>      <NA>  "
      ],
      "text/html": [
       "<div>\n",
       "<style scoped>\n",
       "    .dataframe tbody tr th:only-of-type {\n",
       "        vertical-align: middle;\n",
       "    }\n",
       "\n",
       "    .dataframe tbody tr th {\n",
       "        vertical-align: top;\n",
       "    }\n",
       "\n",
       "    .dataframe thead th {\n",
       "        text-align: right;\n",
       "    }\n",
       "</style>\n",
       "<table border=\"1\" class=\"dataframe\">\n",
       "  <thead>\n",
       "    <tr style=\"text-align: right;\">\n",
       "      <th></th>\n",
       "      <th>datadate</th>\n",
       "      <th>fyear</th>\n",
       "      <th>at</th>\n",
       "      <th>dltt</th>\n",
       "      <th>ceq</th>\n",
       "      <th>csho</th>\n",
       "      <th>prcc_f</th>\n",
       "      <th>ib</th>\n",
       "      <th>mkvalt</th>\n",
       "      <th>dlc</th>\n",
       "      <th>size</th>\n",
       "      <th>lev</th>\n",
       "      <th>bm</th>\n",
       "      <th>roa</th>\n",
       "    </tr>\n",
       "  </thead>\n",
       "  <tbody>\n",
       "    <tr>\n",
       "      <th>count</th>\n",
       "      <td>557558</td>\n",
       "      <td>557558.0</td>\n",
       "      <td>491792.0</td>\n",
       "      <td>489197.0</td>\n",
       "      <td>475336.0</td>\n",
       "      <td>550220.0</td>\n",
       "      <td>461084.0</td>\n",
       "      <td>489218.0</td>\n",
       "      <td>460293.0</td>\n",
       "      <td>484236.0</td>\n",
       "      <td>460196.0</td>\n",
       "      <td>491293.0</td>\n",
       "      <td>391611.0</td>\n",
       "      <td>488206.0</td>\n",
       "    </tr>\n",
       "    <tr>\n",
       "      <th>mean</th>\n",
       "      <td>1998-12-31 11:40:59.638638848</td>\n",
       "      <td>1998.038767</td>\n",
       "      <td>6037.858243</td>\n",
       "      <td>1130.930462</td>\n",
       "      <td>1017.306112</td>\n",
       "      <td>138.664963</td>\n",
       "      <td>26.206488</td>\n",
       "      <td>108.175955</td>\n",
       "      <td>2519.428044</td>\n",
       "      <td>542.675002</td>\n",
       "      <td>4.689986</td>\n",
       "      <td>&lt;NA&gt;</td>\n",
       "      <td>&lt;NA&gt;</td>\n",
       "      <td>&lt;NA&gt;</td>\n",
       "    </tr>\n",
       "    <tr>\n",
       "      <th>min</th>\n",
       "      <td>1950-06-30 00:00:00</td>\n",
       "      <td>1950.0</td>\n",
       "      <td>0.0</td>\n",
       "      <td>-0.023</td>\n",
       "      <td>-139965.0</td>\n",
       "      <td>0.0</td>\n",
       "      <td>0.000001</td>\n",
       "      <td>-99289.0</td>\n",
       "      <td>0.0</td>\n",
       "      <td>-3753.453</td>\n",
       "      <td>-12.144413</td>\n",
       "      <td>&lt;NA&gt;</td>\n",
       "      <td>&lt;NA&gt;</td>\n",
       "      <td>&lt;NA&gt;</td>\n",
       "    </tr>\n",
       "    <tr>\n",
       "      <th>25%</th>\n",
       "      <td>1986-12-31 00:00:00</td>\n",
       "      <td>1986.0</td>\n",
       "      <td>17.43975</td>\n",
       "      <td>0.105</td>\n",
       "      <td>5.423</td>\n",
       "      <td>2.813</td>\n",
       "      <td>3.499996</td>\n",
       "      <td>-1.234</td>\n",
       "      <td>19.4675</td>\n",
       "      <td>0.061</td>\n",
       "      <td>2.969639</td>\n",
       "      <td>&lt;NA&gt;</td>\n",
       "      <td>&lt;NA&gt;</td>\n",
       "      <td>&lt;NA&gt;</td>\n",
       "    </tr>\n",
       "    <tr>\n",
       "      <th>50%</th>\n",
       "      <td>2000-08-31 00:00:00</td>\n",
       "      <td>2000.0</td>\n",
       "      <td>111.415</td>\n",
       "      <td>7.798</td>\n",
       "      <td>40.721</td>\n",
       "      <td>10.425</td>\n",
       "      <td>12.1865</td>\n",
       "      <td>1.588</td>\n",
       "      <td>96.12</td>\n",
       "      <td>1.775</td>\n",
       "      <td>4.566277</td>\n",
       "      <td>&lt;NA&gt;</td>\n",
       "      <td>&lt;NA&gt;</td>\n",
       "      <td>&lt;NA&gt;</td>\n",
       "    </tr>\n",
       "    <tr>\n",
       "      <th>75%</th>\n",
       "      <td>2013-05-31 00:00:00</td>\n",
       "      <td>2012.0</td>\n",
       "      <td>826.6605</td>\n",
       "      <td>131.982</td>\n",
       "      <td>259.50025</td>\n",
       "      <td>39.46</td>\n",
       "      <td>25.999978</td>\n",
       "      <td>19.81275</td>\n",
       "      <td>553.7411</td>\n",
       "      <td>18.1</td>\n",
       "      <td>6.317074</td>\n",
       "      <td>&lt;NA&gt;</td>\n",
       "      <td>&lt;NA&gt;</td>\n",
       "      <td>&lt;NA&gt;</td>\n",
       "    </tr>\n",
       "    <tr>\n",
       "      <th>max</th>\n",
       "      <td>2025-06-30 00:00:00</td>\n",
       "      <td>2025.0</td>\n",
       "      <td>4349731.0</td>\n",
       "      <td>4216909.0</td>\n",
       "      <td>649368.0</td>\n",
       "      <td>25974962.446</td>\n",
       "      <td>141600.0</td>\n",
       "      <td>104821.0</td>\n",
       "      <td>3522211.138</td>\n",
       "      <td>614237.411</td>\n",
       "      <td>15.0746</td>\n",
       "      <td>&lt;NA&gt;</td>\n",
       "      <td>&lt;NA&gt;</td>\n",
       "      <td>&lt;NA&gt;</td>\n",
       "    </tr>\n",
       "    <tr>\n",
       "      <th>std</th>\n",
       "      <td>NaN</td>\n",
       "      <td>17.21838</td>\n",
       "      <td>68113.67766</td>\n",
       "      <td>24821.395229</td>\n",
       "      <td>6814.797664</td>\n",
       "      <td>35103.410682</td>\n",
       "      <td>508.372195</td>\n",
       "      <td>1133.313807</td>\n",
       "      <td>21754.476467</td>\n",
       "      <td>9100.107825</td>\n",
       "      <td>2.481943</td>\n",
       "      <td>&lt;NA&gt;</td>\n",
       "      <td>&lt;NA&gt;</td>\n",
       "      <td>&lt;NA&gt;</td>\n",
       "    </tr>\n",
       "  </tbody>\n",
       "</table>\n",
       "</div>"
      ]
     },
     "execution_count": 15,
     "metadata": {},
     "output_type": "execute_result"
    }
   ],
   "execution_count": 15
  },
  {
   "metadata": {
    "ExecuteTime": {
     "end_time": "2025-07-18T08:18:39.899042Z",
     "start_time": "2025-07-18T08:18:39.875544Z"
    }
   },
   "cell_type": "code",
   "source": "ctrl_df[ctrl_df['lev'].isnull()]",
   "id": "24f086bc957043ca",
   "outputs": [
    {
     "data": {
      "text/plain": [
       "        gvkey   datadate  fyear    at  dltt   ceq    csho   prcc_f    ib  \\\n",
       "2684   001119 1982-12-31   1982  <NA>  <NA>  <NA>   17.13   17.375  <NA>   \n",
       "2685   001119 1983-12-31   1983  <NA>  <NA>  <NA>   17.13   17.875  <NA>   \n",
       "2686   001119 1984-12-31   1984  <NA>  <NA>  <NA>   20.32   16.625  <NA>   \n",
       "2687   001119 1985-12-31   1985  <NA>  <NA>  <NA>  21.313   19.375  <NA>   \n",
       "2688   001119 1986-12-31   1986  <NA>  <NA>  <NA>  22.313   19.125  <NA>   \n",
       "...       ...        ...    ...   ...   ...   ...     ...      ...   ...   \n",
       "85456  330942 2024-12-31   2024  <NA>  <NA>  <NA>    39.9   105.92  <NA>   \n",
       "85496  333359 2022-12-31   2022  <NA>  <NA>  <NA>    8.53  91.9844  <NA>   \n",
       "85497  333359 2024-12-31   2024  <NA>  <NA>  <NA>  10.555  92.0937  <NA>   \n",
       "85668  354003 2023-12-31   2023  <NA>  <NA>  <NA>     0.8  51.9389  <NA>   \n",
       "85669  354003 2024-12-31   2024  <NA>  <NA>  <NA>     0.9   51.495  <NA>   \n",
       "\n",
       "           mkvalt   dlc      size   lev    bm   roa  \n",
       "2684    297.63375  <NA>  5.695864  <NA>  <NA>  <NA>  \n",
       "2685    306.19875  <NA>  5.724234  <NA>  <NA>  <NA>  \n",
       "2686       337.82  <NA>  5.822513  <NA>  <NA>  <NA>  \n",
       "2687   412.939375  <NA>  6.023301  <NA>  <NA>  <NA>  \n",
       "2688   426.736125  <NA>  6.056166  <NA>  <NA>  <NA>  \n",
       "...           ...   ...       ...   ...   ...   ...  \n",
       "85456    4226.208  <NA>   8.34906  <NA>  <NA>  <NA>  \n",
       "85496  784.626932  <NA>  6.665208  <NA>  <NA>  <NA>  \n",
       "85497  972.049003  <NA>  6.879406  <NA>  <NA>  <NA>  \n",
       "85668    41.55112  <NA>  3.726924  <NA>  <NA>  <NA>  \n",
       "85669     46.3455  <NA>  3.836124  <NA>  <NA>  <NA>  \n",
       "\n",
       "[66265 rows x 15 columns]"
      ],
      "text/html": [
       "<div>\n",
       "<style scoped>\n",
       "    .dataframe tbody tr th:only-of-type {\n",
       "        vertical-align: middle;\n",
       "    }\n",
       "\n",
       "    .dataframe tbody tr th {\n",
       "        vertical-align: top;\n",
       "    }\n",
       "\n",
       "    .dataframe thead th {\n",
       "        text-align: right;\n",
       "    }\n",
       "</style>\n",
       "<table border=\"1\" class=\"dataframe\">\n",
       "  <thead>\n",
       "    <tr style=\"text-align: right;\">\n",
       "      <th></th>\n",
       "      <th>gvkey</th>\n",
       "      <th>datadate</th>\n",
       "      <th>fyear</th>\n",
       "      <th>at</th>\n",
       "      <th>dltt</th>\n",
       "      <th>ceq</th>\n",
       "      <th>csho</th>\n",
       "      <th>prcc_f</th>\n",
       "      <th>ib</th>\n",
       "      <th>mkvalt</th>\n",
       "      <th>dlc</th>\n",
       "      <th>size</th>\n",
       "      <th>lev</th>\n",
       "      <th>bm</th>\n",
       "      <th>roa</th>\n",
       "    </tr>\n",
       "  </thead>\n",
       "  <tbody>\n",
       "    <tr>\n",
       "      <th>2684</th>\n",
       "      <td>001119</td>\n",
       "      <td>1982-12-31</td>\n",
       "      <td>1982</td>\n",
       "      <td>&lt;NA&gt;</td>\n",
       "      <td>&lt;NA&gt;</td>\n",
       "      <td>&lt;NA&gt;</td>\n",
       "      <td>17.13</td>\n",
       "      <td>17.375</td>\n",
       "      <td>&lt;NA&gt;</td>\n",
       "      <td>297.63375</td>\n",
       "      <td>&lt;NA&gt;</td>\n",
       "      <td>5.695864</td>\n",
       "      <td>&lt;NA&gt;</td>\n",
       "      <td>&lt;NA&gt;</td>\n",
       "      <td>&lt;NA&gt;</td>\n",
       "    </tr>\n",
       "    <tr>\n",
       "      <th>2685</th>\n",
       "      <td>001119</td>\n",
       "      <td>1983-12-31</td>\n",
       "      <td>1983</td>\n",
       "      <td>&lt;NA&gt;</td>\n",
       "      <td>&lt;NA&gt;</td>\n",
       "      <td>&lt;NA&gt;</td>\n",
       "      <td>17.13</td>\n",
       "      <td>17.875</td>\n",
       "      <td>&lt;NA&gt;</td>\n",
       "      <td>306.19875</td>\n",
       "      <td>&lt;NA&gt;</td>\n",
       "      <td>5.724234</td>\n",
       "      <td>&lt;NA&gt;</td>\n",
       "      <td>&lt;NA&gt;</td>\n",
       "      <td>&lt;NA&gt;</td>\n",
       "    </tr>\n",
       "    <tr>\n",
       "      <th>2686</th>\n",
       "      <td>001119</td>\n",
       "      <td>1984-12-31</td>\n",
       "      <td>1984</td>\n",
       "      <td>&lt;NA&gt;</td>\n",
       "      <td>&lt;NA&gt;</td>\n",
       "      <td>&lt;NA&gt;</td>\n",
       "      <td>20.32</td>\n",
       "      <td>16.625</td>\n",
       "      <td>&lt;NA&gt;</td>\n",
       "      <td>337.82</td>\n",
       "      <td>&lt;NA&gt;</td>\n",
       "      <td>5.822513</td>\n",
       "      <td>&lt;NA&gt;</td>\n",
       "      <td>&lt;NA&gt;</td>\n",
       "      <td>&lt;NA&gt;</td>\n",
       "    </tr>\n",
       "    <tr>\n",
       "      <th>2687</th>\n",
       "      <td>001119</td>\n",
       "      <td>1985-12-31</td>\n",
       "      <td>1985</td>\n",
       "      <td>&lt;NA&gt;</td>\n",
       "      <td>&lt;NA&gt;</td>\n",
       "      <td>&lt;NA&gt;</td>\n",
       "      <td>21.313</td>\n",
       "      <td>19.375</td>\n",
       "      <td>&lt;NA&gt;</td>\n",
       "      <td>412.939375</td>\n",
       "      <td>&lt;NA&gt;</td>\n",
       "      <td>6.023301</td>\n",
       "      <td>&lt;NA&gt;</td>\n",
       "      <td>&lt;NA&gt;</td>\n",
       "      <td>&lt;NA&gt;</td>\n",
       "    </tr>\n",
       "    <tr>\n",
       "      <th>2688</th>\n",
       "      <td>001119</td>\n",
       "      <td>1986-12-31</td>\n",
       "      <td>1986</td>\n",
       "      <td>&lt;NA&gt;</td>\n",
       "      <td>&lt;NA&gt;</td>\n",
       "      <td>&lt;NA&gt;</td>\n",
       "      <td>22.313</td>\n",
       "      <td>19.125</td>\n",
       "      <td>&lt;NA&gt;</td>\n",
       "      <td>426.736125</td>\n",
       "      <td>&lt;NA&gt;</td>\n",
       "      <td>6.056166</td>\n",
       "      <td>&lt;NA&gt;</td>\n",
       "      <td>&lt;NA&gt;</td>\n",
       "      <td>&lt;NA&gt;</td>\n",
       "    </tr>\n",
       "    <tr>\n",
       "      <th>...</th>\n",
       "      <td>...</td>\n",
       "      <td>...</td>\n",
       "      <td>...</td>\n",
       "      <td>...</td>\n",
       "      <td>...</td>\n",
       "      <td>...</td>\n",
       "      <td>...</td>\n",
       "      <td>...</td>\n",
       "      <td>...</td>\n",
       "      <td>...</td>\n",
       "      <td>...</td>\n",
       "      <td>...</td>\n",
       "      <td>...</td>\n",
       "      <td>...</td>\n",
       "      <td>...</td>\n",
       "    </tr>\n",
       "    <tr>\n",
       "      <th>85456</th>\n",
       "      <td>330942</td>\n",
       "      <td>2024-12-31</td>\n",
       "      <td>2024</td>\n",
       "      <td>&lt;NA&gt;</td>\n",
       "      <td>&lt;NA&gt;</td>\n",
       "      <td>&lt;NA&gt;</td>\n",
       "      <td>39.9</td>\n",
       "      <td>105.92</td>\n",
       "      <td>&lt;NA&gt;</td>\n",
       "      <td>4226.208</td>\n",
       "      <td>&lt;NA&gt;</td>\n",
       "      <td>8.34906</td>\n",
       "      <td>&lt;NA&gt;</td>\n",
       "      <td>&lt;NA&gt;</td>\n",
       "      <td>&lt;NA&gt;</td>\n",
       "    </tr>\n",
       "    <tr>\n",
       "      <th>85496</th>\n",
       "      <td>333359</td>\n",
       "      <td>2022-12-31</td>\n",
       "      <td>2022</td>\n",
       "      <td>&lt;NA&gt;</td>\n",
       "      <td>&lt;NA&gt;</td>\n",
       "      <td>&lt;NA&gt;</td>\n",
       "      <td>8.53</td>\n",
       "      <td>91.9844</td>\n",
       "      <td>&lt;NA&gt;</td>\n",
       "      <td>784.626932</td>\n",
       "      <td>&lt;NA&gt;</td>\n",
       "      <td>6.665208</td>\n",
       "      <td>&lt;NA&gt;</td>\n",
       "      <td>&lt;NA&gt;</td>\n",
       "      <td>&lt;NA&gt;</td>\n",
       "    </tr>\n",
       "    <tr>\n",
       "      <th>85497</th>\n",
       "      <td>333359</td>\n",
       "      <td>2024-12-31</td>\n",
       "      <td>2024</td>\n",
       "      <td>&lt;NA&gt;</td>\n",
       "      <td>&lt;NA&gt;</td>\n",
       "      <td>&lt;NA&gt;</td>\n",
       "      <td>10.555</td>\n",
       "      <td>92.0937</td>\n",
       "      <td>&lt;NA&gt;</td>\n",
       "      <td>972.049003</td>\n",
       "      <td>&lt;NA&gt;</td>\n",
       "      <td>6.879406</td>\n",
       "      <td>&lt;NA&gt;</td>\n",
       "      <td>&lt;NA&gt;</td>\n",
       "      <td>&lt;NA&gt;</td>\n",
       "    </tr>\n",
       "    <tr>\n",
       "      <th>85668</th>\n",
       "      <td>354003</td>\n",
       "      <td>2023-12-31</td>\n",
       "      <td>2023</td>\n",
       "      <td>&lt;NA&gt;</td>\n",
       "      <td>&lt;NA&gt;</td>\n",
       "      <td>&lt;NA&gt;</td>\n",
       "      <td>0.8</td>\n",
       "      <td>51.9389</td>\n",
       "      <td>&lt;NA&gt;</td>\n",
       "      <td>41.55112</td>\n",
       "      <td>&lt;NA&gt;</td>\n",
       "      <td>3.726924</td>\n",
       "      <td>&lt;NA&gt;</td>\n",
       "      <td>&lt;NA&gt;</td>\n",
       "      <td>&lt;NA&gt;</td>\n",
       "    </tr>\n",
       "    <tr>\n",
       "      <th>85669</th>\n",
       "      <td>354003</td>\n",
       "      <td>2024-12-31</td>\n",
       "      <td>2024</td>\n",
       "      <td>&lt;NA&gt;</td>\n",
       "      <td>&lt;NA&gt;</td>\n",
       "      <td>&lt;NA&gt;</td>\n",
       "      <td>0.9</td>\n",
       "      <td>51.495</td>\n",
       "      <td>&lt;NA&gt;</td>\n",
       "      <td>46.3455</td>\n",
       "      <td>&lt;NA&gt;</td>\n",
       "      <td>3.836124</td>\n",
       "      <td>&lt;NA&gt;</td>\n",
       "      <td>&lt;NA&gt;</td>\n",
       "      <td>&lt;NA&gt;</td>\n",
       "    </tr>\n",
       "  </tbody>\n",
       "</table>\n",
       "<p>66265 rows × 15 columns</p>\n",
       "</div>"
      ]
     },
     "execution_count": 18,
     "metadata": {},
     "output_type": "execute_result"
    }
   ],
   "execution_count": 18
  },
  {
   "metadata": {
    "ExecuteTime": {
     "end_time": "2025-07-18T09:51:56.394470Z",
     "start_time": "2025-07-18T09:51:56.384440Z"
    }
   },
   "cell_type": "code",
   "source": "ctrl_df.keys()",
   "id": "4dc75aa97f8ea710",
   "outputs": [
    {
     "data": {
      "text/plain": [
       "Index(['gvkey', 'datadate', 'fyear', 'at', 'dltt', 'ceq', 'csho', 'prcc_f',\n",
       "       'ib', 'mkvalt', 'dlc', 'size', 'lev', 'bm', 'roa'],\n",
       "      dtype='object')"
      ]
     },
     "execution_count": 19,
     "metadata": {},
     "output_type": "execute_result"
    }
   ],
   "execution_count": 19
  }
 ],
 "metadata": {
  "kernelspec": {
   "display_name": "Python 3",
   "language": "python",
   "name": "python3"
  },
  "language_info": {
   "codemirror_mode": {
    "name": "ipython",
    "version": 2
   },
   "file_extension": ".py",
   "mimetype": "text/x-python",
   "name": "python",
   "nbconvert_exporter": "python",
   "pygments_lexer": "ipython2",
   "version": "2.7.6"
  }
 },
 "nbformat": 4,
 "nbformat_minor": 5
}
