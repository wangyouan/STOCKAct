{
 "cells": [
  {
   "cell_type": "code",
   "id": "initial_id",
   "metadata": {
    "collapsed": true,
    "ExecuteTime": {
     "end_time": "2025-07-13T00:08:33.020935Z",
     "start_time": "2025-07-13T00:08:26.854105Z"
    }
   },
   "source": [
    "import os\n",
    "\n",
    "import pandas as pd\n",
    "from pandas import DataFrame\n",
    "import numpy as np\n",
    "from scipy.stats.mstats import winsorize\n",
    "\n",
    "from Constants import Constants as const"
   ],
   "outputs": [],
   "execution_count": 1
  },
  {
   "metadata": {
    "ExecuteTime": {
     "end_time": "2024-12-11T21:48:35.520516Z",
     "start_time": "2024-12-11T21:48:35.480247Z"
    }
   },
   "cell_type": "code",
   "source": [
    "pc3_df: DataFrame = pd.read_stata(os.path.join(const.DATA_PATH, 'fromZGY', 'firm_year_num_political_donar_3years.dta')).rename(\n",
    "    columns={'recipient_ext_id': 'numDonation3year'}).drop(['index'], axis=1)\n",
    "pc4_df: DataFrame = pd.read_stata(os.path.join(const.DATA_PATH, 'fromZGY', 'firm_year_num_political_donar_4year.dta')).rename(\n",
    "    columns={'recipient_ext_id': 'numDonation4year'}).drop(['index'], axis=1)"
   ],
   "id": "d97b3ee8236ddf63",
   "outputs": [],
   "execution_count": 2
  },
  {
   "metadata": {
    "ExecuteTime": {
     "end_time": "2024-12-11T21:52:34.577328Z",
     "start_time": "2024-12-11T21:52:34.567512Z"
    }
   },
   "cell_type": "code",
   "source": [
    "pc3_avg = pc3_df.groupby([const.GVKEY])['numDonation3year'].mean()\n",
    "pc4_avg = pc4_df.groupby([const.GVKEY])['numDonation4year'].mean()"
   ],
   "id": "e74bdf75bafd5397",
   "outputs": [],
   "execution_count": 7
  },
  {
   "metadata": {
    "ExecuteTime": {
     "end_time": "2024-12-11T21:53:52.724143Z",
     "start_time": "2024-12-11T21:53:52.718095Z"
    }
   },
   "cell_type": "code",
   "source": [
    "pc3_avg_df: DataFrame = pc3_avg.reset_index(drop=False)\n",
    "pc4_avg_df: DataFrame = pc4_avg.reset_index(drop=False)"
   ],
   "id": "bc46182a7681c3e6",
   "outputs": [],
   "execution_count": 9
  },
  {
   "metadata": {
    "ExecuteTime": {
     "end_time": "2024-12-11T22:00:33.319644Z",
     "start_time": "2024-12-11T22:00:33.089962Z"
    }
   },
   "cell_type": "code",
   "source": [
    "reg_df: DataFrame = pd.read_stata(os.path.join(const.RESULT_PATH, '20241014_stock_act_reg_data_v2.dta'))\n",
    "gvkey_series = reg_df[const.GVKEY].unique()"
   ],
   "id": "e3be6d11e43ec696",
   "outputs": [
    {
     "name": "stderr",
     "output_type": "stream",
     "text": [
      "C:\\Users\\wangy\\AppData\\Local\\Temp\\ipykernel_20864\\88727916.py:1: UnicodeWarning: \n",
      "One or more strings in the dta file could not be decoded using utf-8, and\n",
      "so the fallback encoding of latin-1 is being used.  This can happen when a file\n",
      "has been incorrectly encoded by Stata or some other software. You should verify\n",
      "the string values returned are correct.\n",
      "  reg_df: DataFrame = pd.read_stata(os.path.join(const.RESULT_PATH, '20241014_stock_act_reg_data_v2.dta'))\n"
     ]
    }
   ],
   "execution_count": 10
  },
  {
   "metadata": {
    "ExecuteTime": {
     "end_time": "2024-12-11T22:01:47.162819Z",
     "start_time": "2024-12-11T22:01:47.158002Z"
    }
   },
   "cell_type": "code",
   "source": [
    "# Update the function to handle numpy.ndarray as input\n",
    "def ensure_gvkeys_with_ndarray(df, gvkey_array, num_col_name):\n",
    "    # Convert the numpy array to a set for quick lookup\n",
    "    gvkey_set = set(gvkey_array)\n",
    "    # Identify missing gvkeys\n",
    "    existing_gvkeys = set(df['gvkey'])\n",
    "    missing_gvkeys = gvkey_set - existing_gvkeys\n",
    "    # Create a DataFrame with missing gvkeys\n",
    "    missing_rows = pd.DataFrame({\n",
    "        'gvkey': list(missing_gvkeys),\n",
    "        num_col_name: [None] * len(missing_gvkeys)\n",
    "    })\n",
    "    # Concatenate the original DataFrame with missing rows and sort by gvkey\n",
    "    updated_df = pd.concat([df, missing_rows], ignore_index=True)\n",
    "    updated_df = updated_df.sort_values('gvkey').reset_index(drop=True)\n",
    "    return updated_df"
   ],
   "id": "6e7ec0a55295910b",
   "outputs": [],
   "execution_count": 13
  },
  {
   "metadata": {
    "ExecuteTime": {
     "end_time": "2024-12-11T22:01:48.495477Z",
     "start_time": "2024-12-11T22:01:48.480062Z"
    }
   },
   "cell_type": "code",
   "source": [
    "# Update pc3_avg_df and pc4_avg_df\n",
    "pc3_avg_df2 = ensure_gvkeys_with_ndarray(pc3_avg_df, gvkey_series, 'numDonation3year')\n",
    "pc4_avg_df2 = ensure_gvkeys_with_ndarray(pc4_avg_df, gvkey_series, 'numDonation4year')\n"
   ],
   "id": "ea1bef1ae11a0af2",
   "outputs": [
    {
     "name": "stderr",
     "output_type": "stream",
     "text": [
      "C:\\Users\\wangy\\AppData\\Local\\Temp\\ipykernel_20864\\1236285319.py:14: FutureWarning: The behavior of DataFrame concatenation with empty or all-NA entries is deprecated. In a future version, this will no longer exclude empty or all-NA columns when determining the result dtypes. To retain the old behavior, exclude the relevant entries before the concat operation.\n",
      "  updated_df = pd.concat([df, missing_rows], ignore_index=True)\n"
     ]
    }
   ],
   "execution_count": 14
  },
  {
   "metadata": {
    "ExecuteTime": {
     "end_time": "2024-12-11T22:02:31.876634Z",
     "start_time": "2024-12-11T22:02:31.867664Z"
    }
   },
   "cell_type": "code",
   "source": [
    "pc_avg_df: DataFrame = pc3_avg_df2.merge(pc4_avg_df2, on=[const.GVKEY])\n",
    "pc_avg_df.shape"
   ],
   "id": "286cbd0537fc5a28",
   "outputs": [
    {
     "data": {
      "text/plain": [
       "(1837, 3)"
      ]
     },
     "execution_count": 16,
     "metadata": {},
     "output_type": "execute_result"
    }
   ],
   "execution_count": 16
  },
  {
   "metadata": {
    "ExecuteTime": {
     "end_time": "2024-12-11T22:03:04.964140Z",
     "start_time": "2024-12-11T22:03:04.959193Z"
    }
   },
   "cell_type": "code",
   "source": [
    "for key in ['numDonation3year', 'numDonation4year']:\n",
    "    pc_avg_df[key] = pc_avg_df[key].fillna(0)"
   ],
   "id": "6acae5237be809bd",
   "outputs": [],
   "execution_count": 17
  },
  {
   "metadata": {
    "ExecuteTime": {
     "end_time": "2024-12-11T22:04:27.457399Z",
     "start_time": "2024-12-11T22:04:27.451900Z"
    }
   },
   "cell_type": "code",
   "source": [
    "pc_avg_df['highDonation3Year'] = (pc_avg_df['numDonation3year'] > pc_avg_df['numDonation3year'].median()).astype(int)\n",
    "pc_avg_df['highDonation4Year'] = (pc_avg_df['numDonation4year'] > pc_avg_df['numDonation4year'].median()).astype(int)"
   ],
   "id": "831839a61145b9e7",
   "outputs": [],
   "execution_count": 20
  },
  {
   "metadata": {
    "ExecuteTime": {
     "end_time": "2024-12-11T22:06:11.399285Z",
     "start_time": "2024-12-11T22:06:11.087636Z"
    }
   },
   "cell_type": "code",
   "source": [
    "reg_df2: DataFrame = reg_df.merge(pc_avg_df, on=[const.GVKEY], how='left')\n",
    "reg_df2.to_stata(os.path.join(const.RESULT_PATH, '20241212_stock_act_reg_data.dta'), write_index=False, version=119)"
   ],
   "id": "dd77bf9962ace20a",
   "outputs": [],
   "execution_count": 22
  },
  {
   "metadata": {},
   "cell_type": "markdown",
   "source": "# Append Government Contract data",
   "id": "98c33989a9283c68"
  },
  {
   "metadata": {
    "ExecuteTime": {
     "end_time": "2024-12-23T06:24:14.127463Z",
     "start_time": "2024-12-23T06:24:13.941256Z"
    }
   },
   "cell_type": "code",
   "source": [
    "reg_df: DataFrame = pd.read_stata(os.path.join(const.RESULT_PATH, '20241212_stock_act_reg_data.dta'))\n",
    "gov_contract_df: DataFrame = pd.read_csv(os.path.join(const.DATA_PATH, 'fromZGY', 'gov_characters_data.csv')).drop(['tic'], axis=1)"
   ],
   "id": "e91703744fd84fe8",
   "outputs": [],
   "execution_count": 2
  },
  {
   "metadata": {
    "ExecuteTime": {
     "end_time": "2024-12-23T06:25:12.575573Z",
     "start_time": "2024-12-23T06:25:12.571692Z"
    }
   },
   "cell_type": "code",
   "source": "gov_contract_df.rename(columns=lambda x: '{}_num'.format(x) if x.endswith('gov') else x, inplace=True)",
   "id": "b581cd410b16d701",
   "outputs": [],
   "execution_count": 3
  },
  {
   "metadata": {
    "ExecuteTime": {
     "end_time": "2024-12-23T06:25:16.263866Z",
     "start_time": "2024-12-23T06:25:16.249452Z"
    }
   },
   "cell_type": "code",
   "source": "gov_contract_df",
   "id": "159541c87c2f0eef",
   "outputs": [
    {
     "data": {
      "text/plain": [
       "       fiscal_year  fed_gov_num  gov_num  state_gov_num  loc_gov_num   gvkey\n",
       "0           2008.0          0.0      0.0            0.0          0.0  151832\n",
       "1           2009.0          0.0      0.0            0.0          0.0  151832\n",
       "2           2010.0          0.0      0.0            0.0          0.0  151832\n",
       "3           2011.0          0.0      0.0            0.0          0.0  151832\n",
       "4           2012.0          0.0      0.0            0.0          0.0  151832\n",
       "...            ...          ...      ...            ...          ...     ...\n",
       "85811       2011.0          0.0      0.0            0.0          0.0   30165\n",
       "85812       2012.0          0.0      0.0            0.0          0.0   30165\n",
       "85813       2013.0          0.0      0.0            0.0          0.0   30165\n",
       "85814       2014.0          0.0      0.0            0.0          0.0   30165\n",
       "85815       2015.0          0.0      0.0            0.0          0.0   30165\n",
       "\n",
       "[85816 rows x 6 columns]"
      ],
      "text/html": [
       "<div>\n",
       "<style scoped>\n",
       "    .dataframe tbody tr th:only-of-type {\n",
       "        vertical-align: middle;\n",
       "    }\n",
       "\n",
       "    .dataframe tbody tr th {\n",
       "        vertical-align: top;\n",
       "    }\n",
       "\n",
       "    .dataframe thead th {\n",
       "        text-align: right;\n",
       "    }\n",
       "</style>\n",
       "<table border=\"1\" class=\"dataframe\">\n",
       "  <thead>\n",
       "    <tr style=\"text-align: right;\">\n",
       "      <th></th>\n",
       "      <th>fiscal_year</th>\n",
       "      <th>fed_gov_num</th>\n",
       "      <th>gov_num</th>\n",
       "      <th>state_gov_num</th>\n",
       "      <th>loc_gov_num</th>\n",
       "      <th>gvkey</th>\n",
       "    </tr>\n",
       "  </thead>\n",
       "  <tbody>\n",
       "    <tr>\n",
       "      <th>0</th>\n",
       "      <td>2008.0</td>\n",
       "      <td>0.0</td>\n",
       "      <td>0.0</td>\n",
       "      <td>0.0</td>\n",
       "      <td>0.0</td>\n",
       "      <td>151832</td>\n",
       "    </tr>\n",
       "    <tr>\n",
       "      <th>1</th>\n",
       "      <td>2009.0</td>\n",
       "      <td>0.0</td>\n",
       "      <td>0.0</td>\n",
       "      <td>0.0</td>\n",
       "      <td>0.0</td>\n",
       "      <td>151832</td>\n",
       "    </tr>\n",
       "    <tr>\n",
       "      <th>2</th>\n",
       "      <td>2010.0</td>\n",
       "      <td>0.0</td>\n",
       "      <td>0.0</td>\n",
       "      <td>0.0</td>\n",
       "      <td>0.0</td>\n",
       "      <td>151832</td>\n",
       "    </tr>\n",
       "    <tr>\n",
       "      <th>3</th>\n",
       "      <td>2011.0</td>\n",
       "      <td>0.0</td>\n",
       "      <td>0.0</td>\n",
       "      <td>0.0</td>\n",
       "      <td>0.0</td>\n",
       "      <td>151832</td>\n",
       "    </tr>\n",
       "    <tr>\n",
       "      <th>4</th>\n",
       "      <td>2012.0</td>\n",
       "      <td>0.0</td>\n",
       "      <td>0.0</td>\n",
       "      <td>0.0</td>\n",
       "      <td>0.0</td>\n",
       "      <td>151832</td>\n",
       "    </tr>\n",
       "    <tr>\n",
       "      <th>...</th>\n",
       "      <td>...</td>\n",
       "      <td>...</td>\n",
       "      <td>...</td>\n",
       "      <td>...</td>\n",
       "      <td>...</td>\n",
       "      <td>...</td>\n",
       "    </tr>\n",
       "    <tr>\n",
       "      <th>85811</th>\n",
       "      <td>2011.0</td>\n",
       "      <td>0.0</td>\n",
       "      <td>0.0</td>\n",
       "      <td>0.0</td>\n",
       "      <td>0.0</td>\n",
       "      <td>30165</td>\n",
       "    </tr>\n",
       "    <tr>\n",
       "      <th>85812</th>\n",
       "      <td>2012.0</td>\n",
       "      <td>0.0</td>\n",
       "      <td>0.0</td>\n",
       "      <td>0.0</td>\n",
       "      <td>0.0</td>\n",
       "      <td>30165</td>\n",
       "    </tr>\n",
       "    <tr>\n",
       "      <th>85813</th>\n",
       "      <td>2013.0</td>\n",
       "      <td>0.0</td>\n",
       "      <td>0.0</td>\n",
       "      <td>0.0</td>\n",
       "      <td>0.0</td>\n",
       "      <td>30165</td>\n",
       "    </tr>\n",
       "    <tr>\n",
       "      <th>85814</th>\n",
       "      <td>2014.0</td>\n",
       "      <td>0.0</td>\n",
       "      <td>0.0</td>\n",
       "      <td>0.0</td>\n",
       "      <td>0.0</td>\n",
       "      <td>30165</td>\n",
       "    </tr>\n",
       "    <tr>\n",
       "      <th>85815</th>\n",
       "      <td>2015.0</td>\n",
       "      <td>0.0</td>\n",
       "      <td>0.0</td>\n",
       "      <td>0.0</td>\n",
       "      <td>0.0</td>\n",
       "      <td>30165</td>\n",
       "    </tr>\n",
       "  </tbody>\n",
       "</table>\n",
       "<p>85816 rows × 6 columns</p>\n",
       "</div>"
      ]
     },
     "execution_count": 4,
     "metadata": {},
     "output_type": "execute_result"
    }
   ],
   "execution_count": 4
  },
  {
   "metadata": {
    "ExecuteTime": {
     "end_time": "2024-12-23T06:30:40.472776Z",
     "start_time": "2024-12-23T06:30:40.418270Z"
    }
   },
   "cell_type": "code",
   "source": [
    "reg_df_gov_num = reg_df.merge(gov_contract_df, on=[const.GVKEY, const.YEAR], how='left')\n",
    "for key in gov_contract_df.keys():\n",
    "    if key not in {const.GVKEY, const.YEAR}:\n",
    "        reg_df_gov_num[key].fillna(0, inplace=True)\n",
    "        reg_df_gov_num[key.replace('num', 'dummy')] = reg_df_gov_num[key].apply(lambda x: int(x > 0))"
   ],
   "id": "1062968e74c4accc",
   "outputs": [
    {
     "name": "stderr",
     "output_type": "stream",
     "text": [
      "C:\\Users\\wangy\\AppData\\Local\\Temp\\ipykernel_28288\\2904554935.py:4: FutureWarning: A value is trying to be set on a copy of a DataFrame or Series through chained assignment using an inplace method.\n",
      "The behavior will change in pandas 3.0. This inplace method will never work because the intermediate object on which we are setting values always behaves as a copy.\n",
      "\n",
      "For example, when doing 'df[col].method(value, inplace=True)', try using 'df.method({col: value}, inplace=True)' or df[col] = df[col].method(value) instead, to perform the operation inplace on the original object.\n",
      "\n",
      "\n",
      "  reg_df_gov_num[key].fillna(0, inplace=True)\n",
      "C:\\Users\\wangy\\AppData\\Local\\Temp\\ipykernel_28288\\2904554935.py:4: FutureWarning: A value is trying to be set on a copy of a DataFrame or Series through chained assignment using an inplace method.\n",
      "The behavior will change in pandas 3.0. This inplace method will never work because the intermediate object on which we are setting values always behaves as a copy.\n",
      "\n",
      "For example, when doing 'df[col].method(value, inplace=True)', try using 'df.method({col: value}, inplace=True)' or df[col] = df[col].method(value) instead, to perform the operation inplace on the original object.\n",
      "\n",
      "\n",
      "  reg_df_gov_num[key].fillna(0, inplace=True)\n",
      "C:\\Users\\wangy\\AppData\\Local\\Temp\\ipykernel_28288\\2904554935.py:4: FutureWarning: A value is trying to be set on a copy of a DataFrame or Series through chained assignment using an inplace method.\n",
      "The behavior will change in pandas 3.0. This inplace method will never work because the intermediate object on which we are setting values always behaves as a copy.\n",
      "\n",
      "For example, when doing 'df[col].method(value, inplace=True)', try using 'df.method({col: value}, inplace=True)' or df[col] = df[col].method(value) instead, to perform the operation inplace on the original object.\n",
      "\n",
      "\n",
      "  reg_df_gov_num[key].fillna(0, inplace=True)\n",
      "C:\\Users\\wangy\\AppData\\Local\\Temp\\ipykernel_28288\\2904554935.py:4: FutureWarning: A value is trying to be set on a copy of a DataFrame or Series through chained assignment using an inplace method.\n",
      "The behavior will change in pandas 3.0. This inplace method will never work because the intermediate object on which we are setting values always behaves as a copy.\n",
      "\n",
      "For example, when doing 'df[col].method(value, inplace=True)', try using 'df.method({col: value}, inplace=True)' or df[col] = df[col].method(value) instead, to perform the operation inplace on the original object.\n",
      "\n",
      "\n",
      "  reg_df_gov_num[key].fillna(0, inplace=True)\n"
     ]
    }
   ],
   "execution_count": 10
  },
  {
   "metadata": {
    "ExecuteTime": {
     "end_time": "2024-12-23T06:30:42.951684Z",
     "start_time": "2024-12-23T06:30:42.757029Z"
    }
   },
   "cell_type": "code",
   "source": "reg_df_gov_num.describe()",
   "id": "92f47b6317f313e1",
   "outputs": [
    {
     "data": {
      "text/plain": [
       "             index          gvkey   fiscal_year  mf_indicator     frequency  \\\n",
       "count  12074.00000   12074.000000  12074.000000  12074.000000  12074.000000   \n",
       "mean    6036.50000   81220.205317   2011.546960      0.363508      4.817459   \n",
       "min        0.00000    1004.000000   2008.000000      0.000000      0.000000   \n",
       "25%     3018.25000   12142.000000   2010.000000      0.000000      0.000000   \n",
       "50%     6036.50000   62592.000000   2012.000000      0.000000      0.000000   \n",
       "75%     9054.75000  156153.000000   2014.000000      1.000000      7.000000   \n",
       "max    12073.00000  296753.000000   2015.000000      1.000000     36.000000   \n",
       "std     3485.60791   73644.923742      2.279738      0.481029      8.551352   \n",
       "\n",
       "       log_frequency  MajorGovCustomer          post  log_market_value  \\\n",
       "count   12074.000000      12074.000000  12074.000000      12074.000000   \n",
       "mean        0.868412          0.153553      0.508945          6.517410   \n",
       "min         0.000000          0.000000      0.000000          0.786519   \n",
       "25%         0.000000          0.000000      0.000000          5.012064   \n",
       "50%         0.000000          0.000000      1.000000          6.520895   \n",
       "75%         2.079442          0.000000      1.000000          7.976261   \n",
       "max         3.610918          1.000000      1.000000         11.561005   \n",
       "std         1.245300          0.360535      0.499941          2.163776   \n",
       "\n",
       "                lev  ...  highDonation3Year  highDonation4Year   fed_gov_num  \\\n",
       "count  12074.000000  ...       12074.000000       12074.000000  12074.000000   \n",
       "mean       0.181687  ...           0.439043           0.465629      0.263541   \n",
       "min        0.000000  ...           0.000000           0.000000      0.000000   \n",
       "25%        0.000930  ...           0.000000           0.000000      0.000000   \n",
       "50%        0.148584  ...           0.000000           0.000000      0.000000   \n",
       "75%        0.264176  ...           1.000000           1.000000      0.000000   \n",
       "max       17.825450  ...           1.000000           1.000000     19.000000   \n",
       "std        0.273871  ...           0.496291           0.498838      0.862415   \n",
       "\n",
       "            gov_num  state_gov_num   loc_gov_num  fed_gov_dummy     gov_dummy  \\\n",
       "count  12074.000000   12074.000000  12074.000000   12074.000000  12074.000000   \n",
       "mean       0.295511       0.023025      0.008945       0.152725      0.160593   \n",
       "min        0.000000       0.000000      0.000000       0.000000      0.000000   \n",
       "25%        0.000000       0.000000      0.000000       0.000000      0.000000   \n",
       "50%        0.000000       0.000000      0.000000       0.000000      0.000000   \n",
       "75%        0.000000       0.000000      0.000000       0.000000      0.000000   \n",
       "max       19.000000      10.000000      3.000000       1.000000      1.000000   \n",
       "std        0.934783       0.219107      0.114772       0.359737      0.367170   \n",
       "\n",
       "       state_gov_dummy  loc_gov_dummy  \n",
       "count     12074.000000   12074.000000  \n",
       "mean          0.016316       0.006957  \n",
       "min           0.000000       0.000000  \n",
       "25%           0.000000       0.000000  \n",
       "50%           0.000000       0.000000  \n",
       "75%           0.000000       0.000000  \n",
       "max           1.000000       1.000000  \n",
       "std           0.126693       0.083122  \n",
       "\n",
       "[8 rows x 193 columns]"
      ],
      "text/html": [
       "<div>\n",
       "<style scoped>\n",
       "    .dataframe tbody tr th:only-of-type {\n",
       "        vertical-align: middle;\n",
       "    }\n",
       "\n",
       "    .dataframe tbody tr th {\n",
       "        vertical-align: top;\n",
       "    }\n",
       "\n",
       "    .dataframe thead th {\n",
       "        text-align: right;\n",
       "    }\n",
       "</style>\n",
       "<table border=\"1\" class=\"dataframe\">\n",
       "  <thead>\n",
       "    <tr style=\"text-align: right;\">\n",
       "      <th></th>\n",
       "      <th>index</th>\n",
       "      <th>gvkey</th>\n",
       "      <th>fiscal_year</th>\n",
       "      <th>mf_indicator</th>\n",
       "      <th>frequency</th>\n",
       "      <th>log_frequency</th>\n",
       "      <th>MajorGovCustomer</th>\n",
       "      <th>post</th>\n",
       "      <th>log_market_value</th>\n",
       "      <th>lev</th>\n",
       "      <th>...</th>\n",
       "      <th>highDonation3Year</th>\n",
       "      <th>highDonation4Year</th>\n",
       "      <th>fed_gov_num</th>\n",
       "      <th>gov_num</th>\n",
       "      <th>state_gov_num</th>\n",
       "      <th>loc_gov_num</th>\n",
       "      <th>fed_gov_dummy</th>\n",
       "      <th>gov_dummy</th>\n",
       "      <th>state_gov_dummy</th>\n",
       "      <th>loc_gov_dummy</th>\n",
       "    </tr>\n",
       "  </thead>\n",
       "  <tbody>\n",
       "    <tr>\n",
       "      <th>count</th>\n",
       "      <td>12074.00000</td>\n",
       "      <td>12074.000000</td>\n",
       "      <td>12074.000000</td>\n",
       "      <td>12074.000000</td>\n",
       "      <td>12074.000000</td>\n",
       "      <td>12074.000000</td>\n",
       "      <td>12074.000000</td>\n",
       "      <td>12074.000000</td>\n",
       "      <td>12074.000000</td>\n",
       "      <td>12074.000000</td>\n",
       "      <td>...</td>\n",
       "      <td>12074.000000</td>\n",
       "      <td>12074.000000</td>\n",
       "      <td>12074.000000</td>\n",
       "      <td>12074.000000</td>\n",
       "      <td>12074.000000</td>\n",
       "      <td>12074.000000</td>\n",
       "      <td>12074.000000</td>\n",
       "      <td>12074.000000</td>\n",
       "      <td>12074.000000</td>\n",
       "      <td>12074.000000</td>\n",
       "    </tr>\n",
       "    <tr>\n",
       "      <th>mean</th>\n",
       "      <td>6036.50000</td>\n",
       "      <td>81220.205317</td>\n",
       "      <td>2011.546960</td>\n",
       "      <td>0.363508</td>\n",
       "      <td>4.817459</td>\n",
       "      <td>0.868412</td>\n",
       "      <td>0.153553</td>\n",
       "      <td>0.508945</td>\n",
       "      <td>6.517410</td>\n",
       "      <td>0.181687</td>\n",
       "      <td>...</td>\n",
       "      <td>0.439043</td>\n",
       "      <td>0.465629</td>\n",
       "      <td>0.263541</td>\n",
       "      <td>0.295511</td>\n",
       "      <td>0.023025</td>\n",
       "      <td>0.008945</td>\n",
       "      <td>0.152725</td>\n",
       "      <td>0.160593</td>\n",
       "      <td>0.016316</td>\n",
       "      <td>0.006957</td>\n",
       "    </tr>\n",
       "    <tr>\n",
       "      <th>min</th>\n",
       "      <td>0.00000</td>\n",
       "      <td>1004.000000</td>\n",
       "      <td>2008.000000</td>\n",
       "      <td>0.000000</td>\n",
       "      <td>0.000000</td>\n",
       "      <td>0.000000</td>\n",
       "      <td>0.000000</td>\n",
       "      <td>0.000000</td>\n",
       "      <td>0.786519</td>\n",
       "      <td>0.000000</td>\n",
       "      <td>...</td>\n",
       "      <td>0.000000</td>\n",
       "      <td>0.000000</td>\n",
       "      <td>0.000000</td>\n",
       "      <td>0.000000</td>\n",
       "      <td>0.000000</td>\n",
       "      <td>0.000000</td>\n",
       "      <td>0.000000</td>\n",
       "      <td>0.000000</td>\n",
       "      <td>0.000000</td>\n",
       "      <td>0.000000</td>\n",
       "    </tr>\n",
       "    <tr>\n",
       "      <th>25%</th>\n",
       "      <td>3018.25000</td>\n",
       "      <td>12142.000000</td>\n",
       "      <td>2010.000000</td>\n",
       "      <td>0.000000</td>\n",
       "      <td>0.000000</td>\n",
       "      <td>0.000000</td>\n",
       "      <td>0.000000</td>\n",
       "      <td>0.000000</td>\n",
       "      <td>5.012064</td>\n",
       "      <td>0.000930</td>\n",
       "      <td>...</td>\n",
       "      <td>0.000000</td>\n",
       "      <td>0.000000</td>\n",
       "      <td>0.000000</td>\n",
       "      <td>0.000000</td>\n",
       "      <td>0.000000</td>\n",
       "      <td>0.000000</td>\n",
       "      <td>0.000000</td>\n",
       "      <td>0.000000</td>\n",
       "      <td>0.000000</td>\n",
       "      <td>0.000000</td>\n",
       "    </tr>\n",
       "    <tr>\n",
       "      <th>50%</th>\n",
       "      <td>6036.50000</td>\n",
       "      <td>62592.000000</td>\n",
       "      <td>2012.000000</td>\n",
       "      <td>0.000000</td>\n",
       "      <td>0.000000</td>\n",
       "      <td>0.000000</td>\n",
       "      <td>0.000000</td>\n",
       "      <td>1.000000</td>\n",
       "      <td>6.520895</td>\n",
       "      <td>0.148584</td>\n",
       "      <td>...</td>\n",
       "      <td>0.000000</td>\n",
       "      <td>0.000000</td>\n",
       "      <td>0.000000</td>\n",
       "      <td>0.000000</td>\n",
       "      <td>0.000000</td>\n",
       "      <td>0.000000</td>\n",
       "      <td>0.000000</td>\n",
       "      <td>0.000000</td>\n",
       "      <td>0.000000</td>\n",
       "      <td>0.000000</td>\n",
       "    </tr>\n",
       "    <tr>\n",
       "      <th>75%</th>\n",
       "      <td>9054.75000</td>\n",
       "      <td>156153.000000</td>\n",
       "      <td>2014.000000</td>\n",
       "      <td>1.000000</td>\n",
       "      <td>7.000000</td>\n",
       "      <td>2.079442</td>\n",
       "      <td>0.000000</td>\n",
       "      <td>1.000000</td>\n",
       "      <td>7.976261</td>\n",
       "      <td>0.264176</td>\n",
       "      <td>...</td>\n",
       "      <td>1.000000</td>\n",
       "      <td>1.000000</td>\n",
       "      <td>0.000000</td>\n",
       "      <td>0.000000</td>\n",
       "      <td>0.000000</td>\n",
       "      <td>0.000000</td>\n",
       "      <td>0.000000</td>\n",
       "      <td>0.000000</td>\n",
       "      <td>0.000000</td>\n",
       "      <td>0.000000</td>\n",
       "    </tr>\n",
       "    <tr>\n",
       "      <th>max</th>\n",
       "      <td>12073.00000</td>\n",
       "      <td>296753.000000</td>\n",
       "      <td>2015.000000</td>\n",
       "      <td>1.000000</td>\n",
       "      <td>36.000000</td>\n",
       "      <td>3.610918</td>\n",
       "      <td>1.000000</td>\n",
       "      <td>1.000000</td>\n",
       "      <td>11.561005</td>\n",
       "      <td>17.825450</td>\n",
       "      <td>...</td>\n",
       "      <td>1.000000</td>\n",
       "      <td>1.000000</td>\n",
       "      <td>19.000000</td>\n",
       "      <td>19.000000</td>\n",
       "      <td>10.000000</td>\n",
       "      <td>3.000000</td>\n",
       "      <td>1.000000</td>\n",
       "      <td>1.000000</td>\n",
       "      <td>1.000000</td>\n",
       "      <td>1.000000</td>\n",
       "    </tr>\n",
       "    <tr>\n",
       "      <th>std</th>\n",
       "      <td>3485.60791</td>\n",
       "      <td>73644.923742</td>\n",
       "      <td>2.279738</td>\n",
       "      <td>0.481029</td>\n",
       "      <td>8.551352</td>\n",
       "      <td>1.245300</td>\n",
       "      <td>0.360535</td>\n",
       "      <td>0.499941</td>\n",
       "      <td>2.163776</td>\n",
       "      <td>0.273871</td>\n",
       "      <td>...</td>\n",
       "      <td>0.496291</td>\n",
       "      <td>0.498838</td>\n",
       "      <td>0.862415</td>\n",
       "      <td>0.934783</td>\n",
       "      <td>0.219107</td>\n",
       "      <td>0.114772</td>\n",
       "      <td>0.359737</td>\n",
       "      <td>0.367170</td>\n",
       "      <td>0.126693</td>\n",
       "      <td>0.083122</td>\n",
       "    </tr>\n",
       "  </tbody>\n",
       "</table>\n",
       "<p>8 rows × 193 columns</p>\n",
       "</div>"
      ]
     },
     "execution_count": 11,
     "metadata": {},
     "output_type": "execute_result"
    }
   ],
   "execution_count": 11
  },
  {
   "metadata": {
    "ExecuteTime": {
     "end_time": "2024-12-23T06:32:02.995562Z",
     "start_time": "2024-12-23T06:32:02.707464Z"
    }
   },
   "cell_type": "code",
   "source": "reg_df_gov_num.to_stata(os.path.join(const.RESULT_PATH, '20241223_stock_act_reg_data.dta'), write_index=False, version=119)",
   "id": "5e9f5b05fd89203e",
   "outputs": [],
   "execution_count": 12
  },
  {
   "metadata": {},
   "cell_type": "markdown",
   "source": "# append some annual data",
   "id": "270f890cd3dc4355"
  },
  {
   "metadata": {
    "ExecuteTime": {
     "end_time": "2024-12-31T08:14:29.918490Z",
     "start_time": "2024-12-31T08:14:29.731602Z"
    }
   },
   "cell_type": "code",
   "source": [
    "reg_df: DataFrame = pd.read_stata(os.path.join(const.RESULT_PATH, '20241223_stock_act_reg_data.dta'))\n",
    "gov_contract: DataFrame = pd.read_stata(os.path.join(const.DATA_PATH, 'fromZGY', 'gov_contract.dta')).rename(\n",
    "    columns={'year': const.YEAR, 'if_gov_contract': 'hasGovContractPanel'}).drop(\n",
    "    ['index', 'if_cpdata', 'if_costplus', 'if_cas', 'if_noncomm'], axis=1).dropna(how='any').drop_duplicates(\n",
    "    subset=[const.GVKEY, const.YEAR], keep='first')\n",
    "govsales_percentage: DataFrame = pd.read_stata(os.path.join(const.DATA_PATH, 'fromZGY', 'govsales_percentage.dta')).rename(\n",
    "    columns={'tic': const.TICKER, 'annual_per_sale': 'GovSalePercent'}).drop(\n",
    "    ['index', 'gov_annual_sales', 'all_annual_sales'], axis=1).dropna(how='any')\n",
    "\n"
   ],
   "id": "f4c22670c1dbd2e0",
   "outputs": [],
   "execution_count": 50
  },
  {
   "metadata": {
    "ExecuteTime": {
     "end_time": "2024-12-31T08:14:30.686774Z",
     "start_time": "2024-12-31T08:14:30.670517Z"
    }
   },
   "cell_type": "code",
   "source": [
    "dollar_amount = pd.read_stata(os.path.join(const.DATA_PATH, 'fromZGY', 'fec_2008_2015_firmlevel_dollarnum.dta')).rename(\n",
    "    columns={'year': const.YEAR, 'amount': 'contrAmt'}).drop(['index'], axis=1).dropna(how='any')\n",
    "people_num = pd.read_stata(os.path.join(const.DATA_PATH, 'fromZGY', 'fec_2008_2015_firmlevel_peoplenum.dta')).rename(\n",
    "    columns={'year': const.YEAR, 'recipient_ext_id': 'numPolitician'}).drop(['index'], axis=1).dropna(how='any')"
   ],
   "id": "803b39cc2c705bd2",
   "outputs": [],
   "execution_count": 51
  },
  {
   "metadata": {
    "ExecuteTime": {
     "end_time": "2024-12-31T08:14:32.198666Z",
     "start_time": "2024-12-31T08:14:32.192313Z"
    }
   },
   "cell_type": "code",
   "source": [
    "gov_contract[const.YEAR] = gov_contract[const.YEAR].astype(int)\n",
    "govsales_percentage[const.YEAR] = govsales_percentage[const.YEAR].astype(int)\n",
    "dollar_amount[const.YEAR] = dollar_amount[const.YEAR].astype(int)\n",
    "people_num[const.YEAR] = people_num[const.YEAR].astype(int)\n",
    "gov_contract[const.GVKEY] = gov_contract[const.GVKEY].astype(int)\n",
    "dollar_amount[const.GVKEY] = dollar_amount[const.GVKEY].astype(int)\n",
    "people_num[const.GVKEY] = people_num[const.GVKEY].astype(int)"
   ],
   "id": "90c2a2900f1f0b15",
   "outputs": [],
   "execution_count": 52
  },
  {
   "metadata": {
    "ExecuteTime": {
     "end_time": "2024-12-31T08:18:30.997267Z",
     "start_time": "2024-12-31T08:18:30.913820Z"
    }
   },
   "cell_type": "code",
   "source": [
    "reg_df2: DataFrame = reg_df.merge(govsales_percentage, on=[const.TICKER, const.YEAR], how='left').merge(\n",
    "    gov_contract, on=[const.GVKEY, const.YEAR], how='left').merge(\n",
    "    dollar_amount, on=[const.GVKEY, const.YEAR], how='left').merge(\n",
    "    people_num, on=[const.GVKEY, const.YEAR], how='left')\n",
    "reg_df2.loc[:, 'hasGovContractPanel'] = reg_df2['hasGovContractPanel'].fillna(0)\n"
   ],
   "id": "b20861c3f907fc49",
   "outputs": [],
   "execution_count": 63
  },
  {
   "metadata": {
    "ExecuteTime": {
     "end_time": "2024-12-31T07:48:16.423246Z",
     "start_time": "2024-12-31T07:48:16.411172Z"
    }
   },
   "cell_type": "code",
   "source": "reg_df2[['hasGovContract', 'hasGovContractPanel']].describe()",
   "id": "88bab480dc6d8e96",
   "outputs": [
    {
     "data": {
      "text/plain": [
       "       hasGovContract  hasGovContractPanel\n",
       "count    12074.000000         12074.000000\n",
       "mean         0.281762             0.430098\n",
       "std          0.449877             0.495110\n",
       "min          0.000000             0.000000\n",
       "25%          0.000000             0.000000\n",
       "50%          0.000000             0.000000\n",
       "75%          1.000000             1.000000\n",
       "max          1.000000             1.000000"
      ],
      "text/html": [
       "<div>\n",
       "<style scoped>\n",
       "    .dataframe tbody tr th:only-of-type {\n",
       "        vertical-align: middle;\n",
       "    }\n",
       "\n",
       "    .dataframe tbody tr th {\n",
       "        vertical-align: top;\n",
       "    }\n",
       "\n",
       "    .dataframe thead th {\n",
       "        text-align: right;\n",
       "    }\n",
       "</style>\n",
       "<table border=\"1\" class=\"dataframe\">\n",
       "  <thead>\n",
       "    <tr style=\"text-align: right;\">\n",
       "      <th></th>\n",
       "      <th>hasGovContract</th>\n",
       "      <th>hasGovContractPanel</th>\n",
       "    </tr>\n",
       "  </thead>\n",
       "  <tbody>\n",
       "    <tr>\n",
       "      <th>count</th>\n",
       "      <td>12074.000000</td>\n",
       "      <td>12074.000000</td>\n",
       "    </tr>\n",
       "    <tr>\n",
       "      <th>mean</th>\n",
       "      <td>0.281762</td>\n",
       "      <td>0.430098</td>\n",
       "    </tr>\n",
       "    <tr>\n",
       "      <th>std</th>\n",
       "      <td>0.449877</td>\n",
       "      <td>0.495110</td>\n",
       "    </tr>\n",
       "    <tr>\n",
       "      <th>min</th>\n",
       "      <td>0.000000</td>\n",
       "      <td>0.000000</td>\n",
       "    </tr>\n",
       "    <tr>\n",
       "      <th>25%</th>\n",
       "      <td>0.000000</td>\n",
       "      <td>0.000000</td>\n",
       "    </tr>\n",
       "    <tr>\n",
       "      <th>50%</th>\n",
       "      <td>0.000000</td>\n",
       "      <td>0.000000</td>\n",
       "    </tr>\n",
       "    <tr>\n",
       "      <th>75%</th>\n",
       "      <td>1.000000</td>\n",
       "      <td>1.000000</td>\n",
       "    </tr>\n",
       "    <tr>\n",
       "      <th>max</th>\n",
       "      <td>1.000000</td>\n",
       "      <td>1.000000</td>\n",
       "    </tr>\n",
       "  </tbody>\n",
       "</table>\n",
       "</div>"
      ]
     },
     "execution_count": 47,
     "metadata": {},
     "output_type": "execute_result"
    }
   ],
   "execution_count": 47
  },
  {
   "metadata": {
    "ExecuteTime": {
     "end_time": "2024-12-31T08:18:33.897636Z",
     "start_time": "2024-12-31T08:18:33.675249Z"
    }
   },
   "cell_type": "code",
   "source": [
    "reg_df2['hasGovPanelMajor'] = reg_df2.apply(lambda x: int((x['hasGovContractPanel'] == 1) and (x['MajorGovCustomer'] == 0)), axis=1)\n",
    "reg_df2['hasGovPanelFed'] = reg_df2.apply(lambda x: int((x['hasGovContractPanel'] == 1) and (x['fed_gov_dummy'] == 0)), axis=1)"
   ],
   "id": "1712b5a461a7246e",
   "outputs": [],
   "execution_count": 64
  },
  {
   "metadata": {
    "ExecuteTime": {
     "end_time": "2024-12-31T08:15:19.343040Z",
     "start_time": "2024-12-31T08:15:19.328324Z"
    }
   },
   "cell_type": "code",
   "source": "reg_df2.loc[:, ['GovSalePercent', 'contrAmt', 'numPolitician']].describe()",
   "id": "a64779ad596214a4",
   "outputs": [
    {
     "data": {
      "text/plain": [
       "       GovSalePercent      contrAmt  numPolitician\n",
       "count     1362.000000  4.984000e+03    4984.000000\n",
       "mean         0.421257  3.017618e+04      33.989767\n",
       "std          0.341576  1.046634e+05     114.451020\n",
       "min          0.001727 -6.618000e+03       1.000000\n",
       "25%          0.104907  1.250000e+03       2.000000\n",
       "50%          0.327493  5.300000e+03       6.000000\n",
       "75%          0.694477  2.264300e+04      22.000000\n",
       "max          1.000000  3.602357e+06    2581.000000"
      ],
      "text/html": [
       "<div>\n",
       "<style scoped>\n",
       "    .dataframe tbody tr th:only-of-type {\n",
       "        vertical-align: middle;\n",
       "    }\n",
       "\n",
       "    .dataframe tbody tr th {\n",
       "        vertical-align: top;\n",
       "    }\n",
       "\n",
       "    .dataframe thead th {\n",
       "        text-align: right;\n",
       "    }\n",
       "</style>\n",
       "<table border=\"1\" class=\"dataframe\">\n",
       "  <thead>\n",
       "    <tr style=\"text-align: right;\">\n",
       "      <th></th>\n",
       "      <th>GovSalePercent</th>\n",
       "      <th>contrAmt</th>\n",
       "      <th>numPolitician</th>\n",
       "    </tr>\n",
       "  </thead>\n",
       "  <tbody>\n",
       "    <tr>\n",
       "      <th>count</th>\n",
       "      <td>1362.000000</td>\n",
       "      <td>4.984000e+03</td>\n",
       "      <td>4984.000000</td>\n",
       "    </tr>\n",
       "    <tr>\n",
       "      <th>mean</th>\n",
       "      <td>0.421257</td>\n",
       "      <td>3.017618e+04</td>\n",
       "      <td>33.989767</td>\n",
       "    </tr>\n",
       "    <tr>\n",
       "      <th>std</th>\n",
       "      <td>0.341576</td>\n",
       "      <td>1.046634e+05</td>\n",
       "      <td>114.451020</td>\n",
       "    </tr>\n",
       "    <tr>\n",
       "      <th>min</th>\n",
       "      <td>0.001727</td>\n",
       "      <td>-6.618000e+03</td>\n",
       "      <td>1.000000</td>\n",
       "    </tr>\n",
       "    <tr>\n",
       "      <th>25%</th>\n",
       "      <td>0.104907</td>\n",
       "      <td>1.250000e+03</td>\n",
       "      <td>2.000000</td>\n",
       "    </tr>\n",
       "    <tr>\n",
       "      <th>50%</th>\n",
       "      <td>0.327493</td>\n",
       "      <td>5.300000e+03</td>\n",
       "      <td>6.000000</td>\n",
       "    </tr>\n",
       "    <tr>\n",
       "      <th>75%</th>\n",
       "      <td>0.694477</td>\n",
       "      <td>2.264300e+04</td>\n",
       "      <td>22.000000</td>\n",
       "    </tr>\n",
       "    <tr>\n",
       "      <th>max</th>\n",
       "      <td>1.000000</td>\n",
       "      <td>3.602357e+06</td>\n",
       "      <td>2581.000000</td>\n",
       "    </tr>\n",
       "  </tbody>\n",
       "</table>\n",
       "</div>"
      ]
     },
     "execution_count": 55,
     "metadata": {},
     "output_type": "execute_result"
    }
   ],
   "execution_count": 55
  },
  {
   "metadata": {
    "ExecuteTime": {
     "end_time": "2024-12-31T08:16:54.683384Z",
     "start_time": "2024-12-31T08:16:54.678858Z"
    }
   },
   "cell_type": "code",
   "source": [
    "def create_high_low_dummy(df: DataFrame, check_key: str):\n",
    "    df_median = df[check_key].median()\n",
    "    df[f'High{check_key}'] = 0\n",
    "    df[f'Low{check_key}'] = 0\n",
    "    df.loc[df[check_key] > df_median, f'High{check_key}'] = 1\n",
    "    df.loc[df[check_key] < df_median, f'Low{check_key}'] = 1\n",
    "\n",
    "    return df\n"
   ],
   "id": "2adc1e708c0e3c5e",
   "outputs": [],
   "execution_count": 56
  },
  {
   "metadata": {
    "ExecuteTime": {
     "end_time": "2024-12-31T08:18:52.391598Z",
     "start_time": "2024-12-31T08:18:52.206808Z"
    }
   },
   "cell_type": "code",
   "source": [
    "reg_df3 = reg_df2.copy()\n",
    "for key in ['GovSalePercent', 'contrAmt', 'numPolitician']:\n",
    "    reg_df3: DataFrame = reg_df3.groupby(const.YEAR).apply(create_high_low_dummy, check_key=key).reset_index(drop=True)\n"
   ],
   "id": "e999a068f830822b",
   "outputs": [
    {
     "name": "stderr",
     "output_type": "stream",
     "text": [
      "C:\\Users\\wangy\\AppData\\Local\\Temp\\ipykernel_33884\\690486281.py:3: DeprecationWarning: DataFrameGroupBy.apply operated on the grouping columns. This behavior is deprecated, and in a future version of pandas the grouping columns will be excluded from the operation. Either pass `include_groups=False` to exclude the groupings or explicitly select the grouping columns after groupby to silence this warning.\n",
      "  reg_df3: DataFrame = reg_df3.groupby(const.YEAR).apply(create_high_low_dummy, check_key=key).reset_index(drop=True)\n",
      "C:\\Users\\wangy\\AppData\\Local\\Temp\\ipykernel_33884\\690486281.py:3: DeprecationWarning: DataFrameGroupBy.apply operated on the grouping columns. This behavior is deprecated, and in a future version of pandas the grouping columns will be excluded from the operation. Either pass `include_groups=False` to exclude the groupings or explicitly select the grouping columns after groupby to silence this warning.\n",
      "  reg_df3: DataFrame = reg_df3.groupby(const.YEAR).apply(create_high_low_dummy, check_key=key).reset_index(drop=True)\n",
      "C:\\Users\\wangy\\AppData\\Local\\Temp\\ipykernel_33884\\690486281.py:3: DeprecationWarning: DataFrameGroupBy.apply operated on the grouping columns. This behavior is deprecated, and in a future version of pandas the grouping columns will be excluded from the operation. Either pass `include_groups=False` to exclude the groupings or explicitly select the grouping columns after groupby to silence this warning.\n",
      "  reg_df3: DataFrame = reg_df3.groupby(const.YEAR).apply(create_high_low_dummy, check_key=key).reset_index(drop=True)\n"
     ]
    }
   ],
   "execution_count": 65
  },
  {
   "metadata": {
    "ExecuteTime": {
     "end_time": "2024-12-31T09:56:16.721125Z",
     "start_time": "2024-12-31T09:56:16.694878Z"
    }
   },
   "cell_type": "code",
   "source": [
    "reg_df3['GovSalePercent'] = reg_df3['GovSalePercent'].fillna(0)\n",
    "reg_df3['contrAmt'] = reg_df3['contrAmt'].fillna(0)\n",
    "reg_df3['numPolitician'] = reg_df3['numPolitician'].fillna(0)"
   ],
   "id": "9e30dd9e6ddf849d",
   "outputs": [],
   "execution_count": 71
  },
  {
   "metadata": {
    "ExecuteTime": {
     "end_time": "2024-12-31T09:56:19.053274Z",
     "start_time": "2024-12-31T09:56:18.687560Z"
    }
   },
   "cell_type": "code",
   "source": "reg_df3.to_stata(os.path.join(const.RESULT_PATH, '20241231_stock_act_data.dta'), write_index=False, version=117)",
   "id": "1f4cb82f577f9846",
   "outputs": [],
   "execution_count": 72
  },
  {
   "metadata": {},
   "cell_type": "markdown",
   "source": "# Prepare regression data for totalP and disclosure",
   "id": "fb996d512debe452"
  },
  {
   "metadata": {
    "ExecuteTime": {
     "end_time": "2025-07-12T12:04:28.808717Z",
     "start_time": "2025-07-12T12:04:28.594206Z"
    }
   },
   "cell_type": "code",
   "source": [
    "main_reg_df = pd.read_stata(os.path.join(const.RESULT_PATH, '20250704_stock_act_reg_data_v1.dta'))\n",
    "placebo_reg_df = pd.read_stata(os.path.join(const.RESULT_PATH, '20250516_2002_2010_regression_data.dta'))\n",
    "\n",
    "const.YEAR"
   ],
   "id": "cdea384e6fb43851",
   "outputs": [
    {
     "data": {
      "text/plain": [
       "'fiscal_year'"
      ]
     },
     "execution_count": 45,
     "metadata": {},
     "output_type": "execute_result"
    }
   ],
   "execution_count": 45
  },
  {
   "metadata": {
    "ExecuteTime": {
     "end_time": "2025-07-12T12:04:31.097483Z",
     "start_time": "2025-07-12T12:04:31.087918Z"
    }
   },
   "cell_type": "code",
   "source": [
    "placebo_reg_df = placebo_reg_df[placebo_reg_df['gov_counts'].notnull()].copy()\n",
    "usekey_list = 'log_frequency gov_indicator sic fiscal_year gvkey Size LEV BM ROA GuidanceForecast'.split(' ')\n",
    "placebo_reg_df_useful = placebo_reg_df[usekey_list].rename(columns={'gov_indicator': 'MajorGovCustomer', 'log_frequency': 'logGuidanceForecast'})"
   ],
   "id": "178a21ed000f4a72",
   "outputs": [],
   "execution_count": 46
  },
  {
   "metadata": {
    "ExecuteTime": {
     "end_time": "2025-07-12T12:04:33.646360Z",
     "start_time": "2025-07-12T12:04:33.632571Z"
    }
   },
   "cell_type": "code",
   "source": [
    "main_reg_useful_df = main_reg_df[['frequency', 'log_frequency_w', 'MajorGovCustomer', 'log_market_value_w', 'lev_w', 'BM_w', 'ROA_w', 'sic', 'fiscal_year', 'gvkey']].rename(\n",
    "    columns={'log_frequency_w': 'logGuidanceForecast', 'frequency': 'GuidanceForecast', 'log_market_value_w': \"Size\", 'lev_w': 'LEV', 'BM_w': 'BM', 'ROA_w': 'ROA'})\n",
    "merged_df = pd.concat([placebo_reg_df_useful, main_reg_useful_df], axis=0, ignore_index=True).drop_duplicates(subset=[const.GVKEY, const.YEAR], keep='last')"
   ],
   "id": "5f4f849c602a00ae",
   "outputs": [],
   "execution_count": 47
  },
  {
   "metadata": {
    "ExecuteTime": {
     "end_time": "2025-07-12T12:04:38.505290Z",
     "start_time": "2025-07-12T12:04:38.143564Z"
    }
   },
   "cell_type": "code",
   "source": [
    "pc_df = pd.read_stata(os.path.join(const.DATA_PATH, '20190217_FEC_general_firm_year_interaction_newly_without_duplicates_interactions3.dta'))\n",
    "pc_valid_df = pc_df[['CSTAT_gvkey', 'year', 'FEC_LoseP', 'FEC_WonP', 'FEC_TotalP']].rename(\n",
    "    columns={'CSTAT_gvkey': const.GVKEY, 'year': const.YEAR, 'FEC_LoseP': 'LoseP', 'FEC_WonP': 'WinP', 'FEC_TotalP': 'TotalP'})\n",
    "pc_valid_df.loc[:, 'NumP'] = pc_valid_df['WinP'] + pc_valid_df['LoseP']\n",
    "pc_valid_df['WinRatio'] = pc_valid_df['WinP'] / pc_valid_df['NumP']\n",
    "pc_valid_df['LoseRatio'] = pc_valid_df['LoseP'] / pc_valid_df['NumP']"
   ],
   "id": "7656d56a86b9d073",
   "outputs": [],
   "execution_count": 48
  },
  {
   "metadata": {
    "ExecuteTime": {
     "end_time": "2025-07-12T12:05:23.774552Z",
     "start_time": "2025-07-12T12:05:23.699840Z"
    }
   },
   "cell_type": "code",
   "source": [
    "tmp_pc_df = pc_valid_df.copy()\n",
    "pc_dis_df = merged_df.merge(tmp_pc_df, on=[const.GVKEY, const.YEAR], how='right')\n",
    "pc_dis_df['sic'] = pc_dis_df['sic'].astype(str)\n",
    "pc_dis_df.to_stata(os.path.join(const.RESULT_PATH, '20250711_stock_act_pc_reg_data.dta'), write_index=False)"
   ],
   "id": "c225399461eaad53",
   "outputs": [],
   "execution_count": 51
  },
  {
   "metadata": {
    "ExecuteTime": {
     "end_time": "2025-07-11T04:48:46.146832Z",
     "start_time": "2025-07-11T04:48:46.131Z"
    }
   },
   "cell_type": "code",
   "source": [
    "tmp_pc_df = pc_valid_df.copy()\n",
    "tmp_pc_df.loc[:, const.YEAR] -= 1\n",
    "pc_dis_df = merged_df.merge(tmp_pc_df, on=[const.GVKEY, const.YEAR], how='inner')\n",
    "pc_dis_df['sic'] = pc_dis_df['sic'].astype(int)\n",
    "pc_dis_df.to_stata(os.path.join(const.RESULT_PATH, '20250711_stock_act_pc_reg_data_v2.dta'), write_index=False)"
   ],
   "id": "1c3fb9d15029f8e",
   "outputs": [],
   "execution_count": 15
  },
  {
   "metadata": {
    "ExecuteTime": {
     "end_time": "2025-07-11T05:35:27.946909Z",
     "start_time": "2025-07-11T05:35:27.901074Z"
    }
   },
   "cell_type": "code",
   "source": [
    "def get_election_cycle(fiscal_year):\n",
    "    if fiscal_year % 2 == 0:\n",
    "        return fiscal_year - 2\n",
    "    else:\n",
    "        return fiscal_year - 1\n",
    "\n",
    "tmp_pc_df = pc_valid_df.rename(columns={const.YEAR: 'ElectionCycle'})\n",
    "merged_df.loc[:, 'ElectionCycle'] = merged_df[const.YEAR].apply(get_election_cycle)\n",
    "\n",
    "pc_dis_df = merged_df.merge(tmp_pc_df, on=[const.GVKEY, 'ElectionCycle'], how='inner')\n",
    "pc_dis_df['sic'] = pc_dis_df['sic'].astype(int)\n",
    "pc_dis_df.to_stata(os.path.join(const.RESULT_PATH, '20250711_stock_act_pc_reg_data_v3.dta'), write_index=False)\n"
   ],
   "id": "896ee31bfc957f",
   "outputs": [],
   "execution_count": 20
  },
  {
   "metadata": {
    "ExecuteTime": {
     "end_time": "2025-07-11T05:35:29.316489Z",
     "start_time": "2025-07-11T05:35:29.295249Z"
    }
   },
   "cell_type": "code",
   "source": [
    "tmp_pc_df = pc_valid_df.rename(columns={const.YEAR: 'ElectionCycle'})\n",
    "tmp_dis_df = merged_df.groupby([const.GVKEY, 'ElectionCycle'])[['Size', 'LEV', 'BM', 'ROA', 'GuidanceForecast']].mean().reset_index(drop=False)\n",
    "pc_dis_df = tmp_dis_df.merge(tmp_pc_df, on=[const.GVKEY, 'ElectionCycle'], how='inner')\n",
    "pc_dis_df['logGuidanceForecast'] = pc_dis_df['GuidanceForecast'].apply(np.log1p)\n",
    "pc_dis_df.to_stata(os.path.join(const.RESULT_PATH, '20250711_stock_act_pc_reg_data_v4.dta'), write_index=False)"
   ],
   "id": "55e25de60d290383",
   "outputs": [],
   "execution_count": 21
  },
  {
   "metadata": {},
   "cell_type": "markdown",
   "source": "## merge with special election data",
   "id": "4f68002968687a18"
  },
  {
   "metadata": {
    "ExecuteTime": {
     "end_time": "2025-07-12T12:03:51.890279Z",
     "start_time": "2025-07-12T12:03:51.738046Z"
    }
   },
   "cell_type": "code",
   "source": [
    "spc_df = pd.read_stata(os.path.join(const.DATA_PATH, '20180829_FEC_federal_special_firm_year_candidate_merged_data.dta'))\n",
    "useful_col = 'year FEC_margin FEC_is_win FEC_is_close_election CSTAT_gvkey'.split(' ')\n",
    "spc_df = spc_df[useful_col].rename(columns={'year': const.YEAR, 'CSTAT_gvkey': const.GVKEY})"
   ],
   "id": "be68db64bab15b49",
   "outputs": [],
   "execution_count": 43
  },
  {
   "metadata": {
    "ExecuteTime": {
     "end_time": "2025-07-12T12:05:42.490358Z",
     "start_time": "2025-07-12T12:05:42.434683Z"
    }
   },
   "cell_type": "code",
   "source": [
    "spc_dis_df = merged_df.merge(spc_df, on=[const.GVKEY, const.YEAR], how='right')\n",
    "spc_dis_df.describe()\n",
    "spc_dis_df['sic'] = spc_dis_df['sic'].astype(str)\n",
    "spc_dis_df.drop_duplicates(subset=[const.GVKEY, const.YEAR], keep='last').to_stata(os.path.join(const.RESULT_PATH, '20250711_stock_act_spc_reg_data.dta'), write_index=False)"
   ],
   "id": "de2ed1fa126d8aac",
   "outputs": [],
   "execution_count": 53
  },
  {
   "metadata": {},
   "cell_type": "markdown",
   "source": [
    "# Construct Regression data for the following variables\n",
    "## GPIN"
   ],
   "id": "83dc4d5793112261"
  },
  {
   "metadata": {
    "ExecuteTime": {
     "end_time": "2025-07-12T09:38:30.345595Z",
     "start_time": "2025-07-12T09:38:30.338762Z"
    }
   },
   "cell_type": "code",
   "source": [
    "crsp_comp_link = pd.read_pickle(os.path.join(const.TEMP_PATH, 'crsp_comp.pkl'))\n",
    "crsp_comp_link['permco'] = crsp_comp_link['permco'].astype(int)\n",
    "crsp_comp_link[const.GVKEY] = crsp_comp_link[const.GVKEY].astype(int)"
   ],
   "id": "c216568063a3eb03",
   "outputs": [],
   "execution_count": 15
  },
  {
   "metadata": {
    "ExecuteTime": {
     "end_time": "2025-07-12T09:37:12.418783Z",
     "start_time": "2025-07-12T09:37:08.307182Z"
    }
   },
   "cell_type": "code",
   "source": [
    "cpin_daily_full = pd.read_csv(os.path.join(const.RESULT_PATH, '1993_2019_cpie_daily.csv'))\n",
    "annual_gpin = cpin_daily_full.groupby(['permno', 'year']).agg({\n",
    "    'cpie_gpin': 'mean',\n",
    "}).reset_index(drop=False)\n",
    "annual_gpin.rename(columns={'year': const.YEAR}, inplace=True)"
   ],
   "id": "b768c9425a8ff554",
   "outputs": [],
   "execution_count": 13
  },
  {
   "metadata": {
    "ExecuteTime": {
     "end_time": "2025-07-12T09:38:32.277943Z",
     "start_time": "2025-07-12T09:38:32.268409Z"
    }
   },
   "cell_type": "code",
   "source": [
    "annual_gpin_gvkey = pd.merge(annual_gpin, crsp_comp_link,\n",
    "                             left_on='permno', right_on='permco', how='left')"
   ],
   "id": "f9d78047776219e2",
   "outputs": [],
   "execution_count": 16
  },
  {
   "metadata": {},
   "cell_type": "markdown",
   "source": "## IDIOSYN",
   "id": "dd92ab439abd0a05"
  },
  {
   "metadata": {
    "ExecuteTime": {
     "end_time": "2025-07-12T03:47:05.135741Z",
     "start_time": "2025-07-12T03:47:05.035543Z"
    }
   },
   "cell_type": "code",
   "source": [
    "synchrony_monthly_df = pd.read_pickle(os.path.join(const.TEMP_PATH, '20250712_synchrony_monthly.pkl'))\n",
    "synchrony_monthly_df['IDIOSYN'] = synchrony_monthly_df['SYNCHRONICITY'] * -1"
   ],
   "id": "8d8bbded29f9776c",
   "outputs": [],
   "execution_count": 5
  },
  {
   "metadata": {
    "ExecuteTime": {
     "end_time": "2025-07-12T09:39:59.088835Z",
     "start_time": "2025-07-12T09:39:59.071087Z"
    }
   },
   "cell_type": "code",
   "source": [
    "synchrony_gvkey_df = pd.merge(synchrony_monthly_df.drop(['SYNCHRONICITY', 'SYNCHRONICITY_MKT', 'SYNCHRONICITY_IND'], axis=1),\n",
    "                                crsp_comp_link,\n",
    "                             left_on='PERMNO', right_on='permco', how='left')"
   ],
   "id": "1620c964aac7665f",
   "outputs": [],
   "execution_count": 18
  },
  {
   "metadata": {},
   "cell_type": "markdown",
   "source": "## DELAY",
   "id": "42c159ff87133b82"
  },
  {
   "metadata": {
    "ExecuteTime": {
     "end_time": "2025-07-12T04:10:36.464792Z",
     "start_time": "2025-07-12T04:10:36.411790Z"
    }
   },
   "cell_type": "code",
   "source": "price_delay_df = pd.read_pickle(os.path.join(const.TEMP_PATH, 'hm_2005_price_delay.pkl'))",
   "id": "9f099f71b8b9ba7",
   "outputs": [],
   "execution_count": 6
  },
  {
   "metadata": {
    "ExecuteTime": {
     "end_time": "2025-07-12T11:47:26.939936Z",
     "start_time": "2025-07-12T11:47:26.934881Z"
    }
   },
   "cell_type": "code",
   "source": "price_delay_df.keys()",
   "id": "8198869f1c9b24b9",
   "outputs": [
    {
     "data": {
      "text/plain": [
       "Index(['PERMNO', 'year', 'price_delay', 'r2_full', 'r2_restricted', 'n_obs'], dtype='object')"
      ]
     },
     "execution_count": 26,
     "metadata": {},
     "output_type": "execute_result"
    }
   ],
   "execution_count": 26
  },
  {
   "metadata": {
    "ExecuteTime": {
     "end_time": "2025-07-12T11:47:50.570995Z",
     "start_time": "2025-07-12T11:47:50.553156Z"
    }
   },
   "cell_type": "code",
   "source": [
    "delay_gvkey_df = pd.merge(price_delay_df, crsp_comp_link,\n",
    "                          left_on='PERMNO', right_on='permco', how='left').dropna(subset=[const.GVKEY]).rename(columns={'year': const.YEAR}).drop(['PERMNO', 'r2_full',  'r2_restricted', 'n_obs', 'permco'], axis=1)"
   ],
   "id": "2c5c516120921ac4",
   "outputs": [],
   "execution_count": 28
  },
  {
   "metadata": {},
   "cell_type": "markdown",
   "source": "## ANALYSTS",
   "id": "e564a968cefd37ce"
  },
  {
   "metadata": {
    "ExecuteTime": {
     "end_time": "2025-07-12T09:41:03.233765Z",
     "start_time": "2025-07-12T09:41:03.206767Z"
    }
   },
   "cell_type": "code",
   "source": "analyst_coverage = pd.read_csv(os.path.join(const.TEMP_PATH, '2001_2016_annual_analyst_coverage.csv'), usecols=['gvkey', 'permno', 'coverage', const.YEAR])",
   "id": "6ea3c37f67eaa096",
   "outputs": [],
   "execution_count": 19
  },
  {
   "metadata": {},
   "cell_type": "markdown",
   "source": "## FCSTERROR and DISPERSION",
   "id": "9f6e00b895d4602"
  },
  {
   "metadata": {
    "ExecuteTime": {
     "end_time": "2025-07-12T09:35:04.300858Z",
     "start_time": "2025-07-12T09:35:04.231506Z"
    }
   },
   "cell_type": "code",
   "source": [
    "fcsterror_dispersion_df = pd.read_csv(os.path.join(const.TEMP_PATH, '2001_2016_annual_dispersion_fcsterror.csv'),\n",
    "                                      usecols=['permno', 'year', 'DISPERSION', 'DISPERSION_last',\n",
    "       'FCSTERROR', 'FCSTERROR_last'])"
   ],
   "id": "2f0d911a75065f61",
   "outputs": [],
   "execution_count": 10
  },
  {
   "metadata": {
    "ExecuteTime": {
     "end_time": "2025-07-12T09:41:42.941286Z",
     "start_time": "2025-07-12T09:41:42.929261Z"
    }
   },
   "cell_type": "code",
   "source": [
    "fd_gvkey_df = pd.merge(fcsterror_dispersion_df, crsp_comp_link,\n",
    "                             left_on='permno', right_on='permco', how='left')"
   ],
   "id": "6d0c9ca2cedd66da",
   "outputs": [],
   "execution_count": 20
  },
  {
   "metadata": {},
   "cell_type": "markdown",
   "source": "## Merge all five dataset",
   "id": "6498f554e92959cf"
  },
  {
   "metadata": {
    "ExecuteTime": {
     "end_time": "2025-07-12T12:59:43.477087Z",
     "start_time": "2025-07-12T12:59:43.472653Z"
    }
   },
   "cell_type": "code",
   "source": [
    "print(annual_gpin.keys())\n",
    "print(synchrony_monthly_df.keys())\n",
    "print(analyst_coverage.keys())\n",
    "print(price_delay_df.keys())\n",
    "print(fcsterror_dispersion_df.keys())"
   ],
   "id": "21345893e38171e8",
   "outputs": [
    {
     "name": "stdout",
     "output_type": "stream",
     "text": [
      "Index(['permno', 'fiscal_year', 'cpie_gpin'], dtype='object')\n",
      "Index(['PERMNO', 'year', 'SYNCHRONICITY', 'SYNCHRONICITY_MKT',\n",
      "       'SYNCHRONICITY_IND', 'IDIOSYN'],\n",
      "      dtype='object')\n",
      "Index(['fiscal_year', 'coverage', 'permno', 'gvkey'], dtype='object')\n",
      "Index(['PERMNO', 'year', 'price_delay', 'r2_full', 'r2_restricted', 'n_obs'], dtype='object')\n",
      "Index(['year', 'permno', 'DISPERSION', 'DISPERSION_last', 'FCSTERROR',\n",
      "       'FCSTERROR_last'],\n",
      "      dtype='object')\n"
     ]
    }
   ],
   "execution_count": 62
  },
  {
   "metadata": {
    "ExecuteTime": {
     "end_time": "2025-07-12T13:04:22.534809Z",
     "start_time": "2025-07-12T13:04:22.380693Z"
    }
   },
   "cell_type": "code",
   "source": [
    "idiosyn_df = synchrony_monthly_df[['PERMNO', 'year', 'IDIOSYN']].rename(columns={'year': const.YEAR, 'PERMNO': 'permno'})\n",
    "ac_df = analyst_coverage.drop(['gvkey'], axis=1)\n",
    "pd_df = price_delay_df[['PERMNO', 'year', 'price_delay']].rename(columns={'year': const.YEAR, 'PERMNO': 'permno'})\n",
    "fd_df = fcsterror_dispersion_df.rename(columns={'year': const.YEAR})\n",
    "dep_df = annual_gpin.merge(idiosyn_df, on=['permno', const.YEAR], how='outer').merge(\n",
    "    ac_df, on=['permno', const.YEAR], how='outer').merge(\n",
    "    pd_df, on=['permno', const.YEAR], how='outer').merge(\n",
    "    fd_df, on=['permno', const.YEAR], how='outer')"
   ],
   "id": "618d2e0d461e2fc0",
   "outputs": [],
   "execution_count": 64
  },
  {
   "metadata": {
    "ExecuteTime": {
     "end_time": "2025-07-12T13:05:03.366054Z",
     "start_time": "2025-07-12T13:05:03.349178Z"
    }
   },
   "cell_type": "code",
   "source": "dep_df.to_pickle(os.path.join(const.TEMP_PATH, '20250712_temp_dependent_variables.pkl'))",
   "id": "98a8cee57bc4e9ba",
   "outputs": [],
   "execution_count": 66
  },
  {
   "metadata": {},
   "cell_type": "markdown",
   "source": "## Construct Regression data",
   "id": "5e0a4932255e5a0"
  },
  {
   "metadata": {
    "ExecuteTime": {
     "end_time": "2025-07-13T00:10:24.469495Z",
     "start_time": "2025-07-13T00:10:23.706076Z"
    }
   },
   "cell_type": "code",
   "source": [
    "dep_df = pd.read_pickle(os.path.join(const.TEMP_PATH, '20250712_temp_dependent_variables.pkl'))\n",
    "ccm_path = r'D:\\Users\\wangy\\Documents\\data\\ccm'\n",
    "ccm_df = pd.read_sas(os.path.join(os.path.join(ccm_path, 'ccm_lookup.sas7bdat')), encoding='utf-8')"
   ],
   "id": "53b90939b0ec633b",
   "outputs": [],
   "execution_count": 3
  },
  {
   "metadata": {
    "ExecuteTime": {
     "end_time": "2025-07-13T00:25:22.509151Z",
     "start_time": "2025-07-13T00:25:22.504860Z"
    }
   },
   "cell_type": "code",
   "source": [
    "print('dep_df keys: ', list(dep_df.keys()))\n",
    "print('ccm_df keys: ', list(ccm_df.keys()))"
   ],
   "id": "f5d0213b61afdf67",
   "outputs": [
    {
     "name": "stdout",
     "output_type": "stream",
     "text": [
      "dep_df keys:  ['permno', 'fiscal_year', 'cpie_gpin', 'IDIOSYN', 'coverage', 'price_delay', 'DISPERSION', 'DISPERSION_last', 'FCSTERROR', 'FCSTERROR_last']\n",
      "ccm_df keys:  ['GVKEY', 'LPERMNO', 'LPERMCO', 'LINKDT', 'LINKENDDT', 'conm', 'tic', 'cusip', 'cik', 'sic', 'naics', 'gsubind', 'gind', 'year1', 'year2']\n"
     ]
    }
   ],
   "execution_count": 4
  },
  {
   "metadata": {
    "ExecuteTime": {
     "end_time": "2025-07-13T00:31:30.925434Z",
     "start_time": "2025-07-13T00:31:30.803969Z"
    }
   },
   "cell_type": "code",
   "source": [
    "# 标准化列名\n",
    "dep_df.columns = dep_df.columns.str.lower()\n",
    "ccm_df.columns = ccm_df.columns.str.lower()\n",
    "\n",
    "# 保留需要的字段\n",
    "ccm_sub = ccm_df[['gvkey', 'lpermno', 'year1', 'year2']].copy()\n",
    "\n",
    "# 为提高 merge 效率，先 merge on permno，再做年份筛选\n",
    "merged = pd.merge(dep_df, ccm_sub, left_on='permno', right_on='lpermno', how='left')\n",
    "\n",
    "# 年份条件筛选：fiscal_year ∈ [year1, year2]\n",
    "matched = merged[\n",
    "    (merged['fiscal_year'] >= merged['year1']) &\n",
    "    (merged['fiscal_year'] <= merged['year2'])\n",
    "].copy()\n",
    "\n",
    "# 如果多个匹配，选择最近的 year1（可选）\n",
    "matched = matched.sort_values(by=['permno', 'fiscal_year', 'year1'], ascending=[True, True, False])\n",
    "matched = matched.drop_duplicates(subset=['permno', 'fiscal_year'], keep='first')\n",
    "\n",
    "# 删除辅助列（可选）\n",
    "matched = matched.drop(columns=['lpermno', 'year1', 'year2'])"
   ],
   "id": "d202b0dc6d7b305a",
   "outputs": [],
   "execution_count": 5
  },
  {
   "metadata": {
    "ExecuteTime": {
     "end_time": "2025-07-13T00:33:30.257989Z",
     "start_time": "2025-07-13T00:33:30.245108Z"
    }
   },
   "cell_type": "code",
   "source": "matched[const.GVKEY] = matched[const.GVKEY].astype(int)",
   "id": "1c2135c695c6422a",
   "outputs": [],
   "execution_count": 13
  },
  {
   "metadata": {
    "ExecuteTime": {
     "end_time": "2025-07-13T00:35:13.377707Z",
     "start_time": "2025-07-13T00:35:13.341206Z"
    }
   },
   "cell_type": "code",
   "source": [
    "reg_df = pd.read_stata(os.path.join(const.RESULT_PATH, '20250711_stock_act_pc_reg_data_v2.dta'))\n",
    "spc_reg_df = pd.read_stata(os.path.join(const.RESULT_PATH, '20250711_stock_act_spc_reg_data_v2.dta'))"
   ],
   "id": "442acbe2131c1ba4",
   "outputs": [],
   "execution_count": 16
  },
  {
   "metadata": {
    "ExecuteTime": {
     "end_time": "2025-07-13T00:35:18.114633Z",
     "start_time": "2025-07-13T00:35:18.059195Z"
    }
   },
   "cell_type": "code",
   "source": [
    "# merge to next year\n",
    "tmp_dep_df = matched.copy()\n",
    "tmp_dep_df['fiscal_year'] = tmp_dep_df['fiscal_year'] + 1\n",
    "\n",
    "reg_df2 = reg_df.merge(tmp_dep_df, on=[const.GVKEY, const.YEAR], how='left')\n",
    "\n",
    "reg_df2.to_stata(os.path.join(const.RESULT_PATH, '20250713_staock_act_pc_reg_data.dta'), write_index=False)\n",
    "\n",
    "spc_reg_df2 = spc_reg_df.merge(tmp_dep_df, on=[const.GVKEY, const.YEAR], how='left')\n",
    "\n",
    "spc_reg_df2.to_stata(os.path.join(const.RESULT_PATH, '20250713_staock_act_spc_reg_data.dta'), write_index=False)"
   ],
   "id": "a57d26d43c3080cb",
   "outputs": [],
   "execution_count": 17
  },
  {
   "metadata": {},
   "cell_type": "code",
   "outputs": [],
   "execution_count": null,
   "source": "",
   "id": "3ae34f75df2b914c"
  },
  {
   "metadata": {
    "ExecuteTime": {
     "end_time": "2025-07-12T12:07:55.280263Z",
     "start_time": "2025-07-12T12:07:55.208845Z"
    }
   },
   "cell_type": "code",
   "source": [
    "# merge to next year\n",
    "tmp_fd_df = fd_gvkey_df.rename(columns={'year': const.YEAR}).drop(['permno', 'permco'], axis=1).dropna(subset=[const.GVKEY])\n",
    "tmp_analyst_df = analyst_coverage.drop(['permno'], axis=1).dropna(subset=[const.GVKEY])\n",
    "tmp_gpin_df = annual_gpin_gvkey.drop(['permno', 'permco'], axis=1).dropna(subset=[const.GVKEY])\n",
    "tmp_idio_df = synchrony_gvkey_df.rename(columns={'year': const.YEAR}).drop(['PERMNO', 'permco'], axis=1).dropna(subset=[const.GVKEY])\n",
    "tmp_delay_df = delay_gvkey_df.copy()\n",
    "\n",
    "reg_df2 = reg_df.merge(tmp_fd_df, on=[const.GVKEY, const.YEAR], how='left').merge(tmp_analyst_df, on=[const.GVKEY, const.YEAR], how='left').merge(tmp_gpin_df, on=[const.GVKEY, const.YEAR], how='left').merge(tmp_idio_df, on=[const.GVKEY, const.YEAR], how='left').merge(tmp_delay_df, on=[const.GVKEY, const.YEAR], how='left')\n",
    "\n",
    "reg_df2.to_stata(os.path.join(const.RESULT_PATH, '20250712_staock_act_pc_reg_data.dta'), write_index=False)\n",
    "\n",
    "spc_reg_df2 = spc_reg_df.merge(tmp_fd_df, on=[const.GVKEY, const.YEAR], how='left').merge(tmp_analyst_df, on=[const.GVKEY, const.YEAR], how='left').merge(tmp_gpin_df, on=[const.GVKEY, const.YEAR], how='left').merge(tmp_idio_df, on=[const.GVKEY, const.YEAR], how='left').merge(tmp_delay_df, on=[const.GVKEY, const.YEAR], how='left')\n",
    "\n",
    "spc_reg_df2.to_stata(os.path.join(const.RESULT_PATH, '20250712_staock_act_spc_reg_data.dta'), write_index=False)"
   ],
   "id": "5e6e47bbbcc48bfa",
   "outputs": [],
   "execution_count": 58
  },
  {
   "metadata": {
    "ExecuteTime": {
     "end_time": "2025-07-12T12:08:52.867086Z",
     "start_time": "2025-07-12T12:08:52.860026Z"
    }
   },
   "cell_type": "code",
   "source": "reg_df.loc[reg_df[const.GVKEY].isin(set(tmp_gpin_df[const.GVKEY])), const.GVKEY].unique()",
   "id": "3e9438bc0b1916d3",
   "outputs": [
    {
     "data": {
      "text/plain": [
       "array([ 23000.,   1177., 116004.,   1678.,   8542.,  60797.,  27925.,\n",
       "       109919.,  63268.,  61355., 118121., 177376.,  63501.,   4194.,\n",
       "       114524., 170617.,  31683.,   4839.,  30536.,  61077.,  19428.,\n",
       "        22260.,  27928.,   6178.,  17239.,  61064., 164109.,  62784.,\n",
       "        66435.,  31460.,  28758.,  63180.,  63527.,  64552.,  10426.,\n",
       "        64807.,  29616.])"
      ]
     },
     "execution_count": 59,
     "metadata": {},
     "output_type": "execute_result"
    }
   ],
   "execution_count": 59
  },
  {
   "metadata": {
    "ExecuteTime": {
     "end_time": "2025-07-12T12:09:06.383186Z",
     "start_time": "2025-07-12T12:09:06.377042Z"
    }
   },
   "cell_type": "code",
   "source": "reg_df.loc[reg_df[const.GVKEY].isin(set(tmp_gpin_df[const.GVKEY])), const.GVKEY].shape",
   "id": "5cbd6235cd0e6ef4",
   "outputs": [
    {
     "data": {
      "text/plain": [
       "(180,)"
      ]
     },
     "execution_count": 60,
     "metadata": {},
     "output_type": "execute_result"
    }
   ],
   "execution_count": 60
  },
  {
   "metadata": {
    "ExecuteTime": {
     "end_time": "2025-07-12T12:00:47.160423Z",
     "start_time": "2025-07-12T12:00:47.143965Z"
    }
   },
   "cell_type": "code",
   "source": "tmp_fd_df[const.YEAR].describe()",
   "id": "7277c9b7db320305",
   "outputs": [
    {
     "data": {
      "text/plain": [
       "count    3793.000000\n",
       "mean     2011.491695\n",
       "std         4.552379\n",
       "min      2003.000000\n",
       "25%      2007.000000\n",
       "50%      2013.000000\n",
       "75%      2016.000000\n",
       "max      2017.000000\n",
       "Name: fiscal_year, dtype: float64"
      ]
     },
     "execution_count": 34,
     "metadata": {},
     "output_type": "execute_result"
    }
   ],
   "execution_count": 34
  }
 ],
 "metadata": {
  "kernelspec": {
   "display_name": "Python 3",
   "language": "python",
   "name": "python3"
  },
  "language_info": {
   "codemirror_mode": {
    "name": "ipython",
    "version": 2
   },
   "file_extension": ".py",
   "mimetype": "text/x-python",
   "name": "python",
   "nbconvert_exporter": "python",
   "pygments_lexer": "ipython2",
   "version": "2.7.6"
  }
 },
 "nbformat": 4,
 "nbformat_minor": 5
}
