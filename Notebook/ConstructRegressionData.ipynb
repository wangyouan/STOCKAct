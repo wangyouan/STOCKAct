{
 "cells": [
  {
   "metadata": {
    "ExecuteTime": {
     "end_time": "2024-09-18T06:24:42.935962Z",
     "start_time": "2024-09-18T06:24:42.472239Z"
    }
   },
   "cell_type": "code",
   "source": [
    "import os\n",
    "\n",
    "import pandas as pd\n",
    "from pandas import DataFrame\n",
    "import numpy as np\n",
    "\n",
    "from Constants import Constants as const"
   ],
   "id": "64c2ba8aa93dcfd7",
   "outputs": [],
   "execution_count": 1
  },
  {
   "metadata": {
    "ExecuteTime": {
     "end_time": "2024-09-18T06:53:43.698338Z",
     "start_time": "2024-09-18T06:53:43.527065Z"
    }
   },
   "cell_type": "code",
   "source": [
    "reg_df: DataFrame = pd.read_stata(os.path.join(const.RESULT_PATH, '20240825_stock_act_reg_data.dta'))\n",
    "new_year_df: DataFrame = pd.read_csv(os.path.join(const.DATA_PATH, 'fromZGY', 'new_shock_year_data_compustat.csv'),\n",
    "                                     usecols=[const.GVKEY, 'year', 'post', 'freq']).rename(\n",
    "    columns={'post': 'post60min', 'freq': 'freq60min', 'year': 'fiscal_year'})\n",
    "# new_quarterly_df: DataFrame = pd.read_csv(os.path.join(const.DATA_PATH, 'fromZGY', 'new_year_quarter_data.csv'))"
   ],
   "id": "6ac02f956b95c64a",
   "outputs": [],
   "execution_count": 10
  },
  {
   "metadata": {
    "ExecuteTime": {
     "end_time": "2024-09-18T07:41:30.891946Z",
     "start_time": "2024-09-18T07:41:30.444236Z"
    }
   },
   "cell_type": "code",
   "source": [
    "reg_df_60: DataFrame = reg_df.merge(new_year_df, on=[const.GVKEY, const.YEAR], how='left').drop(['busdesc'], axis=1)\n",
    "event_index = reg_df_60.loc[reg_df_60[const.YEAR].apply(lambda x: 2008 < x < 2015)].index\n",
    "reg_df_60.loc[event_index, 'freq60min'] = reg_df_60['freq60min'].fillna(0)\n",
    "reg_df_60.loc[event_index, 'ln_freq60min'] = reg_df_60['freq60min'].apply(lambda x: np.log(x + 1))\n",
    "reg_df_60.loc[event_index, 'freq60min'] = (reg_df_60.loc[event_index, const.YEAR] > 2011).astype(int)\n",
    "reg_df_60.to_stata(os.path.join(const.RESULT_PATH, '20240918_stock_act_reg_data.dta'),\n",
    "                   write_index=False)"
   ],
   "id": "cefc8fa9ab3cd86c",
   "outputs": [],
   "execution_count": 14
  },
  {
   "metadata": {
    "ExecuteTime": {
     "end_time": "2024-09-18T08:02:35.424211Z",
     "start_time": "2024-09-18T08:02:33.903290Z"
    }
   },
   "cell_type": "code",
   "source": [
    "# merge quarterly data\n",
    "new_quarterly_df: DataFrame = pd.read_csv(os.path.join(const.DATA_PATH, 'fromZGY', 'new_year_quarter_data_gvkey.csv'))\n",
    "majgovcustomer_gvkey = reg_df.loc[reg_df['MajorGovCustomer'] == 1, 'gvkey'].unique()\n",
    "new_quarterly_df.loc[:, 'MajorGovCustomer'] = 0\n",
    "new_quarterly_df.loc[new_quarterly_df[const.GVKEY].isin(majgovcustomer_gvkey), 'MajorGovCustomer'] = 1\n",
    "\n",
    "new_quarterly_df['yearquarter'] = new_quarterly_df.apply(lambda x: '{}q{}'.format(int(x['Year']), int(x['Quarter'])), axis=1)\n",
    "new_quarterly_df.loc[:, 'post'] = (new_quarterly_df['Year'] > 2011).astype(int)\n",
    "new_quarterly_df['ln_freq'] = new_quarterly_df['freq'].apply(lambda x: np.log(x + 1))\n",
    "\n",
    "int_terms = list()\n",
    "for year in range(2008, 2015):\n",
    "    for quarter in range(1, 5):\n",
    "        new_quarterly_df.loc[:, f'd{year}q{quarter}'] = (new_quarterly_df['yearquarter'] == f'{year}q{quarter}').astype(int)\n",
    "        int_terms.append(f'1.d{year}q{quarter}#1.MajorGovCustomer')\n",
    "\n",
    "new_quarterly_df.to_stata(os.path.join(const.RESULT_PATH, '20240918_stock_act_reg_data_quarterly.dta'), write_index=False)\n",
    "\n",
    "print(' '.join(int_terms))"
   ],
   "id": "37b9a644bc31dcaf",
   "outputs": [
    {
     "name": "stdout",
     "output_type": "stream",
     "text": [
      "1.d2008q1#1.MajorGovCustomer 1.d2008q2#1.MajorGovCustomer 1.d2008q3#1.MajorGovCustomer 1.d2008q4#1.MajorGovCustomer 1.d2009q1#1.MajorGovCustomer 1.d2009q2#1.MajorGovCustomer 1.d2009q3#1.MajorGovCustomer 1.d2009q4#1.MajorGovCustomer 1.d2010q1#1.MajorGovCustomer 1.d2010q2#1.MajorGovCustomer 1.d2010q3#1.MajorGovCustomer 1.d2010q4#1.MajorGovCustomer 1.d2011q1#1.MajorGovCustomer 1.d2011q2#1.MajorGovCustomer 1.d2011q3#1.MajorGovCustomer 1.d2011q4#1.MajorGovCustomer 1.d2012q1#1.MajorGovCustomer 1.d2012q2#1.MajorGovCustomer 1.d2012q3#1.MajorGovCustomer 1.d2012q4#1.MajorGovCustomer 1.d2013q1#1.MajorGovCustomer 1.d2013q2#1.MajorGovCustomer 1.d2013q3#1.MajorGovCustomer 1.d2013q4#1.MajorGovCustomer 1.d2014q1#1.MajorGovCustomer 1.d2014q2#1.MajorGovCustomer 1.d2014q3#1.MajorGovCustomer 1.d2014q4#1.MajorGovCustomer\n"
     ]
    }
   ],
   "execution_count": 20
  },
  {
   "metadata": {
    "ExecuteTime": {
     "end_time": "2024-09-18T08:11:57.915154Z",
     "start_time": "2024-09-18T08:11:57.902820Z"
    }
   },
   "cell_type": "code",
   "source": [
    "inter_terms = '1.d2009q1#1.MajorGovCustomer 1.d2009q2#1.MajorGovCustomer 1.d2009q3#1.MajorGovCustomer 1.d2009q4#1.MajorGovCustomer 1.d2010q1#1.MajorGovCustomer 1.d2010q2#1.MajorGovCustomer 1.d2010q3#1.MajorGovCustomer 1.d2010q4#1.MajorGovCustomer 1.d2011q1#1.MajorGovCustomer 1.d2011q2#1.MajorGovCustomer 1.d2011q3#1.MajorGovCustomer 1.d2012q1#1.MajorGovCustomer 1.d2012q2#1.MajorGovCustomer 1.d2012q3#1.MajorGovCustomer 1.d2012q4#1.MajorGovCustomer 1.d2013q1#1.MajorGovCustomer 1.d2013q2#1.MajorGovCustomer 1.d2013q3#1.MajorGovCustomer 1.d2013q4#1.MajorGovCustomer 1.d2014q1#1.MajorGovCustomer 1.d2014q2#1.MajorGovCustomer 1.d2014q3#1.MajorGovCustomer 1.d2014q4#1.MajorGovCustomer'.split(' ')\n",
    "xlabel = list()\n",
    "for i, term in enumerate(inter_terms):\n",
    "    year = term.split('q')[0][-4:]\n",
    "    quarter = term.split('q')[1][0]\n",
    "    xlabel.append(f'{i+1} \"{year}q{quarter}\"')\n",
    "    \n",
    "print(' '.join(xlabel))"
   ],
   "id": "de1982d89c647cfe",
   "outputs": [
    {
     "name": "stdout",
     "output_type": "stream",
     "text": [
      "1 \"2009q1\" 2 \"2009q2\" 3 \"2009q3\" 4 \"2009q4\" 5 \"2010q1\" 6 \"2010q2\" 7 \"2010q3\" 8 \"2010q4\" 9 \"2011q1\" 10 \"2011q2\" 11 \"2011q3\" 12 \"2012q1\" 13 \"2012q2\" 14 \"2012q3\" 15 \"2012q4\" 16 \"2013q1\" 17 \"2013q2\" 18 \"2013q3\" 19 \"2013q4\" 20 \"2014q1\" 21 \"2014q2\" 22 \"2014q3\" 23 \"2014q4\"\n"
     ]
    }
   ],
   "execution_count": 23
  }
 ],
 "metadata": {
  "kernelspec": {
   "display_name": "Python 3",
   "language": "python",
   "name": "python3"
  },
  "language_info": {
   "codemirror_mode": {
    "name": "ipython",
    "version": 2
   },
   "file_extension": ".py",
   "mimetype": "text/x-python",
   "name": "python",
   "nbconvert_exporter": "python",
   "pygments_lexer": "ipython2",
   "version": "2.7.6"
  }
 },
 "nbformat": 4,
 "nbformat_minor": 5
}
