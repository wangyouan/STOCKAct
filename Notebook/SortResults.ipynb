{
 "cells": [
  {
   "cell_type": "code",
   "id": "initial_id",
   "metadata": {
    "collapsed": true,
    "ExecuteTime": {
     "end_time": "2025-05-01T01:18:41.677021Z",
     "start_time": "2025-05-01T01:18:41.183392Z"
    }
   },
   "source": [
    "import pandas as pd\n",
    "import os\n",
    "import re\n",
    "\n",
    "# === 设置路径 ===\n",
    "txt_folder = r\"D:\\Onedrive\\Temp\\Projects\\STOCKAct\\regression_results\\20250501\"  # 修改为你的真实目录\n",
    "output_excel = r\"D:\\Onedrive\\Temp\\Projects\\STOCKAct\\regression_results\\20250501\\merged_regressions.xlsx\"\n"
   ],
   "outputs": [],
   "execution_count": 1
  },
  {
   "metadata": {
    "ExecuteTime": {
     "end_time": "2025-05-01T01:18:43.019760Z",
     "start_time": "2025-05-01T01:18:43.007612Z"
    }
   },
   "cell_type": "code",
   "source": [
    "# === 读取所有txt文件 ===\n",
    "all_txt_files = [f for f in os.listdir(txt_folder) if f.endswith('.txt')]\n",
    "\n",
    "# === 自定义排序函数 ===\n",
    "def sort_key(filename):\n",
    "    # 去掉扩展名\n",
    "    name = os.path.splitext(filename)[0]\n",
    "\n",
    "    # 正则提取开头的编号信息，比如T3, T11, TB2, TOA1等\n",
    "    match = re.match(r'(T\\d+|TB\\d+|TOA\\d+)', name)\n",
    "    if match:\n",
    "        prefix = match.group(1)\n",
    "        # 排序规则：\n",
    "        # T3, T4, ..., T11 → TB系列（比如TB2）→ TOA系列（比如TOA1）\n",
    "        if prefix.startswith('T') and prefix[1].isdigit():\n",
    "            num = int(prefix[1:])\n",
    "            return (0, num)\n",
    "        elif prefix.startswith('TB'):\n",
    "            num = int(prefix[2:])\n",
    "            return (1, num)\n",
    "        elif prefix.startswith('TOA'):\n",
    "            num = int(prefix[3:])\n",
    "            return (2, num)\n",
    "    else:\n",
    "        return (99, name)  # 未匹配到的，放最后\n",
    "\n",
    "# === 排序文件列表 ===\n",
    "all_txt_files_sorted = sorted(all_txt_files, key=sort_key)"
   ],
   "id": "d54a14cff9d2e780",
   "outputs": [],
   "execution_count": 2
  },
  {
   "metadata": {
    "ExecuteTime": {
     "end_time": "2025-05-01T01:18:45.476089Z",
     "start_time": "2025-05-01T01:18:45.079780Z"
    }
   },
   "cell_type": "code",
   "source": [
    "# === 创建Excel Writer ===\n",
    "with pd.ExcelWriter(output_excel, engine='xlsxwriter') as writer:\n",
    "    for txt_file in all_txt_files_sorted:\n",
    "        file_path = os.path.join(txt_folder, txt_file)\n",
    "\n",
    "        # 读取txt文件\n",
    "        df = pd.read_csv(file_path, delimiter='\\t', header=None, engine='python')\n",
    "\n",
    "        # 整理：去掉多余空列，补齐空白\n",
    "        df = df.dropna(how='all', axis=1)\n",
    "        df = df.dropna(how='all', axis=0)\n",
    "\n",
    "        # 写入Excel，每个txt一个sheet，sheet名字是去掉.txt后的文件名\n",
    "        sheet_name = os.path.splitext(txt_file)[0][:31]  # sheet name最多31字符\n",
    "        df.to_excel(writer, sheet_name=sheet_name, index=False, header=False)\n",
    "\n",
    "print(f\"成功合并 {len(all_txt_files)} 个文件到 {output_excel}！\")"
   ],
   "id": "a1468ee5f11e48e7",
   "outputs": [
    {
     "name": "stdout",
     "output_type": "stream",
     "text": [
      "成功合并 72 个文件到 D:\\Onedrive\\Temp\\Projects\\STOCKAct\\regression_results\\20250501\\merged_regressions.xlsx！\n"
     ]
    }
   ],
   "execution_count": 3
  }
 ],
 "metadata": {
  "kernelspec": {
   "display_name": "Python 3",
   "language": "python",
   "name": "python3"
  },
  "language_info": {
   "codemirror_mode": {
    "name": "ipython",
    "version": 2
   },
   "file_extension": ".py",
   "mimetype": "text/x-python",
   "name": "python",
   "nbconvert_exporter": "python",
   "pygments_lexer": "ipython2",
   "version": "2.7.6"
  }
 },
 "nbformat": 4,
 "nbformat_minor": 5
}
