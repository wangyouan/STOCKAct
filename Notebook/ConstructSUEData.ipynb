{
 "cells": [
  {
   "cell_type": "code",
   "id": "initial_id",
   "metadata": {
    "collapsed": true,
    "ExecuteTime": {
     "end_time": "2024-10-11T13:00:38.220028Z",
     "start_time": "2024-10-11T13:00:36.632174Z"
    }
   },
   "source": [
    "#####################################\n",
    "# Post Earnings Announcement Drift  #\n",
    "# Qingyi (Freda) Song Drechsler     #\n",
    "# Date: June 2019                   #\n",
    "# Update: Jan 2021                  #\n",
    "#####################################\n",
    "\n",
    "# Update Note: this version uses CRSP data to extract S&P500 Index constituents,\n",
    "# as comp.idxcst_hist data is no longer available on WRDS\n",
    "# Also updated various .loc usage that has been deprecated by Python.\n",
    "# Source: https://www.fredasongdrechsler.com/data-crunching/pead\n",
    "\n",
    "import os\n",
    "import pandas as pd\n",
    "import numpy as np\n",
    "import wrds\n",
    "import matplotlib.pyplot as plt\n",
    "from dateutil.relativedelta import *\n",
    "import datetime\n",
    "\n",
    "from Constants import Constants as const\n",
    "\n",
    "# set sample date range\n",
    "begdate = '01/01/2007'\n",
    "enddate = '12/31/2016'\n",
    "\n",
    "# set CRSP date range a bit wider to guarantee collecting all information\n",
    "crsp_begdate = '01/01/2006'\n",
    "crsp_enddate = '12/31/2017'"
   ],
   "outputs": [],
   "execution_count": 1
  },
  {
   "metadata": {
    "ExecuteTime": {
     "end_time": "2024-10-11T13:00:47.245181Z",
     "start_time": "2024-10-11T13:00:39.282142Z"
    }
   },
   "cell_type": "code",
   "source": [
    "# Connect to WRDS\n",
    "conn = wrds.Connection(wrds_username='aheitz')"
   ],
   "id": "4f12e6980ea96b5e",
   "outputs": [
    {
     "name": "stdout",
     "output_type": "stream",
     "text": [
      "Loading library list...\n",
      "Done\n"
     ]
    }
   ],
   "execution_count": 2
  },
  {
   "metadata": {
    "ExecuteTime": {
     "end_time": "2024-10-11T13:00:47.264942Z",
     "start_time": "2024-10-11T13:00:47.253437Z"
    }
   },
   "cell_type": "code",
   "source": [
    "# Load linkage files\n",
    "crsp_comp_link = pd.read_pickle(os.path.join(const.TEMP_PATH, 'crsp_comp.pkl')).rename(columns={'permco': 'permno'})\n",
    "ibes_crsp_link = pd.read_pickle(os.path.join(const.TEMP_PATH, 'ibes_crsp_link.pkl'))\n",
    "\n",
    "# Placeholder dates\n",
    "bdate = '2006-01-01'\n",
    "edate = '2016-06-30'\n"
   ],
   "id": "bb26bf93ec12cd6",
   "outputs": [],
   "execution_count": 3
  },
  {
   "metadata": {
    "ExecuteTime": {
     "end_time": "2024-10-11T13:01:30.390424Z",
     "start_time": "2024-10-11T13:01:30.364576Z"
    }
   },
   "cell_type": "code",
   "source": [
    "iclink = pd.read_pickle(os.path.join(const.TEMP_PATH, '20241011_iclink.pkl'))\n",
    "iclink.head()"
   ],
   "id": "aae291b8adb23d32",
   "outputs": [
    {
     "data": {
      "text/plain": [
       "  ticker  permno             cname                            comnam  \\\n",
       "0   0000   14471    TALMER BANCORP                TALMER BANCORP INC   \n",
       "1   0001   14392      EP ENGR CORP                   E P ENERGY CORP   \n",
       "2   0004   14418  AMERICAN CAPITAL  AMERICAN CAPITAL SR FLOATING LTD   \n",
       "3   000R   14378           CARECOM                      CARE COM INC   \n",
       "4   000V   14423             EIGER      EIGER BIOPHARMACEUTICALS INC   \n",
       "\n",
       "   name_ratio  score  \n",
       "0       100.0      0  \n",
       "1        74.0      0  \n",
       "2       100.0      0  \n",
       "3        74.0      0  \n",
       "4       100.0      0  "
      ],
      "text/html": [
       "<div>\n",
       "<style scoped>\n",
       "    .dataframe tbody tr th:only-of-type {\n",
       "        vertical-align: middle;\n",
       "    }\n",
       "\n",
       "    .dataframe tbody tr th {\n",
       "        vertical-align: top;\n",
       "    }\n",
       "\n",
       "    .dataframe thead th {\n",
       "        text-align: right;\n",
       "    }\n",
       "</style>\n",
       "<table border=\"1\" class=\"dataframe\">\n",
       "  <thead>\n",
       "    <tr style=\"text-align: right;\">\n",
       "      <th></th>\n",
       "      <th>ticker</th>\n",
       "      <th>permno</th>\n",
       "      <th>cname</th>\n",
       "      <th>comnam</th>\n",
       "      <th>name_ratio</th>\n",
       "      <th>score</th>\n",
       "    </tr>\n",
       "  </thead>\n",
       "  <tbody>\n",
       "    <tr>\n",
       "      <th>0</th>\n",
       "      <td>0000</td>\n",
       "      <td>14471</td>\n",
       "      <td>TALMER BANCORP</td>\n",
       "      <td>TALMER BANCORP INC</td>\n",
       "      <td>100.0</td>\n",
       "      <td>0</td>\n",
       "    </tr>\n",
       "    <tr>\n",
       "      <th>1</th>\n",
       "      <td>0001</td>\n",
       "      <td>14392</td>\n",
       "      <td>EP ENGR CORP</td>\n",
       "      <td>E P ENERGY CORP</td>\n",
       "      <td>74.0</td>\n",
       "      <td>0</td>\n",
       "    </tr>\n",
       "    <tr>\n",
       "      <th>2</th>\n",
       "      <td>0004</td>\n",
       "      <td>14418</td>\n",
       "      <td>AMERICAN CAPITAL</td>\n",
       "      <td>AMERICAN CAPITAL SR FLOATING LTD</td>\n",
       "      <td>100.0</td>\n",
       "      <td>0</td>\n",
       "    </tr>\n",
       "    <tr>\n",
       "      <th>3</th>\n",
       "      <td>000R</td>\n",
       "      <td>14378</td>\n",
       "      <td>CARECOM</td>\n",
       "      <td>CARE COM INC</td>\n",
       "      <td>74.0</td>\n",
       "      <td>0</td>\n",
       "    </tr>\n",
       "    <tr>\n",
       "      <th>4</th>\n",
       "      <td>000V</td>\n",
       "      <td>14423</td>\n",
       "      <td>EIGER</td>\n",
       "      <td>EIGER BIOPHARMACEUTICALS INC</td>\n",
       "      <td>100.0</td>\n",
       "      <td>0</td>\n",
       "    </tr>\n",
       "  </tbody>\n",
       "</table>\n",
       "</div>"
      ]
     },
     "execution_count": 4,
     "metadata": {},
     "output_type": "execute_result"
    }
   ],
   "execution_count": 4
  },
  {
   "metadata": {
    "ExecuteTime": {
     "end_time": "2024-10-11T13:05:56.241849Z",
     "start_time": "2024-10-11T13:05:56.227991Z"
    }
   },
   "cell_type": "code",
   "source": "crsp_comp_link.head()",
   "id": "33f8997326ea242e",
   "outputs": [
    {
     "data": {
      "text/plain": [
       "   permno   gvkey\n",
       "0    1658  004685\n",
       "1    7476  001518\n",
       "2   15680  065368\n",
       "3    5140  002859\n",
       "4   43716  151576"
      ],
      "text/html": [
       "<div>\n",
       "<style scoped>\n",
       "    .dataframe tbody tr th:only-of-type {\n",
       "        vertical-align: middle;\n",
       "    }\n",
       "\n",
       "    .dataframe tbody tr th {\n",
       "        vertical-align: top;\n",
       "    }\n",
       "\n",
       "    .dataframe thead th {\n",
       "        text-align: right;\n",
       "    }\n",
       "</style>\n",
       "<table border=\"1\" class=\"dataframe\">\n",
       "  <thead>\n",
       "    <tr style=\"text-align: right;\">\n",
       "      <th></th>\n",
       "      <th>permno</th>\n",
       "      <th>gvkey</th>\n",
       "    </tr>\n",
       "  </thead>\n",
       "  <tbody>\n",
       "    <tr>\n",
       "      <th>0</th>\n",
       "      <td>1658</td>\n",
       "      <td>004685</td>\n",
       "    </tr>\n",
       "    <tr>\n",
       "      <th>1</th>\n",
       "      <td>7476</td>\n",
       "      <td>001518</td>\n",
       "    </tr>\n",
       "    <tr>\n",
       "      <th>2</th>\n",
       "      <td>15680</td>\n",
       "      <td>065368</td>\n",
       "    </tr>\n",
       "    <tr>\n",
       "      <th>3</th>\n",
       "      <td>5140</td>\n",
       "      <td>002859</td>\n",
       "    </tr>\n",
       "    <tr>\n",
       "      <th>4</th>\n",
       "      <td>43716</td>\n",
       "      <td>151576</td>\n",
       "    </tr>\n",
       "  </tbody>\n",
       "</table>\n",
       "</div>"
      ]
     },
     "execution_count": 9,
     "metadata": {},
     "output_type": "execute_result"
    }
   ],
   "execution_count": 9
  },
  {
   "metadata": {
    "ExecuteTime": {
     "end_time": "2024-10-11T13:06:07.139163Z",
     "start_time": "2024-10-11T13:06:07.095023Z"
    }
   },
   "cell_type": "code",
   "source": [
    "ibes_link2 = ibes_crsp_link.merge(iclink[['ticker', 'permno']], on=['ticker'], suffixes=('', '_ic'), how='outer')\n",
    "ibes_link2.loc[:, 'permno'] = ibes_link2['permno'].fillna(ibes_link2['permno_ic'])\n",
    "ibes_link2.dropna(subset=['permno'], inplace=True)\n",
    "ibes_link2.drop_duplicates(subset=['ticker'], keep='first', inplace=True)\n",
    "\n",
    "gvkeys = ibes_link2[['ticker', 'permno']].merge(crsp_comp_link, on=['permno'], how='left')"
   ],
   "id": "472d74a5d56ccb59",
   "outputs": [],
   "execution_count": 10
  },
  {
   "metadata": {
    "ExecuteTime": {
     "end_time": "2024-10-11T08:01:19.201114Z",
     "start_time": "2024-10-11T08:00:23.235878Z"
    }
   },
   "cell_type": "code",
   "source": [
    "# Step 2: Extract estimates from IBES using WRDS\n",
    "ibes_temp = conn.raw_sql(f\"\"\"\n",
    "    SELECT a.*, b.anndats AS repdats, b.value AS act\n",
    "    FROM ibes.detu_epsus a\n",
    "    LEFT JOIN ibes.actu_epsus b\n",
    "    ON a.ticker = b.ticker AND a.fpedats = b.pends AND b.pdicity = 'QTR'\n",
    "    WHERE '{bdate}' <= a.fpedats AND a.fpedats <= '{edate}'\n",
    "    AND fpi IN ('6', '7') AND 0 <= (b.anndats - a.anndats) AND (b.anndats - a.anndats) <= 90\n",
    "\"\"\")"
   ],
   "id": "83230376abc71893",
   "outputs": [],
   "execution_count": 54
  },
  {
   "metadata": {
    "ExecuteTime": {
     "end_time": "2024-10-11T13:29:58.451466Z",
     "start_time": "2024-10-11T13:06:56.049867Z"
    }
   },
   "cell_type": "code",
   "source": [
    "ibes_detu_epsus = conn.raw_sql(f\"\"\"\n",
    "    SELECT *\n",
    "    FROM ibes.detu_epsus\n",
    "    WHERE '{bdate}' <= fpedats AND fpedats <= '{edate}'\n",
    "    AND fpi IN ('6', '7')\n",
    "\"\"\")"
   ],
   "id": "ae5e80dd0295779e",
   "outputs": [],
   "execution_count": 16
  },
  {
   "metadata": {
    "ExecuteTime": {
     "end_time": "2024-10-11T13:30:05.072095Z",
     "start_time": "2024-10-11T13:29:58.456473Z"
    }
   },
   "cell_type": "code",
   "source": [
    "# Step 2: Extract estimates from IBES using WRDS\n",
    "ibes_actu_epsus = conn.raw_sql(f\"\"\"\n",
    "    SELECT anndats AS repdats, value AS act, ticker\n",
    "    FROM ibes.actu_epsus\n",
    "    WHERE '{bdate}' <= pends AND pends <= '{edate}' AND pdicity = 'QTR'\n",
    "\"\"\")"
   ],
   "id": "9d32801dc58af61",
   "outputs": [],
   "execution_count": 17
  },
  {
   "metadata": {
    "ExecuteTime": {
     "end_time": "2024-10-11T13:30:08.411668Z",
     "start_time": "2024-10-11T13:30:08.036240Z"
    }
   },
   "cell_type": "code",
   "source": [
    "ibes_detu_epsus['anndats'] = pd.to_datetime(ibes_detu_epsus['anndats'])\n",
    "ibes_actu_epsus['repdats'] = pd.to_datetime(ibes_actu_epsus['repdats'])"
   ],
   "id": "c126241cafb76d52",
   "outputs": [],
   "execution_count": 18
  },
  {
   "metadata": {
    "ExecuteTime": {
     "end_time": "2024-10-11T09:18:46.678581Z",
     "start_time": "2024-10-11T09:18:46.674063Z"
    }
   },
   "cell_type": "code",
   "source": [
    "def merge_ibes_actu_epsus_to_ibes_detu_epsus(row):\n",
    "    ticker = row['ticker']\n",
    "    anndats = row['anndats']\n",
    "    temp_df = ibes_actu_epsus.loc[(ibes_actu_epsus['ticker'] == ticker) & (ibes_actu_epsus['repdats'] >= anndats) & ((ibes_actu_epsus['repdats'] - anndats).dt.days <= 90)].copy()\n",
    "    if temp_df.empty:\n",
    "        return np.nan\n",
    "    else:\n",
    "        return temp_df.iloc[0]['act']"
   ],
   "id": "1a6a2773e461aa2",
   "outputs": [],
   "execution_count": 164
  },
  {
   "metadata": {
    "ExecuteTime": {
     "end_time": "2024-10-11T11:06:31.653969Z",
     "start_time": "2024-10-11T09:19:16.756971Z"
    }
   },
   "cell_type": "code",
   "source": "ibes_detu_epsus.loc[:, 'act'] = ibes_detu_epsus.apply(merge_ibes_actu_epsus_to_ibes_detu_epsus, axis=1)",
   "id": "85783e6a19f55d9",
   "outputs": [
    {
     "ename": "KeyboardInterrupt",
     "evalue": "",
     "output_type": "error",
     "traceback": [
      "\u001B[1;31m---------------------------------------------------------------------------\u001B[0m",
      "\u001B[1;31mKeyboardInterrupt\u001B[0m                         Traceback (most recent call last)",
      "Cell \u001B[1;32mIn[165], line 1\u001B[0m\n\u001B[1;32m----> 1\u001B[0m ibes_detu_epsus\u001B[38;5;241m.\u001B[39mloc[:, \u001B[38;5;124m'\u001B[39m\u001B[38;5;124mact\u001B[39m\u001B[38;5;124m'\u001B[39m] \u001B[38;5;241m=\u001B[39m ibes_detu_epsus\u001B[38;5;241m.\u001B[39mapply(merge_ibes_actu_epsus_to_ibes_detu_epsus, axis\u001B[38;5;241m=\u001B[39m\u001B[38;5;241m1\u001B[39m)\n",
      "File \u001B[1;32mD:\\Users\\wangy\\anaconda3\\Lib\\site-packages\\pandas\\core\\frame.py:10374\u001B[0m, in \u001B[0;36mDataFrame.apply\u001B[1;34m(self, func, axis, raw, result_type, args, by_row, engine, engine_kwargs, **kwargs)\u001B[0m\n\u001B[0;32m  10360\u001B[0m \u001B[38;5;28;01mfrom\u001B[39;00m \u001B[38;5;21;01mpandas\u001B[39;00m\u001B[38;5;21;01m.\u001B[39;00m\u001B[38;5;21;01mcore\u001B[39;00m\u001B[38;5;21;01m.\u001B[39;00m\u001B[38;5;21;01mapply\u001B[39;00m \u001B[38;5;28;01mimport\u001B[39;00m frame_apply\n\u001B[0;32m  10362\u001B[0m op \u001B[38;5;241m=\u001B[39m frame_apply(\n\u001B[0;32m  10363\u001B[0m     \u001B[38;5;28mself\u001B[39m,\n\u001B[0;32m  10364\u001B[0m     func\u001B[38;5;241m=\u001B[39mfunc,\n\u001B[1;32m   (...)\u001B[0m\n\u001B[0;32m  10372\u001B[0m     kwargs\u001B[38;5;241m=\u001B[39mkwargs,\n\u001B[0;32m  10373\u001B[0m )\n\u001B[1;32m> 10374\u001B[0m \u001B[38;5;28;01mreturn\u001B[39;00m op\u001B[38;5;241m.\u001B[39mapply()\u001B[38;5;241m.\u001B[39m__finalize__(\u001B[38;5;28mself\u001B[39m, method\u001B[38;5;241m=\u001B[39m\u001B[38;5;124m\"\u001B[39m\u001B[38;5;124mapply\u001B[39m\u001B[38;5;124m\"\u001B[39m)\n",
      "File \u001B[1;32mD:\\Users\\wangy\\anaconda3\\Lib\\site-packages\\pandas\\core\\apply.py:916\u001B[0m, in \u001B[0;36mFrameApply.apply\u001B[1;34m(self)\u001B[0m\n\u001B[0;32m    913\u001B[0m \u001B[38;5;28;01melif\u001B[39;00m \u001B[38;5;28mself\u001B[39m\u001B[38;5;241m.\u001B[39mraw:\n\u001B[0;32m    914\u001B[0m     \u001B[38;5;28;01mreturn\u001B[39;00m \u001B[38;5;28mself\u001B[39m\u001B[38;5;241m.\u001B[39mapply_raw(engine\u001B[38;5;241m=\u001B[39m\u001B[38;5;28mself\u001B[39m\u001B[38;5;241m.\u001B[39mengine, engine_kwargs\u001B[38;5;241m=\u001B[39m\u001B[38;5;28mself\u001B[39m\u001B[38;5;241m.\u001B[39mengine_kwargs)\n\u001B[1;32m--> 916\u001B[0m \u001B[38;5;28;01mreturn\u001B[39;00m \u001B[38;5;28mself\u001B[39m\u001B[38;5;241m.\u001B[39mapply_standard()\n",
      "File \u001B[1;32mD:\\Users\\wangy\\anaconda3\\Lib\\site-packages\\pandas\\core\\apply.py:1063\u001B[0m, in \u001B[0;36mFrameApply.apply_standard\u001B[1;34m(self)\u001B[0m\n\u001B[0;32m   1061\u001B[0m \u001B[38;5;28;01mdef\u001B[39;00m \u001B[38;5;21mapply_standard\u001B[39m(\u001B[38;5;28mself\u001B[39m):\n\u001B[0;32m   1062\u001B[0m     \u001B[38;5;28;01mif\u001B[39;00m \u001B[38;5;28mself\u001B[39m\u001B[38;5;241m.\u001B[39mengine \u001B[38;5;241m==\u001B[39m \u001B[38;5;124m\"\u001B[39m\u001B[38;5;124mpython\u001B[39m\u001B[38;5;124m\"\u001B[39m:\n\u001B[1;32m-> 1063\u001B[0m         results, res_index \u001B[38;5;241m=\u001B[39m \u001B[38;5;28mself\u001B[39m\u001B[38;5;241m.\u001B[39mapply_series_generator()\n\u001B[0;32m   1064\u001B[0m     \u001B[38;5;28;01melse\u001B[39;00m:\n\u001B[0;32m   1065\u001B[0m         results, res_index \u001B[38;5;241m=\u001B[39m \u001B[38;5;28mself\u001B[39m\u001B[38;5;241m.\u001B[39mapply_series_numba()\n",
      "File \u001B[1;32mD:\\Users\\wangy\\anaconda3\\Lib\\site-packages\\pandas\\core\\apply.py:1081\u001B[0m, in \u001B[0;36mFrameApply.apply_series_generator\u001B[1;34m(self)\u001B[0m\n\u001B[0;32m   1078\u001B[0m \u001B[38;5;28;01mwith\u001B[39;00m option_context(\u001B[38;5;124m\"\u001B[39m\u001B[38;5;124mmode.chained_assignment\u001B[39m\u001B[38;5;124m\"\u001B[39m, \u001B[38;5;28;01mNone\u001B[39;00m):\n\u001B[0;32m   1079\u001B[0m     \u001B[38;5;28;01mfor\u001B[39;00m i, v \u001B[38;5;129;01min\u001B[39;00m \u001B[38;5;28menumerate\u001B[39m(series_gen):\n\u001B[0;32m   1080\u001B[0m         \u001B[38;5;66;03m# ignore SettingWithCopy here in case the user mutates\u001B[39;00m\n\u001B[1;32m-> 1081\u001B[0m         results[i] \u001B[38;5;241m=\u001B[39m \u001B[38;5;28mself\u001B[39m\u001B[38;5;241m.\u001B[39mfunc(v, \u001B[38;5;241m*\u001B[39m\u001B[38;5;28mself\u001B[39m\u001B[38;5;241m.\u001B[39margs, \u001B[38;5;241m*\u001B[39m\u001B[38;5;241m*\u001B[39m\u001B[38;5;28mself\u001B[39m\u001B[38;5;241m.\u001B[39mkwargs)\n\u001B[0;32m   1082\u001B[0m         \u001B[38;5;28;01mif\u001B[39;00m \u001B[38;5;28misinstance\u001B[39m(results[i], ABCSeries):\n\u001B[0;32m   1083\u001B[0m             \u001B[38;5;66;03m# If we have a view on v, we need to make a copy because\u001B[39;00m\n\u001B[0;32m   1084\u001B[0m             \u001B[38;5;66;03m#  series_generator will swap out the underlying data\u001B[39;00m\n\u001B[0;32m   1085\u001B[0m             results[i] \u001B[38;5;241m=\u001B[39m results[i]\u001B[38;5;241m.\u001B[39mcopy(deep\u001B[38;5;241m=\u001B[39m\u001B[38;5;28;01mFalse\u001B[39;00m)\n",
      "Cell \u001B[1;32mIn[164], line 4\u001B[0m, in \u001B[0;36mmerge_ibes_actu_epsus_to_ibes_detu_epsus\u001B[1;34m(row)\u001B[0m\n\u001B[0;32m      2\u001B[0m ticker \u001B[38;5;241m=\u001B[39m row[\u001B[38;5;124m'\u001B[39m\u001B[38;5;124mticker\u001B[39m\u001B[38;5;124m'\u001B[39m]\n\u001B[0;32m      3\u001B[0m anndats \u001B[38;5;241m=\u001B[39m row[\u001B[38;5;124m'\u001B[39m\u001B[38;5;124manndats\u001B[39m\u001B[38;5;124m'\u001B[39m]\n\u001B[1;32m----> 4\u001B[0m temp_df \u001B[38;5;241m=\u001B[39m ibes_actu_epsus\u001B[38;5;241m.\u001B[39mloc[(ibes_actu_epsus[\u001B[38;5;124m'\u001B[39m\u001B[38;5;124mticker\u001B[39m\u001B[38;5;124m'\u001B[39m] \u001B[38;5;241m==\u001B[39m ticker) \u001B[38;5;241m&\u001B[39m (ibes_actu_epsus[\u001B[38;5;124m'\u001B[39m\u001B[38;5;124mrepdats\u001B[39m\u001B[38;5;124m'\u001B[39m] \u001B[38;5;241m>\u001B[39m\u001B[38;5;241m=\u001B[39m anndats) \u001B[38;5;241m&\u001B[39m ((ibes_actu_epsus[\u001B[38;5;124m'\u001B[39m\u001B[38;5;124mrepdats\u001B[39m\u001B[38;5;124m'\u001B[39m] \u001B[38;5;241m-\u001B[39m anndats)\u001B[38;5;241m.\u001B[39mdt\u001B[38;5;241m.\u001B[39mdays \u001B[38;5;241m<\u001B[39m\u001B[38;5;241m=\u001B[39m \u001B[38;5;241m90\u001B[39m)]\u001B[38;5;241m.\u001B[39mcopy()\n\u001B[0;32m      5\u001B[0m \u001B[38;5;28;01mif\u001B[39;00m temp_df\u001B[38;5;241m.\u001B[39mempty:\n\u001B[0;32m      6\u001B[0m     \u001B[38;5;28;01mreturn\u001B[39;00m np\u001B[38;5;241m.\u001B[39mnan\n",
      "File \u001B[1;32mD:\\Users\\wangy\\anaconda3\\Lib\\site-packages\\pandas\\core\\ops\\common.py:76\u001B[0m, in \u001B[0;36m_unpack_zerodim_and_defer.<locals>.new_method\u001B[1;34m(self, other)\u001B[0m\n\u001B[0;32m     72\u001B[0m             \u001B[38;5;28;01mreturn\u001B[39;00m \u001B[38;5;28mNotImplemented\u001B[39m\n\u001B[0;32m     74\u001B[0m other \u001B[38;5;241m=\u001B[39m item_from_zerodim(other)\n\u001B[1;32m---> 76\u001B[0m \u001B[38;5;28;01mreturn\u001B[39;00m method(\u001B[38;5;28mself\u001B[39m, other)\n",
      "File \u001B[1;32mD:\\Users\\wangy\\anaconda3\\Lib\\site-packages\\pandas\\core\\arraylike.py:60\u001B[0m, in \u001B[0;36mOpsMixin.__ge__\u001B[1;34m(self, other)\u001B[0m\n\u001B[0;32m     58\u001B[0m \u001B[38;5;129m@unpack_zerodim_and_defer\u001B[39m(\u001B[38;5;124m\"\u001B[39m\u001B[38;5;124m__ge__\u001B[39m\u001B[38;5;124m\"\u001B[39m)\n\u001B[0;32m     59\u001B[0m \u001B[38;5;28;01mdef\u001B[39;00m \u001B[38;5;21m__ge__\u001B[39m(\u001B[38;5;28mself\u001B[39m, other):\n\u001B[1;32m---> 60\u001B[0m     \u001B[38;5;28;01mreturn\u001B[39;00m \u001B[38;5;28mself\u001B[39m\u001B[38;5;241m.\u001B[39m_cmp_method(other, operator\u001B[38;5;241m.\u001B[39mge)\n",
      "File \u001B[1;32mD:\\Users\\wangy\\anaconda3\\Lib\\site-packages\\pandas\\core\\series.py:6119\u001B[0m, in \u001B[0;36mSeries._cmp_method\u001B[1;34m(self, other, op)\u001B[0m\n\u001B[0;32m   6116\u001B[0m lvalues \u001B[38;5;241m=\u001B[39m \u001B[38;5;28mself\u001B[39m\u001B[38;5;241m.\u001B[39m_values\n\u001B[0;32m   6117\u001B[0m rvalues \u001B[38;5;241m=\u001B[39m extract_array(other, extract_numpy\u001B[38;5;241m=\u001B[39m\u001B[38;5;28;01mTrue\u001B[39;00m, extract_range\u001B[38;5;241m=\u001B[39m\u001B[38;5;28;01mTrue\u001B[39;00m)\n\u001B[1;32m-> 6119\u001B[0m res_values \u001B[38;5;241m=\u001B[39m ops\u001B[38;5;241m.\u001B[39mcomparison_op(lvalues, rvalues, op)\n\u001B[0;32m   6121\u001B[0m \u001B[38;5;28;01mreturn\u001B[39;00m \u001B[38;5;28mself\u001B[39m\u001B[38;5;241m.\u001B[39m_construct_result(res_values, name\u001B[38;5;241m=\u001B[39mres_name)\n",
      "File \u001B[1;32mD:\\Users\\wangy\\anaconda3\\Lib\\site-packages\\pandas\\core\\ops\\array_ops.py:330\u001B[0m, in \u001B[0;36mcomparison_op\u001B[1;34m(left, right, op)\u001B[0m\n\u001B[0;32m    321\u001B[0m         \u001B[38;5;28;01mraise\u001B[39;00m \u001B[38;5;167;01mValueError\u001B[39;00m(\n\u001B[0;32m    322\u001B[0m             \u001B[38;5;124m\"\u001B[39m\u001B[38;5;124mLengths must match to compare\u001B[39m\u001B[38;5;124m\"\u001B[39m, lvalues\u001B[38;5;241m.\u001B[39mshape, rvalues\u001B[38;5;241m.\u001B[39mshape\n\u001B[0;32m    323\u001B[0m         )\n\u001B[0;32m    325\u001B[0m \u001B[38;5;28;01mif\u001B[39;00m should_extension_dispatch(lvalues, rvalues) \u001B[38;5;129;01mor\u001B[39;00m (\n\u001B[0;32m    326\u001B[0m     (\u001B[38;5;28misinstance\u001B[39m(rvalues, (Timedelta, BaseOffset, Timestamp)) \u001B[38;5;129;01mor\u001B[39;00m right \u001B[38;5;129;01mis\u001B[39;00m NaT)\n\u001B[0;32m    327\u001B[0m     \u001B[38;5;129;01mand\u001B[39;00m lvalues\u001B[38;5;241m.\u001B[39mdtype \u001B[38;5;241m!=\u001B[39m \u001B[38;5;28mobject\u001B[39m\n\u001B[0;32m    328\u001B[0m ):\n\u001B[0;32m    329\u001B[0m     \u001B[38;5;66;03m# Call the method on lvalues\u001B[39;00m\n\u001B[1;32m--> 330\u001B[0m     res_values \u001B[38;5;241m=\u001B[39m op(lvalues, rvalues)\n\u001B[0;32m    332\u001B[0m \u001B[38;5;28;01melif\u001B[39;00m is_scalar(rvalues) \u001B[38;5;129;01mand\u001B[39;00m isna(rvalues):  \u001B[38;5;66;03m# TODO: but not pd.NA?\u001B[39;00m\n\u001B[0;32m    333\u001B[0m     \u001B[38;5;66;03m# numpy does not like comparisons vs None\u001B[39;00m\n\u001B[0;32m    334\u001B[0m     \u001B[38;5;28;01mif\u001B[39;00m op \u001B[38;5;129;01mis\u001B[39;00m operator\u001B[38;5;241m.\u001B[39mne:\n",
      "File \u001B[1;32mD:\\Users\\wangy\\anaconda3\\Lib\\site-packages\\pandas\\core\\ops\\common.py:76\u001B[0m, in \u001B[0;36m_unpack_zerodim_and_defer.<locals>.new_method\u001B[1;34m(self, other)\u001B[0m\n\u001B[0;32m     72\u001B[0m             \u001B[38;5;28;01mreturn\u001B[39;00m \u001B[38;5;28mNotImplemented\u001B[39m\n\u001B[0;32m     74\u001B[0m other \u001B[38;5;241m=\u001B[39m item_from_zerodim(other)\n\u001B[1;32m---> 76\u001B[0m \u001B[38;5;28;01mreturn\u001B[39;00m method(\u001B[38;5;28mself\u001B[39m, other)\n",
      "File \u001B[1;32mD:\\Users\\wangy\\anaconda3\\Lib\\site-packages\\pandas\\core\\arraylike.py:60\u001B[0m, in \u001B[0;36mOpsMixin.__ge__\u001B[1;34m(self, other)\u001B[0m\n\u001B[0;32m     58\u001B[0m \u001B[38;5;129m@unpack_zerodim_and_defer\u001B[39m(\u001B[38;5;124m\"\u001B[39m\u001B[38;5;124m__ge__\u001B[39m\u001B[38;5;124m\"\u001B[39m)\n\u001B[0;32m     59\u001B[0m \u001B[38;5;28;01mdef\u001B[39;00m \u001B[38;5;21m__ge__\u001B[39m(\u001B[38;5;28mself\u001B[39m, other):\n\u001B[1;32m---> 60\u001B[0m     \u001B[38;5;28;01mreturn\u001B[39;00m \u001B[38;5;28mself\u001B[39m\u001B[38;5;241m.\u001B[39m_cmp_method(other, operator\u001B[38;5;241m.\u001B[39mge)\n",
      "File \u001B[1;32mD:\\Users\\wangy\\anaconda3\\Lib\\site-packages\\pandas\\core\\arrays\\datetimelike.py:1022\u001B[0m, in \u001B[0;36mDatetimeLikeArrayMixin._cmp_method\u001B[1;34m(self, other, op)\u001B[0m\n\u001B[0;32m   1020\u001B[0m other_vals \u001B[38;5;241m=\u001B[39m \u001B[38;5;28mself\u001B[39m\u001B[38;5;241m.\u001B[39m_unbox(other)\n\u001B[0;32m   1021\u001B[0m \u001B[38;5;66;03m# GH#37462 comparison on i8 values is almost 2x faster than M8/m8\u001B[39;00m\n\u001B[1;32m-> 1022\u001B[0m result \u001B[38;5;241m=\u001B[39m op(\u001B[38;5;28mself\u001B[39m\u001B[38;5;241m.\u001B[39m_ndarray\u001B[38;5;241m.\u001B[39mview(\u001B[38;5;124m\"\u001B[39m\u001B[38;5;124mi8\u001B[39m\u001B[38;5;124m\"\u001B[39m), other_vals\u001B[38;5;241m.\u001B[39mview(\u001B[38;5;124m\"\u001B[39m\u001B[38;5;124mi8\u001B[39m\u001B[38;5;124m\"\u001B[39m))\n\u001B[0;32m   1024\u001B[0m o_mask \u001B[38;5;241m=\u001B[39m isna(other)\n\u001B[0;32m   1025\u001B[0m mask \u001B[38;5;241m=\u001B[39m \u001B[38;5;28mself\u001B[39m\u001B[38;5;241m.\u001B[39m_isnan \u001B[38;5;241m|\u001B[39m o_mask\n",
      "\u001B[1;31mKeyboardInterrupt\u001B[0m: "
     ]
    }
   ],
   "execution_count": 165
  },
  {
   "metadata": {
    "ExecuteTime": {
     "end_time": "2024-10-11T13:36:01.936216Z",
     "start_time": "2024-10-11T13:30:11.063680Z"
    }
   },
   "cell_type": "code",
   "source": [
    "# Step 1: Create a temporary column in `ibes_actu_epsus` for efficient filtering\n",
    "ibes_actu_epsus['repdats_minus_90'] = ibes_actu_epsus['repdats'] - pd.Timedelta(days=90)\n",
    "\n",
    "# Step 2: Merge the two dataframes on the 'ticker' column\n",
    "merged_df = pd.merge(\n",
    "    ibes_detu_epsus,\n",
    "    ibes_actu_epsus,\n",
    "    on='ticker',\n",
    "    suffixes=('_detu', '_actu')\n",
    ")\n",
    "\n",
    "# Step 3: Filter based on the conditions\n",
    "filtered_df = merged_df[\n",
    "    (merged_df['repdats'] >= merged_df['anndats']) &\n",
    "    (merged_df['anndats'] >= merged_df['repdats_minus_90'])\n",
    "]\n",
    "\n",
    "# Step 4: Sort and drop duplicates to get the closest 'repdats' value\n",
    "filtered_df = filtered_df.sort_values(by=['ticker', 'anndats', 'repdats'])\n",
    "filtered_df = filtered_df.drop_duplicates(subset=['ticker', 'anndats'], keep='first')\n",
    "\n",
    "# Step 5: Merge the filtered result back to `ibes_detu_epsus` to add the 'act' values\n",
    "result = pd.merge(\n",
    "    ibes_detu_epsus,\n",
    "    filtered_df[['ticker', 'anndats', 'act']],\n",
    "    how='left',\n",
    "    left_on=['ticker', 'anndats'],\n",
    "    right_on=['ticker', 'anndats']\n",
    ")\n",
    "\n",
    "# Assign the result back to the original dataframe\n",
    "ibes_detu_epsus['act'] = result['act']\n"
   ],
   "id": "73cf08e3e0ba1b06",
   "outputs": [],
   "execution_count": 19
  },
  {
   "metadata": {
    "ExecuteTime": {
     "end_time": "2024-10-11T13:46:42.991925Z",
     "start_time": "2024-10-11T13:46:41.779302Z"
    }
   },
   "cell_type": "code",
   "source": "del filtered_df",
   "id": "a1ad5f42cff7066",
   "outputs": [
    {
     "ename": "NameError",
     "evalue": "name 'filtered_df' is not defined",
     "output_type": "error",
     "traceback": [
      "\u001B[1;31m---------------------------------------------------------------------------\u001B[0m",
      "\u001B[1;31mNameError\u001B[0m                                 Traceback (most recent call last)",
      "Cell \u001B[1;32mIn[22], line 1\u001B[0m\n\u001B[1;32m----> 1\u001B[0m \u001B[38;5;28;01mdel\u001B[39;00m filtered_df\n\u001B[0;32m      2\u001B[0m \u001B[38;5;28;01mdel\u001B[39;00m merged_df\n",
      "\u001B[1;31mNameError\u001B[0m: name 'filtered_df' is not defined"
     ]
    }
   ],
   "execution_count": 22
  },
  {
   "metadata": {
    "ExecuteTime": {
     "end_time": "2024-10-11T14:08:33.802602Z",
     "start_time": "2024-10-11T14:08:33.344131Z"
    }
   },
   "cell_type": "code",
   "source": [
    "import gc\n",
    "gc.collect()"
   ],
   "id": "5b7219733f808c3",
   "outputs": [
    {
     "data": {
      "text/plain": [
       "216"
      ]
     },
     "execution_count": 29,
     "metadata": {},
     "output_type": "execute_result"
    }
   ],
   "execution_count": 29
  },
  {
   "metadata": {
    "ExecuteTime": {
     "end_time": "2024-10-11T14:08:23.411975Z",
     "start_time": "2024-10-11T14:08:08.689732Z"
    }
   },
   "cell_type": "code",
   "source": "del merged_df",
   "id": "9656f97eeaa3caf2",
   "outputs": [],
   "execution_count": 28
  },
  {
   "metadata": {
    "ExecuteTime": {
     "end_time": "2024-10-11T13:42:51.460642Z",
     "start_time": "2024-10-11T13:42:51.425957Z"
    }
   },
   "cell_type": "code",
   "source": "ibes_detu_epsus.shape",
   "id": "e462685ac2cb3e9a",
   "outputs": [
    {
     "data": {
      "text/plain": [
       "(2928566, 22)"
      ]
     },
     "execution_count": 20,
     "metadata": {},
     "output_type": "execute_result"
    }
   ],
   "execution_count": 20
  },
  {
   "metadata": {
    "ExecuteTime": {
     "end_time": "2024-10-11T13:50:00.320877Z",
     "start_time": "2024-10-11T13:49:59.536541Z"
    }
   },
   "cell_type": "code",
   "source": [
    "ibes_temp = ibes_detu_epsus\n",
    "\n",
    "# Create `fyearq` and `fqtr` for `ibes_temp` for more flexible date alignment\n",
    "ibes_temp['fyearq'] = pd.to_datetime(ibes_temp['fpedats']).dt.year\n",
    "ibes_temp['fqtr'] = pd.to_datetime(ibes_temp['fpedats']).dt.quarter"
   ],
   "id": "c9a2e4b12a98471a",
   "outputs": [],
   "execution_count": 23
  },
  {
   "metadata": {
    "ExecuteTime": {
     "end_time": "2024-10-11T13:53:49.254229Z",
     "start_time": "2024-10-11T13:53:44.018317Z"
    }
   },
   "cell_type": "code",
   "source": [
    "# Step 3: Normalize Ticker and Merge IBES Data\n",
    "ibes_temp['ticker'] = ibes_temp['ticker'].str.replace(r'\\..*$', '', regex=True)  # Remove any suffix from ticker\n",
    "ibes_temp = pd.merge(ibes_temp, gvkeys, on='ticker', how='left')  # Changed from inner to left join to retain more data"
   ],
   "id": "2c4cfbd1611db7a4",
   "outputs": [],
   "execution_count": 24
  },
  {
   "metadata": {
    "ExecuteTime": {
     "end_time": "2024-10-11T13:53:49.392087Z",
     "start_time": "2024-10-11T13:53:49.345298Z"
    }
   },
   "cell_type": "code",
   "source": "ibes_temp.head()",
   "id": "4bd1312f09b75c89",
   "outputs": [
    {
     "data": {
      "text/plain": [
       "  ticker     cusip oftic           cname     actdats  estimator    analys  \\\n",
       "0   0000  87482X10  TLMR  TALMER BANCORP  2014-03-10     1267.0   71182.0   \n",
       "1   0000  87482X10  TLMR  TALMER BANCORP  2014-03-11      149.0  119962.0   \n",
       "2   0000  87482X10  TLMR  TALMER BANCORP  2014-03-11      228.0   80474.0   \n",
       "3   0000  87482X10  TLMR  TALMER BANCORP  2014-03-11      873.0   79092.0   \n",
       "4   0000  87482X10  TLMR  TALMER BANCORP  2014-03-11      952.0   50789.0   \n",
       "\n",
       "  currfl pdf fpi  ...     revdats   revtims    anndats   anntims report_curr  \\\n",
       "0   None   D   6  ...  2014-03-10  08:54:03 2014-03-10  00:20:00         USD   \n",
       "1   None   D   6  ...  2014-03-11  15:17:12 2014-03-09  17:05:00         USD   \n",
       "2   None   D   6  ...  2014-03-11  15:49:22 2014-03-10  06:48:00         USD   \n",
       "3   None   D   6  ...  2014-03-11  17:10:50 2014-03-10  00:25:00         USD   \n",
       "4   None   D   6  ...  2014-03-11  15:22:08 2014-03-10  07:45:00         USD   \n",
       "\n",
       "    act fyearq fqtr   permno   gvkey  \n",
       "0  0.12   2014    1  14471.0  062491  \n",
       "1  0.12   2014    1  14471.0  062491  \n",
       "2  0.12   2014    1  14471.0  062491  \n",
       "3  0.12   2014    1  14471.0  062491  \n",
       "4  0.12   2014    1  14471.0  062491  \n",
       "\n",
       "[5 rows x 26 columns]"
      ],
      "text/html": [
       "<div>\n",
       "<style scoped>\n",
       "    .dataframe tbody tr th:only-of-type {\n",
       "        vertical-align: middle;\n",
       "    }\n",
       "\n",
       "    .dataframe tbody tr th {\n",
       "        vertical-align: top;\n",
       "    }\n",
       "\n",
       "    .dataframe thead th {\n",
       "        text-align: right;\n",
       "    }\n",
       "</style>\n",
       "<table border=\"1\" class=\"dataframe\">\n",
       "  <thead>\n",
       "    <tr style=\"text-align: right;\">\n",
       "      <th></th>\n",
       "      <th>ticker</th>\n",
       "      <th>cusip</th>\n",
       "      <th>oftic</th>\n",
       "      <th>cname</th>\n",
       "      <th>actdats</th>\n",
       "      <th>estimator</th>\n",
       "      <th>analys</th>\n",
       "      <th>currfl</th>\n",
       "      <th>pdf</th>\n",
       "      <th>fpi</th>\n",
       "      <th>...</th>\n",
       "      <th>revdats</th>\n",
       "      <th>revtims</th>\n",
       "      <th>anndats</th>\n",
       "      <th>anntims</th>\n",
       "      <th>report_curr</th>\n",
       "      <th>act</th>\n",
       "      <th>fyearq</th>\n",
       "      <th>fqtr</th>\n",
       "      <th>permno</th>\n",
       "      <th>gvkey</th>\n",
       "    </tr>\n",
       "  </thead>\n",
       "  <tbody>\n",
       "    <tr>\n",
       "      <th>0</th>\n",
       "      <td>0000</td>\n",
       "      <td>87482X10</td>\n",
       "      <td>TLMR</td>\n",
       "      <td>TALMER BANCORP</td>\n",
       "      <td>2014-03-10</td>\n",
       "      <td>1267.0</td>\n",
       "      <td>71182.0</td>\n",
       "      <td>None</td>\n",
       "      <td>D</td>\n",
       "      <td>6</td>\n",
       "      <td>...</td>\n",
       "      <td>2014-03-10</td>\n",
       "      <td>08:54:03</td>\n",
       "      <td>2014-03-10</td>\n",
       "      <td>00:20:00</td>\n",
       "      <td>USD</td>\n",
       "      <td>0.12</td>\n",
       "      <td>2014</td>\n",
       "      <td>1</td>\n",
       "      <td>14471.0</td>\n",
       "      <td>062491</td>\n",
       "    </tr>\n",
       "    <tr>\n",
       "      <th>1</th>\n",
       "      <td>0000</td>\n",
       "      <td>87482X10</td>\n",
       "      <td>TLMR</td>\n",
       "      <td>TALMER BANCORP</td>\n",
       "      <td>2014-03-11</td>\n",
       "      <td>149.0</td>\n",
       "      <td>119962.0</td>\n",
       "      <td>None</td>\n",
       "      <td>D</td>\n",
       "      <td>6</td>\n",
       "      <td>...</td>\n",
       "      <td>2014-03-11</td>\n",
       "      <td>15:17:12</td>\n",
       "      <td>2014-03-09</td>\n",
       "      <td>17:05:00</td>\n",
       "      <td>USD</td>\n",
       "      <td>0.12</td>\n",
       "      <td>2014</td>\n",
       "      <td>1</td>\n",
       "      <td>14471.0</td>\n",
       "      <td>062491</td>\n",
       "    </tr>\n",
       "    <tr>\n",
       "      <th>2</th>\n",
       "      <td>0000</td>\n",
       "      <td>87482X10</td>\n",
       "      <td>TLMR</td>\n",
       "      <td>TALMER BANCORP</td>\n",
       "      <td>2014-03-11</td>\n",
       "      <td>228.0</td>\n",
       "      <td>80474.0</td>\n",
       "      <td>None</td>\n",
       "      <td>D</td>\n",
       "      <td>6</td>\n",
       "      <td>...</td>\n",
       "      <td>2014-03-11</td>\n",
       "      <td>15:49:22</td>\n",
       "      <td>2014-03-10</td>\n",
       "      <td>06:48:00</td>\n",
       "      <td>USD</td>\n",
       "      <td>0.12</td>\n",
       "      <td>2014</td>\n",
       "      <td>1</td>\n",
       "      <td>14471.0</td>\n",
       "      <td>062491</td>\n",
       "    </tr>\n",
       "    <tr>\n",
       "      <th>3</th>\n",
       "      <td>0000</td>\n",
       "      <td>87482X10</td>\n",
       "      <td>TLMR</td>\n",
       "      <td>TALMER BANCORP</td>\n",
       "      <td>2014-03-11</td>\n",
       "      <td>873.0</td>\n",
       "      <td>79092.0</td>\n",
       "      <td>None</td>\n",
       "      <td>D</td>\n",
       "      <td>6</td>\n",
       "      <td>...</td>\n",
       "      <td>2014-03-11</td>\n",
       "      <td>17:10:50</td>\n",
       "      <td>2014-03-10</td>\n",
       "      <td>00:25:00</td>\n",
       "      <td>USD</td>\n",
       "      <td>0.12</td>\n",
       "      <td>2014</td>\n",
       "      <td>1</td>\n",
       "      <td>14471.0</td>\n",
       "      <td>062491</td>\n",
       "    </tr>\n",
       "    <tr>\n",
       "      <th>4</th>\n",
       "      <td>0000</td>\n",
       "      <td>87482X10</td>\n",
       "      <td>TLMR</td>\n",
       "      <td>TALMER BANCORP</td>\n",
       "      <td>2014-03-11</td>\n",
       "      <td>952.0</td>\n",
       "      <td>50789.0</td>\n",
       "      <td>None</td>\n",
       "      <td>D</td>\n",
       "      <td>6</td>\n",
       "      <td>...</td>\n",
       "      <td>2014-03-11</td>\n",
       "      <td>15:22:08</td>\n",
       "      <td>2014-03-10</td>\n",
       "      <td>07:45:00</td>\n",
       "      <td>USD</td>\n",
       "      <td>0.12</td>\n",
       "      <td>2014</td>\n",
       "      <td>1</td>\n",
       "      <td>14471.0</td>\n",
       "      <td>062491</td>\n",
       "    </tr>\n",
       "  </tbody>\n",
       "</table>\n",
       "<p>5 rows × 26 columns</p>\n",
       "</div>"
      ]
     },
     "execution_count": 25,
     "metadata": {},
     "output_type": "execute_result"
    }
   ],
   "execution_count": 25
  },
  {
   "metadata": {
    "ExecuteTime": {
     "end_time": "2024-10-11T14:01:14.386906Z",
     "start_time": "2024-10-11T14:01:07.253014Z"
    }
   },
   "cell_type": "code",
   "source": [
    "# Step 4: Count number of estimates and select primary/diluted basis\n",
    "ibes = ibes_temp[['ticker', 'fpedats', 'pdf']].copy()\n",
    "ibes['p_count'] = np.where(ibes['pdf'] == 'P', 1, 0)\n",
    "ibes['d_count'] = np.where(ibes['pdf'] == 'D', 1, 0)\n",
    "ibes = ibes.groupby(['ticker', 'fpedats']).agg(\n",
    "    {'p_count': 'sum', 'd_count': 'sum'}\n",
    ").reset_index()\n",
    "\n",
    "ibes['basis'] = np.where(ibes['p_count'] > ibes['d_count'], 'P', 'D')\n",
    "ibes = ibes.merge(ibes_temp, on=['ticker', 'fpedats'], how='left')\n",
    "ibes.drop_duplicates(['ticker', 'fpedats', 'estimator', 'analys'], keep='last', inplace=True)\n"
   ],
   "id": "53cdd0c7f1f986a1",
   "outputs": [],
   "execution_count": 26
  },
  {
   "metadata": {
    "ExecuteTime": {
     "end_time": "2024-10-11T14:01:14.627876Z",
     "start_time": "2024-10-11T14:01:14.496209Z"
    }
   },
   "cell_type": "code",
   "source": [
    "# Step 5: Compute median forecast based on estimates in the 90 days prior to the EAD\n",
    "medest = ibes.groupby(['gvkey', 'fqtr', 'fyearq']).agg(\n",
    "    median_est=('value', 'median'),\n",
    "    num_est=('value', 'count'),\n",
    "    basis=('basis', 'first')  # Include basis for further calculations\n",
    ").reset_index()"
   ],
   "id": "e8b1789982bef42a",
   "outputs": [],
   "execution_count": 27
  },
  {
   "metadata": {
    "ExecuteTime": {
     "end_time": "2024-10-11T14:09:37.087691Z",
     "start_time": "2024-10-11T14:08:42.420483Z"
    }
   },
   "cell_type": "code",
   "source": [
    "# Step 6: Extract Compustat data and merge it with IBES consensus using WRDS\n",
    "comp = conn.raw_sql(f\"\"\"\n",
    "    SELECT gvkey, fyearq, fqtr, conm, datadate, rdq, epsfxq, epspxq, prccq, ajexq, spiq, cshoq, \n",
    "           fyr, datafqtr\n",
    "    FROM comp.fundq\n",
    "    WHERE ((saleq IS NOT NULL OR atq > 0) AND consol = 'C' AND popsrc = 'D' \n",
    "           AND indfmt = 'INDL' AND datafmt = 'STD' AND datafqtr IS NOT NULL)\n",
    "\"\"\")"
   ],
   "id": "b068d25907125676",
   "outputs": [],
   "execution_count": 30
  },
  {
   "metadata": {
    "ExecuteTime": {
     "end_time": "2024-10-11T14:09:37.464910Z",
     "start_time": "2024-10-11T14:09:37.093020Z"
    }
   },
   "cell_type": "code",
   "source": "comp_backup = comp.copy()",
   "id": "f0f06ca7ab0e21bc",
   "outputs": [],
   "execution_count": 31
  },
  {
   "metadata": {
    "ExecuteTime": {
     "end_time": "2024-10-11T14:09:44.342738Z",
     "start_time": "2024-10-11T14:09:43.963633Z"
    }
   },
   "cell_type": "code",
   "source": "comp = comp_backup.loc[comp_backup['fyearq'].apply(lambda x: 2005 < x < 2016)].copy()",
   "id": "d243c633bc07b7c8",
   "outputs": [],
   "execution_count": 32
  },
  {
   "metadata": {
    "ExecuteTime": {
     "end_time": "2024-10-11T14:10:04.660162Z",
     "start_time": "2024-10-11T14:10:03.968496Z"
    }
   },
   "cell_type": "code",
   "source": [
    "comp = comp.merge(medest, on=['gvkey', 'fqtr', 'fyearq'], how='left')\n",
    "\n",
    "# Merge 'act' variable from ibes_temp to comp\n",
    "comp = comp.merge(ibes_temp[['gvkey', 'fqtr', 'fyearq', 'act']].drop_duplicates().dropna(subset=['gvkey']), on=['gvkey', 'fqtr', 'fyearq'], how='left')"
   ],
   "id": "d353261fc14d2a87",
   "outputs": [],
   "execution_count": 33
  },
  {
   "metadata": {
    "ExecuteTime": {
     "end_time": "2024-10-11T14:10:11.363848Z",
     "start_time": "2024-10-11T14:10:11.203978Z"
    }
   },
   "cell_type": "code",
   "source": [
    "# Step 7: Process Compustat Data on a seasonal year-quarter basis\n",
    "comp.sort_values(by=['gvkey', 'fqtr', 'fyearq'], inplace=True)\n",
    "comp['lag_eps'] = comp.groupby('gvkey')['epspxq'].shift(1)"
   ],
   "id": "7b950d76b10530ef",
   "outputs": [],
   "execution_count": 34
  },
  {
   "metadata": {
    "ExecuteTime": {
     "end_time": "2024-10-11T08:37:46.924466Z",
     "start_time": "2024-10-11T08:37:46.419323Z"
    }
   },
   "cell_type": "code",
   "source": "comp.drop_duplicates(['gvkey', 'fyearq', 'fqtr'], keep='last').shape",
   "id": "55c4e6c79bf97052",
   "outputs": [
    {
     "data": {
      "text/plain": [
       "(1690329, 18)"
      ]
     },
     "execution_count": 130,
     "metadata": {},
     "output_type": "execute_result"
    }
   ],
   "execution_count": 130
  },
  {
   "metadata": {
    "ExecuteTime": {
     "end_time": "2024-10-11T14:10:24.728355Z",
     "start_time": "2024-10-11T14:10:24.672016Z"
    }
   },
   "cell_type": "code",
   "source": [
    "# Step 8: Calculate SUE variables based on the basis\n",
    "comp['actual1'] = np.where(comp['basis'] == 'P', comp['epspxq'] / comp['ajexq'], comp['epsfxq'] / comp['ajexq'])\n",
    "comp['expected1'] = np.where(comp['basis'] == 'P', comp['lag_eps'] / comp['ajexq'], comp['lag_eps'] / comp['ajexq'])\n",
    "comp['sue1'] = (comp['actual1'] - comp['expected1']) / (comp['prccq'] / comp['ajexq'])\n",
    "\n",
    "comp['actual2'] = np.where(comp['basis'] == 'P', (comp['epspxq'] - 0.65 * comp['spiq'] / comp['cshoq']) / comp['ajexq'],\n",
    "                           (comp['epsfxq'] - 0.65 * comp['spiq'] / comp['cshoq']) / comp['ajexq'])\n",
    "comp['expected2'] = np.where(comp['basis'] == 'P', (comp['lag_eps'] - 0.65 * comp['spiq'] / comp['cshoq']) / comp['ajexq'],\n",
    "                             (comp['lag_eps'] - 0.65 * comp['spiq'] / comp['cshoq']) / comp['ajexq'])\n",
    "comp['sue2'] = (comp['actual2'] - comp['expected2']) / (comp['prccq'] / comp['ajexq'])\n",
    "\n",
    "comp['sue3'] = (comp['act'] - comp['median_est']) / comp['prccq']\n"
   ],
   "id": "2138fe53b2860358",
   "outputs": [],
   "execution_count": 37
  },
  {
   "metadata": {
    "ExecuteTime": {
     "end_time": "2024-10-11T14:10:38.424346Z",
     "start_time": "2024-10-11T14:10:38.319543Z"
    }
   },
   "cell_type": "code",
   "source": [
    "# Final output\n",
    "sue_final = comp[['gvkey', 'fyearq', 'fqtr', 'datadate', 'rdq', 'sue1', 'sue2', 'sue3']]\n",
    "sue_final.drop_duplicates(subset=['gvkey', 'fyearq', 'fqtr'], keep='last', inplace=True)"
   ],
   "id": "461736a6aa60ef7",
   "outputs": [
    {
     "name": "stderr",
     "output_type": "stream",
     "text": [
      "C:\\Users\\wangy\\AppData\\Local\\Temp\\ipykernel_21220\\3743235988.py:3: SettingWithCopyWarning: \n",
      "A value is trying to be set on a copy of a slice from a DataFrame\n",
      "\n",
      "See the caveats in the documentation: https://pandas.pydata.org/pandas-docs/stable/user_guide/indexing.html#returning-a-view-versus-a-copy\n",
      "  sue_final.drop_duplicates(subset=['gvkey', 'fyearq', 'fqtr'], keep='last', inplace=True)\n"
     ]
    }
   ],
   "execution_count": 38
  },
  {
   "metadata": {
    "ExecuteTime": {
     "end_time": "2024-10-11T14:10:39.378752Z",
     "start_time": "2024-10-11T14:10:38.507194Z"
    }
   },
   "cell_type": "code",
   "source": "sue_final.to_pickle(os.path.join(const.TEMP_PATH, '20241011_sue_123.pkl'))",
   "id": "c661b29c04876b3f",
   "outputs": [],
   "execution_count": 39
  },
  {
   "metadata": {
    "ExecuteTime": {
     "end_time": "2024-10-11T14:10:45.935111Z",
     "start_time": "2024-10-11T14:10:45.879427Z"
    }
   },
   "cell_type": "code",
   "source": "sue_final.describe()",
   "id": "fc2b3534414ffa96",
   "outputs": [
    {
     "data": {
      "text/plain": [
       "              fyearq           fqtr          sue1           sue2         sue3\n",
       "count  359849.000000  359849.000000  3.079410e+05  302383.000000  4541.000000\n",
       "mean     2010.459593       2.494833 -1.253755e+01      -2.002510     4.101210\n",
       "std         2.892548       1.119652  5.210380e+03    1874.770279   136.362189\n",
       "min      2006.000000       1.000000 -1.986700e+06 -511809.437500 -1033.333333\n",
       "25%      2008.000000       1.000000 -1.187097e-02      -0.011858    -0.013986\n",
       "50%      2010.000000       2.000000  0.000000e+00       0.000000     0.007391\n",
       "75%      2013.000000       4.000000  1.030928e-02       0.010299     0.058169\n",
       "max      2015.000000       4.000000  7.693520e+05  508710.000000  7600.000000"
      ],
      "text/html": [
       "<div>\n",
       "<style scoped>\n",
       "    .dataframe tbody tr th:only-of-type {\n",
       "        vertical-align: middle;\n",
       "    }\n",
       "\n",
       "    .dataframe tbody tr th {\n",
       "        vertical-align: top;\n",
       "    }\n",
       "\n",
       "    .dataframe thead th {\n",
       "        text-align: right;\n",
       "    }\n",
       "</style>\n",
       "<table border=\"1\" class=\"dataframe\">\n",
       "  <thead>\n",
       "    <tr style=\"text-align: right;\">\n",
       "      <th></th>\n",
       "      <th>fyearq</th>\n",
       "      <th>fqtr</th>\n",
       "      <th>sue1</th>\n",
       "      <th>sue2</th>\n",
       "      <th>sue3</th>\n",
       "    </tr>\n",
       "  </thead>\n",
       "  <tbody>\n",
       "    <tr>\n",
       "      <th>count</th>\n",
       "      <td>359849.000000</td>\n",
       "      <td>359849.000000</td>\n",
       "      <td>3.079410e+05</td>\n",
       "      <td>302383.000000</td>\n",
       "      <td>4541.000000</td>\n",
       "    </tr>\n",
       "    <tr>\n",
       "      <th>mean</th>\n",
       "      <td>2010.459593</td>\n",
       "      <td>2.494833</td>\n",
       "      <td>-1.253755e+01</td>\n",
       "      <td>-2.002510</td>\n",
       "      <td>4.101210</td>\n",
       "    </tr>\n",
       "    <tr>\n",
       "      <th>std</th>\n",
       "      <td>2.892548</td>\n",
       "      <td>1.119652</td>\n",
       "      <td>5.210380e+03</td>\n",
       "      <td>1874.770279</td>\n",
       "      <td>136.362189</td>\n",
       "    </tr>\n",
       "    <tr>\n",
       "      <th>min</th>\n",
       "      <td>2006.000000</td>\n",
       "      <td>1.000000</td>\n",
       "      <td>-1.986700e+06</td>\n",
       "      <td>-511809.437500</td>\n",
       "      <td>-1033.333333</td>\n",
       "    </tr>\n",
       "    <tr>\n",
       "      <th>25%</th>\n",
       "      <td>2008.000000</td>\n",
       "      <td>1.000000</td>\n",
       "      <td>-1.187097e-02</td>\n",
       "      <td>-0.011858</td>\n",
       "      <td>-0.013986</td>\n",
       "    </tr>\n",
       "    <tr>\n",
       "      <th>50%</th>\n",
       "      <td>2010.000000</td>\n",
       "      <td>2.000000</td>\n",
       "      <td>0.000000e+00</td>\n",
       "      <td>0.000000</td>\n",
       "      <td>0.007391</td>\n",
       "    </tr>\n",
       "    <tr>\n",
       "      <th>75%</th>\n",
       "      <td>2013.000000</td>\n",
       "      <td>4.000000</td>\n",
       "      <td>1.030928e-02</td>\n",
       "      <td>0.010299</td>\n",
       "      <td>0.058169</td>\n",
       "    </tr>\n",
       "    <tr>\n",
       "      <th>max</th>\n",
       "      <td>2015.000000</td>\n",
       "      <td>4.000000</td>\n",
       "      <td>7.693520e+05</td>\n",
       "      <td>508710.000000</td>\n",
       "      <td>7600.000000</td>\n",
       "    </tr>\n",
       "  </tbody>\n",
       "</table>\n",
       "</div>"
      ]
     },
     "execution_count": 40,
     "metadata": {},
     "output_type": "execute_result"
    }
   ],
   "execution_count": 40
  },
  {
   "metadata": {
    "ExecuteTime": {
     "end_time": "2024-10-11T09:10:48.881307Z",
     "start_time": "2024-10-11T09:10:48.876553Z"
    }
   },
   "cell_type": "code",
   "source": [
    "# Close the connection to WRDS\n",
    "conn.close()"
   ],
   "id": "b083abbb4e211691",
   "outputs": [],
   "execution_count": 155
  }
 ],
 "metadata": {
  "kernelspec": {
   "display_name": "Python 3",
   "language": "python",
   "name": "python3"
  },
  "language_info": {
   "codemirror_mode": {
    "name": "ipython",
    "version": 2
   },
   "file_extension": ".py",
   "mimetype": "text/x-python",
   "name": "python",
   "nbconvert_exporter": "python",
   "pygments_lexer": "ipython2",
   "version": "2.7.6"
  }
 },
 "nbformat": 4,
 "nbformat_minor": 5
}
