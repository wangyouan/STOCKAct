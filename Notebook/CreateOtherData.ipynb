{
 "cells": [
  {
   "cell_type": "code",
   "id": "initial_id",
   "metadata": {
    "collapsed": true,
    "ExecuteTime": {
     "end_time": "2025-02-25T04:27:31.179560Z",
     "start_time": "2025-02-25T04:27:20.823381Z"
    }
   },
   "source": [
    "import os\n",
    "\n",
    "import pandas as pd\n",
    "import numpy as np\n",
    "from scipy import stats\n",
    "\n",
    "from Constants import Constants as const"
   ],
   "outputs": [],
   "execution_count": 1
  },
  {
   "metadata": {
    "ExecuteTime": {
     "end_time": "2025-02-25T04:27:31.948298Z",
     "start_time": "2025-02-25T04:27:31.212938Z"
    }
   },
   "cell_type": "code",
   "source": [
    "# Step 1: Load the data and create event time variable\n",
    "file_path = os.path.join(const.RESULT_PATH, '20250220_stock_act_data_v2.dta')\n",
    "df = pd.read_stata(file_path)"
   ],
   "id": "83b46b61815b2cf7",
   "outputs": [],
   "execution_count": 2
  },
  {
   "metadata": {
    "ExecuteTime": {
     "end_time": "2025-02-25T04:28:25.168059Z",
     "start_time": "2025-02-25T04:28:25.011657Z"
    }
   },
   "cell_type": "code",
   "source": [
    "id_df = df[[const.GVKEY, const.YEAR, 'MajorGovCustomer']].copy()\n",
    "id_df.to_csv(os.path.join(const.RESULT_PATH, '20250225_stock_act_firm_list.csv'), index=False)"
   ],
   "id": "a0570d74b7db8b82",
   "outputs": [],
   "execution_count": 3
  }
 ],
 "metadata": {
  "kernelspec": {
   "display_name": "Python 3",
   "language": "python",
   "name": "python3"
  },
  "language_info": {
   "codemirror_mode": {
    "name": "ipython",
    "version": 2
   },
   "file_extension": ".py",
   "mimetype": "text/x-python",
   "name": "python",
   "nbconvert_exporter": "python",
   "pygments_lexer": "ipython2",
   "version": "2.7.6"
  }
 },
 "nbformat": 4,
 "nbformat_minor": 5
}
