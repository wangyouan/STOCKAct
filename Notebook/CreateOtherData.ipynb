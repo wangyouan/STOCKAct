{
 "cells": [
  {
   "cell_type": "code",
   "id": "initial_id",
   "metadata": {
    "collapsed": true,
    "ExecuteTime": {
     "end_time": "2025-03-07T13:26:56.614800Z",
     "start_time": "2025-03-07T13:26:56.610939Z"
    }
   },
   "source": [
    "import os\n",
    "\n",
    "import pandas as pd\n",
    "import numpy as np\n",
    "from pandas import DataFrame\n",
    "from scipy import stats\n",
    "\n",
    "from Constants import Constants as const"
   ],
   "outputs": [],
   "execution_count": 33
  },
  {
   "metadata": {
    "ExecuteTime": {
     "end_time": "2025-02-25T04:27:31.948298Z",
     "start_time": "2025-02-25T04:27:31.212938Z"
    }
   },
   "cell_type": "code",
   "source": [
    "# Step 1: Load the data and create event time variable\n",
    "file_path = os.path.join(const.RESULT_PATH, '20250220_stock_act_data_v2.dta')\n",
    "df = pd.read_stata(file_path)"
   ],
   "id": "83b46b61815b2cf7",
   "outputs": [],
   "execution_count": 2
  },
  {
   "metadata": {
    "ExecuteTime": {
     "end_time": "2025-02-25T04:28:25.168059Z",
     "start_time": "2025-02-25T04:28:25.011657Z"
    }
   },
   "cell_type": "code",
   "source": [
    "id_df = df[[const.GVKEY, const.YEAR, 'MajorGovCustomer']].copy()\n",
    "id_df.to_csv(os.path.join(const.RESULT_PATH, '20250225_stock_act_firm_list.csv'), index=False)"
   ],
   "id": "a0570d74b7db8b82",
   "outputs": [],
   "execution_count": 3
  },
  {
   "metadata": {},
   "cell_type": "markdown",
   "source": [
    "# Construct Abnormal Trading Volume\n",
    "\n",
    "First, Calculate the mean and standard deviation of trading volume using the data with in the [-252, -21] event window.\n",
    "Then, using the trading volume around the event date minus the average trading volume, divided by the standard deviation of trading volume\n",
    "Last, Calculate abnormal trading volume using the two event window [-2, 2] and [-1, 1]"
   ],
   "id": "b8ca4a0f69c1819d"
  },
  {
   "metadata": {
    "ExecuteTime": {
     "end_time": "2025-03-07T08:19:14.801481Z",
     "start_time": "2025-03-07T08:19:00.371377Z"
    }
   },
   "cell_type": "code",
   "source": [
    "#------------------------------------------------------------\n",
    "# 1. Load the data\n",
    "#------------------------------------------------------------\n",
    "# Event data\n",
    "events = pd.read_stata(os.path.join(const.RESULT_PATH, 'FinalCARData_20250306_lxt.dta'))\n",
    "# CRSP data\n",
    "crsp = pd.read_csv(os.path.join(const.DATABASE_PATH, 'crsp', '2007_2015_CRSP_vol_data.zip'), dtype={'NCUSIP': str})\n"
   ],
   "id": "4023f64edc5de692",
   "outputs": [],
   "execution_count": 11
  },
  {
   "metadata": {
    "ExecuteTime": {
     "end_time": "2025-03-07T08:18:41.811605Z",
     "start_time": "2025-03-07T08:18:41.799330Z"
    }
   },
   "cell_type": "code",
   "source": "crsp['NCUSIP'].dtypes",
   "id": "47acf10009f7cc75",
   "outputs": [
    {
     "data": {
      "text/plain": [
       "dtype('O')"
      ]
     },
     "execution_count": 10,
     "metadata": {},
     "output_type": "execute_result"
    }
   ],
   "execution_count": 10
  },
  {
   "metadata": {
    "ExecuteTime": {
     "end_time": "2025-03-07T08:20:50.824826Z",
     "start_time": "2025-03-07T08:19:39.911452Z"
    }
   },
   "cell_type": "code",
   "source": [
    "# Convert dates to datetime\n",
    "events['rdq'] = pd.to_datetime(events['rdq'])\n",
    "crsp['date'] = pd.to_datetime(crsp['date'])\n",
    "\n",
    "# Preprocess CRSP data: group by NCUSIP for faster lookup\n",
    "crsp_grouped = crsp.groupby('NCUSIP')\n",
    "\n",
    "def calculate_abnormal_volume(row):\n",
    "    \"\"\"Calculate abnormal volume for a single event row\"\"\"\n",
    "    cusip = row['cusip_8']\n",
    "    event_date = row['rdq']\n",
    "\n",
    "    # Get firm data from CRSP\n",
    "    try:\n",
    "        firm_data = crsp_grouped.get_group(cusip).sort_values('date').reset_index(drop=True)\n",
    "    except KeyError:\n",
    "        return pd.Series([np.nan, np.nan])\n",
    "\n",
    "    # Find event date position\n",
    "    event_mask = (firm_data['date'] == event_date)\n",
    "    if not event_mask.any():\n",
    "        return pd.Series([np.nan, np.nan])\n",
    "\n",
    "    event_idx = firm_data[event_mask].index[0]\n",
    "\n",
    "    # Estimation window [-252, -21]\n",
    "    start_est = max(0, event_idx - 252)\n",
    "    end_est = max(0, event_idx - 21)\n",
    "\n",
    "    if start_est >= end_est:\n",
    "        return pd.Series([np.nan, np.nan])\n",
    "\n",
    "    estimation_vol = firm_data.loc[start_est:end_est, 'VOL']\n",
    "    mean_vol = estimation_vol.mean()\n",
    "    std_vol = estimation_vol.std()\n",
    "\n",
    "    if std_vol == 0:\n",
    "        return pd.Series([np.nan, np.nan])\n",
    "\n",
    "    # Calculate abnormal volumes\n",
    "    def calc_window_abnormal(start, end):\n",
    "        window_start = max(0, event_idx + start)\n",
    "        window_end = min(len(firm_data)-1, event_idx + end)\n",
    "        window_vol = firm_data.loc[window_start:window_end, 'VOL']\n",
    "        return ((window_vol - mean_vol) / std_vol).sum()\n",
    "\n",
    "    cav_2_2 = calc_window_abnormal(-2, 2)\n",
    "    cav_1_1 = calc_window_abnormal(-1, 1)\n",
    "\n",
    "    return pd.Series([cav_2_2, cav_1_1])\n",
    "\n",
    "# Apply the calculation to each row\n",
    "events[['CAV_2_2', 'CAV_1_1']] = events.apply(calculate_abnormal_volume, axis=1)"
   ],
   "id": "12a81aca660af6b9",
   "outputs": [],
   "execution_count": 12
  },
  {
   "metadata": {
    "ExecuteTime": {
     "end_time": "2025-03-07T08:21:19.960726Z",
     "start_time": "2025-03-07T08:21:19.859716Z"
    }
   },
   "cell_type": "code",
   "source": "events.describe()",
   "id": "7c67de10b0851525",
   "outputs": [
    {
     "data": {
      "text/plain": [
       "        fiscal_year  majorgovcustomer                            rdq  \\\n",
       "count  31954.000000      31954.000000                          31954   \n",
       "mean    2011.719190          0.164173  2012-06-01 06:39:43.476247040   \n",
       "min     2008.000000          0.000000            2008-02-12 00:00:00   \n",
       "25%     2010.000000          0.000000            2010-07-21 00:00:00   \n",
       "50%     2012.000000          0.000000            2012-07-25 00:00:00   \n",
       "75%     2014.000000          0.000000            2014-05-07 00:00:00   \n",
       "max     2015.000000          1.000000            2016-08-08 00:00:00   \n",
       "std        2.261275          0.370439                            NaN   \n",
       "\n",
       "          CAPMCAR22     CAPMCAR11     CAPMCAR13     CAPMCAR15     CAPMCAR05  \\\n",
       "count  31954.000000  31954.000000  31954.000000  31954.000000  31954.000000   \n",
       "mean       0.001849      0.002528      0.001271      0.001266      0.000717   \n",
       "min       -0.879886     -0.750561     -0.843614     -1.107498     -1.040059   \n",
       "25%       -0.039554     -0.039003     -0.046620     -0.050280     -0.049351   \n",
       "50%       -0.000350      0.000158     -0.000416     -0.000689     -0.001032   \n",
       "75%        0.041397      0.042193      0.046423      0.050171      0.048048   \n",
       "max        1.653363      1.847709      1.679236      1.944226      2.049613   \n",
       "std        0.093874      0.091006      0.101217      0.110006      0.107234   \n",
       "\n",
       "          CAPMCAR55      FF3CAR22  ...        mkvaltq         prccq  \\\n",
       "count  31954.000000  31954.000000  ...   31866.000000  31951.000000   \n",
       "mean       0.001381      0.001944  ...    6760.489074     31.891190   \n",
       "min       -1.281628     -0.933216  ...       1.261100      0.070100   \n",
       "25%       -0.055744     -0.039331  ...     225.161150      8.500000   \n",
       "50%       -0.000676     -0.000253  ...     886.969600     19.830000   \n",
       "75%        0.055246      0.041203  ...    3441.729350     39.110000   \n",
       "max        1.939718      1.667979  ...  717000.251500   4197.950000   \n",
       "std        0.120843      0.094214  ...   23775.584679     82.912287   \n",
       "\n",
       "         total_debt          size           roa            bm           lev  \\\n",
       "count  29950.000000  31866.000000  31857.000000  31815.000000  29950.000000   \n",
       "mean    1575.073242      6.803043      0.002896      1.397894      0.193197   \n",
       "min        0.000000      2.293272     -0.207989      0.120152      0.000000   \n",
       "25%        0.750250      5.416817     -0.000252      0.558467      0.003971   \n",
       "50%      109.861000      6.787811      0.009551      0.997759      0.153694   \n",
       "75%      846.596252      8.143729      0.020222      1.690230      0.315476   \n",
       "max    27464.000000     11.638428      0.087504      8.648678      0.775204   \n",
       "std     4230.963867      2.045294      0.041155      1.393723      0.190146   \n",
       "\n",
       "               post       CAV_2_2       CAV_1_1  \n",
       "count  31954.000000  30859.000000  30859.000000  \n",
       "mean       0.538149      3.530836      2.942663  \n",
       "min        0.000000     -7.461892     -4.730442  \n",
       "25%        0.000000     -0.540035     -0.156169  \n",
       "50%        1.000000      1.680589      1.534981  \n",
       "75%        1.000000      5.305096      4.263735  \n",
       "max        1.000000   1505.069737    973.714104  \n",
       "std        0.498556     12.023182      8.599978  \n",
       "\n",
       "[8 rows x 30 columns]"
      ],
      "text/html": [
       "<div>\n",
       "<style scoped>\n",
       "    .dataframe tbody tr th:only-of-type {\n",
       "        vertical-align: middle;\n",
       "    }\n",
       "\n",
       "    .dataframe tbody tr th {\n",
       "        vertical-align: top;\n",
       "    }\n",
       "\n",
       "    .dataframe thead th {\n",
       "        text-align: right;\n",
       "    }\n",
       "</style>\n",
       "<table border=\"1\" class=\"dataframe\">\n",
       "  <thead>\n",
       "    <tr style=\"text-align: right;\">\n",
       "      <th></th>\n",
       "      <th>fiscal_year</th>\n",
       "      <th>majorgovcustomer</th>\n",
       "      <th>rdq</th>\n",
       "      <th>CAPMCAR22</th>\n",
       "      <th>CAPMCAR11</th>\n",
       "      <th>CAPMCAR13</th>\n",
       "      <th>CAPMCAR15</th>\n",
       "      <th>CAPMCAR05</th>\n",
       "      <th>CAPMCAR55</th>\n",
       "      <th>FF3CAR22</th>\n",
       "      <th>...</th>\n",
       "      <th>mkvaltq</th>\n",
       "      <th>prccq</th>\n",
       "      <th>total_debt</th>\n",
       "      <th>size</th>\n",
       "      <th>roa</th>\n",
       "      <th>bm</th>\n",
       "      <th>lev</th>\n",
       "      <th>post</th>\n",
       "      <th>CAV_2_2</th>\n",
       "      <th>CAV_1_1</th>\n",
       "    </tr>\n",
       "  </thead>\n",
       "  <tbody>\n",
       "    <tr>\n",
       "      <th>count</th>\n",
       "      <td>31954.000000</td>\n",
       "      <td>31954.000000</td>\n",
       "      <td>31954</td>\n",
       "      <td>31954.000000</td>\n",
       "      <td>31954.000000</td>\n",
       "      <td>31954.000000</td>\n",
       "      <td>31954.000000</td>\n",
       "      <td>31954.000000</td>\n",
       "      <td>31954.000000</td>\n",
       "      <td>31954.000000</td>\n",
       "      <td>...</td>\n",
       "      <td>31866.000000</td>\n",
       "      <td>31951.000000</td>\n",
       "      <td>29950.000000</td>\n",
       "      <td>31866.000000</td>\n",
       "      <td>31857.000000</td>\n",
       "      <td>31815.000000</td>\n",
       "      <td>29950.000000</td>\n",
       "      <td>31954.000000</td>\n",
       "      <td>30859.000000</td>\n",
       "      <td>30859.000000</td>\n",
       "    </tr>\n",
       "    <tr>\n",
       "      <th>mean</th>\n",
       "      <td>2011.719190</td>\n",
       "      <td>0.164173</td>\n",
       "      <td>2012-06-01 06:39:43.476247040</td>\n",
       "      <td>0.001849</td>\n",
       "      <td>0.002528</td>\n",
       "      <td>0.001271</td>\n",
       "      <td>0.001266</td>\n",
       "      <td>0.000717</td>\n",
       "      <td>0.001381</td>\n",
       "      <td>0.001944</td>\n",
       "      <td>...</td>\n",
       "      <td>6760.489074</td>\n",
       "      <td>31.891190</td>\n",
       "      <td>1575.073242</td>\n",
       "      <td>6.803043</td>\n",
       "      <td>0.002896</td>\n",
       "      <td>1.397894</td>\n",
       "      <td>0.193197</td>\n",
       "      <td>0.538149</td>\n",
       "      <td>3.530836</td>\n",
       "      <td>2.942663</td>\n",
       "    </tr>\n",
       "    <tr>\n",
       "      <th>min</th>\n",
       "      <td>2008.000000</td>\n",
       "      <td>0.000000</td>\n",
       "      <td>2008-02-12 00:00:00</td>\n",
       "      <td>-0.879886</td>\n",
       "      <td>-0.750561</td>\n",
       "      <td>-0.843614</td>\n",
       "      <td>-1.107498</td>\n",
       "      <td>-1.040059</td>\n",
       "      <td>-1.281628</td>\n",
       "      <td>-0.933216</td>\n",
       "      <td>...</td>\n",
       "      <td>1.261100</td>\n",
       "      <td>0.070100</td>\n",
       "      <td>0.000000</td>\n",
       "      <td>2.293272</td>\n",
       "      <td>-0.207989</td>\n",
       "      <td>0.120152</td>\n",
       "      <td>0.000000</td>\n",
       "      <td>0.000000</td>\n",
       "      <td>-7.461892</td>\n",
       "      <td>-4.730442</td>\n",
       "    </tr>\n",
       "    <tr>\n",
       "      <th>25%</th>\n",
       "      <td>2010.000000</td>\n",
       "      <td>0.000000</td>\n",
       "      <td>2010-07-21 00:00:00</td>\n",
       "      <td>-0.039554</td>\n",
       "      <td>-0.039003</td>\n",
       "      <td>-0.046620</td>\n",
       "      <td>-0.050280</td>\n",
       "      <td>-0.049351</td>\n",
       "      <td>-0.055744</td>\n",
       "      <td>-0.039331</td>\n",
       "      <td>...</td>\n",
       "      <td>225.161150</td>\n",
       "      <td>8.500000</td>\n",
       "      <td>0.750250</td>\n",
       "      <td>5.416817</td>\n",
       "      <td>-0.000252</td>\n",
       "      <td>0.558467</td>\n",
       "      <td>0.003971</td>\n",
       "      <td>0.000000</td>\n",
       "      <td>-0.540035</td>\n",
       "      <td>-0.156169</td>\n",
       "    </tr>\n",
       "    <tr>\n",
       "      <th>50%</th>\n",
       "      <td>2012.000000</td>\n",
       "      <td>0.000000</td>\n",
       "      <td>2012-07-25 00:00:00</td>\n",
       "      <td>-0.000350</td>\n",
       "      <td>0.000158</td>\n",
       "      <td>-0.000416</td>\n",
       "      <td>-0.000689</td>\n",
       "      <td>-0.001032</td>\n",
       "      <td>-0.000676</td>\n",
       "      <td>-0.000253</td>\n",
       "      <td>...</td>\n",
       "      <td>886.969600</td>\n",
       "      <td>19.830000</td>\n",
       "      <td>109.861000</td>\n",
       "      <td>6.787811</td>\n",
       "      <td>0.009551</td>\n",
       "      <td>0.997759</td>\n",
       "      <td>0.153694</td>\n",
       "      <td>1.000000</td>\n",
       "      <td>1.680589</td>\n",
       "      <td>1.534981</td>\n",
       "    </tr>\n",
       "    <tr>\n",
       "      <th>75%</th>\n",
       "      <td>2014.000000</td>\n",
       "      <td>0.000000</td>\n",
       "      <td>2014-05-07 00:00:00</td>\n",
       "      <td>0.041397</td>\n",
       "      <td>0.042193</td>\n",
       "      <td>0.046423</td>\n",
       "      <td>0.050171</td>\n",
       "      <td>0.048048</td>\n",
       "      <td>0.055246</td>\n",
       "      <td>0.041203</td>\n",
       "      <td>...</td>\n",
       "      <td>3441.729350</td>\n",
       "      <td>39.110000</td>\n",
       "      <td>846.596252</td>\n",
       "      <td>8.143729</td>\n",
       "      <td>0.020222</td>\n",
       "      <td>1.690230</td>\n",
       "      <td>0.315476</td>\n",
       "      <td>1.000000</td>\n",
       "      <td>5.305096</td>\n",
       "      <td>4.263735</td>\n",
       "    </tr>\n",
       "    <tr>\n",
       "      <th>max</th>\n",
       "      <td>2015.000000</td>\n",
       "      <td>1.000000</td>\n",
       "      <td>2016-08-08 00:00:00</td>\n",
       "      <td>1.653363</td>\n",
       "      <td>1.847709</td>\n",
       "      <td>1.679236</td>\n",
       "      <td>1.944226</td>\n",
       "      <td>2.049613</td>\n",
       "      <td>1.939718</td>\n",
       "      <td>1.667979</td>\n",
       "      <td>...</td>\n",
       "      <td>717000.251500</td>\n",
       "      <td>4197.950000</td>\n",
       "      <td>27464.000000</td>\n",
       "      <td>11.638428</td>\n",
       "      <td>0.087504</td>\n",
       "      <td>8.648678</td>\n",
       "      <td>0.775204</td>\n",
       "      <td>1.000000</td>\n",
       "      <td>1505.069737</td>\n",
       "      <td>973.714104</td>\n",
       "    </tr>\n",
       "    <tr>\n",
       "      <th>std</th>\n",
       "      <td>2.261275</td>\n",
       "      <td>0.370439</td>\n",
       "      <td>NaN</td>\n",
       "      <td>0.093874</td>\n",
       "      <td>0.091006</td>\n",
       "      <td>0.101217</td>\n",
       "      <td>0.110006</td>\n",
       "      <td>0.107234</td>\n",
       "      <td>0.120843</td>\n",
       "      <td>0.094214</td>\n",
       "      <td>...</td>\n",
       "      <td>23775.584679</td>\n",
       "      <td>82.912287</td>\n",
       "      <td>4230.963867</td>\n",
       "      <td>2.045294</td>\n",
       "      <td>0.041155</td>\n",
       "      <td>1.393723</td>\n",
       "      <td>0.190146</td>\n",
       "      <td>0.498556</td>\n",
       "      <td>12.023182</td>\n",
       "      <td>8.599978</td>\n",
       "    </tr>\n",
       "  </tbody>\n",
       "</table>\n",
       "<p>8 rows × 30 columns</p>\n",
       "</div>"
      ]
     },
     "execution_count": 15,
     "metadata": {},
     "output_type": "execute_result"
    }
   ],
   "execution_count": 15
  },
  {
   "metadata": {
    "ExecuteTime": {
     "end_time": "2025-03-07T08:25:30.552026Z",
     "start_time": "2025-03-07T08:25:30.303118Z"
    }
   },
   "cell_type": "code",
   "source": [
    "for key in ['CAPMCAR22', 'CAPMCAR11', 'CAPMCAR13', 'CAPMCAR15', 'CAPMCAR05',\n",
    "       'CAPMCAR55', 'FF3CAR22', 'FF3CAR11', 'FF3CAR13', 'FF3CAR15', 'FF3CAR05',\n",
    "       'FF3CAR55']:\n",
    "    events[f'abs_{key}'] = events[key].abs()\n",
    "\n",
    "events['qtr'] = events['fqtr'].apply(lambda x: int(x.split('Q')[1]))\n",
    "events.to_stata(os.path.join(const.RESULT_PATH, '20250307_stock_act_eap_test.dta'), write_index=False)"
   ],
   "id": "9d82b427b836827d",
   "outputs": [],
   "execution_count": 20
  },
  {
   "metadata": {},
   "cell_type": "markdown",
   "source": "# Remerge ICC data",
   "id": "db8b4e62d5da3472"
  },
  {
   "metadata": {
    "ExecuteTime": {
     "end_time": "2025-03-07T13:08:54.454531Z",
     "start_time": "2025-03-07T13:08:54.263289Z"
    }
   },
   "cell_type": "code",
   "source": [
    "# Load the datasets\n",
    "stock_data = pd.read_stata(os.path.join(const.RESULT_PATH, '20250307_stock_act_data_v1.dta'))\n",
    "link_data = pd.read_csv(os.path.join(const.DATABASE_PATH, 'crsp', 'crsp_compustat_link.zip'), compression='zip')"
   ],
   "id": "4d4850e752b98ee9",
   "outputs": [
    {
     "name": "stderr",
     "output_type": "stream",
     "text": [
      "C:\\Users\\wangy\\AppData\\Local\\Temp\\ipykernel_26432\\538284552.py:2: UnicodeWarning: \n",
      "One or more strings in the dta file could not be decoded using utf-8, and\n",
      "so the fallback encoding of latin-1 is being used.  This can happen when a file\n",
      "has been incorrectly encoded by Stata or some other software. You should verify\n",
      "the string values returned are correct.\n",
      "  stock_data = pd.read_stata(os.path.join(const.RESULT_PATH, '20250307_stock_act_data_v1.dta'))\n"
     ]
    }
   ],
   "execution_count": 2
  },
  {
   "metadata": {
    "ExecuteTime": {
     "end_time": "2025-03-07T13:16:44.702045Z",
     "start_time": "2025-03-07T13:16:44.677657Z"
    }
   },
   "cell_type": "code",
   "source": [
    "# Convert date columns with \"E\" handling\n",
    "link_data['LINKENDDT'] = link_data['LINKENDDT'].replace('E', '20991231')  # Replace 'E' with future date\n",
    "link_data['LINKDT'] = pd.to_datetime(link_data['LINKDT'], format='%Y%m%d', errors='coerce')\n",
    "link_data['LINKENDDT'] = pd.to_datetime(link_data['LINKENDDT'], format='%Y%m%d', errors='coerce')"
   ],
   "id": "21a4281c913b0f29",
   "outputs": [],
   "execution_count": 14
  },
  {
   "metadata": {
    "ExecuteTime": {
     "end_time": "2025-03-07T13:10:01.869838Z",
     "start_time": "2025-03-07T13:10:01.860976Z"
    }
   },
   "cell_type": "code",
   "source": "link_data.drop(['tic', 'cusip', 'cik', 'LINKPRIM', 'LIID', 'LINKTYPE'], axis=1, inplace=True)",
   "id": "8afa422349778136",
   "outputs": [],
   "execution_count": 4
  },
  {
   "metadata": {
    "ExecuteTime": {
     "end_time": "2025-03-07T13:11:25.513381Z",
     "start_time": "2025-03-07T13:11:25.502980Z"
    }
   },
   "cell_type": "code",
   "source": "link_data['LINKENDDT'] = link_data['LINKENDDT'].fillna(pd.to_datetime('2099-12-31'))",
   "id": "89b0c2397cae9d56",
   "outputs": [],
   "execution_count": 5
  },
  {
   "metadata": {
    "ExecuteTime": {
     "end_time": "2025-03-07T13:11:28.987622Z",
     "start_time": "2025-03-07T13:11:28.976502Z"
    }
   },
   "cell_type": "code",
   "source": [
    "# Create fiscal_year_end (assuming fiscal year ends on Dec 31)\n",
    "stock_data['fiscal_year_end'] = pd.to_datetime(\n",
    "    stock_data['fiscal_year'].astype(str) + '1231',\n",
    "    format='%Y%m%d',\n",
    "    errors='coerce'\n",
    ")"
   ],
   "id": "41bf1876b42fbc8e",
   "outputs": [],
   "execution_count": 6
  },
  {
   "metadata": {
    "ExecuteTime": {
     "end_time": "2025-03-07T14:00:30.362010Z",
     "start_time": "2025-03-07T14:00:30.311786Z"
    }
   },
   "cell_type": "code",
   "source": [
    "# Merge datasets on gvkey\n",
    "merged = pd.merge(stock_data, link_data, on='gvkey', how='left')"
   ],
   "id": "aad933820d38b92f",
   "outputs": [],
   "execution_count": 54
  },
  {
   "metadata": {
    "ExecuteTime": {
     "end_time": "2025-03-07T14:03:19.909537Z",
     "start_time": "2025-03-07T14:03:19.891595Z"
    }
   },
   "cell_type": "code",
   "source": [
    "# Split into two groups: matched and unmatched\n",
    "mask_matched = merged['LINKDT'].notna()  # Rows with link data\n",
    "matched = merged[mask_matched].copy()"
   ],
   "id": "bc65b411db6c40f5",
   "outputs": [],
   "execution_count": 63
  },
  {
   "metadata": {
    "ExecuteTime": {
     "end_time": "2025-03-07T14:03:20.981289Z",
     "start_time": "2025-03-07T14:03:20.968354Z"
    }
   },
   "cell_type": "code",
   "source": [
    "# Process matched data\n",
    "valid_mask = (\n",
    "    (matched['fiscal_year_end'] >= matched['LINKDT']) &\n",
    "    (matched['fiscal_year_end'] <= matched['LINKENDDT'])\n",
    ")\n",
    "valid_matched = matched[valid_mask]"
   ],
   "id": "a150bef99e5b54bc",
   "outputs": [],
   "execution_count": 64
  },
  {
   "metadata": {
    "ExecuteTime": {
     "end_time": "2025-03-07T14:04:25.800349Z",
     "start_time": "2025-03-07T14:04:25.794383Z"
    }
   },
   "cell_type": "code",
   "source": "unmatched = matched[~matched['index'].isin(valid_matched['index'])].copy()",
   "id": "54009b0d9b3e92d2",
   "outputs": [],
   "execution_count": 66
  },
  {
   "metadata": {
    "ExecuteTime": {
     "end_time": "2025-03-07T13:25:30.219305Z",
     "start_time": "2025-03-07T13:25:30.196262Z"
    }
   },
   "cell_type": "code",
   "source": [
    "# Deduplicate matched data (keep most recent link)\n",
    "matched = matched.sort_values(['gvkey', 'fiscal_year', 'LINKDT'], ascending=[True, True, False])\n",
    "matched = matched.drop_duplicates(['gvkey', 'fiscal_year'], keep='first')"
   ],
   "id": "d6a4114e1cf6b8c1",
   "outputs": [],
   "execution_count": 28
  },
  {
   "metadata": {
    "ExecuteTime": {
     "end_time": "2025-03-07T14:05:05.180338Z",
     "start_time": "2025-03-07T14:05:05.134711Z"
    }
   },
   "cell_type": "code",
   "source": [
    "# Recombine matched and unmatched data\n",
    "final_merged = pd.concat([matched, unmatched], axis=0)\n",
    "\n",
    "# Deduplicate matched data (keep most recent link)\n",
    "final_merged = final_merged.sort_values(['gvkey', 'fiscal_year', 'LINKDT'], ascending=[True, True, False])\n",
    "final_merged = final_merged.drop_duplicates(['gvkey', 'fiscal_year'], keep='first')\n",
    "\n",
    "# Cleanup columns (optional)\n",
    "final_merged = final_merged.drop(columns=['LINKDT', 'LINKENDDT', 'fiscal_year_end', 'index'])"
   ],
   "id": "bd1f73e6f0990fd9",
   "outputs": [],
   "execution_count": 67
  },
  {
   "metadata": {
    "ExecuteTime": {
     "end_time": "2025-03-07T14:05:07.115019Z",
     "start_time": "2025-03-07T14:05:07.110902Z"
    }
   },
   "cell_type": "code",
   "source": "final_merged.shape",
   "id": "2dcb24587da6b6f2",
   "outputs": [
    {
     "data": {
      "text/plain": [
       "(12074, 178)"
      ]
     },
     "execution_count": 68,
     "metadata": {},
     "output_type": "execute_result"
    }
   ],
   "execution_count": 68
  },
  {
   "metadata": {
    "ExecuteTime": {
     "end_time": "2025-03-07T13:40:52.082926Z",
     "start_time": "2025-03-07T13:40:40.990560Z"
    }
   },
   "cell_type": "code",
   "source": [
    "file_name = 'erp_public_annual_240107'\n",
    "lee_df: DataFrame = pd.read_csv(\n",
    "        os.path.join(const.DATABASE_PATH, 'Cost of Capital', f'{file_name}.zip'))\n",
    "lee_df['yearmonth'] = pd.to_datetime(lee_df['yearmonth'], format='%Y%m')\n",
    "lee_df[const.YEAR] = lee_df['yearmonth'].dt.year\n",
    "\n",
    "lee_gvkey_df: DataFrame = lee_df.drop(['permno'], axis=1)\n",
    "\n",
    "lee_annual_df_gvkey = lee_gvkey_df.drop(['yearmonth'], axis=1).groupby([const.GVKEY, const.YEAR]).mean().reset_index(\n",
    "    drop=False)\n",
    "\n",
    "lee_permno_df: DataFrame = lee_df.drop(['gvkey'], axis=1)\n",
    "\n",
    "lee_annual_df_permno = lee_permno_df.drop(['yearmonth'], axis=1).groupby(['permno', const.YEAR]).mean().reset_index(\n",
    "    drop=False)"
   ],
   "id": "27d8975d6b4d4e3",
   "outputs": [],
   "execution_count": 44
  },
  {
   "metadata": {
    "ExecuteTime": {
     "end_time": "2025-03-07T13:44:32.906064Z",
     "start_time": "2025-03-07T13:44:32.894127Z"
    }
   },
   "cell_type": "code",
   "source": "lee_annual_df_gvkey.head()",
   "id": "4adac546e9ba9a95",
   "outputs": [
    {
     "data": {
      "text/plain": [
       "   gvkey  fiscal_year       CCC  ICCA  FIC       FBM  GLS_mech  OJM_mech  \\\n",
       "0   1000         1971  0.138569   NaN  NaN       NaN  0.135219  0.130235   \n",
       "1   1000         1972  0.012362   NaN  NaN  0.156587  0.093629  0.069000   \n",
       "2   1000         1973  0.178617   NaN  NaN  0.394692  0.145194  0.259831   \n",
       "3   1000         1974  0.254683   NaN  NaN -0.335743  0.164369  0.371771   \n",
       "4   1000         1975  0.274550   NaN  NaN  0.922904  0.181502  0.271667   \n",
       "\n",
       "   CAT_mech  PEG_mech  GLS_an  OJM_an  CAT_an  PEG_an       JLR       LPV  \\\n",
       "0  0.061702  0.227121     NaN     NaN     NaN     NaN       NaN       NaN   \n",
       "1 -0.286032  0.172853     NaN     NaN     NaN     NaN  0.163472  0.164458   \n",
       "2  0.179648  0.129796     NaN     NaN     NaN     NaN  0.159520  0.205446   \n",
       "3  0.330095  0.152499     NaN     NaN     NaN     NaN  0.143503  0.201762   \n",
       "4  0.372486  0.272544     NaN     NaN     NaN     NaN  0.146125  0.135327   \n",
       "\n",
       "        CER       FF6       QFM  \n",
       "0       NaN       NaN       NaN  \n",
       "1  0.160909  0.363578 -0.050405  \n",
       "2  0.182483  0.677393  0.111991  \n",
       "3  0.172632 -0.481930 -0.189555  \n",
       "4  0.140726  1.007678  0.838130  "
      ],
      "text/html": [
       "<div>\n",
       "<style scoped>\n",
       "    .dataframe tbody tr th:only-of-type {\n",
       "        vertical-align: middle;\n",
       "    }\n",
       "\n",
       "    .dataframe tbody tr th {\n",
       "        vertical-align: top;\n",
       "    }\n",
       "\n",
       "    .dataframe thead th {\n",
       "        text-align: right;\n",
       "    }\n",
       "</style>\n",
       "<table border=\"1\" class=\"dataframe\">\n",
       "  <thead>\n",
       "    <tr style=\"text-align: right;\">\n",
       "      <th></th>\n",
       "      <th>gvkey</th>\n",
       "      <th>fiscal_year</th>\n",
       "      <th>CCC</th>\n",
       "      <th>ICCA</th>\n",
       "      <th>FIC</th>\n",
       "      <th>FBM</th>\n",
       "      <th>GLS_mech</th>\n",
       "      <th>OJM_mech</th>\n",
       "      <th>CAT_mech</th>\n",
       "      <th>PEG_mech</th>\n",
       "      <th>GLS_an</th>\n",
       "      <th>OJM_an</th>\n",
       "      <th>CAT_an</th>\n",
       "      <th>PEG_an</th>\n",
       "      <th>JLR</th>\n",
       "      <th>LPV</th>\n",
       "      <th>CER</th>\n",
       "      <th>FF6</th>\n",
       "      <th>QFM</th>\n",
       "    </tr>\n",
       "  </thead>\n",
       "  <tbody>\n",
       "    <tr>\n",
       "      <th>0</th>\n",
       "      <td>1000</td>\n",
       "      <td>1971</td>\n",
       "      <td>0.138569</td>\n",
       "      <td>NaN</td>\n",
       "      <td>NaN</td>\n",
       "      <td>NaN</td>\n",
       "      <td>0.135219</td>\n",
       "      <td>0.130235</td>\n",
       "      <td>0.061702</td>\n",
       "      <td>0.227121</td>\n",
       "      <td>NaN</td>\n",
       "      <td>NaN</td>\n",
       "      <td>NaN</td>\n",
       "      <td>NaN</td>\n",
       "      <td>NaN</td>\n",
       "      <td>NaN</td>\n",
       "      <td>NaN</td>\n",
       "      <td>NaN</td>\n",
       "      <td>NaN</td>\n",
       "    </tr>\n",
       "    <tr>\n",
       "      <th>1</th>\n",
       "      <td>1000</td>\n",
       "      <td>1972</td>\n",
       "      <td>0.012362</td>\n",
       "      <td>NaN</td>\n",
       "      <td>NaN</td>\n",
       "      <td>0.156587</td>\n",
       "      <td>0.093629</td>\n",
       "      <td>0.069000</td>\n",
       "      <td>-0.286032</td>\n",
       "      <td>0.172853</td>\n",
       "      <td>NaN</td>\n",
       "      <td>NaN</td>\n",
       "      <td>NaN</td>\n",
       "      <td>NaN</td>\n",
       "      <td>0.163472</td>\n",
       "      <td>0.164458</td>\n",
       "      <td>0.160909</td>\n",
       "      <td>0.363578</td>\n",
       "      <td>-0.050405</td>\n",
       "    </tr>\n",
       "    <tr>\n",
       "      <th>2</th>\n",
       "      <td>1000</td>\n",
       "      <td>1973</td>\n",
       "      <td>0.178617</td>\n",
       "      <td>NaN</td>\n",
       "      <td>NaN</td>\n",
       "      <td>0.394692</td>\n",
       "      <td>0.145194</td>\n",
       "      <td>0.259831</td>\n",
       "      <td>0.179648</td>\n",
       "      <td>0.129796</td>\n",
       "      <td>NaN</td>\n",
       "      <td>NaN</td>\n",
       "      <td>NaN</td>\n",
       "      <td>NaN</td>\n",
       "      <td>0.159520</td>\n",
       "      <td>0.205446</td>\n",
       "      <td>0.182483</td>\n",
       "      <td>0.677393</td>\n",
       "      <td>0.111991</td>\n",
       "    </tr>\n",
       "    <tr>\n",
       "      <th>3</th>\n",
       "      <td>1000</td>\n",
       "      <td>1974</td>\n",
       "      <td>0.254683</td>\n",
       "      <td>NaN</td>\n",
       "      <td>NaN</td>\n",
       "      <td>-0.335743</td>\n",
       "      <td>0.164369</td>\n",
       "      <td>0.371771</td>\n",
       "      <td>0.330095</td>\n",
       "      <td>0.152499</td>\n",
       "      <td>NaN</td>\n",
       "      <td>NaN</td>\n",
       "      <td>NaN</td>\n",
       "      <td>NaN</td>\n",
       "      <td>0.143503</td>\n",
       "      <td>0.201762</td>\n",
       "      <td>0.172632</td>\n",
       "      <td>-0.481930</td>\n",
       "      <td>-0.189555</td>\n",
       "    </tr>\n",
       "    <tr>\n",
       "      <th>4</th>\n",
       "      <td>1000</td>\n",
       "      <td>1975</td>\n",
       "      <td>0.274550</td>\n",
       "      <td>NaN</td>\n",
       "      <td>NaN</td>\n",
       "      <td>0.922904</td>\n",
       "      <td>0.181502</td>\n",
       "      <td>0.271667</td>\n",
       "      <td>0.372486</td>\n",
       "      <td>0.272544</td>\n",
       "      <td>NaN</td>\n",
       "      <td>NaN</td>\n",
       "      <td>NaN</td>\n",
       "      <td>NaN</td>\n",
       "      <td>0.146125</td>\n",
       "      <td>0.135327</td>\n",
       "      <td>0.140726</td>\n",
       "      <td>1.007678</td>\n",
       "      <td>0.838130</td>\n",
       "    </tr>\n",
       "  </tbody>\n",
       "</table>\n",
       "</div>"
      ]
     },
     "execution_count": 46,
     "metadata": {},
     "output_type": "execute_result"
    }
   ],
   "execution_count": 46
  },
  {
   "metadata": {
    "ExecuteTime": {
     "end_time": "2025-03-07T14:07:58.226221Z",
     "start_time": "2025-03-07T14:07:58.014426Z"
    }
   },
   "cell_type": "code",
   "source": [
    "reg_df: DataFrame = final_merged.merge(lee_annual_df_gvkey, on=[const.GVKEY, const.YEAR], how='left').merge(\n",
    "    lee_annual_df_permno, left_on=['LPERMNO', const.YEAR], right_on=['permno', const.YEAR], how='left', suffixes=('', '_permno')).drop(\n",
    "    ['permno'], axis=1).merge(\n",
    "    lee_annual_df_permno, left_on=['LPERMCO', const.YEAR], right_on=['permno', const.YEAR], how='left', suffixes=('', '_permco')\n",
    ")"
   ],
   "id": "23b1180a484561f9",
   "outputs": [],
   "execution_count": 76
  },
  {
   "metadata": {
    "ExecuteTime": {
     "end_time": "2025-03-07T14:08:00.888397Z",
     "start_time": "2025-03-07T14:08:00.884407Z"
    }
   },
   "cell_type": "code",
   "source": "reg_df.shape",
   "id": "1b717a5b55907754",
   "outputs": [
    {
     "data": {
      "text/plain": [
       "(12074, 230)"
      ]
     },
     "execution_count": 77,
     "metadata": {},
     "output_type": "execute_result"
    }
   ],
   "execution_count": 77
  },
  {
   "metadata": {
    "ExecuteTime": {
     "end_time": "2025-03-07T14:08:15.695963Z",
     "start_time": "2025-03-07T14:08:15.667213Z"
    }
   },
   "cell_type": "code",
   "source": [
    "drop_keys = list()\n",
    "\n",
    "for key in lee_annual_df_gvkey.keys():\n",
    "    if key in {const.GVKEY, const.YEAR}:\n",
    "        continue\n",
    "\n",
    "    reg_df.loc[:, f'{key}'] = reg_df.loc[:, f'{key}'].fillna(reg_df.loc[:, f'{key}_permno']).fillna(\n",
    "        reg_df.loc[:, f'{key}_permco'])\n",
    "    drop_keys.append(f'{key}_permno')\n",
    "    drop_keys.append(f'{key}_permco')\n",
    "\n",
    "reg_df.drop(drop_keys, axis=1, inplace=True)"
   ],
   "id": "b94cb661364f8391",
   "outputs": [],
   "execution_count": 79
  },
  {
   "metadata": {
    "ExecuteTime": {
     "end_time": "2025-03-07T14:08:53.359797Z",
     "start_time": "2025-03-07T14:08:53.304434Z"
    }
   },
   "cell_type": "code",
   "source": "reg_df[[i for i in lee_annual_df_gvkey.keys() if i not in {const.GVKEY, const.YEAR}]].describe()",
   "id": "743732a974778238",
   "outputs": [
    {
     "data": {
      "text/plain": [
       "               CCC         ICCA          FIC           FBM     GLS_mech  \\\n",
       "count  8550.000000  6016.000000  1194.000000  11517.000000  8492.000000   \n",
       "mean      0.059158     0.104154     0.038322      4.172387     0.096837   \n",
       "std       0.113958     0.043104     0.076372    109.636933     0.069774   \n",
       "min      -0.301189     0.010139    -0.175428     -0.894024    -0.486484   \n",
       "25%      -0.009009     0.078564    -0.013902      0.178178     0.062833   \n",
       "50%       0.033337     0.094436     0.033459      0.414770     0.083015   \n",
       "75%       0.091487     0.117586     0.085393      0.888823     0.110150   \n",
       "max       0.867143     0.523528     0.329677   7989.308746     0.983913   \n",
       "\n",
       "          OJM_mech     CAT_mech     PEG_mech       GLS_an       OJM_an  \\\n",
       "count  7155.000000  8467.000000  8543.000000  6016.000000  5953.000000   \n",
       "mean      0.082764    -0.074231     0.130589     0.096918     0.128373   \n",
       "std       0.132642     0.197820     0.151203     0.034260     0.070667   \n",
       "min      -0.944422    -0.764966     0.000000    -0.085789    -0.030945   \n",
       "25%       0.031721    -0.191808     0.016581     0.076986     0.087738   \n",
       "50%       0.050049    -0.086795     0.086853     0.094095     0.108360   \n",
       "75%       0.076941     0.021548     0.178940     0.112365     0.147725   \n",
       "max       0.997000     0.990605     0.990756     0.534496     0.935309   \n",
       "\n",
       "            CAT_an       PEG_an           JLR           LPV           CER  \\\n",
       "count  6012.000000  6016.000000  11182.000000  10958.000000  11198.000000   \n",
       "mean      0.084776     0.110108      0.081406      0.115071      0.097533   \n",
       "std       0.046474     0.064241      0.051448      0.038292      0.043039   \n",
       "min      -0.011442     0.000000     -0.226653     -0.028575     -0.164294   \n",
       "25%       0.062009     0.075722      0.051308      0.092938      0.072758   \n",
       "50%       0.078039     0.096739      0.077922      0.110155      0.092738   \n",
       "75%       0.097221     0.129362      0.110229      0.131678      0.119286   \n",
       "max       0.673604     0.789173      0.285082      0.321112      0.303097   \n",
       "\n",
       "                FF6           QFM  \n",
       "count  11517.000000  11517.000000  \n",
       "mean       5.896023      2.448750  \n",
       "std      173.571609     58.567607  \n",
       "min       -0.904504     -0.883545  \n",
       "25%        0.174696      0.158006  \n",
       "50%        0.422477      0.391153  \n",
       "75%        0.946237      0.819179  \n",
       "max    11518.744239   4957.995528  "
      ],
      "text/html": [
       "<div>\n",
       "<style scoped>\n",
       "    .dataframe tbody tr th:only-of-type {\n",
       "        vertical-align: middle;\n",
       "    }\n",
       "\n",
       "    .dataframe tbody tr th {\n",
       "        vertical-align: top;\n",
       "    }\n",
       "\n",
       "    .dataframe thead th {\n",
       "        text-align: right;\n",
       "    }\n",
       "</style>\n",
       "<table border=\"1\" class=\"dataframe\">\n",
       "  <thead>\n",
       "    <tr style=\"text-align: right;\">\n",
       "      <th></th>\n",
       "      <th>CCC</th>\n",
       "      <th>ICCA</th>\n",
       "      <th>FIC</th>\n",
       "      <th>FBM</th>\n",
       "      <th>GLS_mech</th>\n",
       "      <th>OJM_mech</th>\n",
       "      <th>CAT_mech</th>\n",
       "      <th>PEG_mech</th>\n",
       "      <th>GLS_an</th>\n",
       "      <th>OJM_an</th>\n",
       "      <th>CAT_an</th>\n",
       "      <th>PEG_an</th>\n",
       "      <th>JLR</th>\n",
       "      <th>LPV</th>\n",
       "      <th>CER</th>\n",
       "      <th>FF6</th>\n",
       "      <th>QFM</th>\n",
       "    </tr>\n",
       "  </thead>\n",
       "  <tbody>\n",
       "    <tr>\n",
       "      <th>count</th>\n",
       "      <td>8550.000000</td>\n",
       "      <td>6016.000000</td>\n",
       "      <td>1194.000000</td>\n",
       "      <td>11517.000000</td>\n",
       "      <td>8492.000000</td>\n",
       "      <td>7155.000000</td>\n",
       "      <td>8467.000000</td>\n",
       "      <td>8543.000000</td>\n",
       "      <td>6016.000000</td>\n",
       "      <td>5953.000000</td>\n",
       "      <td>6012.000000</td>\n",
       "      <td>6016.000000</td>\n",
       "      <td>11182.000000</td>\n",
       "      <td>10958.000000</td>\n",
       "      <td>11198.000000</td>\n",
       "      <td>11517.000000</td>\n",
       "      <td>11517.000000</td>\n",
       "    </tr>\n",
       "    <tr>\n",
       "      <th>mean</th>\n",
       "      <td>0.059158</td>\n",
       "      <td>0.104154</td>\n",
       "      <td>0.038322</td>\n",
       "      <td>4.172387</td>\n",
       "      <td>0.096837</td>\n",
       "      <td>0.082764</td>\n",
       "      <td>-0.074231</td>\n",
       "      <td>0.130589</td>\n",
       "      <td>0.096918</td>\n",
       "      <td>0.128373</td>\n",
       "      <td>0.084776</td>\n",
       "      <td>0.110108</td>\n",
       "      <td>0.081406</td>\n",
       "      <td>0.115071</td>\n",
       "      <td>0.097533</td>\n",
       "      <td>5.896023</td>\n",
       "      <td>2.448750</td>\n",
       "    </tr>\n",
       "    <tr>\n",
       "      <th>std</th>\n",
       "      <td>0.113958</td>\n",
       "      <td>0.043104</td>\n",
       "      <td>0.076372</td>\n",
       "      <td>109.636933</td>\n",
       "      <td>0.069774</td>\n",
       "      <td>0.132642</td>\n",
       "      <td>0.197820</td>\n",
       "      <td>0.151203</td>\n",
       "      <td>0.034260</td>\n",
       "      <td>0.070667</td>\n",
       "      <td>0.046474</td>\n",
       "      <td>0.064241</td>\n",
       "      <td>0.051448</td>\n",
       "      <td>0.038292</td>\n",
       "      <td>0.043039</td>\n",
       "      <td>173.571609</td>\n",
       "      <td>58.567607</td>\n",
       "    </tr>\n",
       "    <tr>\n",
       "      <th>min</th>\n",
       "      <td>-0.301189</td>\n",
       "      <td>0.010139</td>\n",
       "      <td>-0.175428</td>\n",
       "      <td>-0.894024</td>\n",
       "      <td>-0.486484</td>\n",
       "      <td>-0.944422</td>\n",
       "      <td>-0.764966</td>\n",
       "      <td>0.000000</td>\n",
       "      <td>-0.085789</td>\n",
       "      <td>-0.030945</td>\n",
       "      <td>-0.011442</td>\n",
       "      <td>0.000000</td>\n",
       "      <td>-0.226653</td>\n",
       "      <td>-0.028575</td>\n",
       "      <td>-0.164294</td>\n",
       "      <td>-0.904504</td>\n",
       "      <td>-0.883545</td>\n",
       "    </tr>\n",
       "    <tr>\n",
       "      <th>25%</th>\n",
       "      <td>-0.009009</td>\n",
       "      <td>0.078564</td>\n",
       "      <td>-0.013902</td>\n",
       "      <td>0.178178</td>\n",
       "      <td>0.062833</td>\n",
       "      <td>0.031721</td>\n",
       "      <td>-0.191808</td>\n",
       "      <td>0.016581</td>\n",
       "      <td>0.076986</td>\n",
       "      <td>0.087738</td>\n",
       "      <td>0.062009</td>\n",
       "      <td>0.075722</td>\n",
       "      <td>0.051308</td>\n",
       "      <td>0.092938</td>\n",
       "      <td>0.072758</td>\n",
       "      <td>0.174696</td>\n",
       "      <td>0.158006</td>\n",
       "    </tr>\n",
       "    <tr>\n",
       "      <th>50%</th>\n",
       "      <td>0.033337</td>\n",
       "      <td>0.094436</td>\n",
       "      <td>0.033459</td>\n",
       "      <td>0.414770</td>\n",
       "      <td>0.083015</td>\n",
       "      <td>0.050049</td>\n",
       "      <td>-0.086795</td>\n",
       "      <td>0.086853</td>\n",
       "      <td>0.094095</td>\n",
       "      <td>0.108360</td>\n",
       "      <td>0.078039</td>\n",
       "      <td>0.096739</td>\n",
       "      <td>0.077922</td>\n",
       "      <td>0.110155</td>\n",
       "      <td>0.092738</td>\n",
       "      <td>0.422477</td>\n",
       "      <td>0.391153</td>\n",
       "    </tr>\n",
       "    <tr>\n",
       "      <th>75%</th>\n",
       "      <td>0.091487</td>\n",
       "      <td>0.117586</td>\n",
       "      <td>0.085393</td>\n",
       "      <td>0.888823</td>\n",
       "      <td>0.110150</td>\n",
       "      <td>0.076941</td>\n",
       "      <td>0.021548</td>\n",
       "      <td>0.178940</td>\n",
       "      <td>0.112365</td>\n",
       "      <td>0.147725</td>\n",
       "      <td>0.097221</td>\n",
       "      <td>0.129362</td>\n",
       "      <td>0.110229</td>\n",
       "      <td>0.131678</td>\n",
       "      <td>0.119286</td>\n",
       "      <td>0.946237</td>\n",
       "      <td>0.819179</td>\n",
       "    </tr>\n",
       "    <tr>\n",
       "      <th>max</th>\n",
       "      <td>0.867143</td>\n",
       "      <td>0.523528</td>\n",
       "      <td>0.329677</td>\n",
       "      <td>7989.308746</td>\n",
       "      <td>0.983913</td>\n",
       "      <td>0.997000</td>\n",
       "      <td>0.990605</td>\n",
       "      <td>0.990756</td>\n",
       "      <td>0.534496</td>\n",
       "      <td>0.935309</td>\n",
       "      <td>0.673604</td>\n",
       "      <td>0.789173</td>\n",
       "      <td>0.285082</td>\n",
       "      <td>0.321112</td>\n",
       "      <td>0.303097</td>\n",
       "      <td>11518.744239</td>\n",
       "      <td>4957.995528</td>\n",
       "    </tr>\n",
       "  </tbody>\n",
       "</table>\n",
       "</div>"
      ]
     },
     "execution_count": 80,
     "metadata": {},
     "output_type": "execute_result"
    }
   ],
   "execution_count": 80
  },
  {
   "metadata": {
    "ExecuteTime": {
     "end_time": "2025-03-07T14:10:58.404207Z",
     "start_time": "2025-03-07T14:10:58.119907Z"
    }
   },
   "cell_type": "code",
   "source": "reg_df.to_stata(os.path.join(const.RESULT_PATH, '20250307_stock_act_data_v2.dta'), write_index=False, version=119)",
   "id": "80ae9e94d74e2dca",
   "outputs": [],
   "execution_count": 82
  }
 ],
 "metadata": {
  "kernelspec": {
   "display_name": "Python 3",
   "language": "python",
   "name": "python3"
  },
  "language_info": {
   "codemirror_mode": {
    "name": "ipython",
    "version": 2
   },
   "file_extension": ".py",
   "mimetype": "text/x-python",
   "name": "python",
   "nbconvert_exporter": "python",
   "pygments_lexer": "ipython2",
   "version": "2.7.6"
  }
 },
 "nbformat": 4,
 "nbformat_minor": 5
}
