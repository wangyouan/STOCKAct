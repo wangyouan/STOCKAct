{
 "cells": [
  {
   "cell_type": "code",
   "execution_count": 3,
   "id": "initial_id",
   "metadata": {
    "ExecuteTime": {
     "end_time": "2024-11-01T02:58:25.262905Z",
     "start_time": "2024-11-01T02:58:24.403567Z"
    }
   },
   "outputs": [],
   "source": [
    "import pandas as pd\n",
    "import os\n",
    "import sys\n",
    "import numpy as np\n",
    "import statsmodels.formula.api as smf\n",
    "import matplotlib.pyplot as plt\n",
    "\n",
    "CODE_PATH = r'D:\\Users\\wangy\\PycharmProjects\\STOCKAct'\n",
    "if CODE_PATH not in sys.path:\n",
    "    sys.path.append(CODE_PATH)\n",
    "from Constants import Constants as const"
   ]
  },
  {
   "cell_type": "code",
   "execution_count": 4,
   "id": "9137160bf5bafe37",
   "metadata": {
    "ExecuteTime": {
     "end_time": "2024-11-01T03:01:27.837970Z",
     "start_time": "2024-11-01T03:01:27.685449Z"
    }
   },
   "outputs": [
    {
     "name": "stderr",
     "output_type": "stream",
     "text": [
      "C:\\Users\\wangy\\AppData\\Local\\Temp\\ipykernel_29528\\1037607530.py:3: UnicodeWarning: \n",
      "One or more strings in the dta file could not be decoded using utf-8, and\n",
      "so the fallback encoding of latin-1 is being used.  This can happen when a file\n",
      "has been incorrectly encoded by Stata or some other software. You should verify\n",
      "the string values returned are correct.\n",
      "  data = pd.read_stata(file_path).copy()\n"
     ]
    }
   ],
   "source": [
    "# Step 1: Load the data and create event time variable\n",
    "file_path = os.path.join(const.RESULT_PATH, '20250113_stock_act_data_v5.dta')\n",
    "data = pd.read_stata(file_path).copy()\n",
    "\n",
    "# Generate the event time variable\n",
    "data['time_event'] = data['fiscal_year'] - 2012\n",
    "\n",
    "# Step 2: Create dummies for each event time from -4 to +3\n",
    "for i in range(0, 4):\n",
    "    data.loc[:, f'event_{i}'] = (data['time_event'] == i).astype(int)\n",
    "    data.loc[:, f'event_b{i+1}'] = (data['time_event'] == -i - 1).astype(int)\n"
   ]
  },
  {
   "cell_type": "code",
   "execution_count": 5,
   "id": "e8306690c5d60dcc",
   "metadata": {
    "ExecuteTime": {
     "end_time": "2024-11-01T03:01:48.483311Z",
     "start_time": "2024-11-01T03:01:41.830732Z"
    }
   },
   "outputs": [],
   "source": [
    "# Step 3: Run the regression excluding the base year (event_-1)\n",
    "# Specify interaction terms with ':' and use C() for categorical variables\n",
    "interaction_terms = [f\"event_b{i} * fed_gov_dummy\" for i in [3, 2, 1]]\n",
    "interaction_terms.extend([f\"event_{i} * fed_gov_dummy\" for i in [0, 1, 2, 3]])\n",
    "\n",
    "# Define the formula correctly with interaction terms\n",
    "formula = \"log_frequency_w ~ \" + \" + \".join(interaction_terms) + \\\n",
    "    \" + log_market_value_w + lev_w + BM_w + ROA_w + LOSS + EarnVol_w + ret_w + turnover_w + StkVol_w + C(gvkey) + C(year)\"\n",
    "\n",
    "# Fit the model with clustered standard errors at the gvkey level\n",
    "reg_data = data\n",
    "model = smf.ols(formula, reg_data).fit(cov_type='cluster', cov_kwds={'groups': reg_data['gvkey']})\n",
    "\n",
    "# Extract coefficients for the event study\n",
    "coeff_names = [f'event_b{i}:fed_gov_dummy' for i in [3, 2, 1]]\n",
    "coeff_names.extend([f'event_{i}:fed_gov_dummy' for i in [0, 1, 2, 3]])\n",
    "coeffs = model.params[coeff_names]\n",
    "conf_int = model.conf_int(alpha=0.05).loc[coeff_names]"
   ]
  },
  {
   "cell_type": "code",
   "execution_count": 6,
   "id": "f8d7a57751c489f0",
   "metadata": {
    "ExecuteTime": {
     "end_time": "2024-11-01T03:01:48.499880Z",
     "start_time": "2024-11-01T03:01:48.495295Z"
    }
   },
   "outputs": [
    {
     "name": "stderr",
     "output_type": "stream",
     "text": [
      "C:\\Users\\wangy\\AppData\\Local\\Temp\\ipykernel_29528\\2125390330.py:12: SettingWithCopyWarning: \n",
      "A value is trying to be set on a copy of a slice from a DataFrame\n",
      "\n",
      "See the caveats in the documentation: https://pandas.pydata.org/pandas-docs/stable/user_guide/indexing.html#returning-a-view-versus-a-copy\n",
      "  conf_int1.loc[position] = {0: np.nan, 1: np.nan}\n"
     ]
    }
   ],
   "source": [
    "# insert one point to this position\n",
    "position = 3\n",
    "coeffs1 = coeffs.iloc[:position]\n",
    "coeffs2 = coeffs.iloc[position:]\n",
    "\n",
    "new_coeffs = pd.Series([np.nan], index=[position])\n",
    "\n",
    "coeffs = pd.concat([coeffs1, new_coeffs, coeffs2]).reset_index(drop=True)\n",
    "\n",
    "conf_int1 = conf_int.iloc[:position]\n",
    "conf_int2 = conf_int.iloc[position:]\n",
    "conf_int1.loc[position] = {0: np.nan, 1: np.nan}\n",
    "conf_int = pd.concat([conf_int1, conf_int2]).reset_index(drop=True)"
   ]
  },
  {
   "cell_type": "code",
   "execution_count": 7,
   "id": "be0bc98ef741a4c4",
   "metadata": {
    "ExecuteTime": {
     "end_time": "2024-10-09T03:02:34.285631Z",
     "start_time": "2024-10-09T03:02:34.097426Z"
    }
   },
   "outputs": [
    {
     "ename": "ValueError",
     "evalue": "'x' and 'y' must have the same size",
     "output_type": "error",
     "traceback": [
      "\u001b[1;31m---------------------------------------------------------------------------\u001b[0m",
      "\u001b[1;31mValueError\u001b[0m                                Traceback (most recent call last)",
      "Cell \u001b[1;32mIn[7], line 11\u001b[0m\n\u001b[0;32m      7\u001b[0m year_labels \u001b[38;5;241m=\u001b[39m { \u001b[38;5;241m-\u001b[39m\u001b[38;5;241m4\u001b[39m: \u001b[38;5;124m\"\u001b[39m\u001b[38;5;124m2008\u001b[39m\u001b[38;5;124m\"\u001b[39m, \u001b[38;5;241m-\u001b[39m\u001b[38;5;241m3\u001b[39m: \u001b[38;5;124m\"\u001b[39m\u001b[38;5;124m2009\u001b[39m\u001b[38;5;124m\"\u001b[39m, \u001b[38;5;241m-\u001b[39m\u001b[38;5;241m2\u001b[39m: \u001b[38;5;124m\"\u001b[39m\u001b[38;5;124m2010\u001b[39m\u001b[38;5;124m\"\u001b[39m, \u001b[38;5;241m-\u001b[39m\u001b[38;5;241m1\u001b[39m: \u001b[38;5;124m\"\u001b[39m\u001b[38;5;124m2011\u001b[39m\u001b[38;5;124m\"\u001b[39m, \n\u001b[0;32m      8\u001b[0m                  \u001b[38;5;241m0\u001b[39m: \u001b[38;5;124m\"\u001b[39m\u001b[38;5;124m2012\u001b[39m\u001b[38;5;124m\"\u001b[39m,  \u001b[38;5;241m1\u001b[39m: \u001b[38;5;124m\"\u001b[39m\u001b[38;5;124m2013\u001b[39m\u001b[38;5;124m\"\u001b[39m,  \u001b[38;5;241m2\u001b[39m: \u001b[38;5;124m\"\u001b[39m\u001b[38;5;124m2014\u001b[39m\u001b[38;5;124m\"\u001b[39m,  \u001b[38;5;241m3\u001b[39m: \u001b[38;5;124m\"\u001b[39m\u001b[38;5;124m2015\u001b[39m\u001b[38;5;124m\"\u001b[39m}\n\u001b[0;32m     10\u001b[0m plt\u001b[38;5;241m.\u001b[39mfigure(figsize\u001b[38;5;241m=\u001b[39m(\u001b[38;5;241m10\u001b[39m, \u001b[38;5;241m6\u001b[39m))\n\u001b[1;32m---> 11\u001b[0m plt\u001b[38;5;241m.\u001b[39merrorbar(x\u001b[38;5;241m=\u001b[39m\u001b[38;5;28mrange\u001b[39m(\u001b[38;5;241m-\u001b[39m\u001b[38;5;241m3\u001b[39m, \u001b[38;5;241m4\u001b[39m), y\u001b[38;5;241m=\u001b[39mcoeffs,\n\u001b[0;32m     12\u001b[0m              yerr\u001b[38;5;241m=\u001b[39m[coeffs \u001b[38;5;241m-\u001b[39m conf_int[\u001b[38;5;241m0\u001b[39m], conf_int[\u001b[38;5;241m1\u001b[39m] \u001b[38;5;241m-\u001b[39m coeffs], fmt\u001b[38;5;241m=\u001b[39m\u001b[38;5;124m'\u001b[39m\u001b[38;5;124mo\u001b[39m\u001b[38;5;124m'\u001b[39m, capsize\u001b[38;5;241m=\u001b[39m\u001b[38;5;241m5\u001b[39m)\n\u001b[0;32m     14\u001b[0m plt\u001b[38;5;241m.\u001b[39maxhline(\u001b[38;5;241m0\u001b[39m, color\u001b[38;5;241m=\u001b[39m\u001b[38;5;124m'\u001b[39m\u001b[38;5;124mgrey\u001b[39m\u001b[38;5;124m'\u001b[39m, linestyle\u001b[38;5;241m=\u001b[39m\u001b[38;5;124m'\u001b[39m\u001b[38;5;124m--\u001b[39m\u001b[38;5;124m'\u001b[39m)\n\u001b[0;32m     15\u001b[0m plt\u001b[38;5;241m.\u001b[39maxvline(\u001b[38;5;241m-\u001b[39m\u001b[38;5;241m1\u001b[39m, color\u001b[38;5;241m=\u001b[39m\u001b[38;5;124m'\u001b[39m\u001b[38;5;124mgrey\u001b[39m\u001b[38;5;124m'\u001b[39m, linestyle\u001b[38;5;241m=\u001b[39m\u001b[38;5;124m'\u001b[39m\u001b[38;5;124m--\u001b[39m\u001b[38;5;124m'\u001b[39m)\n",
      "File \u001b[1;32md:\\Users\\wangy\\anaconda3\\Lib\\site-packages\\matplotlib\\pyplot.py:3042\u001b[0m, in \u001b[0;36merrorbar\u001b[1;34m(x, y, yerr, xerr, fmt, ecolor, elinewidth, capsize, barsabove, lolims, uplims, xlolims, xuplims, errorevery, capthick, data, **kwargs)\u001b[0m\n\u001b[0;32m   3021\u001b[0m \u001b[38;5;129m@_copy_docstring_and_deprecators\u001b[39m(Axes\u001b[38;5;241m.\u001b[39merrorbar)\n\u001b[0;32m   3022\u001b[0m \u001b[38;5;28;01mdef\u001b[39;00m \u001b[38;5;21merrorbar\u001b[39m(\n\u001b[0;32m   3023\u001b[0m     x: \u001b[38;5;28mfloat\u001b[39m \u001b[38;5;241m|\u001b[39m ArrayLike,\n\u001b[1;32m   (...)\u001b[0m\n\u001b[0;32m   3040\u001b[0m     \u001b[38;5;241m*\u001b[39m\u001b[38;5;241m*\u001b[39mkwargs,\n\u001b[0;32m   3041\u001b[0m ) \u001b[38;5;241m-\u001b[39m\u001b[38;5;241m>\u001b[39m ErrorbarContainer:\n\u001b[1;32m-> 3042\u001b[0m     \u001b[38;5;28;01mreturn\u001b[39;00m gca()\u001b[38;5;241m.\u001b[39merrorbar(\n\u001b[0;32m   3043\u001b[0m         x,\n\u001b[0;32m   3044\u001b[0m         y,\n\u001b[0;32m   3045\u001b[0m         yerr\u001b[38;5;241m=\u001b[39myerr,\n\u001b[0;32m   3046\u001b[0m         xerr\u001b[38;5;241m=\u001b[39mxerr,\n\u001b[0;32m   3047\u001b[0m         fmt\u001b[38;5;241m=\u001b[39mfmt,\n\u001b[0;32m   3048\u001b[0m         ecolor\u001b[38;5;241m=\u001b[39mecolor,\n\u001b[0;32m   3049\u001b[0m         elinewidth\u001b[38;5;241m=\u001b[39melinewidth,\n\u001b[0;32m   3050\u001b[0m         capsize\u001b[38;5;241m=\u001b[39mcapsize,\n\u001b[0;32m   3051\u001b[0m         barsabove\u001b[38;5;241m=\u001b[39mbarsabove,\n\u001b[0;32m   3052\u001b[0m         lolims\u001b[38;5;241m=\u001b[39mlolims,\n\u001b[0;32m   3053\u001b[0m         uplims\u001b[38;5;241m=\u001b[39muplims,\n\u001b[0;32m   3054\u001b[0m         xlolims\u001b[38;5;241m=\u001b[39mxlolims,\n\u001b[0;32m   3055\u001b[0m         xuplims\u001b[38;5;241m=\u001b[39mxuplims,\n\u001b[0;32m   3056\u001b[0m         errorevery\u001b[38;5;241m=\u001b[39merrorevery,\n\u001b[0;32m   3057\u001b[0m         capthick\u001b[38;5;241m=\u001b[39mcapthick,\n\u001b[0;32m   3058\u001b[0m         \u001b[38;5;241m*\u001b[39m\u001b[38;5;241m*\u001b[39m({\u001b[38;5;124m\"\u001b[39m\u001b[38;5;124mdata\u001b[39m\u001b[38;5;124m\"\u001b[39m: data} \u001b[38;5;28;01mif\u001b[39;00m data \u001b[38;5;129;01mis\u001b[39;00m \u001b[38;5;129;01mnot\u001b[39;00m \u001b[38;5;28;01mNone\u001b[39;00m \u001b[38;5;28;01melse\u001b[39;00m {}),\n\u001b[0;32m   3059\u001b[0m         \u001b[38;5;241m*\u001b[39m\u001b[38;5;241m*\u001b[39mkwargs,\n\u001b[0;32m   3060\u001b[0m     )\n",
      "File \u001b[1;32md:\\Users\\wangy\\anaconda3\\Lib\\site-packages\\matplotlib\\__init__.py:1465\u001b[0m, in \u001b[0;36m_preprocess_data.<locals>.inner\u001b[1;34m(ax, data, *args, **kwargs)\u001b[0m\n\u001b[0;32m   1462\u001b[0m \u001b[38;5;129m@functools\u001b[39m\u001b[38;5;241m.\u001b[39mwraps(func)\n\u001b[0;32m   1463\u001b[0m \u001b[38;5;28;01mdef\u001b[39;00m \u001b[38;5;21minner\u001b[39m(ax, \u001b[38;5;241m*\u001b[39margs, data\u001b[38;5;241m=\u001b[39m\u001b[38;5;28;01mNone\u001b[39;00m, \u001b[38;5;241m*\u001b[39m\u001b[38;5;241m*\u001b[39mkwargs):\n\u001b[0;32m   1464\u001b[0m     \u001b[38;5;28;01mif\u001b[39;00m data \u001b[38;5;129;01mis\u001b[39;00m \u001b[38;5;28;01mNone\u001b[39;00m:\n\u001b[1;32m-> 1465\u001b[0m         \u001b[38;5;28;01mreturn\u001b[39;00m func(ax, \u001b[38;5;241m*\u001b[39m\u001b[38;5;28mmap\u001b[39m(sanitize_sequence, args), \u001b[38;5;241m*\u001b[39m\u001b[38;5;241m*\u001b[39mkwargs)\n\u001b[0;32m   1467\u001b[0m     bound \u001b[38;5;241m=\u001b[39m new_sig\u001b[38;5;241m.\u001b[39mbind(ax, \u001b[38;5;241m*\u001b[39margs, \u001b[38;5;241m*\u001b[39m\u001b[38;5;241m*\u001b[39mkwargs)\n\u001b[0;32m   1468\u001b[0m     auto_label \u001b[38;5;241m=\u001b[39m (bound\u001b[38;5;241m.\u001b[39marguments\u001b[38;5;241m.\u001b[39mget(label_namer)\n\u001b[0;32m   1469\u001b[0m                   \u001b[38;5;129;01mor\u001b[39;00m bound\u001b[38;5;241m.\u001b[39mkwargs\u001b[38;5;241m.\u001b[39mget(label_namer))\n",
      "File \u001b[1;32md:\\Users\\wangy\\anaconda3\\Lib\\site-packages\\matplotlib\\axes\\_axes.py:3572\u001b[0m, in \u001b[0;36mAxes.errorbar\u001b[1;34m(self, x, y, yerr, xerr, fmt, ecolor, elinewidth, capsize, barsabove, lolims, uplims, xlolims, xuplims, errorevery, capthick, **kwargs)\u001b[0m\n\u001b[0;32m   3570\u001b[0m x, y \u001b[38;5;241m=\u001b[39m np\u001b[38;5;241m.\u001b[39matleast_1d(x, y)  \u001b[38;5;66;03m# Make sure all the args are iterable.\u001b[39;00m\n\u001b[0;32m   3571\u001b[0m \u001b[38;5;28;01mif\u001b[39;00m \u001b[38;5;28mlen\u001b[39m(x) \u001b[38;5;241m!=\u001b[39m \u001b[38;5;28mlen\u001b[39m(y):\n\u001b[1;32m-> 3572\u001b[0m     \u001b[38;5;28;01mraise\u001b[39;00m \u001b[38;5;167;01mValueError\u001b[39;00m(\u001b[38;5;124m\"\u001b[39m\u001b[38;5;124m'\u001b[39m\u001b[38;5;124mx\u001b[39m\u001b[38;5;124m'\u001b[39m\u001b[38;5;124m and \u001b[39m\u001b[38;5;124m'\u001b[39m\u001b[38;5;124my\u001b[39m\u001b[38;5;124m'\u001b[39m\u001b[38;5;124m must have the same size\u001b[39m\u001b[38;5;124m\"\u001b[39m)\n\u001b[0;32m   3574\u001b[0m everymask \u001b[38;5;241m=\u001b[39m \u001b[38;5;28mself\u001b[39m\u001b[38;5;241m.\u001b[39m_errorevery_to_mask(x, errorevery)\n\u001b[0;32m   3576\u001b[0m label \u001b[38;5;241m=\u001b[39m kwargs\u001b[38;5;241m.\u001b[39mpop(\u001b[38;5;124m\"\u001b[39m\u001b[38;5;124mlabel\u001b[39m\u001b[38;5;124m\"\u001b[39m, \u001b[38;5;28;01mNone\u001b[39;00m)\n",
      "\u001b[1;31mValueError\u001b[0m: 'x' and 'y' must have the same size"
     ]
    },
    {
     "data": {
      "image/png": "[encoded data removed]",
      "text/plain": [
       "<Figure size 1000x600 with 1 Axes>"
      ]
     },
     "metadata": {},
     "output_type": "display_data"
    }
   ],
   "source": [
    "plt.show()\n",
    "pic_save_path = os.path.join(const.REGRESSION_RESULT_PATH, '20241101')\n",
    "if not os.path.isdir(pic_save_path):\n",
    "    os.mkdir(pic_save_path)\n",
    "\n",
    "# Step 4: Plot the parallel trends graph\n",
    "year_labels = { -4: \"2008\", -3: \"2009\", -2: \"2010\", -1: \"2011\", \n",
    "                 0: \"2012\",  1: \"2013\",  2: \"2014\",  3: \"2015\"}\n",
    "\n",
    "plt.figure(figsize=(10, 6))\n",
    "plt.errorbar(x=range(-3, 4), y=coeffs,\n",
    "             yerr=[coeffs - conf_int[0], conf_int[1] - coeffs], fmt='o', capsize=5)\n",
    "\n",
    "plt.axhline(0, color='grey', linestyle='--')\n",
    "plt.axvline(-1, color='grey', linestyle='--')\n",
    "plt.xlabel(\"Event Time\")\n",
    "plt.ylabel(\"Coefficient on Treatment Interaction\")\n",
    "plt.title(\"Parallel Trends Graph\")\n",
    "plt.xticks(ticks=range(-3, 4), labels=[year_labels[year] for year in [-3, -2, -1, 0, 1, 2, 3]])\n",
    "plt.savefig(os.path.join(pic_save_path, 'parallel_trends_graph.png'))\n",
    "plt.show()"
   ]
  },
  {
   "cell_type": "code",
   "execution_count": 24,
   "id": "723759a3dc8008a",
   "metadata": {
    "ExecuteTime": {
     "end_time": "2024-09-16T02:12:55.165703Z",
     "start_time": "2024-09-16T02:12:51.013064Z"
    }
   },
   "outputs": [],
   "source": [
    "# Step 3: Run the regression excluding the base year (event_-1)\n",
    "# Specify interaction terms with ':' and use C() for categorical variables\n",
    "interaction_terms = [f\"event_b{i} * MajorGovCustomer\" for i in [3, 2, 1]]\n",
    "interaction_terms.extend([f\"event_{i} * MajorGovCustomer\" for i in [0, 1, 2, 3]])\n",
    "\n",
    "# Define the formula correctly with interaction terms\n",
    "formula = \"log_frequency_w ~ \" + \" + \".join(interaction_terms) + \\\n",
    "    \" + log_market_value_w + lev_w + BM_w + ROA_w + LOSS + EarnVol_w + ret_w + turnover_w + StkVol_w + C(gvkey) + C(year)\"\n",
    "\n",
    "# Fit the model with clustered standard errors at the gvkey level\n",
    "model = smf.ols(formula, data).fit(cov_type='cluster', cov_kwds={'groups': data['gvkey']})\n",
    "\n",
    "# Extract coefficients for the event study\n",
    "coeff_names = [f'event_b{i}:MajorGovCustomer' for i in [3, 2, 1]]\n",
    "coeff_names.extend([f'event_{i}:MajorGovCustomer' for i in [0, 1, 2, 3]])\n",
    "coeffs = model.params[coeff_names]\n",
    "conf_int = model.conf_int().loc[coeff_names]"
   ]
  },
  {
   "cell_type": "code",
   "execution_count": 28,
   "id": "e74283d495b0a2e4",
   "metadata": {
    "ExecuteTime": {
     "end_time": "2024-09-16T02:24:30.290009Z",
     "start_time": "2024-09-16T02:24:30.168980Z"
    }
   },
   "outputs": [
    {
     "data": {
      "image/png": "[encoded data removed]",
      "text/plain": [
       "<Figure size 1000x600 with 1 Axes>"
      ]
     },
     "metadata": {},
     "output_type": "display_data"
    }
   ],
   "source": [
    "# Step 4: Plot the parallel trends graph\n",
    "year_labels = { -4: \"2008\", -3: \"2009\", -2: \"2010\", -1: \"2011\", \n",
    "                 0: \"2012\",  1: \"2013\",  2: \"2014\",  3: \"2015\"}\n",
    "\n",
    "plt.figure(figsize=(10, 6))\n",
    "plt.errorbar(x=range(-3, 4), y=coeffs, \n",
    "             yerr=[coeffs - conf_int[0], conf_int[1] - coeffs], fmt='o', capsize=5)\n",
    "\n",
    "plt.axhline(0, color='grey', linestyle='--')\n",
    "plt.axvline(-1, color='grey', linestyle='--')\n",
    "plt.xlabel(\"Event Time\")\n",
    "plt.ylabel(\"Coefficient on Treatment Interaction\")\n",
    "# plt.title(\"Parallel Trends Graph\")\n",
    "plt.xticks(ticks=range(-3, 4), labels=[year_labels[year] for year in [-3, -2, -1, 0, 1, 2, 3]])\n",
    "pic_save_path = r\"D:\\Users\\wangy\\Documents\\temp\\parallel_trending\"\n",
    "if not os.path.isdir(pic_save_path):\n",
    "    os.mkdir(pic_save_path)\n",
    "    \n",
    "plt.savefig(os.path.join(pic_save_path, 'parallel_trends_graph.png')) \n",
    "plt.show()"
   ]
  },
  {
   "cell_type": "code",
   "execution_count": null,
   "id": "d454f2ce39d7f5ce",
   "metadata": {},
   "outputs": [],
   "source": [
    "pic_save_path = r\"D:\\Users\\wangy\\Documents\\temp\\parallel_trending\"\n",
    "if not os.path.isdir(pic_save_path):\n",
    "    os.mkdir(pic_save_path)\n",
    "    \n",
    "plt.savefig(os.path.join(pic_save_path, 'parallel_trends_graph.png'))  # Save as PNG, can also use .pdf, .svg, etc.\n"
   ]
  },
  {
   "cell_type": "code",
   "execution_count": 7,
   "id": "a9f97bfed71d62c5",
   "metadata": {
    "ExecuteTime": {
     "end_time": "2024-10-13T22:24:56.756423Z",
     "start_time": "2024-10-13T22:24:45.813912Z"
    }
   },
   "outputs": [
    {
     "name": "stderr",
     "output_type": "stream",
     "text": [
      "C:\\Users\\wangy\\AppData\\Local\\Temp\\ipykernel_26748\\3005885289.py:47: SettingWithCopyWarning: \n",
      "A value is trying to be set on a copy of a slice from a DataFrame\n",
      "\n",
      "See the caveats in the documentation: https://pandas.pydata.org/pandas-docs/stable/user_guide/indexing.html#returning-a-view-versus-a-copy\n",
      "  conf_int1.loc['event_b1:MajorGovCustomer'] = {0: np.nan, 1: np.nan}\n",
      "C:\\Users\\wangy\\AppData\\Local\\Temp\\ipykernel_26748\\3005885289.py:47: SettingWithCopyWarning: \n",
      "A value is trying to be set on a copy of a slice from a DataFrame\n",
      "\n",
      "See the caveats in the documentation: https://pandas.pydata.org/pandas-docs/stable/user_guide/indexing.html#returning-a-view-versus-a-copy\n",
      "  conf_int1.loc['event_b1:MajorGovCustomer'] = {0: np.nan, 1: np.nan}\n",
      "C:\\Users\\wangy\\AppData\\Local\\Temp\\ipykernel_26748\\3005885289.py:47: SettingWithCopyWarning: \n",
      "A value is trying to be set on a copy of a slice from a DataFrame\n",
      "\n",
      "See the caveats in the documentation: https://pandas.pydata.org/pandas-docs/stable/user_guide/indexing.html#returning-a-view-versus-a-copy\n",
      "  conf_int1.loc['event_b1:MajorGovCustomer'] = {0: np.nan, 1: np.nan}\n",
      "C:\\Users\\wangy\\AppData\\Local\\Temp\\ipykernel_26748\\3005885289.py:47: SettingWithCopyWarning: \n",
      "A value is trying to be set on a copy of a slice from a DataFrame\n",
      "\n",
      "See the caveats in the documentation: https://pandas.pydata.org/pandas-docs/stable/user_guide/indexing.html#returning-a-view-versus-a-copy\n",
      "  conf_int1.loc['event_b1:MajorGovCustomer'] = {0: np.nan, 1: np.nan}\n",
      "C:\\Users\\wangy\\AppData\\Local\\Temp\\ipykernel_26748\\3005885289.py:47: SettingWithCopyWarning: \n",
      "A value is trying to be set on a copy of a slice from a DataFrame\n",
      "\n",
      "See the caveats in the documentation: https://pandas.pydata.org/pandas-docs/stable/user_guide/indexing.html#returning-a-view-versus-a-copy\n",
      "  conf_int1.loc['event_b1:MajorGovCustomer'] = {0: np.nan, 1: np.nan}\n",
      "C:\\Users\\wangy\\AppData\\Local\\Temp\\ipykernel_26748\\3005885289.py:47: SettingWithCopyWarning: \n",
      "A value is trying to be set on a copy of a slice from a DataFrame\n",
      "\n",
      "See the caveats in the documentation: https://pandas.pydata.org/pandas-docs/stable/user_guide/indexing.html#returning-a-view-versus-a-copy\n",
      "  conf_int1.loc['event_b1:MajorGovCustomer'] = {0: np.nan, 1: np.nan}\n",
      "C:\\Users\\wangy\\AppData\\Local\\Temp\\ipykernel_26748\\3005885289.py:47: SettingWithCopyWarning: \n",
      "A value is trying to be set on a copy of a slice from a DataFrame\n",
      "\n",
      "See the caveats in the documentation: https://pandas.pydata.org/pandas-docs/stable/user_guide/indexing.html#returning-a-view-versus-a-copy\n",
      "  conf_int1.loc['event_b1:MajorGovCustomer'] = {0: np.nan, 1: np.nan}\n",
      "C:\\Users\\wangy\\AppData\\Local\\Temp\\ipykernel_26748\\3005885289.py:47: SettingWithCopyWarning: \n",
      "A value is trying to be set on a copy of a slice from a DataFrame\n",
      "\n",
      "See the caveats in the documentation: https://pandas.pydata.org/pandas-docs/stable/user_guide/indexing.html#returning-a-view-versus-a-copy\n",
      "  conf_int1.loc['event_b1:MajorGovCustomer'] = {0: np.nan, 1: np.nan}\n"
     ]
    }
   ],
   "source": [
    "# Try the combinations of control variables to get the best regression results.\n",
    "\n",
    "dep_vars = 'cpie_gpin cpie_owr SYNCHRONICITY_MONTH SYNCHRONICITY_MKT_MONTH SYNCHRONICITY_IND_MONTH numest_last FCSTERROR_last DISPERSION_last'.split(' ')\n",
    "\n",
    "control_vars = ['log_market_value_w', 'lev_w', 'BM_w', 'ROA_w', 'LOSS', 'EarnVol_w', 'ret_w', 'turnover_w', 'StkVol_w']\n",
    "\n",
    "pic_save_path = os.path.join(const.REGRESSION_RESULT_PATH, '20241012')\n",
    "\n",
    "\n",
    "# Iterate over all possible lengths of combinations (1 to len(variables))\n",
    "for dep in dep_vars:\n",
    "    tmp_data = data.dropna(subset=[dep])\n",
    "        \n",
    "    # Step 3: Run the regression excluding the base year (event_-1)\n",
    "    # Specify interaction terms with ':' and use C() for categorical variables\n",
    "    interaction_terms = [f\"event_b{i} * MajorGovCustomer\" for i in [3, 2]]\n",
    "    interaction_terms.extend([f\"event_{i} * MajorGovCustomer\" for i in [0, 1, 2, 3]])\n",
    "    \n",
    "    if dep == 'DISPERSION_last':\n",
    "        control_vars.append('numest_last')\n",
    "        \n",
    "    # Define the formula correctly with interaction terms\n",
    "    formula = f\"{dep} ~ \" + \" + \".join(interaction_terms) + \" + \" + \\\n",
    "        \" + \".join(control_vars) + \" + C(gvkey) + C(year)\"\n",
    "    # formula = f\"{dep} ~ \" + \" + \".join(interaction_terms) + \" + C(gvkey) + C(year)\"\n",
    "    \n",
    "    # Fit the model with clustered standard errors at the gvkey level\n",
    "    model = smf.ols(formula, tmp_data).fit(cov_type='cluster', cov_kwds={'groups': tmp_data['gvkey']})\n",
    "    \n",
    "    # Extract coefficients for the event study\n",
    "    coeff_names = [f'event_b{i}:MajorGovCustomer' for i in [3, 2]]\n",
    "    coeff_names.extend([f'event_{i}:MajorGovCustomer' for i in [0, 1, 2, 3]])\n",
    "    coeffs = model.params[coeff_names]\n",
    "    conf_int = model.conf_int(alpha=0.1).loc[coeff_names]\n",
    "    \n",
    "    # insert one point to this position\n",
    "    position = 2\n",
    "    coeffs1 = coeffs.iloc[:position]\n",
    "    coeffs2 = coeffs.iloc[position:]\n",
    "    \n",
    "    new_coeffs = pd.Series([np.nan], index=[position])\n",
    "    \n",
    "    coeffs = pd.concat([coeffs1, new_coeffs, coeffs2]).reset_index(drop=True)\n",
    "    \n",
    "    conf_int1 = conf_int.iloc[:position]\n",
    "    conf_int2 = conf_int.iloc[position:]\n",
    "    conf_int1.loc['event_b1:MajorGovCustomer'] = {0: np.nan, 1: np.nan}\n",
    "    conf_int = pd.concat([conf_int1, conf_int2]).reset_index(drop=True)\n",
    "    \n",
    "    # Step 4: Plot the parallel trends graph\n",
    "    year_labels = { -4: \"2008\", -3: \"2009\", -2: \"2010\", -1: \"2011\", \n",
    "                     0: \"2012\",  1: \"2013\",  2: \"2014\",  3: \"2015\"}\n",
    "    \n",
    "    plt.figure(figsize=(10, 6))\n",
    "    plt.errorbar(x=range(-3, 4), y=coeffs, \n",
    "                 yerr=[coeffs - conf_int[0], conf_int[1] - coeffs], fmt='o', capsize=5)\n",
    "    \n",
    "    plt.axhline(0, color='grey', linestyle='--')\n",
    "    plt.axvline(-1, color='grey', linestyle='--')\n",
    "    plt.xlabel(\"Event Time\")\n",
    "    plt.ylabel(\"Coefficient on Treatment Interaction\")\n",
    "    # plt.title(dep)\n",
    "    plt.xticks(ticks=range(-3, 4), labels=[year_labels[year] for year in [-3, -2, -1, 0, 1, 2, 3]])\n",
    "    \n",
    "    # Save the plot to a file\n",
    "    plt.savefig(os.path.join(pic_save_path, 'parallel_trends_graph_{}.png'.format(dep)))  # Save as PNG, can also use .pdf, .svg, etc.\n",
    "    # Do not show the plot\n",
    "    plt.close()"
   ]
  }
 ],
 "metadata": {
  "kernelspec": {
   "display_name": "base",
   "language": "python",
   "name": "python3"
  },
  "language_info": {
   "codemirror_mode": {
    "name": "ipython",
    "version": 3
   },
   "file_extension": ".py",
   "mimetype": "text/x-python",
   "name": "python",
   "nbconvert_exporter": "python",
   "pygments_lexer": "ipython3",
   "version": "3.11.5"
  }
 },
 "nbformat": 4,
 "nbformat_minor": 5
}
