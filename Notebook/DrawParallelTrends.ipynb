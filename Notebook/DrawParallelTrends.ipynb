{
 "cells": [
  {
   "cell_type": "code",
   "id": "initial_id",
   "metadata": {
    "collapsed": true,
    "ExecuteTime": {
     "end_time": "2024-10-09T02:58:44.513025Z",
     "start_time": "2024-10-09T02:58:42.633029Z"
    }
   },
   "source": [
    "import pandas as pd\n",
    "import os\n",
    "import numpy as np\n",
    "import statsmodels.formula.api as smf\n",
    "import matplotlib.pyplot as plt\n",
    "\n",
    "from Constants import Constants as const"
   ],
   "outputs": [],
   "execution_count": 1
  },
  {
   "metadata": {
    "ExecuteTime": {
     "end_time": "2024-10-09T03:00:29.280527Z",
     "start_time": "2024-10-09T03:00:29.074620Z"
    }
   },
   "cell_type": "code",
   "source": [
    "# Step 1: Load the data and create event time variable\n",
    "file_path = r\"D:\\Onedrive\\Temp\\Projects\\STOCKAct\\regression_data\\20240918_stock_act_reg_data.dta\"\n",
    "data = pd.read_stata(file_path).copy()\n",
    "\n",
    "# Generate the event time variable\n",
    "data['time_event'] = data['fiscal_year'] - 2012\n",
    "\n",
    "# Step 2: Create dummies for each event time from -4 to +3\n",
    "for i in range(0, 4):\n",
    "    data.loc[:, f'event_{i}'] = (data['time_event'] == i).astype(int)\n",
    "    data.loc[:, f'event_b{i+1}'] = (data['time_event'] == -i - 1).astype(int)\n"
   ],
   "id": "9137160bf5bafe37",
   "outputs": [],
   "execution_count": 2
  },
  {
   "metadata": {
    "ExecuteTime": {
     "end_time": "2024-10-09T03:02:21.196038Z",
     "start_time": "2024-10-09T03:02:17.416670Z"
    }
   },
   "cell_type": "code",
   "source": [
    "# Step 3: Run the regression excluding the base year (event_-1)\n",
    "# Specify interaction terms with ':' and use C() for categorical variables\n",
    "interaction_terms = [f\"event_b{i} * MajorGovCustomer\" for i in [3, 2]]\n",
    "interaction_terms.extend([f\"event_{i} * MajorGovCustomer\" for i in [0, 1, 2, 3]])\n",
    "\n",
    "# Define the formula correctly with interaction terms\n",
    "formula = \"log_frequency_w ~ \" + \" + \".join(interaction_terms) + \\\n",
    "    \" + log_market_value_w + lev_w + BM_w + ROA_w + LOSS + EarnVol_w + ret_w + turnover_w + StkVol_w + C(gvkey) + C(year)\"\n",
    "\n",
    "# Fit the model with clustered standard errors at the gvkey level\n",
    "reg_data = data\n",
    "model = smf.ols(formula, reg_data).fit(cov_type='cluster', cov_kwds={'groups': reg_data['gvkey']})\n",
    "\n",
    "# Extract coefficients for the event study\n",
    "coeff_names = [f'event_b{i}:MajorGovCustomer' for i in [3, 2]]\n",
    "coeff_names.extend([f'event_{i}:MajorGovCustomer' for i in [0, 1, 2, 3]])\n",
    "coeffs = model.params[coeff_names]\n",
    "conf_int = model.conf_int(alpha=0.1).loc[coeff_names]"
   ],
   "id": "e8306690c5d60dcc",
   "outputs": [],
   "execution_count": 5
  },
  {
   "metadata": {
    "ExecuteTime": {
     "end_time": "2024-10-09T03:02:21.212046Z",
     "start_time": "2024-10-09T03:02:21.205688Z"
    }
   },
   "cell_type": "code",
   "source": [
    "# insert one point to this position\n",
    "position = 2\n",
    "coeffs1 = coeffs.iloc[:position]\n",
    "coeffs2 = coeffs.iloc[position:]\n",
    "\n",
    "new_coeffs = pd.Series([np.nan], index=[position])\n",
    "\n",
    "coeffs = pd.concat([coeffs1, new_coeffs, coeffs2]).reset_index(drop=True)\n",
    "\n",
    "conf_int1 = conf_int.iloc[:position]\n",
    "conf_int2 = conf_int.iloc[position:]\n",
    "conf_int1.loc[position] = {0: np.nan, 1: np.nan}\n",
    "conf_int = pd.concat([conf_int1, conf_int2]).reset_index(drop=True)"
   ],
   "id": "f8d7a57751c489f0",
   "outputs": [
    {
     "name": "stderr",
     "output_type": "stream",
     "text": [
      "C:\\Users\\wangy\\AppData\\Local\\Temp\\ipykernel_13448\\3235285938.py:12: SettingWithCopyWarning: \n",
      "A value is trying to be set on a copy of a slice from a DataFrame\n",
      "\n",
      "See the caveats in the documentation: https://pandas.pydata.org/pandas-docs/stable/user_guide/indexing.html#returning-a-view-versus-a-copy\n",
      "  conf_int1.loc[position] = {0: np.nan, 1: np.nan}\n"
     ]
    }
   ],
   "execution_count": 6
  },
  {
   "metadata": {
    "ExecuteTime": {
     "end_time": "2024-10-09T03:02:34.285631Z",
     "start_time": "2024-10-09T03:02:34.097426Z"
    }
   },
   "cell_type": "code",
   "source": [
    "plt.show()\n",
    "pic_save_path = r\"D:\\Onedrive\\Temp\\Projects\\STOCKAct\\regression_results\\20241009\"\n",
    "if not os.path.isdir(pic_save_path):\n",
    "    os.mkdir(pic_save_path)\n",
    "\n",
    "plt.savefig(os.path.join(pic_save_path, 'parallel_trends_graph.png'))\n",
    "\n",
    "# Step 4: Plot the parallel trends graph\n",
    "year_labels = { -4: \"2008\", -3: \"2009\", -2: \"2010\", -1: \"2011\", \n",
    "                 0: \"2012\",  1: \"2013\",  2: \"2014\",  3: \"2015\"}\n",
    "\n",
    "plt.figure(figsize=(10, 6))\n",
    "plt.errorbar(x=range(-3, 4), y=coeffs, \n",
    "             yerr=[coeffs - conf_int[0], conf_int[1] - coeffs], fmt='o', capsize=5)\n",
    "\n",
    "plt.axhline(0, color='grey', linestyle='--')\n",
    "plt.axvline(-1, color='grey', linestyle='--')\n",
    "plt.xlabel(\"Event Time\")\n",
    "plt.ylabel(\"Coefficient on Treatment Interaction\")\n",
    "plt.title(\"Parallel Trends Graph\")\n",
    "plt.xticks(ticks=range(-3, 4), labels=[year_labels[year] for year in [-3, -2, -1, 0, 1, 2, 3]])\n",
    "plt.savefig(os.path.join(pic_save_path, 'parallel_trends_graph.png'))\n",
    "plt.show()"
   ],
   "id": "be0bc98ef741a4c4",
   "outputs": [
    {
     "data": {
      "text/plain": [
       "<Figure size 640x480 with 0 Axes>"
      ]
     },
     "metadata": {},
     "output_type": "display_data"
    },
    {
     "data": {
      "text/plain": [
       "<Figure size 1000x600 with 1 Axes>"
      ],
      "image/png": "[encoded data removed]"
     },
     "metadata": {},
     "output_type": "display_data"
    }
   ],
   "execution_count": 7
  },
  {
   "metadata": {
    "ExecuteTime": {
     "end_time": "2024-09-16T02:12:55.165703Z",
     "start_time": "2024-09-16T02:12:51.013064Z"
    }
   },
   "cell_type": "code",
   "source": [
    "# Step 3: Run the regression excluding the base year (event_-1)\n",
    "# Specify interaction terms with ':' and use C() for categorical variables\n",
    "interaction_terms = [f\"event_b{i} * MajorGovCustomer\" for i in [3, 2, 1]]\n",
    "interaction_terms.extend([f\"event_{i} * MajorGovCustomer\" for i in [0, 1, 2, 3]])\n",
    "\n",
    "# Define the formula correctly with interaction terms\n",
    "formula = \"log_frequency_w ~ \" + \" + \".join(interaction_terms) + \\\n",
    "    \" + log_market_value_w + lev_w + BM_w + ROA_w + LOSS + EarnVol_w + ret_w + turnover_w + StkVol_w + C(gvkey) + C(year)\"\n",
    "\n",
    "# Fit the model with clustered standard errors at the gvkey level\n",
    "model = smf.ols(formula, data).fit(cov_type='cluster', cov_kwds={'groups': data['gvkey']})\n",
    "\n",
    "# Extract coefficients for the event study\n",
    "coeff_names = [f'event_b{i}:MajorGovCustomer' for i in [3, 2, 1]]\n",
    "coeff_names.extend([f'event_{i}:MajorGovCustomer' for i in [0, 1, 2, 3]])\n",
    "coeffs = model.params[coeff_names]\n",
    "conf_int = model.conf_int().loc[coeff_names]"
   ],
   "id": "723759a3dc8008a",
   "outputs": [],
   "execution_count": 24
  },
  {
   "metadata": {
    "ExecuteTime": {
     "end_time": "2024-09-16T02:24:30.290009Z",
     "start_time": "2024-09-16T02:24:30.168980Z"
    }
   },
   "cell_type": "code",
   "source": [
    "# Step 4: Plot the parallel trends graph\n",
    "year_labels = { -4: \"2008\", -3: \"2009\", -2: \"2010\", -1: \"2011\", \n",
    "                 0: \"2012\",  1: \"2013\",  2: \"2014\",  3: \"2015\"}\n",
    "\n",
    "plt.figure(figsize=(10, 6))\n",
    "plt.errorbar(x=range(-3, 4), y=coeffs, \n",
    "             yerr=[coeffs - conf_int[0], conf_int[1] - coeffs], fmt='o', capsize=5)\n",
    "\n",
    "plt.axhline(0, color='grey', linestyle='--')\n",
    "plt.axvline(-1, color='grey', linestyle='--')\n",
    "plt.xlabel(\"Event Time\")\n",
    "plt.ylabel(\"Coefficient on Treatment Interaction\")\n",
    "# plt.title(\"Parallel Trends Graph\")\n",
    "plt.xticks(ticks=range(-3, 4), labels=[year_labels[year] for year in [-3, -2, -1, 0, 1, 2, 3]])\n",
    "pic_save_path = r\"D:\\Users\\wangy\\Documents\\temp\\parallel_trending\"\n",
    "if not os.path.isdir(pic_save_path):\n",
    "    os.mkdir(pic_save_path)\n",
    "    \n",
    "plt.savefig(os.path.join(pic_save_path, 'parallel_trends_graph.png')) \n",
    "plt.show()"
   ],
   "id": "e74283d495b0a2e4",
   "outputs": [
    {
     "data": {
      "text/plain": [
       "<Figure size 1000x600 with 1 Axes>"
      ],
      "image/png": "[encoded data removed]"
     },
     "metadata": {},
     "output_type": "display_data"
    }
   ],
   "execution_count": 28
  },
  {
   "metadata": {},
   "cell_type": "code",
   "outputs": [],
   "execution_count": null,
   "source": [
    "pic_save_path = r\"D:\\Users\\wangy\\Documents\\temp\\parallel_trending\"\n",
    "if not os.path.isdir(pic_save_path):\n",
    "    os.mkdir(pic_save_path)\n",
    "    \n",
    "plt.savefig(os.path.join(pic_save_path, 'parallel_trends_graph.png'))  # Save as PNG, can also use .pdf, .svg, etc.\n"
   ],
   "id": "d454f2ce39d7f5ce"
  },
  {
   "metadata": {
    "ExecuteTime": {
     "end_time": "2024-10-06T06:52:12.495685Z",
     "start_time": "2024-10-06T06:51:51.593694Z"
    }
   },
   "cell_type": "code",
   "source": [
    "# Try the combinations of control variables to get the best regression results.\n",
    "\n",
    "dep_vars = ['log_frequency_ann_w', 'log_frequency_qtr_w', 'log_frequency_eps_w', 'log_frequency_noneps_w', 'log_frequency_day_w']\n",
    "\n",
    "control_vars = ['log_market_value_w', 'lev_w', 'BM_w', 'ROA_w', 'LOSS', 'EarnVol_w', 'ret_w', 'turnover_w', 'StkVol_w']\n",
    "\n",
    "pic_save_path = os.path.join(const.REGRESSION_RESULT_PATH, '20241006')\n",
    "\n",
    "\n",
    "# Iterate over all possible lengths of combinations (1 to len(variables))\n",
    "for dep in dep_vars:\n",
    "        \n",
    "    # Step 3: Run the regression excluding the base year (event_-1)\n",
    "    # Specify interaction terms with ':' and use C() for categorical variables\n",
    "    interaction_terms = [f\"event_b{i} * MajorGovCustomer\" for i in [3, 2]]\n",
    "    interaction_terms.extend([f\"event_{i} * MajorGovCustomer\" for i in [0, 1, 2, 3]])\n",
    "    \n",
    "    # Define the formula correctly with interaction terms\n",
    "    formula = f\"{dep} ~ \" + \" + \".join(interaction_terms) + \" + \" + \\\n",
    "        \" + \".join(control_vars) + \" + C(gvkey) + C(year)\"\n",
    "    \n",
    "    # Fit the model with clustered standard errors at the gvkey level\n",
    "    model = smf.ols(formula, data).fit(cov_type='cluster', cov_kwds={'groups': data['gvkey']})\n",
    "    \n",
    "    # Extract coefficients for the event study\n",
    "    coeff_names = [f'event_b{i}:MajorGovCustomer' for i in [3, 2]]\n",
    "    coeff_names.extend([f'event_{i}:MajorGovCustomer' for i in [0, 1, 2, 3]])\n",
    "    coeffs = model.params[coeff_names]\n",
    "    conf_int = model.conf_int(alpha=0.1).loc[coeff_names]\n",
    "    \n",
    "    # insert one point to this position\n",
    "    position = 2\n",
    "    coeffs1 = coeffs.iloc[:position]\n",
    "    coeffs2 = coeffs.iloc[position:]\n",
    "    \n",
    "    new_coeffs = pd.Series([np.nan], index=[position])\n",
    "    \n",
    "    coeffs = pd.concat([coeffs1, new_coeffs, coeffs2]).reset_index(drop=True)\n",
    "    \n",
    "    conf_int1 = conf_int.iloc[:position]\n",
    "    conf_int2 = conf_int.iloc[position:]\n",
    "    conf_int1.loc['event_b1:MajorGovCustomer'] = {0: np.nan, 1: np.nan}\n",
    "    conf_int = pd.concat([conf_int1, conf_int2]).reset_index(drop=True)\n",
    "    \n",
    "    # Step 4: Plot the parallel trends graph\n",
    "    year_labels = { -4: \"2008\", -3: \"2009\", -2: \"2010\", -1: \"2011\", \n",
    "                     0: \"2012\",  1: \"2013\",  2: \"2014\",  3: \"2015\"}\n",
    "    \n",
    "    plt.figure(figsize=(10, 6))\n",
    "    plt.errorbar(x=range(-3, 4), y=coeffs, \n",
    "                 yerr=[coeffs - conf_int[0], conf_int[1] - coeffs], fmt='o', capsize=5)\n",
    "    \n",
    "    plt.axhline(0, color='grey', linestyle='--')\n",
    "    plt.axvline(-1, color='grey', linestyle='--')\n",
    "    plt.xlabel(\"Event Time\")\n",
    "    plt.ylabel(\"Coefficient on Treatment Interaction\")\n",
    "    # plt.title(dep)\n",
    "    plt.xticks(ticks=range(-3, 4), labels=[year_labels[year] for year in [-3, -2, -1, 0, 1, 2, 3]])\n",
    "    \n",
    "    # Save the plot to a file\n",
    "    plt.savefig(os.path.join(pic_save_path, 'parallel_trends_graph_{}.png'.format(dep)))  # Save as PNG, can also use .pdf, .svg, etc.\n",
    "    # Do not show the plot\n",
    "    plt.close()"
   ],
   "id": "a9f97bfed71d62c5",
   "outputs": [
    {
     "name": "stderr",
     "output_type": "stream",
     "text": [
      "C:\\Users\\wangy\\AppData\\Local\\Temp\\ipykernel_22972\\642238214.py:42: SettingWithCopyWarning: \n",
      "A value is trying to be set on a copy of a slice from a DataFrame\n",
      "\n",
      "See the caveats in the documentation: https://pandas.pydata.org/pandas-docs/stable/user_guide/indexing.html#returning-a-view-versus-a-copy\n",
      "  conf_int1.loc['event_b1:MajorGovCustomer'] = {0: np.nan, 1: np.nan}\n",
      "C:\\Users\\wangy\\AppData\\Local\\Temp\\ipykernel_22972\\642238214.py:42: SettingWithCopyWarning: \n",
      "A value is trying to be set on a copy of a slice from a DataFrame\n",
      "\n",
      "See the caveats in the documentation: https://pandas.pydata.org/pandas-docs/stable/user_guide/indexing.html#returning-a-view-versus-a-copy\n",
      "  conf_int1.loc['event_b1:MajorGovCustomer'] = {0: np.nan, 1: np.nan}\n",
      "C:\\Users\\wangy\\AppData\\Local\\Temp\\ipykernel_22972\\642238214.py:42: SettingWithCopyWarning: \n",
      "A value is trying to be set on a copy of a slice from a DataFrame\n",
      "\n",
      "See the caveats in the documentation: https://pandas.pydata.org/pandas-docs/stable/user_guide/indexing.html#returning-a-view-versus-a-copy\n",
      "  conf_int1.loc['event_b1:MajorGovCustomer'] = {0: np.nan, 1: np.nan}\n",
      "C:\\Users\\wangy\\AppData\\Local\\Temp\\ipykernel_22972\\642238214.py:42: SettingWithCopyWarning: \n",
      "A value is trying to be set on a copy of a slice from a DataFrame\n",
      "\n",
      "See the caveats in the documentation: https://pandas.pydata.org/pandas-docs/stable/user_guide/indexing.html#returning-a-view-versus-a-copy\n",
      "  conf_int1.loc['event_b1:MajorGovCustomer'] = {0: np.nan, 1: np.nan}\n",
      "C:\\Users\\wangy\\AppData\\Local\\Temp\\ipykernel_22972\\642238214.py:42: SettingWithCopyWarning: \n",
      "A value is trying to be set on a copy of a slice from a DataFrame\n",
      "\n",
      "See the caveats in the documentation: https://pandas.pydata.org/pandas-docs/stable/user_guide/indexing.html#returning-a-view-versus-a-copy\n",
      "  conf_int1.loc['event_b1:MajorGovCustomer'] = {0: np.nan, 1: np.nan}\n"
     ]
    }
   ],
   "execution_count": 4
  },
  {
   "metadata": {
    "ExecuteTime": {
     "end_time": "2024-10-06T06:52:12.537746Z",
     "start_time": "2024-10-06T06:52:12.526460Z"
    }
   },
   "cell_type": "code",
   "source": "conf_int",
   "id": "f3046e9ddea63559",
   "outputs": [
    {
     "data": {
      "text/plain": [
       "          0         1\n",
       "0 -0.075164  0.007178\n",
       "1 -0.070710  0.008473\n",
       "2       NaN       NaN\n",
       "3 -0.107328 -0.026341\n",
       "4 -0.115457 -0.019235\n",
       "5 -0.124403 -0.012498\n",
       "6 -0.118951  0.000509"
      ],
      "text/html": [
       "<div>\n",
       "<style scoped>\n",
       "    .dataframe tbody tr th:only-of-type {\n",
       "        vertical-align: middle;\n",
       "    }\n",
       "\n",
       "    .dataframe tbody tr th {\n",
       "        vertical-align: top;\n",
       "    }\n",
       "\n",
       "    .dataframe thead th {\n",
       "        text-align: right;\n",
       "    }\n",
       "</style>\n",
       "<table border=\"1\" class=\"dataframe\">\n",
       "  <thead>\n",
       "    <tr style=\"text-align: right;\">\n",
       "      <th></th>\n",
       "      <th>0</th>\n",
       "      <th>1</th>\n",
       "    </tr>\n",
       "  </thead>\n",
       "  <tbody>\n",
       "    <tr>\n",
       "      <th>0</th>\n",
       "      <td>-0.075164</td>\n",
       "      <td>0.007178</td>\n",
       "    </tr>\n",
       "    <tr>\n",
       "      <th>1</th>\n",
       "      <td>-0.070710</td>\n",
       "      <td>0.008473</td>\n",
       "    </tr>\n",
       "    <tr>\n",
       "      <th>2</th>\n",
       "      <td>NaN</td>\n",
       "      <td>NaN</td>\n",
       "    </tr>\n",
       "    <tr>\n",
       "      <th>3</th>\n",
       "      <td>-0.107328</td>\n",
       "      <td>-0.026341</td>\n",
       "    </tr>\n",
       "    <tr>\n",
       "      <th>4</th>\n",
       "      <td>-0.115457</td>\n",
       "      <td>-0.019235</td>\n",
       "    </tr>\n",
       "    <tr>\n",
       "      <th>5</th>\n",
       "      <td>-0.124403</td>\n",
       "      <td>-0.012498</td>\n",
       "    </tr>\n",
       "    <tr>\n",
       "      <th>6</th>\n",
       "      <td>-0.118951</td>\n",
       "      <td>0.000509</td>\n",
       "    </tr>\n",
       "  </tbody>\n",
       "</table>\n",
       "</div>"
      ]
     },
     "execution_count": 5,
     "metadata": {},
     "output_type": "execute_result"
    }
   ],
   "execution_count": 5
  }
 ],
 "metadata": {
  "kernelspec": {
   "display_name": "Python 3",
   "language": "python",
   "name": "python3"
  },
  "language_info": {
   "codemirror_mode": {
    "name": "ipython",
    "version": 2
   },
   "file_extension": ".py",
   "mimetype": "text/x-python",
   "name": "python",
   "nbconvert_exporter": "python",
   "pygments_lexer": "ipython2",
   "version": "2.7.6"
  }
 },
 "nbformat": 4,
 "nbformat_minor": 5
}
