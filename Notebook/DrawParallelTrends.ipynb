{
 "cells": [
  {
   "cell_type": "code",
   "execution_count": 1,
   "id": "initial_id",
   "metadata": {
    "ExecuteTime": {
     "end_time": "2024-11-01T02:58:25.262905Z",
     "start_time": "2024-11-01T02:58:24.403567Z"
    }
   },
   "outputs": [],
   "source": [
    "import pandas as pd\n",
    "import os\n",
    "import numpy as np\n",
    "import statsmodels.formula.api as smf\n",
    "import matplotlib.pyplot as plt\n",
    "\n",
    "from Constants import Constants as const"
   ]
  },
  {
   "cell_type": "code",
   "execution_count": 2,
   "id": "9137160bf5bafe37",
   "metadata": {
    "ExecuteTime": {
     "end_time": "2024-11-01T03:01:27.837970Z",
     "start_time": "2024-11-01T03:01:27.685449Z"
    }
   },
   "outputs": [
    {
     "name": "stderr",
     "output_type": "stream",
     "text": [
      "/tmp/ipykernel_170246/2186004549.py:3: UnicodeWarning: \n",
      "One or more strings in the dta file could not be decoded using utf-8, and\n",
      "so the fallback encoding of latin-1 is being used.  This can happen when a file\n",
      "has been incorrectly encoded by Stata or some other software. You should verify\n",
      "the string values returned are correct.\n",
      "  data = pd.read_stata(file_path)\n",
      "/tmp/ipykernel_170246/2186004549.py:6: PerformanceWarning: DataFrame is highly fragmented.  This is usually the result of calling `frame.insert` many times, which has poor performance.  Consider joining all columns at once using pd.concat(axis=1) instead. To get a de-fragmented frame, use `newframe = frame.copy()`\n",
      "  data['time_event'] = data['fiscal_year'] - 2012\n",
      "/tmp/ipykernel_170246/2186004549.py:10: PerformanceWarning: DataFrame is highly fragmented.  This is usually the result of calling `frame.insert` many times, which has poor performance.  Consider joining all columns at once using pd.concat(axis=1) instead. To get a de-fragmented frame, use `newframe = frame.copy()`\n",
      "  data.loc[:, f'event_{i}'] = (data['time_event'] == i).astype(int)\n",
      "/tmp/ipykernel_170246/2186004549.py:11: PerformanceWarning: DataFrame is highly fragmented.  This is usually the result of calling `frame.insert` many times, which has poor performance.  Consider joining all columns at once using pd.concat(axis=1) instead. To get a de-fragmented frame, use `newframe = frame.copy()`\n",
      "  data.loc[:, f'event_b{i+1}'] = (data['time_event'] == -i - 1).astype(int)\n",
      "/tmp/ipykernel_170246/2186004549.py:10: PerformanceWarning: DataFrame is highly fragmented.  This is usually the result of calling `frame.insert` many times, which has poor performance.  Consider joining all columns at once using pd.concat(axis=1) instead. To get a de-fragmented frame, use `newframe = frame.copy()`\n",
      "  data.loc[:, f'event_{i}'] = (data['time_event'] == i).astype(int)\n",
      "/tmp/ipykernel_170246/2186004549.py:11: PerformanceWarning: DataFrame is highly fragmented.  This is usually the result of calling `frame.insert` many times, which has poor performance.  Consider joining all columns at once using pd.concat(axis=1) instead. To get a de-fragmented frame, use `newframe = frame.copy()`\n",
      "  data.loc[:, f'event_b{i+1}'] = (data['time_event'] == -i - 1).astype(int)\n",
      "/tmp/ipykernel_170246/2186004549.py:10: PerformanceWarning: DataFrame is highly fragmented.  This is usually the result of calling `frame.insert` many times, which has poor performance.  Consider joining all columns at once using pd.concat(axis=1) instead. To get a de-fragmented frame, use `newframe = frame.copy()`\n",
      "  data.loc[:, f'event_{i}'] = (data['time_event'] == i).astype(int)\n",
      "/tmp/ipykernel_170246/2186004549.py:11: PerformanceWarning: DataFrame is highly fragmented.  This is usually the result of calling `frame.insert` many times, which has poor performance.  Consider joining all columns at once using pd.concat(axis=1) instead. To get a de-fragmented frame, use `newframe = frame.copy()`\n",
      "  data.loc[:, f'event_b{i+1}'] = (data['time_event'] == -i - 1).astype(int)\n",
      "/tmp/ipykernel_170246/2186004549.py:10: PerformanceWarning: DataFrame is highly fragmented.  This is usually the result of calling `frame.insert` many times, which has poor performance.  Consider joining all columns at once using pd.concat(axis=1) instead. To get a de-fragmented frame, use `newframe = frame.copy()`\n",
      "  data.loc[:, f'event_{i}'] = (data['time_event'] == i).astype(int)\n",
      "/tmp/ipykernel_170246/2186004549.py:11: PerformanceWarning: DataFrame is highly fragmented.  This is usually the result of calling `frame.insert` many times, which has poor performance.  Consider joining all columns at once using pd.concat(axis=1) instead. To get a de-fragmented frame, use `newframe = frame.copy()`\n",
      "  data.loc[:, f'event_b{i+1}'] = (data['time_event'] == -i - 1).astype(int)\n"
     ]
    }
   ],
   "source": [
    "# Step 1: Load the data and create event time variable\n",
    "file_path = os.path.join(const.RESULT_PATH, '20241014_stock_act_reg_data_v2.dta')\n",
    "data = pd.read_stata(file_path).copy()\n",
    "\n",
    "# Generate the event time variable\n",
    "data['time_event'] = data['fiscal_year'] - 2012\n",
    "\n",
    "# Step 2: Create dummies for each event time from -4 to +3\n",
    "for i in range(0, 4):\n",
    "    data.loc[:, f'event_{i}'] = (data['time_event'] == i).astype(int)\n",
    "    data.loc[:, f'event_b{i+1}'] = (data['time_event'] == -i - 1).astype(int)\n"
   ]
  },
  {
   "cell_type": "code",
   "execution_count": 11,
   "id": "e8306690c5d60dcc",
   "metadata": {
    "ExecuteTime": {
     "end_time": "2024-11-01T03:01:48.483311Z",
     "start_time": "2024-11-01T03:01:41.830732Z"
    }
   },
   "outputs": [],
   "source": [
    "# Step 3: Run the regression excluding the base year (event_-1)\n",
    "# Specify interaction terms with ':' and use C() for categorical variables\n",
    "interaction_terms = [f\"event_b{i} * MajorGovCustomer\" for i in [3, 2, 1]]\n",
    "interaction_terms.extend([f\"event_{i} * MajorGovCustomer\" for i in [0, 1, 2, 3]])\n",
    "\n",
    "# Define the formula correctly with interaction terms\n",
    "formula = \"log_frequency_w ~ \" + \" + \".join(interaction_terms) + \\\n",
    "    \" + log_market_value_w + lev_w + BM_w + ROA_w + LOSS + EarnVol_w + ret_w + turnover_w + StkVol_w + C(gvkey) + C(year)\"\n",
    "\n",
    "# Fit the model with clustered standard errors at the gvkey level\n",
    "reg_data = data\n",
    "model = smf.ols(formula, reg_data).fit(cov_type='cluster', cov_kwds={'groups': reg_data['gvkey']})\n",
    "\n",
    "# Extract coefficients for the event study\n",
    "coeff_names = [f'event_b{i}:MajorGovCustomer' for i in [3, 2, 1]]\n",
    "coeff_names.extend([f'event_{i}:MajorGovCustomer' for i in [0, 1, 2, 3]])\n",
    "coeffs = model.params[coeff_names]\n",
    "conf_int = model.conf_int(alpha=0.05).loc[coeff_names]"
   ]
  },
  {
   "cell_type": "code",
   "execution_count": 6,
   "id": "f8d7a57751c489f0",
   "metadata": {
    "ExecuteTime": {
     "end_time": "2024-11-01T03:01:48.499880Z",
     "start_time": "2024-11-01T03:01:48.495295Z"
    }
   },
   "outputs": [
    {
     "name": "stderr",
     "output_type": "stream",
     "text": [
      "/tmp/ipykernel_170246/2125390330.py:12: SettingWithCopyWarning: \n",
      "A value is trying to be set on a copy of a slice from a DataFrame\n",
      "\n",
      "See the caveats in the documentation: https://pandas.pydata.org/pandas-docs/stable/user_guide/indexing.html#returning-a-view-versus-a-copy\n",
      "  conf_int1.loc[position] = {0: np.nan, 1: np.nan}\n"
     ]
    }
   ],
   "source": [
    "# insert one point to this position\n",
    "position = 3\n",
    "coeffs1 = coeffs.iloc[:position]\n",
    "coeffs2 = coeffs.iloc[position:]\n",
    "\n",
    "new_coeffs = pd.Series([np.nan], index=[position])\n",
    "\n",
    "coeffs = pd.concat([coeffs1, new_coeffs, coeffs2]).reset_index(drop=True)\n",
    "\n",
    "conf_int1 = conf_int.iloc[:position]\n",
    "conf_int2 = conf_int.iloc[position:]\n",
    "conf_int1.loc[position] = {0: np.nan, 1: np.nan}\n",
    "conf_int = pd.concat([conf_int1, conf_int2]).reset_index(drop=True)"
   ]
  },
  {
   "cell_type": "code",
   "execution_count": 12,
   "id": "be0bc98ef741a4c4",
   "metadata": {
    "ExecuteTime": {
     "end_time": "2024-10-09T03:02:34.285631Z",
     "start_time": "2024-10-09T03:02:34.097426Z"
    }
   },
   "outputs": [
    {
     "data": {
      "image/png": "[encoded data removed]",
      "text/plain": [
       "<Figure size 1000x600 with 1 Axes>"
      ]
     },
     "metadata": {},
     "output_type": "display_data"
    }
   ],
   "source": [
    "plt.show()\n",
    "pic_save_path = os.path.join(const.REGRESSION_RESULT_PATH, '20241101')\n",
    "if not os.path.isdir(pic_save_path):\n",
    "    os.mkdir(pic_save_path)\n",
    "\n",
    "# Step 4: Plot the parallel trends graph\n",
    "year_labels = { -4: \"2008\", -3: \"2009\", -2: \"2010\", -1: \"2011\", \n",
    "                 0: \"2012\",  1: \"2013\",  2: \"2014\",  3: \"2015\"}\n",
    "\n",
    "plt.figure(figsize=(10, 6))\n",
    "plt.errorbar(x=range(-3, 4), y=coeffs,\n",
    "             yerr=[coeffs - conf_int[0], conf_int[1] - coeffs], fmt='o', capsize=5)\n",
    "\n",
    "plt.axhline(0, color='grey', linestyle='--')\n",
    "plt.axvline(-1, color='grey', linestyle='--')\n",
    "plt.xlabel(\"Event Time\")\n",
    "plt.ylabel(\"Coefficient on Treatment Interaction\")\n",
    "plt.title(\"Parallel Trends Graph\")\n",
    "plt.xticks(ticks=range(-3, 4), labels=[year_labels[year] for year in [-3, -2, -1, 0, 1, 2, 3]])\n",
    "plt.savefig(os.path.join(pic_save_path, 'parallel_trends_graph.png'))\n",
    "plt.show()"
   ]
  },
  {
   "cell_type": "code",
   "execution_count": 24,
   "id": "723759a3dc8008a",
   "metadata": {
    "ExecuteTime": {
     "end_time": "2024-09-16T02:12:55.165703Z",
     "start_time": "2024-09-16T02:12:51.013064Z"
    }
   },
   "outputs": [],
   "source": [
    "# Step 3: Run the regression excluding the base year (event_-1)\n",
    "# Specify interaction terms with ':' and use C() for categorical variables\n",
    "interaction_terms = [f\"event_b{i} * MajorGovCustomer\" for i in [3, 2, 1]]\n",
    "interaction_terms.extend([f\"event_{i} * MajorGovCustomer\" for i in [0, 1, 2, 3]])\n",
    "\n",
    "# Define the formula correctly with interaction terms\n",
    "formula = \"log_frequency_w ~ \" + \" + \".join(interaction_terms) + \\\n",
    "    \" + log_market_value_w + lev_w + BM_w + ROA_w + LOSS + EarnVol_w + ret_w + turnover_w + StkVol_w + C(gvkey) + C(year)\"\n",
    "\n",
    "# Fit the model with clustered standard errors at the gvkey level\n",
    "model = smf.ols(formula, data).fit(cov_type='cluster', cov_kwds={'groups': data['gvkey']})\n",
    "\n",
    "# Extract coefficients for the event study\n",
    "coeff_names = [f'event_b{i}:MajorGovCustomer' for i in [3, 2, 1]]\n",
    "coeff_names.extend([f'event_{i}:MajorGovCustomer' for i in [0, 1, 2, 3]])\n",
    "coeffs = model.params[coeff_names]\n",
    "conf_int = model.conf_int().loc[coeff_names]"
   ]
  },
  {
   "cell_type": "code",
   "execution_count": 28,
   "id": "e74283d495b0a2e4",
   "metadata": {
    "ExecuteTime": {
     "end_time": "2024-09-16T02:24:30.290009Z",
     "start_time": "2024-09-16T02:24:30.168980Z"
    }
   },
   "outputs": [
    {
     "data": {
      "image/png": "[encoded data removed]",
      "text/plain": [
       "<Figure size 1000x600 with 1 Axes>"
      ]
     },
     "metadata": {},
     "output_type": "display_data"
    }
   ],
   "source": [
    "# Step 4: Plot the parallel trends graph\n",
    "year_labels = { -4: \"2008\", -3: \"2009\", -2: \"2010\", -1: \"2011\", \n",
    "                 0: \"2012\",  1: \"2013\",  2: \"2014\",  3: \"2015\"}\n",
    "\n",
    "plt.figure(figsize=(10, 6))\n",
    "plt.errorbar(x=range(-3, 4), y=coeffs, \n",
    "             yerr=[coeffs - conf_int[0], conf_int[1] - coeffs], fmt='o', capsize=5)\n",
    "\n",
    "plt.axhline(0, color='grey', linestyle='--')\n",
    "plt.axvline(-1, color='grey', linestyle='--')\n",
    "plt.xlabel(\"Event Time\")\n",
    "plt.ylabel(\"Coefficient on Treatment Interaction\")\n",
    "# plt.title(\"Parallel Trends Graph\")\n",
    "plt.xticks(ticks=range(-3, 4), labels=[year_labels[year] for year in [-3, -2, -1, 0, 1, 2, 3]])\n",
    "pic_save_path = r\"D:\\Users\\wangy\\Documents\\temp\\parallel_trending\"\n",
    "if not os.path.isdir(pic_save_path):\n",
    "    os.mkdir(pic_save_path)\n",
    "    \n",
    "plt.savefig(os.path.join(pic_save_path, 'parallel_trends_graph.png')) \n",
    "plt.show()"
   ]
  },
  {
   "cell_type": "code",
   "execution_count": null,
   "id": "d454f2ce39d7f5ce",
   "metadata": {},
   "outputs": [],
   "source": [
    "pic_save_path = r\"D:\\Users\\wangy\\Documents\\temp\\parallel_trending\"\n",
    "if not os.path.isdir(pic_save_path):\n",
    "    os.mkdir(pic_save_path)\n",
    "    \n",
    "plt.savefig(os.path.join(pic_save_path, 'parallel_trends_graph.png'))  # Save as PNG, can also use .pdf, .svg, etc.\n"
   ]
  },
  {
   "cell_type": "code",
   "execution_count": 7,
   "id": "a9f97bfed71d62c5",
   "metadata": {
    "ExecuteTime": {
     "end_time": "2024-10-13T22:24:56.756423Z",
     "start_time": "2024-10-13T22:24:45.813912Z"
    }
   },
   "outputs": [
    {
     "name": "stderr",
     "output_type": "stream",
     "text": [
      "C:\\Users\\wangy\\AppData\\Local\\Temp\\ipykernel_26748\\3005885289.py:47: SettingWithCopyWarning: \n",
      "A value is trying to be set on a copy of a slice from a DataFrame\n",
      "\n",
      "See the caveats in the documentation: https://pandas.pydata.org/pandas-docs/stable/user_guide/indexing.html#returning-a-view-versus-a-copy\n",
      "  conf_int1.loc['event_b1:MajorGovCustomer'] = {0: np.nan, 1: np.nan}\n",
      "C:\\Users\\wangy\\AppData\\Local\\Temp\\ipykernel_26748\\3005885289.py:47: SettingWithCopyWarning: \n",
      "A value is trying to be set on a copy of a slice from a DataFrame\n",
      "\n",
      "See the caveats in the documentation: https://pandas.pydata.org/pandas-docs/stable/user_guide/indexing.html#returning-a-view-versus-a-copy\n",
      "  conf_int1.loc['event_b1:MajorGovCustomer'] = {0: np.nan, 1: np.nan}\n",
      "C:\\Users\\wangy\\AppData\\Local\\Temp\\ipykernel_26748\\3005885289.py:47: SettingWithCopyWarning: \n",
      "A value is trying to be set on a copy of a slice from a DataFrame\n",
      "\n",
      "See the caveats in the documentation: https://pandas.pydata.org/pandas-docs/stable/user_guide/indexing.html#returning-a-view-versus-a-copy\n",
      "  conf_int1.loc['event_b1:MajorGovCustomer'] = {0: np.nan, 1: np.nan}\n",
      "C:\\Users\\wangy\\AppData\\Local\\Temp\\ipykernel_26748\\3005885289.py:47: SettingWithCopyWarning: \n",
      "A value is trying to be set on a copy of a slice from a DataFrame\n",
      "\n",
      "See the caveats in the documentation: https://pandas.pydata.org/pandas-docs/stable/user_guide/indexing.html#returning-a-view-versus-a-copy\n",
      "  conf_int1.loc['event_b1:MajorGovCustomer'] = {0: np.nan, 1: np.nan}\n",
      "C:\\Users\\wangy\\AppData\\Local\\Temp\\ipykernel_26748\\3005885289.py:47: SettingWithCopyWarning: \n",
      "A value is trying to be set on a copy of a slice from a DataFrame\n",
      "\n",
      "See the caveats in the documentation: https://pandas.pydata.org/pandas-docs/stable/user_guide/indexing.html#returning-a-view-versus-a-copy\n",
      "  conf_int1.loc['event_b1:MajorGovCustomer'] = {0: np.nan, 1: np.nan}\n",
      "C:\\Users\\wangy\\AppData\\Local\\Temp\\ipykernel_26748\\3005885289.py:47: SettingWithCopyWarning: \n",
      "A value is trying to be set on a copy of a slice from a DataFrame\n",
      "\n",
      "See the caveats in the documentation: https://pandas.pydata.org/pandas-docs/stable/user_guide/indexing.html#returning-a-view-versus-a-copy\n",
      "  conf_int1.loc['event_b1:MajorGovCustomer'] = {0: np.nan, 1: np.nan}\n",
      "C:\\Users\\wangy\\AppData\\Local\\Temp\\ipykernel_26748\\3005885289.py:47: SettingWithCopyWarning: \n",
      "A value is trying to be set on a copy of a slice from a DataFrame\n",
      "\n",
      "See the caveats in the documentation: https://pandas.pydata.org/pandas-docs/stable/user_guide/indexing.html#returning-a-view-versus-a-copy\n",
      "  conf_int1.loc['event_b1:MajorGovCustomer'] = {0: np.nan, 1: np.nan}\n",
      "C:\\Users\\wangy\\AppData\\Local\\Temp\\ipykernel_26748\\3005885289.py:47: SettingWithCopyWarning: \n",
      "A value is trying to be set on a copy of a slice from a DataFrame\n",
      "\n",
      "See the caveats in the documentation: https://pandas.pydata.org/pandas-docs/stable/user_guide/indexing.html#returning-a-view-versus-a-copy\n",
      "  conf_int1.loc['event_b1:MajorGovCustomer'] = {0: np.nan, 1: np.nan}\n"
     ]
    }
   ],
   "source": [
    "# Try the combinations of control variables to get the best regression results.\n",
    "\n",
    "dep_vars = 'cpie_gpin cpie_owr SYNCHRONICITY_MONTH SYNCHRONICITY_MKT_MONTH SYNCHRONICITY_IND_MONTH numest_last FCSTERROR_last DISPERSION_last'.split(' ')\n",
    "\n",
    "control_vars = ['log_market_value_w', 'lev_w', 'BM_w', 'ROA_w', 'LOSS', 'EarnVol_w', 'ret_w', 'turnover_w', 'StkVol_w']\n",
    "\n",
    "pic_save_path = os.path.join(const.REGRESSION_RESULT_PATH, '20241012')\n",
    "\n",
    "\n",
    "# Iterate over all possible lengths of combinations (1 to len(variables))\n",
    "for dep in dep_vars:\n",
    "    tmp_data = data.dropna(subset=[dep])\n",
    "        \n",
    "    # Step 3: Run the regression excluding the base year (event_-1)\n",
    "    # Specify interaction terms with ':' and use C() for categorical variables\n",
    "    interaction_terms = [f\"event_b{i} * MajorGovCustomer\" for i in [3, 2]]\n",
    "    interaction_terms.extend([f\"event_{i} * MajorGovCustomer\" for i in [0, 1, 2, 3]])\n",
    "    \n",
    "    if dep == 'DISPERSION_last':\n",
    "        control_vars.append('numest_last')\n",
    "        \n",
    "    # Define the formula correctly with interaction terms\n",
    "    formula = f\"{dep} ~ \" + \" + \".join(interaction_terms) + \" + \" + \\\n",
    "        \" + \".join(control_vars) + \" + C(gvkey) + C(year)\"\n",
    "    # formula = f\"{dep} ~ \" + \" + \".join(interaction_terms) + \" + C(gvkey) + C(year)\"\n",
    "    \n",
    "    # Fit the model with clustered standard errors at the gvkey level\n",
    "    model = smf.ols(formula, tmp_data).fit(cov_type='cluster', cov_kwds={'groups': tmp_data['gvkey']})\n",
    "    \n",
    "    # Extract coefficients for the event study\n",
    "    coeff_names = [f'event_b{i}:MajorGovCustomer' for i in [3, 2]]\n",
    "    coeff_names.extend([f'event_{i}:MajorGovCustomer' for i in [0, 1, 2, 3]])\n",
    "    coeffs = model.params[coeff_names]\n",
    "    conf_int = model.conf_int(alpha=0.1).loc[coeff_names]\n",
    "    \n",
    "    # insert one point to this position\n",
    "    position = 2\n",
    "    coeffs1 = coeffs.iloc[:position]\n",
    "    coeffs2 = coeffs.iloc[position:]\n",
    "    \n",
    "    new_coeffs = pd.Series([np.nan], index=[position])\n",
    "    \n",
    "    coeffs = pd.concat([coeffs1, new_coeffs, coeffs2]).reset_index(drop=True)\n",
    "    \n",
    "    conf_int1 = conf_int.iloc[:position]\n",
    "    conf_int2 = conf_int.iloc[position:]\n",
    "    conf_int1.loc['event_b1:MajorGovCustomer'] = {0: np.nan, 1: np.nan}\n",
    "    conf_int = pd.concat([conf_int1, conf_int2]).reset_index(drop=True)\n",
    "    \n",
    "    # Step 4: Plot the parallel trends graph\n",
    "    year_labels = { -4: \"2008\", -3: \"2009\", -2: \"2010\", -1: \"2011\", \n",
    "                     0: \"2012\",  1: \"2013\",  2: \"2014\",  3: \"2015\"}\n",
    "    \n",
    "    plt.figure(figsize=(10, 6))\n",
    "    plt.errorbar(x=range(-3, 4), y=coeffs, \n",
    "                 yerr=[coeffs - conf_int[0], conf_int[1] - coeffs], fmt='o', capsize=5)\n",
    "    \n",
    "    plt.axhline(0, color='grey', linestyle='--')\n",
    "    plt.axvline(-1, color='grey', linestyle='--')\n",
    "    plt.xlabel(\"Event Time\")\n",
    "    plt.ylabel(\"Coefficient on Treatment Interaction\")\n",
    "    # plt.title(dep)\n",
    "    plt.xticks(ticks=range(-3, 4), labels=[year_labels[year] for year in [-3, -2, -1, 0, 1, 2, 3]])\n",
    "    \n",
    "    # Save the plot to a file\n",
    "    plt.savefig(os.path.join(pic_save_path, 'parallel_trends_graph_{}.png'.format(dep)))  # Save as PNG, can also use .pdf, .svg, etc.\n",
    "    # Do not show the plot\n",
    "    plt.close()"
   ]
  }
 ],
 "metadata": {
  "kernelspec": {
   "display_name": "Python 3 (ipykernel)",
   "language": "python",
   "name": "python3"
  },
  "language_info": {
   "codemirror_mode": {
    "name": "ipython",
    "version": 3
   },
   "file_extension": ".py",
   "mimetype": "text/x-python",
   "name": "python",
   "nbconvert_exporter": "python",
   "pygments_lexer": "ipython3",
   "version": "3.12.7"
  }
 },
 "nbformat": 4,
 "nbformat_minor": 5
}
