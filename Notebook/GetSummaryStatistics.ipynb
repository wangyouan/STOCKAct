{
 "cells": [
  {
   "cell_type": "code",
   "id": "initial_id",
   "metadata": {
    "collapsed": true,
    "ExecuteTime": {
     "end_time": "2025-02-23T05:37:47.505105Z",
     "start_time": "2025-02-23T05:37:46.148977Z"
    }
   },
   "source": [
    "import os\n",
    "\n",
    "import pandas as pd\n",
    "from pandas import DataFrame\n",
    "import numpy as np\n",
    "from scipy import stats\n",
    "\n",
    "from Constants import Constants as const"
   ],
   "outputs": [],
   "execution_count": 1
  },
  {
   "metadata": {
    "ExecuteTime": {
     "end_time": "2025-01-26T07:55:43.620193Z",
     "start_time": "2025-01-26T07:55:43.405078Z"
    }
   },
   "cell_type": "code",
   "source": [
    "# Step 1: Load the data and create event time variable\n",
    "file_path = os.path.join(const.RESULT_PATH, '20250113_stock_act_data_v5.dta')\n",
    "df = pd.read_stata(file_path).copy()"
   ],
   "id": "9c9c71d8acfa5dda",
   "outputs": [
    {
     "name": "stderr",
     "output_type": "stream",
     "text": [
      "C:\\Users\\wangy\\AppData\\Local\\Temp\\ipykernel_32088\\1387148850.py:3: UnicodeWarning: \n",
      "One or more strings in the dta file could not be decoded using utf-8, and\n",
      "so the fallback encoding of latin-1 is being used.  This can happen when a file\n",
      "has been incorrectly encoded by Stata or some other software. You should verify\n",
      "the string values returned are correct.\n",
      "  df = pd.read_stata(file_path).copy()\n"
     ]
    }
   ],
   "execution_count": 2
  },
  {
   "metadata": {
    "ExecuteTime": {
     "end_time": "2025-01-26T07:55:44.167565Z",
     "start_time": "2025-01-26T07:55:44.164713Z"
    }
   },
   "cell_type": "code",
   "source": [
    "# Columns to be included in the analysis\n",
    "columns = [\n",
    "    \"log_frequency_w\", \"log_frequency_ann_w\", \"log_frequency_qtr_w\", \"log_frequency_eps_w\", \"log_frequency_noneps_w\", \"log_frequency_day_w\", \n",
    "    \"env_info_w\", \"social_info_w\", \"width_w\", \"cpie_gpin\", \"cpie_owr\", \"SYNCHRONICITY_MONTH\", \"SYNCHRONICITY_MKT_MONTH\", \n",
    "    \"SYNCHRONICITY_IND_MONTH\", \"numest_last\", \"FCSTERROR_last\", \"DISPERSION_last\", \n",
    "    \"log_market_value_w\", \"lev_w\", \"BM_w\", \"ROA_w\", \"LOSS\", \"EarnVol_w\", \"ret_w\", \"turnover_w\", \"StkVol_w\"\n",
    "]\n"
   ],
   "id": "85e54d7b0ae471fb",
   "outputs": [],
   "execution_count": 3
  },
  {
   "metadata": {
    "ExecuteTime": {
     "end_time": "2025-01-26T07:55:47.578662Z",
     "start_time": "2025-01-26T07:55:47.563770Z"
    }
   },
   "cell_type": "code",
   "source": [
    "# Split the data into two parts based on fiscal_year\n",
    "before_2012_df = df[df['fiscal_year'] < 2012]\n",
    "after_2012_df = df[df['fiscal_year'] >= 2012]"
   ],
   "id": "da831aa1e5b57bed",
   "outputs": [],
   "execution_count": 4
  },
  {
   "metadata": {
    "ExecuteTime": {
     "end_time": "2025-01-26T07:55:54.399583Z",
     "start_time": "2025-01-26T07:55:54.393079Z"
    }
   },
   "cell_type": "code",
   "source": [
    "# Function to perform comparison between treatment and control groups\n",
    "def perform_comparison(df, columns):\n",
    "    treatment_group = df[df['MajorGovCustomer'] == 1]\n",
    "    control_group = df[df['MajorGovCustomer'] == 0]\n",
    "\n",
    "    results = []\n",
    "\n",
    "    for col in columns:\n",
    "        treat_mean = treatment_group[col].mean()\n",
    "        treat_median = treatment_group[col].median()\n",
    "        treat_num = treatment_group[col].count()\n",
    "\n",
    "        control_mean = control_group[col].mean()\n",
    "        control_median = control_group[col].median()\n",
    "        control_num = control_group[col].count()\n",
    "\n",
    "        diff_mean = treat_mean - control_mean\n",
    "        t_stat, p_value = stats.ttest_ind(treatment_group[col].dropna(), control_group[col].dropna(), equal_var=False)\n",
    "\n",
    "        # Determine significance level\n",
    "        if p_value < 0.01:\n",
    "            significance = '***'\n",
    "        elif p_value < 0.05:\n",
    "            significance = '**'\n",
    "        elif p_value < 0.1:\n",
    "            significance = '*'\n",
    "        else:\n",
    "            significance = ''\n",
    "\n",
    "        # Round values to three significant digits\n",
    "        treat_mean = round(treat_mean, 3)\n",
    "        treat_median = round(treat_median, 3)\n",
    "        control_mean = round(control_mean, 3)\n",
    "        control_median = round(control_median, 3)\n",
    "        diff_mean = round(diff_mean, 3)\n",
    "        t_stat = f\"({round(t_stat, 3)})\"\n",
    "\n",
    "        results.append([treat_mean, treat_median, treat_num, control_mean, control_median, control_num, diff_mean, t_stat, significance])\n",
    "\n",
    "    # Create a DataFrame to display the results\n",
    "    results_df = pd.DataFrame(results, columns=[\n",
    "        \"Treatment Mean\", \"Treatment Median\", \"Treatment N\", \n",
    "        \"Control Mean\", \"Control Median\", \"Control N\", \n",
    "        \"Difference in Mean\", \"t-stat\", \"Significance\"\n",
    "    ], index=columns)\n",
    "    return results_df"
   ],
   "id": "74a6bdbb7687fd87",
   "outputs": [],
   "execution_count": 5
  },
  {
   "metadata": {
    "ExecuteTime": {
     "end_time": "2025-01-26T07:56:03.754341Z",
     "start_time": "2025-01-26T07:56:03.712927Z"
    }
   },
   "cell_type": "code",
   "source": [
    "# Perform comparison for data before 2012\n",
    "results_before_2012 = perform_comparison(before_2012_df, columns)\n",
    "print(\"Results for data before 2012:\")\n",
    "print(results_before_2012)\n"
   ],
   "id": "28e36d326eb23847",
   "outputs": [
    {
     "name": "stdout",
     "output_type": "stream",
     "text": [
      "Results for data before 2012:\n",
      "                         Treatment Mean  Treatment Median  Treatment N  \\\n",
      "log_frequency_w                   0.752             0.000          933   \n",
      "log_frequency_ann_w               0.684             0.000          933   \n",
      "log_frequency_qtr_w               0.225             0.000          933   \n",
      "log_frequency_eps_w               0.351             0.000          933   \n",
      "log_frequency_noneps_w            0.656             0.000          933   \n",
      "log_frequency_day_w               0.545             0.000          933   \n",
      "env_info_w                        3.815             0.000          933   \n",
      "social_info_w                    11.170            12.023          933   \n",
      "width_w                           0.689             0.800          209   \n",
      "cpie_gpin                         0.426             0.474          517   \n",
      "cpie_owr                          0.427             0.477          517   \n",
      "SYNCHRONICITY_MONTH               1.583             1.520          612   \n",
      "SYNCHRONICITY_MKT_MONTH           0.158             0.205          615   \n",
      "SYNCHRONICITY_IND_MONTH          -0.247            -0.212          615   \n",
      "numest_last                       7.936             6.000          566   \n",
      "FCSTERROR_last                    0.141             0.004          561   \n",
      "DISPERSION_last                   0.091             0.002          531   \n",
      "log_market_value_w                6.243             6.311          933   \n",
      "lev_w                             0.186             0.172          933   \n",
      "BM_w                              0.684             0.600          933   \n",
      "ROA_w                            -0.024             0.037          933   \n",
      "LOSS                              0.257             0.000          933   \n",
      "EarnVol_w                         0.100             0.065          933   \n",
      "ret_w                             0.004             0.005          933   \n",
      "turnover_w                        0.152             0.122          933   \n",
      "StkVol_w                          0.037             0.033          933   \n",
      "\n",
      "                         Control Mean  Control Median  Control N  \\\n",
      "log_frequency_w                 0.862           0.000       4996   \n",
      "log_frequency_ann_w             0.662           0.000       4996   \n",
      "log_frequency_qtr_w             0.433           0.000       4996   \n",
      "log_frequency_eps_w             0.362           0.000       4996   \n",
      "log_frequency_noneps_w          0.771           0.000       4996   \n",
      "log_frequency_day_w             0.596           0.000       4996   \n",
      "env_info_w                      2.670           0.000       4996   \n",
      "social_info_w                   8.716           9.902       4996   \n",
      "width_w                         0.710           0.833       1265   \n",
      "cpie_gpin                       0.424           0.474       2896   \n",
      "cpie_owr                        0.453           0.477       2896   \n",
      "SYNCHRONICITY_MONTH             1.638           1.577       2760   \n",
      "SYNCHRONICITY_MKT_MONTH         0.169           0.223       2777   \n",
      "SYNCHRONICITY_IND_MONTH        -0.247          -0.186       2777   \n",
      "numest_last                     8.437           6.000       2599   \n",
      "FCSTERROR_last                  0.135           0.004       2581   \n",
      "DISPERSION_last                 0.059           0.002       2435   \n",
      "log_market_value_w              6.340           6.309       4996   \n",
      "lev_w                           0.156           0.120       4996   \n",
      "BM_w                            0.666           0.527       4996   \n",
      "ROA_w                          -0.044           0.028       4996   \n",
      "LOSS                            0.344           0.000       4996   \n",
      "EarnVol_w                       0.131           0.104       4996   \n",
      "ret_w                           0.011           0.013       4996   \n",
      "turnover_w                      0.158           0.118       4996   \n",
      "StkVol_w                        0.039           0.035       4996   \n",
      "\n",
      "                         Difference in Mean    t-stat Significance  \n",
      "log_frequency_w                      -0.109  (-2.571)           **  \n",
      "log_frequency_ann_w                   0.021   (0.549)               \n",
      "log_frequency_qtr_w                  -0.208  (-8.726)          ***  \n",
      "log_frequency_eps_w                  -0.011  (-0.432)               \n",
      "log_frequency_noneps_w               -0.115  (-3.049)          ***  \n",
      "log_frequency_day_w                  -0.050  (-1.687)            *  \n",
      "env_info_w                            1.145   (3.232)          ***  \n",
      "social_info_w                         2.454   (8.107)          ***  \n",
      "width_w                              -0.022  (-0.816)               \n",
      "cpie_gpin                             0.002   (0.392)               \n",
      "cpie_owr                             -0.026  (-1.787)            *  \n",
      "SYNCHRONICITY_MONTH                  -0.055  (-1.004)               \n",
      "SYNCHRONICITY_MKT_MONTH              -0.011   (-0.21)               \n",
      "SYNCHRONICITY_IND_MONTH              -0.001  (-0.014)               \n",
      "numest_last                          -0.500  (-1.677)            *  \n",
      "FCSTERROR_last                        0.007   (0.216)               \n",
      "DISPERSION_last                       0.032   (1.554)               \n",
      "log_market_value_w                   -0.098  (-1.327)               \n",
      "lev_w                                 0.030   (4.614)          ***  \n",
      "BM_w                                  0.018   (0.835)               \n",
      "ROA_w                                 0.020   (2.429)           **  \n",
      "LOSS                                 -0.086  (-5.457)          ***  \n",
      "EarnVol_w                            -0.031  (-7.085)          ***  \n",
      "ret_w                                -0.006  (-1.457)               \n",
      "turnover_w                           -0.006  (-1.084)               \n",
      "StkVol_w                             -0.002  (-3.032)          ***  \n"
     ]
    }
   ],
   "execution_count": 6
  },
  {
   "metadata": {
    "ExecuteTime": {
     "end_time": "2025-01-26T07:56:23.787309Z",
     "start_time": "2025-01-26T07:56:23.434516Z"
    }
   },
   "cell_type": "code",
   "source": "results_before_2012.to_excel(os.path.join(const.REGRESSION_RESULT_PATH, '20250126', 'T2PA TvC before 2012.xlsx'))",
   "id": "ee759a759c2f1fcd",
   "outputs": [],
   "execution_count": 7
  },
  {
   "metadata": {
    "ExecuteTime": {
     "end_time": "2025-01-26T07:56:26.503375Z",
     "start_time": "2025-01-26T07:56:26.465125Z"
    }
   },
   "cell_type": "code",
   "source": [
    "# Perform comparison for data from 2012 onwards\n",
    "results_after_2012 = perform_comparison(after_2012_df, columns)\n",
    "print(\"Results for data from 2012 onwards:\")\n",
    "print(results_after_2012)"
   ],
   "id": "c61e3b4943ac9263",
   "outputs": [
    {
     "name": "stdout",
     "output_type": "stream",
     "text": [
      "Results for data from 2012 onwards:\n",
      "                         Treatment Mean  Treatment Median  Treatment N  \\\n",
      "log_frequency_w                   0.750             0.000          921   \n",
      "log_frequency_ann_w               0.676             0.000          921   \n",
      "log_frequency_qtr_w               0.229             0.000          921   \n",
      "log_frequency_eps_w               0.363             0.000          921   \n",
      "log_frequency_noneps_w            0.651             0.000          921   \n",
      "log_frequency_day_w               0.545             0.000          921   \n",
      "env_info_w                        3.180             0.000          921   \n",
      "social_info_w                    11.640            12.616          921   \n",
      "width_w                           0.732             0.800          139   \n",
      "cpie_gpin                         0.453             0.486          657   \n",
      "cpie_owr                          0.417             0.431          657   \n",
      "SYNCHRONICITY_MONTH               1.313             1.234          624   \n",
      "SYNCHRONICITY_MKT_MONTH          -0.269            -0.183          626   \n",
      "SYNCHRONICITY_IND_MONTH          -0.693            -0.672          626   \n",
      "numest_last                       8.139             6.000          598   \n",
      "FCSTERROR_last                    0.148             0.003          582   \n",
      "DISPERSION_last                   0.036             0.002          547   \n",
      "log_market_value_w                6.627             6.860          921   \n",
      "lev_w                             0.213             0.182          921   \n",
      "BM_w                              0.587             0.514          921   \n",
      "ROA_w                            -0.019             0.026          921   \n",
      "LOSS                              0.289             0.000          921   \n",
      "EarnVol_w                         0.090             0.049          921   \n",
      "ret_w                             0.019             0.016          921   \n",
      "turnover_w                        0.139             0.109          921   \n",
      "StkVol_w                          0.025             0.021          921   \n",
      "\n",
      "                         Control Mean  Control Median  Control N  \\\n",
      "log_frequency_w                 0.917           0.000       5224   \n",
      "log_frequency_ann_w             0.699           0.000       5224   \n",
      "log_frequency_qtr_w             0.465           0.000       5224   \n",
      "log_frequency_eps_w             0.377           0.000       5224   \n",
      "log_frequency_noneps_w          0.829           0.000       5224   \n",
      "log_frequency_day_w             0.633           0.000       5224   \n",
      "env_info_w                      2.355           0.000       5224   \n",
      "social_info_w                   9.223          10.470       5224   \n",
      "width_w                         0.697           0.830        922   \n",
      "cpie_gpin                       0.463           0.495       3810   \n",
      "cpie_owr                        0.397           0.414       3810   \n",
      "SYNCHRONICITY_MONTH             1.245           1.205       2996   \n",
      "SYNCHRONICITY_MKT_MONTH        -0.385          -0.312       3019   \n",
      "SYNCHRONICITY_IND_MONTH        -0.662          -0.605       3019   \n",
      "numest_last                     9.383           6.000       2874   \n",
      "FCSTERROR_last                  0.093           0.003       2846   \n",
      "DISPERSION_last                 0.054           0.001       2706   \n",
      "log_market_value_w              6.726           6.772       5224   \n",
      "lev_w                           0.187           0.162       5224   \n",
      "BM_w                            0.543           0.424       5224   \n",
      "ROA_w                          -0.047           0.025       5224   \n",
      "LOSS                            0.359           0.000       5224   \n",
      "EarnVol_w                       0.129           0.082       5224   \n",
      "ret_w                           0.016           0.014       5224   \n",
      "turnover_w                      0.152           0.112       5224   \n",
      "StkVol_w                        0.027           0.023       5224   \n",
      "\n",
      "                         Difference in Mean    t-stat Significance  \n",
      "log_frequency_w                      -0.167   (-3.92)          ***  \n",
      "log_frequency_ann_w                  -0.023  (-0.591)               \n",
      "log_frequency_qtr_w                  -0.236  (-9.841)          ***  \n",
      "log_frequency_eps_w                  -0.014   (-0.55)               \n",
      "log_frequency_noneps_w               -0.178  (-4.655)          ***  \n",
      "log_frequency_day_w                  -0.088  (-2.924)          ***  \n",
      "env_info_w                            0.824   (2.566)           **  \n",
      "social_info_w                         2.418   (7.908)          ***  \n",
      "width_w                               0.036   (1.249)               \n",
      "cpie_gpin                            -0.010  (-2.164)           **  \n",
      "cpie_owr                              0.020   (1.897)            *  \n",
      "SYNCHRONICITY_MONTH                   0.068   (1.297)               \n",
      "SYNCHRONICITY_MKT_MONTH               0.116   (2.125)           **  \n",
      "SYNCHRONICITY_IND_MONTH              -0.032  (-0.599)               \n",
      "numest_last                          -1.245  (-3.848)          ***  \n",
      "FCSTERROR_last                        0.054     (1.6)               \n",
      "DISPERSION_last                      -0.019  (-1.568)               \n",
      "log_market_value_w                   -0.099  (-1.309)               \n",
      "lev_w                                 0.026   (3.839)          ***  \n",
      "BM_w                                  0.044   (2.427)           **  \n",
      "ROA_w                                 0.028   (3.988)          ***  \n",
      "LOSS                                 -0.070  (-4.273)          ***  \n",
      "EarnVol_w                            -0.039  (-8.802)          ***  \n",
      "ret_w                                 0.003   (0.898)               \n",
      "turnover_w                           -0.013   (-2.85)          ***  \n",
      "StkVol_w                             -0.002   (-4.32)          ***  \n"
     ]
    }
   ],
   "execution_count": 8
  },
  {
   "metadata": {
    "ExecuteTime": {
     "end_time": "2025-01-26T07:56:37.770988Z",
     "start_time": "2025-01-26T07:56:37.734593Z"
    }
   },
   "cell_type": "code",
   "source": "results_after_2012.to_excel(os.path.join(const.REGRESSION_RESULT_PATH, '20250126', 'T2PB TvC after 2012.xlsx'))\n",
   "id": "c811b976920022fe",
   "outputs": [],
   "execution_count": 9
  },
  {
   "metadata": {},
   "cell_type": "markdown",
   "source": "# Get stepwise observations number",
   "id": "667195782637cca"
  },
  {
   "metadata": {
    "ExecuteTime": {
     "end_time": "2024-10-22T13:08:03.045226Z",
     "start_time": "2024-10-22T13:07:53.091001Z"
    }
   },
   "cell_type": "code",
   "source": [
    "ctat_df = pd.read_csv(os.path.join(const.COMPUSTAT_PATH, '1950_2022_ctat_all_data.zip'),\n",
    "                                     usecols=['fyear', const.GVKEY, 'bkvlps', 'prcc_f', 'csho', 'mkvalt'],\n",
    "                                     dtype={const.GVKEY: str}).rename(columns={'fyear': const.YEAR})\n",
    "ctat_df = ctat_df.loc[ctat_df[const.YEAR].apply(lambda x: 2007 < x < 2016)]\n",
    "ctat_df.shape"
   ],
   "id": "37d15a863353ea9e",
   "outputs": [
    {
     "data": {
      "text/plain": [
       "(99932, 6)"
      ]
     },
     "execution_count": 2,
     "metadata": {},
     "output_type": "execute_result"
    }
   ],
   "execution_count": 2
  },
  {
   "metadata": {
    "ExecuteTime": {
     "end_time": "2024-10-22T13:09:11.456691Z",
     "start_time": "2024-10-22T13:09:11.436977Z"
    }
   },
   "cell_type": "code",
   "source": "ctat_df.drop_duplicates(subset=['gvkey', const.YEAR]).shape",
   "id": "e36cb5ed3541528f",
   "outputs": [
    {
     "data": {
      "text/plain": [
       "(90226, 6)"
      ]
     },
     "execution_count": 3,
     "metadata": {},
     "output_type": "execute_result"
    }
   ],
   "execution_count": 3
  },
  {
   "metadata": {},
   "cell_type": "markdown",
   "source": "# Calculate the cost of capital observations",
   "id": "852966517b0c3902"
  },
  {
   "metadata": {
    "ExecuteTime": {
     "end_time": "2025-02-23T05:38:30.587186Z",
     "start_time": "2025-02-23T05:38:25.379941Z"
    }
   },
   "cell_type": "code",
   "source": [
    "lee_df: DataFrame = pd.read_csv(\n",
    "            os.path.join(const.DATABASE_PATH, 'Cost of Capital', f'erp_public_annual_240107.zip')).drop(['permno'], axis=1)"
   ],
   "id": "8eb158d6e172a4f6",
   "outputs": [],
   "execution_count": 2
  },
  {
   "metadata": {
    "ExecuteTime": {
     "end_time": "2025-02-23T06:24:34.407253Z",
     "start_time": "2025-02-23T06:24:33.957645Z"
    }
   },
   "cell_type": "code",
   "source": "lee_df[['CCC', 'GLS_mech', 'OJM_mech', 'CAT_mech', 'PEG_mech']].describe().T",
   "id": "53309304a6c86cbc",
   "outputs": [
    {
     "data": {
      "text/plain": [
       "              count      mean       std       min       25%       50%  \\\n",
       "CCC       2088311.0  0.090159  0.124445 -0.538879  0.007939  0.065900   \n",
       "GLS_mech  2068379.0  0.112307  0.072132 -0.683782  0.070185  0.099579   \n",
       "OJM_mech  1768009.0  0.111107  0.137101 -0.990699  0.039521  0.071381   \n",
       "CAT_mech  2054667.0 -0.006180  0.230304 -0.920344 -0.156598 -0.019888   \n",
       "PEG_mech  2080521.0  0.140521  0.142460  0.000000  0.046016  0.106245   \n",
       "\n",
       "               75%       max  \n",
       "CCC       0.145795  0.999968  \n",
       "GLS_mech  0.139144  0.999780  \n",
       "OJM_mech  0.130939  0.999980  \n",
       "CAT_mech  0.129285  0.999998  \n",
       "PEG_mech  0.190371  0.999995  "
      ],
      "text/html": [
       "<div>\n",
       "<style scoped>\n",
       "    .dataframe tbody tr th:only-of-type {\n",
       "        vertical-align: middle;\n",
       "    }\n",
       "\n",
       "    .dataframe tbody tr th {\n",
       "        vertical-align: top;\n",
       "    }\n",
       "\n",
       "    .dataframe thead th {\n",
       "        text-align: right;\n",
       "    }\n",
       "</style>\n",
       "<table border=\"1\" class=\"dataframe\">\n",
       "  <thead>\n",
       "    <tr style=\"text-align: right;\">\n",
       "      <th></th>\n",
       "      <th>count</th>\n",
       "      <th>mean</th>\n",
       "      <th>std</th>\n",
       "      <th>min</th>\n",
       "      <th>25%</th>\n",
       "      <th>50%</th>\n",
       "      <th>75%</th>\n",
       "      <th>max</th>\n",
       "    </tr>\n",
       "  </thead>\n",
       "  <tbody>\n",
       "    <tr>\n",
       "      <th>CCC</th>\n",
       "      <td>2088311.0</td>\n",
       "      <td>0.090159</td>\n",
       "      <td>0.124445</td>\n",
       "      <td>-0.538879</td>\n",
       "      <td>0.007939</td>\n",
       "      <td>0.065900</td>\n",
       "      <td>0.145795</td>\n",
       "      <td>0.999968</td>\n",
       "    </tr>\n",
       "    <tr>\n",
       "      <th>GLS_mech</th>\n",
       "      <td>2068379.0</td>\n",
       "      <td>0.112307</td>\n",
       "      <td>0.072132</td>\n",
       "      <td>-0.683782</td>\n",
       "      <td>0.070185</td>\n",
       "      <td>0.099579</td>\n",
       "      <td>0.139144</td>\n",
       "      <td>0.999780</td>\n",
       "    </tr>\n",
       "    <tr>\n",
       "      <th>OJM_mech</th>\n",
       "      <td>1768009.0</td>\n",
       "      <td>0.111107</td>\n",
       "      <td>0.137101</td>\n",
       "      <td>-0.990699</td>\n",
       "      <td>0.039521</td>\n",
       "      <td>0.071381</td>\n",
       "      <td>0.130939</td>\n",
       "      <td>0.999980</td>\n",
       "    </tr>\n",
       "    <tr>\n",
       "      <th>CAT_mech</th>\n",
       "      <td>2054667.0</td>\n",
       "      <td>-0.006180</td>\n",
       "      <td>0.230304</td>\n",
       "      <td>-0.920344</td>\n",
       "      <td>-0.156598</td>\n",
       "      <td>-0.019888</td>\n",
       "      <td>0.129285</td>\n",
       "      <td>0.999998</td>\n",
       "    </tr>\n",
       "    <tr>\n",
       "      <th>PEG_mech</th>\n",
       "      <td>2080521.0</td>\n",
       "      <td>0.140521</td>\n",
       "      <td>0.142460</td>\n",
       "      <td>0.000000</td>\n",
       "      <td>0.046016</td>\n",
       "      <td>0.106245</td>\n",
       "      <td>0.190371</td>\n",
       "      <td>0.999995</td>\n",
       "    </tr>\n",
       "  </tbody>\n",
       "</table>\n",
       "</div>"
      ]
     },
     "execution_count": 5,
     "metadata": {},
     "output_type": "execute_result"
    }
   ],
   "execution_count": 5
  },
  {
   "metadata": {
    "ExecuteTime": {
     "end_time": "2025-02-23T06:54:18.194482Z",
     "start_time": "2025-02-23T06:54:18.141790Z"
    }
   },
   "cell_type": "code",
   "source": "lee_df.loc[lee_df['CCC'].notnull() & lee_df['GLS_mech'].isnull(), ['CCC', 'GLS_mech', 'OJM_mech', 'CAT_mech', 'PEG_mech']]",
   "id": "51c36207a12e0ade",
   "outputs": [
    {
     "data": {
      "text/plain": [
       "              CCC  GLS_mech  OJM_mech  CAT_mech  PEG_mech\n",
       "641      0.587013       NaN       NaN       NaN  0.587013\n",
       "642      0.502280       NaN       NaN       NaN  0.502280\n",
       "643      0.467239       NaN       NaN       NaN  0.467239\n",
       "644      0.451498       NaN       NaN       NaN  0.451498\n",
       "645      0.399652       NaN       NaN       NaN  0.399652\n",
       "...           ...       ...       ...       ...       ...\n",
       "3481805  0.161550       NaN       NaN       NaN  0.161550\n",
       "3481806  0.189709       NaN       NaN       NaN  0.189709\n",
       "3481807  0.191881       NaN       NaN       NaN  0.191881\n",
       "3481808  0.198166       NaN       NaN       NaN  0.198166\n",
       "3484066  0.144700       NaN    0.1447       NaN       NaN\n",
       "\n",
       "[19932 rows x 5 columns]"
      ],
      "text/html": [
       "<div>\n",
       "<style scoped>\n",
       "    .dataframe tbody tr th:only-of-type {\n",
       "        vertical-align: middle;\n",
       "    }\n",
       "\n",
       "    .dataframe tbody tr th {\n",
       "        vertical-align: top;\n",
       "    }\n",
       "\n",
       "    .dataframe thead th {\n",
       "        text-align: right;\n",
       "    }\n",
       "</style>\n",
       "<table border=\"1\" class=\"dataframe\">\n",
       "  <thead>\n",
       "    <tr style=\"text-align: right;\">\n",
       "      <th></th>\n",
       "      <th>CCC</th>\n",
       "      <th>GLS_mech</th>\n",
       "      <th>OJM_mech</th>\n",
       "      <th>CAT_mech</th>\n",
       "      <th>PEG_mech</th>\n",
       "    </tr>\n",
       "  </thead>\n",
       "  <tbody>\n",
       "    <tr>\n",
       "      <th>641</th>\n",
       "      <td>0.587013</td>\n",
       "      <td>NaN</td>\n",
       "      <td>NaN</td>\n",
       "      <td>NaN</td>\n",
       "      <td>0.587013</td>\n",
       "    </tr>\n",
       "    <tr>\n",
       "      <th>642</th>\n",
       "      <td>0.502280</td>\n",
       "      <td>NaN</td>\n",
       "      <td>NaN</td>\n",
       "      <td>NaN</td>\n",
       "      <td>0.502280</td>\n",
       "    </tr>\n",
       "    <tr>\n",
       "      <th>643</th>\n",
       "      <td>0.467239</td>\n",
       "      <td>NaN</td>\n",
       "      <td>NaN</td>\n",
       "      <td>NaN</td>\n",
       "      <td>0.467239</td>\n",
       "    </tr>\n",
       "    <tr>\n",
       "      <th>644</th>\n",
       "      <td>0.451498</td>\n",
       "      <td>NaN</td>\n",
       "      <td>NaN</td>\n",
       "      <td>NaN</td>\n",
       "      <td>0.451498</td>\n",
       "    </tr>\n",
       "    <tr>\n",
       "      <th>645</th>\n",
       "      <td>0.399652</td>\n",
       "      <td>NaN</td>\n",
       "      <td>NaN</td>\n",
       "      <td>NaN</td>\n",
       "      <td>0.399652</td>\n",
       "    </tr>\n",
       "    <tr>\n",
       "      <th>...</th>\n",
       "      <td>...</td>\n",
       "      <td>...</td>\n",
       "      <td>...</td>\n",
       "      <td>...</td>\n",
       "      <td>...</td>\n",
       "    </tr>\n",
       "    <tr>\n",
       "      <th>3481805</th>\n",
       "      <td>0.161550</td>\n",
       "      <td>NaN</td>\n",
       "      <td>NaN</td>\n",
       "      <td>NaN</td>\n",
       "      <td>0.161550</td>\n",
       "    </tr>\n",
       "    <tr>\n",
       "      <th>3481806</th>\n",
       "      <td>0.189709</td>\n",
       "      <td>NaN</td>\n",
       "      <td>NaN</td>\n",
       "      <td>NaN</td>\n",
       "      <td>0.189709</td>\n",
       "    </tr>\n",
       "    <tr>\n",
       "      <th>3481807</th>\n",
       "      <td>0.191881</td>\n",
       "      <td>NaN</td>\n",
       "      <td>NaN</td>\n",
       "      <td>NaN</td>\n",
       "      <td>0.191881</td>\n",
       "    </tr>\n",
       "    <tr>\n",
       "      <th>3481808</th>\n",
       "      <td>0.198166</td>\n",
       "      <td>NaN</td>\n",
       "      <td>NaN</td>\n",
       "      <td>NaN</td>\n",
       "      <td>0.198166</td>\n",
       "    </tr>\n",
       "    <tr>\n",
       "      <th>3484066</th>\n",
       "      <td>0.144700</td>\n",
       "      <td>NaN</td>\n",
       "      <td>0.1447</td>\n",
       "      <td>NaN</td>\n",
       "      <td>NaN</td>\n",
       "    </tr>\n",
       "  </tbody>\n",
       "</table>\n",
       "<p>19932 rows × 5 columns</p>\n",
       "</div>"
      ]
     },
     "execution_count": 9,
     "metadata": {},
     "output_type": "execute_result"
    }
   ],
   "execution_count": 9
  },
  {
   "metadata": {
    "ExecuteTime": {
     "end_time": "2025-02-23T13:26:47.550793Z",
     "start_time": "2025-02-23T13:26:47.023379Z"
    }
   },
   "cell_type": "code",
   "source": [
    "import numpy as np\n",
    "import matplotlib.pyplot as plt\n",
    "import seaborn as sns\n",
    "from scipy.stats import linregress\n",
    "\n",
    "# Configure style\n",
    "plt.style.use('seaborn-v0_8')\n",
    "sns.set_palette(\"husl\")\n",
    "\n",
    "# Sample data - modern risk factors\n",
    "projects = {\n",
    "    'Project': ['EV Battery Plant', 'AI Startup', 'Pharma R&D', 'Oil Exploration', 'Emerging Market Fintech'],\n",
    "    'Beta': [1.4, 2.1, 1.8, 1.2, 2.3],\n",
    "    'ESG_Risk': [25, 65, 40, 85, 55],  # Lower = better\n",
    "    'GeoPolitical_Risk': [40, 20, 35, 75, 90],  # Higher = riskier\n",
    "    'IRR': [18.5, 35.2, 22.1, 12.4, 28.7]\n",
    "}\n",
    "\n",
    "# Base parameters\n",
    "risk_free_rate = 0.04\n",
    "market_risk_premium = 0.06\n",
    "base_esg_premium = 0.02  # 2% premium for ESG risks\n",
    "geo_risk_multiplier = 0.0005  # 0.05% per risk point\n",
    "\n",
    "def calculate_hurdle_rate(beta, esg_risk, geo_risk):\n",
    "    \"\"\"Calculate dynamic hurdle rate with risk adjustments\"\"\"\n",
    "    capm = risk_free_rate + beta * market_risk_premium\n",
    "    esg_adj = base_esg_premium * (esg_risk/100)\n",
    "    geo_adj = geo_risk_multiplier * geo_risk\n",
    "    return capm + esg_adj + geo_adj\n",
    "\n",
    "# Calculate hurdle rates\n",
    "hurdle_rates = [calculate_hurdle_rate(beta, esg, geo) * 100\n",
    "                for beta, esg, geo in zip(projects['Beta'],\n",
    "                                        projects['ESG_Risk'],\n",
    "                                        projects['GeoPolitical_Risk'])]\n",
    "\n",
    "# Visualization\n",
    "fig, (ax1, ax2) = plt.subplots(1, 2, figsize=(16, 6))\n",
    "\n",
    "# Plot 1: Hurdle Rate vs Project Risk Profile\n",
    "risk_scores = [beta*40 + esg/2 + geo/4 for beta, esg, geo in\n",
    "             zip(projects['Beta'], projects['ESG_Risk'], projects['GeoPolitical_Risk'])]\n",
    "\n",
    "scatter = ax1.scatter(risk_scores, hurdle_rates, c=projects['IRR'],\n",
    "                     s=200, cmap='viridis', edgecolor='k')\n",
    "ax1.set_title('Hurdle Rates vs Composite Risk Score', fontsize=14)\n",
    "ax1.set_xlabel('Composite Risk Score\\n(Beta*40 + ESG Risk/2 + GeoRisk/4)', fontsize=12)\n",
    "ax1.set_ylabel('Adjusted Hurdle Rate (%)', fontsize=12)\n",
    "cbar = fig.colorbar(scatter, ax=ax1)\n",
    "cbar.set_label('Project IRR (%)', fontsize=12)\n",
    "\n",
    "# Add regression line\n",
    "slope, intercept, _, _, _ = linregress(risk_scores, hurdle_rates)\n",
    "ax1.plot(risk_scores, np.array(risk_scores)*slope + intercept,\n",
    "        'r--', label=f'Slope: {slope:.2f}% per risk point')\n",
    "ax1.legend()\n",
    "\n",
    "# Plot 2: Risk Component Breakdown\n",
    "risk_types = ['Beta', 'ESG', 'GeoPolitical']\n",
    "components = np.array([projects['Beta'],\n",
    "                      np.array(projects['ESG_Risk'])/100,\n",
    "                      np.array(projects['GeoPolitical_Risk'])/200])\n",
    "\n",
    "bottom = np.zeros(len(projects['Project']))\n",
    "for i, (risk, component) in enumerate(zip(risk_types, components)):\n",
    "    ax2.bar(projects['Project'], component*100, bottom=bottom,\n",
    "           label=f'{risk} Contribution')\n",
    "    bottom += component*100\n",
    "\n",
    "ax2.set_title('Breakdown of Risk Premium Components', fontsize=14)\n",
    "ax2.set_ylabel('Risk Premium Contribution (%)', fontsize=12)\n",
    "ax2.tick_params(axis='x', rotation=45)\n",
    "ax2.legend()\n",
    "\n",
    "plt.tight_layout()\n",
    "plt.show()\n",
    "\n",
    "# Print hurdle rate comparison\n",
    "print(\"\\nProject Hurdle Rates vs IRR:\")\n",
    "for proj, hr, irr in zip(projects['Project'], hurdle_rates, projects['IRR']):\n",
    "    decision = \"Accept\" if irr > hr else \"Reject\"\n",
    "    print(f\"{proj:<20} Hurdle: {hr:.1f}% | IRR: {irr:.1f}% → {decision}\")"
   ],
   "id": "290a0819ad0a237b",
   "outputs": [
    {
     "data": {
      "text/plain": [
       "<Figure size 1600x600 with 3 Axes>"
      ],
      "image/png": "[encoded data removed]"
     },
     "metadata": {},
     "output_type": "display_data"
    },
    {
     "name": "stdout",
     "output_type": "stream",
     "text": [
      "\n",
      "Project Hurdle Rates vs IRR:\n",
      "EV Battery Plant     Hurdle: 14.9% | IRR: 18.5% → Accept\n",
      "AI Startup           Hurdle: 18.9% | IRR: 35.2% → Accept\n",
      "Pharma R&D           Hurdle: 17.3% | IRR: 22.1% → Accept\n",
      "Oil Exploration      Hurdle: 16.7% | IRR: 12.4% → Reject\n",
      "Emerging Market Fintech Hurdle: 23.4% | IRR: 28.7% → Accept\n"
     ]
    }
   ],
   "execution_count": 22
  },
  {
   "metadata": {
    "ExecuteTime": {
     "end_time": "2025-02-23T13:26:33.498049Z",
     "start_time": "2025-02-23T13:26:33.491871Z"
    }
   },
   "cell_type": "code",
   "source": "plt.style.available",
   "id": "802012164cd22b59",
   "outputs": [
    {
     "data": {
      "text/plain": [
       "['Solarize_Light2',\n",
       " '_classic_test_patch',\n",
       " '_mpl-gallery',\n",
       " '_mpl-gallery-nogrid',\n",
       " 'bmh',\n",
       " 'classic',\n",
       " 'dark_background',\n",
       " 'fast',\n",
       " 'fivethirtyeight',\n",
       " 'ggplot',\n",
       " 'grayscale',\n",
       " 'seaborn-v0_8',\n",
       " 'seaborn-v0_8-bright',\n",
       " 'seaborn-v0_8-colorblind',\n",
       " 'seaborn-v0_8-dark',\n",
       " 'seaborn-v0_8-dark-palette',\n",
       " 'seaborn-v0_8-darkgrid',\n",
       " 'seaborn-v0_8-deep',\n",
       " 'seaborn-v0_8-muted',\n",
       " 'seaborn-v0_8-notebook',\n",
       " 'seaborn-v0_8-paper',\n",
       " 'seaborn-v0_8-pastel',\n",
       " 'seaborn-v0_8-poster',\n",
       " 'seaborn-v0_8-talk',\n",
       " 'seaborn-v0_8-ticks',\n",
       " 'seaborn-v0_8-white',\n",
       " 'seaborn-v0_8-whitegrid',\n",
       " 'tableau-colorblind10']"
      ]
     },
     "execution_count": 21,
     "metadata": {},
     "output_type": "execute_result"
    }
   ],
   "execution_count": 21
  }
 ],
 "metadata": {
  "kernelspec": {
   "display_name": "Python 3",
   "language": "python",
   "name": "python3"
  },
  "language_info": {
   "codemirror_mode": {
    "name": "ipython",
    "version": 2
   },
   "file_extension": ".py",
   "mimetype": "text/x-python",
   "name": "python",
   "nbconvert_exporter": "python",
   "pygments_lexer": "ipython2",
   "version": "2.7.6"
  }
 },
 "nbformat": 4,
 "nbformat_minor": 5
}
