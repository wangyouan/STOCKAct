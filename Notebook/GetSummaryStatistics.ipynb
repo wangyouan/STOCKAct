{
 "cells": [
  {
   "cell_type": "code",
   "id": "initial_id",
   "metadata": {
    "collapsed": true,
    "ExecuteTime": {
     "end_time": "2024-10-18T07:38:53.915572Z",
     "start_time": "2024-10-18T07:38:53.911525Z"
    }
   },
   "source": [
    "import os\n",
    "\n",
    "import pandas as pd\n",
    "import numpy as np\n",
    "from scipy import stats\n",
    "\n",
    "from Constants import Constants as const"
   ],
   "outputs": [],
   "execution_count": 3
  },
  {
   "metadata": {
    "ExecuteTime": {
     "end_time": "2024-10-18T07:39:12.873307Z",
     "start_time": "2024-10-18T07:39:12.702646Z"
    }
   },
   "cell_type": "code",
   "source": [
    "# Step 1: Load the data and create event time variable\n",
    "file_path = os.path.join(const.RESULT_PATH, '20241014_stock_act_reg_data_v2.dta')\n",
    "df = pd.read_stata(file_path).copy()"
   ],
   "id": "9c9c71d8acfa5dda",
   "outputs": [
    {
     "name": "stderr",
     "output_type": "stream",
     "text": [
      "C:\\Users\\wangy\\AppData\\Local\\Temp\\ipykernel_31448\\2162086692.py:3: UnicodeWarning: \n",
      "One or more strings in the dta file could not be decoded using utf-8, and\n",
      "so the fallback encoding of latin-1 is being used.  This can happen when a file\n",
      "has been incorrectly encoded by Stata or some other software. You should verify\n",
      "the string values returned are correct.\n",
      "  df = pd.read_stata(file_path).copy()\n"
     ]
    }
   ],
   "execution_count": 5
  },
  {
   "metadata": {
    "ExecuteTime": {
     "end_time": "2024-10-18T07:46:12.338751Z",
     "start_time": "2024-10-18T07:46:12.335297Z"
    }
   },
   "cell_type": "code",
   "source": [
    "# Columns to be included in the analysis\n",
    "columns = [\n",
    "    \"log_frequency_w\", \"log_frequency_ann_w\", \"log_frequency_qtr_w\", \"log_frequency_eps_w\", \"log_frequency_noneps_w\", \"log_frequency_day_w\", \n",
    "    \"env_info_w\", \"social_info_w\", \"width_w\", \"cpie_gpin\", \"cpie_owr\", \"SYNCHRONICITY_MONTH\", \"SYNCHRONICITY_MKT_MONTH\", \n",
    "    \"SYNCHRONICITY_IND_MONTH\", \"numest_last\", \"FCSTERROR_last\", \"DISPERSION_last\", \n",
    "    \"log_market_value_w\", \"lev_w\", \"BM_w\", \"ROA_w\", \"LOSS\", \"EarnVol_w\", \"ret_w\", \"turnover_w\", \"StkVol_w\"\n",
    "]\n"
   ],
   "id": "85e54d7b0ae471fb",
   "outputs": [],
   "execution_count": 13
  },
  {
   "metadata": {
    "ExecuteTime": {
     "end_time": "2024-10-18T07:46:17.436375Z",
     "start_time": "2024-10-18T07:46:17.422057Z"
    }
   },
   "cell_type": "code",
   "source": [
    "# Split the data into two parts based on fiscal_year\n",
    "before_2012_df = df[df['fiscal_year'] < 2012]\n",
    "after_2012_df = df[df['fiscal_year'] >= 2012]"
   ],
   "id": "da831aa1e5b57bed",
   "outputs": [],
   "execution_count": 14
  },
  {
   "metadata": {
    "ExecuteTime": {
     "end_time": "2024-10-18T07:50:33.755852Z",
     "start_time": "2024-10-18T07:50:33.749469Z"
    }
   },
   "cell_type": "code",
   "source": [
    "# Function to perform comparison between treatment and control groups\n",
    "def perform_comparison(df, columns):\n",
    "    treatment_group = df[df['MajorGovCustomer'] == 1]\n",
    "    control_group = df[df['MajorGovCustomer'] == 0]\n",
    "\n",
    "    results = []\n",
    "\n",
    "    for col in columns:\n",
    "        treat_mean = treatment_group[col].mean()\n",
    "        treat_median = treatment_group[col].median()\n",
    "        treat_num = treatment_group[col].count()\n",
    "\n",
    "        control_mean = control_group[col].mean()\n",
    "        control_median = control_group[col].median()\n",
    "        control_num = control_group[col].count()\n",
    "\n",
    "        diff_mean = treat_mean - control_mean\n",
    "        t_stat, p_value = stats.ttest_ind(treatment_group[col].dropna(), control_group[col].dropna(), equal_var=False)\n",
    "\n",
    "        # Determine significance level\n",
    "        if p_value < 0.01:\n",
    "            significance = '***'\n",
    "        elif p_value < 0.05:\n",
    "            significance = '**'\n",
    "        elif p_value < 0.1:\n",
    "            significance = '*'\n",
    "        else:\n",
    "            significance = ''\n",
    "\n",
    "        # Round values to three significant digits\n",
    "        treat_mean = round(treat_mean, 3)\n",
    "        treat_median = round(treat_median, 3)\n",
    "        control_mean = round(control_mean, 3)\n",
    "        control_median = round(control_median, 3)\n",
    "        diff_mean = round(diff_mean, 3)\n",
    "        t_stat = f\"({round(t_stat, 3)})\"\n",
    "\n",
    "        results.append([treat_mean, treat_median, treat_num, control_mean, control_median, control_num, diff_mean, t_stat, significance])\n",
    "\n",
    "    # Create a DataFrame to display the results\n",
    "    results_df = pd.DataFrame(results, columns=[\n",
    "        \"Treatment Mean\", \"Treatment Median\", \"Treatment N\", \n",
    "        \"Control Mean\", \"Control Median\", \"Control N\", \n",
    "        \"Difference in Mean\", \"t-stat\", \"Significance\"\n",
    "    ], index=columns)\n",
    "    return results_df"
   ],
   "id": "74a6bdbb7687fd87",
   "outputs": [],
   "execution_count": 17
  },
  {
   "metadata": {
    "ExecuteTime": {
     "end_time": "2024-10-18T07:50:35.977564Z",
     "start_time": "2024-10-18T07:50:35.939430Z"
    }
   },
   "cell_type": "code",
   "source": [
    "# Perform comparison for data before 2012\n",
    "results_before_2012 = perform_comparison(before_2012_df, columns)\n",
    "print(\"Results for data before 2012:\")\n",
    "print(results_before_2012)\n"
   ],
   "id": "28e36d326eb23847",
   "outputs": [
    {
     "name": "stdout",
     "output_type": "stream",
     "text": [
      "Results for data before 2012:\n",
      "                         Treatment Mean  Treatment Median  Treatment N  \\\n",
      "log_frequency_w                   0.752             0.000          933   \n",
      "log_frequency_ann_w               0.684             0.000          933   \n",
      "log_frequency_qtr_w               0.225             0.000          933   \n",
      "log_frequency_eps_w               0.351             0.000          933   \n",
      "log_frequency_noneps_w            0.656             0.000          933   \n",
      "log_frequency_day_w               0.545             0.000          933   \n",
      "env_info_w                        3.815             0.000          933   \n",
      "social_info_w                    11.170            12.023          933   \n",
      "width_w                           0.689             0.800          209   \n",
      "cpie_gpin                         0.426             0.474          517   \n",
      "cpie_owr                          0.427             0.477          517   \n",
      "SYNCHRONICITY_MONTH               1.583             1.520          612   \n",
      "SYNCHRONICITY_MKT_MONTH           0.158             0.205          615   \n",
      "SYNCHRONICITY_IND_MONTH          -0.247            -0.212          615   \n",
      "numest_last                       7.936             6.000          566   \n",
      "FCSTERROR_last                    0.141             0.004          561   \n",
      "DISPERSION_last                   0.091             0.002          531   \n",
      "log_market_value_w                6.243             6.311          933   \n",
      "lev_w                             0.186             0.172          933   \n",
      "BM_w                              0.684             0.600          933   \n",
      "ROA_w                            -0.024             0.037          933   \n",
      "LOSS                              0.257             0.000          933   \n",
      "EarnVol_w                         0.100             0.065          933   \n",
      "ret_w                             0.004             0.005          933   \n",
      "turnover_w                        0.152             0.122          933   \n",
      "StkVol_w                          0.037             0.033          933   \n",
      "\n",
      "                         Control Mean  Control Median  Control N  \\\n",
      "log_frequency_w                 0.862           0.000       4996   \n",
      "log_frequency_ann_w             0.662           0.000       4996   \n",
      "log_frequency_qtr_w             0.433           0.000       4996   \n",
      "log_frequency_eps_w             0.362           0.000       4996   \n",
      "log_frequency_noneps_w          0.771           0.000       4996   \n",
      "log_frequency_day_w             0.596           0.000       4996   \n",
      "env_info_w                      2.670           0.000       4996   \n",
      "social_info_w                   8.716           9.902       4996   \n",
      "width_w                         0.710           0.833       1265   \n",
      "cpie_gpin                       0.424           0.474       2896   \n",
      "cpie_owr                        0.453           0.477       2896   \n",
      "SYNCHRONICITY_MONTH             1.638           1.577       2760   \n",
      "SYNCHRONICITY_MKT_MONTH         0.169           0.223       2777   \n",
      "SYNCHRONICITY_IND_MONTH        -0.247          -0.186       2777   \n",
      "numest_last                     8.437           6.000       2599   \n",
      "FCSTERROR_last                  0.135           0.004       2581   \n",
      "DISPERSION_last                 0.059           0.002       2435   \n",
      "log_market_value_w              6.340           6.309       4996   \n",
      "lev_w                           0.156           0.120       4996   \n",
      "BM_w                            0.666           0.527       4996   \n",
      "ROA_w                          -0.044           0.028       4996   \n",
      "LOSS                            0.344           0.000       4996   \n",
      "EarnVol_w                       0.131           0.104       4996   \n",
      "ret_w                           0.011           0.013       4996   \n",
      "turnover_w                      0.158           0.118       4996   \n",
      "StkVol_w                        0.039           0.035       4996   \n",
      "\n",
      "                         Difference in Mean    t-stat Significance  \n",
      "log_frequency_w                      -0.109  (-2.571)           **  \n",
      "log_frequency_ann_w                   0.021   (0.549)               \n",
      "log_frequency_qtr_w                  -0.208  (-8.726)          ***  \n",
      "log_frequency_eps_w                  -0.011  (-0.432)               \n",
      "log_frequency_noneps_w               -0.115  (-3.049)          ***  \n",
      "log_frequency_day_w                  -0.050  (-1.687)            *  \n",
      "env_info_w                            1.145   (3.232)          ***  \n",
      "social_info_w                         2.454   (8.107)          ***  \n",
      "width_w                              -0.022  (-0.816)               \n",
      "cpie_gpin                             0.002   (0.392)               \n",
      "cpie_owr                             -0.026  (-1.787)            *  \n",
      "SYNCHRONICITY_MONTH                  -0.055  (-1.004)               \n",
      "SYNCHRONICITY_MKT_MONTH              -0.011   (-0.21)               \n",
      "SYNCHRONICITY_IND_MONTH              -0.001  (-0.014)               \n",
      "numest_last                          -0.500  (-1.677)            *  \n",
      "FCSTERROR_last                        0.007   (0.216)               \n",
      "DISPERSION_last                       0.032   (1.554)               \n",
      "log_market_value_w                   -0.098  (-1.327)               \n",
      "lev_w                                 0.030   (4.614)          ***  \n",
      "BM_w                                  0.018   (0.835)               \n",
      "ROA_w                                 0.020   (2.429)           **  \n",
      "LOSS                                 -0.086  (-5.457)          ***  \n",
      "EarnVol_w                            -0.031  (-7.085)          ***  \n",
      "ret_w                                -0.006  (-1.457)               \n",
      "turnover_w                           -0.006  (-1.084)               \n",
      "StkVol_w                             -0.002  (-3.032)          ***  \n"
     ]
    }
   ],
   "execution_count": 18
  },
  {
   "metadata": {
    "ExecuteTime": {
     "end_time": "2024-10-18T07:51:27.795299Z",
     "start_time": "2024-10-18T07:51:27.772073Z"
    }
   },
   "cell_type": "code",
   "source": "results_before_2012.to_excel(os.path.join(const.REGRESSION_RESULT_PATH, '20241018', 'TvC before 2012.xlsx'))",
   "id": "ee759a759c2f1fcd",
   "outputs": [],
   "execution_count": 20
  },
  {
   "metadata": {
    "ExecuteTime": {
     "end_time": "2024-10-18T07:50:44.798975Z",
     "start_time": "2024-10-18T07:50:44.759781Z"
    }
   },
   "cell_type": "code",
   "source": [
    "# Perform comparison for data from 2012 onwards\n",
    "results_after_2012 = perform_comparison(after_2012_df, columns)\n",
    "print(\"Results for data from 2012 onwards:\")\n",
    "print(results_after_2012)"
   ],
   "id": "c61e3b4943ac9263",
   "outputs": [
    {
     "name": "stdout",
     "output_type": "stream",
     "text": [
      "Results for data from 2012 onwards:\n",
      "                         Treatment Mean  Treatment Median  Treatment N  \\\n",
      "log_frequency_w                   0.750             0.000          921   \n",
      "log_frequency_ann_w               0.676             0.000          921   \n",
      "log_frequency_qtr_w               0.229             0.000          921   \n",
      "log_frequency_eps_w               0.363             0.000          921   \n",
      "log_frequency_noneps_w            0.651             0.000          921   \n",
      "log_frequency_day_w               0.545             0.000          921   \n",
      "env_info_w                        3.180             0.000          921   \n",
      "social_info_w                    11.640            12.616          921   \n",
      "width_w                           0.732             0.800          139   \n",
      "cpie_gpin                         0.453             0.486          657   \n",
      "cpie_owr                          0.417             0.431          657   \n",
      "SYNCHRONICITY_MONTH               1.313             1.234          624   \n",
      "SYNCHRONICITY_MKT_MONTH          -0.269            -0.183          626   \n",
      "SYNCHRONICITY_IND_MONTH          -0.693            -0.672          626   \n",
      "numest_last                       8.139             6.000          598   \n",
      "FCSTERROR_last                    0.148             0.003          582   \n",
      "DISPERSION_last                   0.036             0.002          547   \n",
      "log_market_value_w                6.627             6.860          921   \n",
      "lev_w                             0.213             0.182          921   \n",
      "BM_w                              0.587             0.514          921   \n",
      "ROA_w                            -0.019             0.026          921   \n",
      "LOSS                              0.289             0.000          921   \n",
      "EarnVol_w                         0.090             0.049          921   \n",
      "ret_w                             0.019             0.016          921   \n",
      "turnover_w                        0.139             0.109          921   \n",
      "StkVol_w                          0.025             0.021          921   \n",
      "\n",
      "                         Control Mean  Control Median  Control N  \\\n",
      "log_frequency_w                 0.917           0.000       5224   \n",
      "log_frequency_ann_w             0.699           0.000       5224   \n",
      "log_frequency_qtr_w             0.465           0.000       5224   \n",
      "log_frequency_eps_w             0.377           0.000       5224   \n",
      "log_frequency_noneps_w          0.829           0.000       5224   \n",
      "log_frequency_day_w             0.633           0.000       5224   \n",
      "env_info_w                      2.355           0.000       5224   \n",
      "social_info_w                   9.223          10.470       5224   \n",
      "width_w                         0.697           0.830        922   \n",
      "cpie_gpin                       0.463           0.495       3810   \n",
      "cpie_owr                        0.397           0.414       3810   \n",
      "SYNCHRONICITY_MONTH             1.245           1.205       2996   \n",
      "SYNCHRONICITY_MKT_MONTH        -0.385          -0.312       3019   \n",
      "SYNCHRONICITY_IND_MONTH        -0.662          -0.605       3019   \n",
      "numest_last                     9.383           6.000       2874   \n",
      "FCSTERROR_last                  0.093           0.003       2846   \n",
      "DISPERSION_last                 0.054           0.001       2706   \n",
      "log_market_value_w              6.726           6.772       5224   \n",
      "lev_w                           0.187           0.162       5224   \n",
      "BM_w                            0.543           0.424       5224   \n",
      "ROA_w                          -0.047           0.025       5224   \n",
      "LOSS                            0.359           0.000       5224   \n",
      "EarnVol_w                       0.129           0.082       5224   \n",
      "ret_w                           0.016           0.014       5224   \n",
      "turnover_w                      0.152           0.112       5224   \n",
      "StkVol_w                        0.027           0.023       5224   \n",
      "\n",
      "                         Difference in Mean    t-stat Significance  \n",
      "log_frequency_w                      -0.167   (-3.92)          ***  \n",
      "log_frequency_ann_w                  -0.023  (-0.591)               \n",
      "log_frequency_qtr_w                  -0.236  (-9.841)          ***  \n",
      "log_frequency_eps_w                  -0.014   (-0.55)               \n",
      "log_frequency_noneps_w               -0.178  (-4.655)          ***  \n",
      "log_frequency_day_w                  -0.088  (-2.924)          ***  \n",
      "env_info_w                            0.824   (2.566)           **  \n",
      "social_info_w                         2.418   (7.908)          ***  \n",
      "width_w                               0.036   (1.249)               \n",
      "cpie_gpin                            -0.010  (-2.164)           **  \n",
      "cpie_owr                              0.020   (1.897)            *  \n",
      "SYNCHRONICITY_MONTH                   0.068   (1.297)               \n",
      "SYNCHRONICITY_MKT_MONTH               0.116   (2.125)           **  \n",
      "SYNCHRONICITY_IND_MONTH              -0.032  (-0.599)               \n",
      "numest_last                          -1.245  (-3.848)          ***  \n",
      "FCSTERROR_last                        0.054     (1.6)               \n",
      "DISPERSION_last                      -0.019  (-1.568)               \n",
      "log_market_value_w                   -0.099  (-1.309)               \n",
      "lev_w                                 0.026   (3.839)          ***  \n",
      "BM_w                                  0.044   (2.427)           **  \n",
      "ROA_w                                 0.028   (3.988)          ***  \n",
      "LOSS                                 -0.070  (-4.273)          ***  \n",
      "EarnVol_w                            -0.039  (-8.802)          ***  \n",
      "ret_w                                 0.003   (0.898)               \n",
      "turnover_w                           -0.013   (-2.85)          ***  \n",
      "StkVol_w                             -0.002   (-4.32)          ***  \n"
     ]
    }
   ],
   "execution_count": 19
  },
  {
   "metadata": {
    "ExecuteTime": {
     "end_time": "2024-10-18T07:51:40.734884Z",
     "start_time": "2024-10-18T07:51:40.713823Z"
    }
   },
   "cell_type": "code",
   "source": "results_after_2012.to_excel(os.path.join(const.REGRESSION_RESULT_PATH, '20241018', 'TvC after 2012.xlsx'))\n",
   "id": "c811b976920022fe",
   "outputs": [],
   "execution_count": 21
  }
 ],
 "metadata": {
  "kernelspec": {
   "display_name": "Python 3",
   "language": "python",
   "name": "python3"
  },
  "language_info": {
   "codemirror_mode": {
    "name": "ipython",
    "version": 2
   },
   "file_extension": ".py",
   "mimetype": "text/x-python",
   "name": "python",
   "nbconvert_exporter": "python",
   "pygments_lexer": "ipython2",
   "version": "2.7.6"
  }
 },
 "nbformat": 4,
 "nbformat_minor": 5
}
