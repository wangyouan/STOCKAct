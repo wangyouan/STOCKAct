{
 "cells": [
  {
   "cell_type": "code",
   "id": "initial_id",
   "metadata": {
    "collapsed": true,
    "ExecuteTime": {
     "end_time": "2025-07-04T12:28:46.634412Z",
     "start_time": "2025-07-04T12:28:42.534253Z"
    }
   },
   "source": [
    "import os\n",
    "\n",
    "import pandas as pd\n",
    "from pandas import DataFrame\n",
    "import numpy as np\n",
    "\n",
    "\n",
    "from Constants import  Constants as const"
   ],
   "outputs": [],
   "execution_count": 1
  },
  {
   "metadata": {
    "ExecuteTime": {
     "end_time": "2025-07-04T12:29:39.964438Z",
     "start_time": "2025-07-04T12:29:24.028501Z"
    }
   },
   "cell_type": "code",
   "source": [
    "sec_df = pd.read_stata(os.path.join(const.DATA_PATH, 'SECAnalytics.dta'))\n",
    "sec_df['form'].unique()"
   ],
   "id": "7ac42284012c5e9a",
   "outputs": [
    {
     "data": {
      "text/plain": [
       "array(['8-K', '8-K/A', '8-K12B', '8-K12G3', '8-K15D5', '18-K/A',\n",
       "       '8-K12B/A', '8-K12G3/A'], dtype=object)"
      ]
     },
     "execution_count": 2,
     "metadata": {},
     "output_type": "execute_result"
    }
   ],
   "execution_count": 2
  },
  {
   "metadata": {
    "ExecuteTime": {
     "end_time": "2025-07-04T12:35:02.322266Z",
     "start_time": "2025-07-04T12:35:00.003011Z"
    }
   },
   "cell_type": "code",
   "source": [
    "valid_8k_forms = ['8-K', '8-K/A', '8-K12B', '8-K12B/A', '8-K12G3', '8-K12G3/A', '8-K15D5']\n",
    "\n",
    "df_8k = sec_df[sec_df['form'].isin(valid_8k_forms)].copy()"
   ],
   "id": "e7bf936f45121612",
   "outputs": [],
   "execution_count": 3
  },
  {
   "metadata": {
    "ExecuteTime": {
     "end_time": "2025-07-04T12:35:25.985604Z",
     "start_time": "2025-07-04T12:35:25.901231Z"
    }
   },
   "cell_type": "code",
   "source": "df_8k['rdate'] = pd.to_datetime(df_8k['rdate'])",
   "id": "bf975765e83675d8",
   "outputs": [],
   "execution_count": 4
  },
  {
   "metadata": {
    "ExecuteTime": {
     "end_time": "2025-07-04T12:36:49.574422Z",
     "start_time": "2025-07-04T12:36:48.170008Z"
    }
   },
   "cell_type": "code",
   "source": [
    "df_8k[const.YEAR] = df_8k['rdate'].dt.year\n",
    "df_8k[const.GVKEY] = pd.to_numeric(df_8k['gvkey'])"
   ],
   "id": "296d73efcaefc013",
   "outputs": [],
   "execution_count": 5
  },
  {
   "metadata": {
    "ExecuteTime": {
     "end_time": "2025-07-04T12:41:16.744345Z",
     "start_time": "2025-07-04T12:41:15.141885Z"
    }
   },
   "cell_type": "code",
   "source": [
    "# === 构建变量 1：每年每家公司唯一 8-K filing 数量 ===\n",
    "df_8k_filings = df_8k.drop_duplicates([const.GVKEY, const.YEAR, 'wrdsfname'], keep='first')\n",
    "num_8k_filings = df_8k_filings.groupby([const.GVKEY, const.YEAR])['wrdsfname'].size().reset_index(name='num_8k_filings')"
   ],
   "id": "a075c4dd8d26423c",
   "outputs": [],
   "execution_count": 10
  },
  {
   "metadata": {
    "ExecuteTime": {
     "end_time": "2025-07-04T12:43:08.331053Z",
     "start_time": "2025-07-04T12:43:08.315691Z"
    }
   },
   "cell_type": "code",
   "source": "df_8k_filings['nitem'][0]",
   "id": "6ff23aedd592351c",
   "outputs": [
    {
     "data": {
      "text/plain": [
       "'2.01'"
      ]
     },
     "execution_count": 16,
     "metadata": {},
     "output_type": "execute_result"
    }
   ],
   "execution_count": 16
  },
  {
   "metadata": {
    "ExecuteTime": {
     "end_time": "2025-07-04T12:44:43.016088Z",
     "start_time": "2025-07-04T12:44:42.183760Z"
    }
   },
   "cell_type": "code",
   "source": [
    "# === 构建变量 2：每年每家公司 8-K item 总数 ===\n",
    "num_8k_items = df_8k_filings.groupby([const.GVKEY, const.YEAR])['nitemno'].sum(min_count=1).reset_index(name='num_8k_items')\n",
    "\n",
    "# === 构建变量 3：Earnings-related item 数量 ===\n",
    "earnings_items = {'2.02', '7.01', '8.01', '1.01', '1.02', '2.01', '2.04','2.05', '2.06'}\n",
    "df_8k['is_earn'] = df_8k['nitem'].isin(earnings_items)\n",
    "num_earn_items = df_8k[df_8k['is_earn']].groupby([const.GVKEY, const.YEAR]).size().reset_index(name='num_earn_items')\n"
   ],
   "id": "5ef3e137b1f8d5ab",
   "outputs": [],
   "execution_count": 17
  },
  {
   "metadata": {
    "ExecuteTime": {
     "end_time": "2025-07-04T12:48:14.744226Z",
     "start_time": "2025-07-04T12:48:14.672461Z"
    }
   },
   "cell_type": "code",
   "source": [
    "# === 合并所有结果 ===\n",
    "df_summary = num_8k_filings \\\n",
    "    .merge(num_8k_items, on=[const.GVKEY, const.YEAR], how='outer') \\\n",
    "    .merge(num_earn_items, on=[const.GVKEY, const.YEAR], how='outer')\n",
    "df_summary['num_earn_items'] = df_summary['num_earn_items'].fillna(0)\n",
    "df_summary['num_nonearn_items'] = df_summary['num_8k_items'] - df_summary['num_earn_items']"
   ],
   "id": "f2c3a245e524f28a",
   "outputs": [],
   "execution_count": 21
  },
  {
   "metadata": {
    "ExecuteTime": {
     "end_time": "2025-07-04T12:48:31.556913Z",
     "start_time": "2025-07-04T12:48:31.552895Z"
    }
   },
   "cell_type": "code",
   "source": "df_summary.keys()",
   "id": "ef8187ab6ff879c0",
   "outputs": [
    {
     "data": {
      "text/plain": [
       "Index(['gvkey', 'fiscal_year', 'num_8k_filings', 'num_8k_items',\n",
       "       'num_earn_items', 'num_nonearn_items'],\n",
       "      dtype='object')"
      ]
     },
     "execution_count": 23,
     "metadata": {},
     "output_type": "execute_result"
    }
   ],
   "execution_count": 23
  },
  {
   "metadata": {
    "ExecuteTime": {
     "end_time": "2025-07-04T12:48:17.724303Z",
     "start_time": "2025-07-04T12:48:17.311161Z"
    }
   },
   "cell_type": "code",
   "source": [
    "reg_df = pd.read_stata(os.path.join(const.RESULT_PATH, '20250604_stock_act_reg_data_v1.dta'))\n",
    "\n",
    "reg_df2 = reg_df.merge(df_summary, on=[const.GVKEY, const.YEAR], how='left')\n",
    "reg_df2.describe()"
   ],
   "id": "4f64e46711d07331",
   "outputs": [
    {
     "data": {
      "text/plain": [
       "               gvkey   fiscal_year  mf_indicator     frequency  log_frequency  \\\n",
       "count   12074.000000  12074.000000  12074.000000  12074.000000   12074.000000   \n",
       "mean    81220.205317   2011.546960      0.363508      4.817459       0.868412   \n",
       "min      1004.000000   2008.000000      0.000000      0.000000       0.000000   \n",
       "25%     12142.000000   2010.000000      0.000000      0.000000       0.000000   \n",
       "50%     62592.000000   2012.000000      0.000000      0.000000       0.000000   \n",
       "75%    156153.000000   2014.000000      1.000000      7.000000       2.079442   \n",
       "max    296753.000000   2015.000000      1.000000     36.000000       3.610918   \n",
       "std     73644.923742      2.279738      0.481029      8.551352       1.245300   \n",
       "\n",
       "       MajorGovCustomer          post  log_market_value           lev  \\\n",
       "count      12074.000000  12074.000000      12074.000000  12074.000000   \n",
       "mean           0.153553      0.508945          6.517410      0.181687   \n",
       "min            0.000000      0.000000          0.786519      0.000000   \n",
       "25%            0.000000      0.000000          5.012064      0.000930   \n",
       "50%            0.000000      1.000000          6.520895      0.148584   \n",
       "75%            0.000000      1.000000          7.976261      0.264176   \n",
       "max            1.000000      1.000000         11.561005     17.825450   \n",
       "std            0.360535      0.499941          2.163776      0.273871   \n",
       "\n",
       "                ROA  ...  RegIn_Time_my_high  RegIn_Dollar_my_avg  \\\n",
       "count  12074.000000  ...        12074.000000          8786.000000   \n",
       "mean      -0.054435  ...            0.500083            96.426826   \n",
       "min      -33.150838  ...            0.000000            14.131963   \n",
       "25%       -0.039075  ...            0.000000            91.059692   \n",
       "50%        0.027111  ...            1.000000            94.937225   \n",
       "75%        0.066365  ...            1.000000           101.609390   \n",
       "max        1.247209  ...            1.000000           139.373062   \n",
       "std        0.496132  ...            0.500021            10.007222   \n",
       "\n",
       "       RegIn_Dollar_my_high      latitude     longitude  distance_to_dc_km  \\\n",
       "count          12074.000000  12074.000000  12074.000000       12074.000000   \n",
       "mean               0.500083     37.982031    -87.575054        1779.385976   \n",
       "min                0.000000    -34.605469   -157.883326           1.101796   \n",
       "25%                0.000000     33.975391    -98.393418         493.131210   \n",
       "50%                1.000000     39.287801    -86.137865        1195.185900   \n",
       "75%                1.000000     41.673379    -75.550073        2419.348096   \n",
       "max                1.000000     61.186678    152.963505       15710.188305   \n",
       "std                0.500021      6.698589     29.216612        1781.528276   \n",
       "\n",
       "      num_8k_filings  num_8k_items  num_earn_items  num_nonearn_items  \n",
       "count   10545.000000  10545.000000    10545.000000       10545.000000  \n",
       "mean       13.118160     26.813940       11.951257          14.862684  \n",
       "min         1.000000      1.000000        0.000000           0.000000  \n",
       "25%         8.000000     16.000000        6.000000           9.000000  \n",
       "50%        11.000000     23.000000       10.000000          13.000000  \n",
       "75%        16.000000     33.000000       15.000000          18.000000  \n",
       "max       162.000000    321.000000      157.000000         164.000000  \n",
       "std         7.763607     16.834492        8.706231           8.848418  \n",
       "\n",
       "[8 rows x 206 columns]"
      ],
      "text/html": [
       "<div>\n",
       "<style scoped>\n",
       "    .dataframe tbody tr th:only-of-type {\n",
       "        vertical-align: middle;\n",
       "    }\n",
       "\n",
       "    .dataframe tbody tr th {\n",
       "        vertical-align: top;\n",
       "    }\n",
       "\n",
       "    .dataframe thead th {\n",
       "        text-align: right;\n",
       "    }\n",
       "</style>\n",
       "<table border=\"1\" class=\"dataframe\">\n",
       "  <thead>\n",
       "    <tr style=\"text-align: right;\">\n",
       "      <th></th>\n",
       "      <th>gvkey</th>\n",
       "      <th>fiscal_year</th>\n",
       "      <th>mf_indicator</th>\n",
       "      <th>frequency</th>\n",
       "      <th>log_frequency</th>\n",
       "      <th>MajorGovCustomer</th>\n",
       "      <th>post</th>\n",
       "      <th>log_market_value</th>\n",
       "      <th>lev</th>\n",
       "      <th>ROA</th>\n",
       "      <th>...</th>\n",
       "      <th>RegIn_Time_my_high</th>\n",
       "      <th>RegIn_Dollar_my_avg</th>\n",
       "      <th>RegIn_Dollar_my_high</th>\n",
       "      <th>latitude</th>\n",
       "      <th>longitude</th>\n",
       "      <th>distance_to_dc_km</th>\n",
       "      <th>num_8k_filings</th>\n",
       "      <th>num_8k_items</th>\n",
       "      <th>num_earn_items</th>\n",
       "      <th>num_nonearn_items</th>\n",
       "    </tr>\n",
       "  </thead>\n",
       "  <tbody>\n",
       "    <tr>\n",
       "      <th>count</th>\n",
       "      <td>12074.000000</td>\n",
       "      <td>12074.000000</td>\n",
       "      <td>12074.000000</td>\n",
       "      <td>12074.000000</td>\n",
       "      <td>12074.000000</td>\n",
       "      <td>12074.000000</td>\n",
       "      <td>12074.000000</td>\n",
       "      <td>12074.000000</td>\n",
       "      <td>12074.000000</td>\n",
       "      <td>12074.000000</td>\n",
       "      <td>...</td>\n",
       "      <td>12074.000000</td>\n",
       "      <td>8786.000000</td>\n",
       "      <td>12074.000000</td>\n",
       "      <td>12074.000000</td>\n",
       "      <td>12074.000000</td>\n",
       "      <td>12074.000000</td>\n",
       "      <td>10545.000000</td>\n",
       "      <td>10545.000000</td>\n",
       "      <td>10545.000000</td>\n",
       "      <td>10545.000000</td>\n",
       "    </tr>\n",
       "    <tr>\n",
       "      <th>mean</th>\n",
       "      <td>81220.205317</td>\n",
       "      <td>2011.546960</td>\n",
       "      <td>0.363508</td>\n",
       "      <td>4.817459</td>\n",
       "      <td>0.868412</td>\n",
       "      <td>0.153553</td>\n",
       "      <td>0.508945</td>\n",
       "      <td>6.517410</td>\n",
       "      <td>0.181687</td>\n",
       "      <td>-0.054435</td>\n",
       "      <td>...</td>\n",
       "      <td>0.500083</td>\n",
       "      <td>96.426826</td>\n",
       "      <td>0.500083</td>\n",
       "      <td>37.982031</td>\n",
       "      <td>-87.575054</td>\n",
       "      <td>1779.385976</td>\n",
       "      <td>13.118160</td>\n",
       "      <td>26.813940</td>\n",
       "      <td>11.951257</td>\n",
       "      <td>14.862684</td>\n",
       "    </tr>\n",
       "    <tr>\n",
       "      <th>min</th>\n",
       "      <td>1004.000000</td>\n",
       "      <td>2008.000000</td>\n",
       "      <td>0.000000</td>\n",
       "      <td>0.000000</td>\n",
       "      <td>0.000000</td>\n",
       "      <td>0.000000</td>\n",
       "      <td>0.000000</td>\n",
       "      <td>0.786519</td>\n",
       "      <td>0.000000</td>\n",
       "      <td>-33.150838</td>\n",
       "      <td>...</td>\n",
       "      <td>0.000000</td>\n",
       "      <td>14.131963</td>\n",
       "      <td>0.000000</td>\n",
       "      <td>-34.605469</td>\n",
       "      <td>-157.883326</td>\n",
       "      <td>1.101796</td>\n",
       "      <td>1.000000</td>\n",
       "      <td>1.000000</td>\n",
       "      <td>0.000000</td>\n",
       "      <td>0.000000</td>\n",
       "    </tr>\n",
       "    <tr>\n",
       "      <th>25%</th>\n",
       "      <td>12142.000000</td>\n",
       "      <td>2010.000000</td>\n",
       "      <td>0.000000</td>\n",
       "      <td>0.000000</td>\n",
       "      <td>0.000000</td>\n",
       "      <td>0.000000</td>\n",
       "      <td>0.000000</td>\n",
       "      <td>5.012064</td>\n",
       "      <td>0.000930</td>\n",
       "      <td>-0.039075</td>\n",
       "      <td>...</td>\n",
       "      <td>0.000000</td>\n",
       "      <td>91.059692</td>\n",
       "      <td>0.000000</td>\n",
       "      <td>33.975391</td>\n",
       "      <td>-98.393418</td>\n",
       "      <td>493.131210</td>\n",
       "      <td>8.000000</td>\n",
       "      <td>16.000000</td>\n",
       "      <td>6.000000</td>\n",
       "      <td>9.000000</td>\n",
       "    </tr>\n",
       "    <tr>\n",
       "      <th>50%</th>\n",
       "      <td>62592.000000</td>\n",
       "      <td>2012.000000</td>\n",
       "      <td>0.000000</td>\n",
       "      <td>0.000000</td>\n",
       "      <td>0.000000</td>\n",
       "      <td>0.000000</td>\n",
       "      <td>1.000000</td>\n",
       "      <td>6.520895</td>\n",
       "      <td>0.148584</td>\n",
       "      <td>0.027111</td>\n",
       "      <td>...</td>\n",
       "      <td>1.000000</td>\n",
       "      <td>94.937225</td>\n",
       "      <td>1.000000</td>\n",
       "      <td>39.287801</td>\n",
       "      <td>-86.137865</td>\n",
       "      <td>1195.185900</td>\n",
       "      <td>11.000000</td>\n",
       "      <td>23.000000</td>\n",
       "      <td>10.000000</td>\n",
       "      <td>13.000000</td>\n",
       "    </tr>\n",
       "    <tr>\n",
       "      <th>75%</th>\n",
       "      <td>156153.000000</td>\n",
       "      <td>2014.000000</td>\n",
       "      <td>1.000000</td>\n",
       "      <td>7.000000</td>\n",
       "      <td>2.079442</td>\n",
       "      <td>0.000000</td>\n",
       "      <td>1.000000</td>\n",
       "      <td>7.976261</td>\n",
       "      <td>0.264176</td>\n",
       "      <td>0.066365</td>\n",
       "      <td>...</td>\n",
       "      <td>1.000000</td>\n",
       "      <td>101.609390</td>\n",
       "      <td>1.000000</td>\n",
       "      <td>41.673379</td>\n",
       "      <td>-75.550073</td>\n",
       "      <td>2419.348096</td>\n",
       "      <td>16.000000</td>\n",
       "      <td>33.000000</td>\n",
       "      <td>15.000000</td>\n",
       "      <td>18.000000</td>\n",
       "    </tr>\n",
       "    <tr>\n",
       "      <th>max</th>\n",
       "      <td>296753.000000</td>\n",
       "      <td>2015.000000</td>\n",
       "      <td>1.000000</td>\n",
       "      <td>36.000000</td>\n",
       "      <td>3.610918</td>\n",
       "      <td>1.000000</td>\n",
       "      <td>1.000000</td>\n",
       "      <td>11.561005</td>\n",
       "      <td>17.825450</td>\n",
       "      <td>1.247209</td>\n",
       "      <td>...</td>\n",
       "      <td>1.000000</td>\n",
       "      <td>139.373062</td>\n",
       "      <td>1.000000</td>\n",
       "      <td>61.186678</td>\n",
       "      <td>152.963505</td>\n",
       "      <td>15710.188305</td>\n",
       "      <td>162.000000</td>\n",
       "      <td>321.000000</td>\n",
       "      <td>157.000000</td>\n",
       "      <td>164.000000</td>\n",
       "    </tr>\n",
       "    <tr>\n",
       "      <th>std</th>\n",
       "      <td>73644.923742</td>\n",
       "      <td>2.279738</td>\n",
       "      <td>0.481029</td>\n",
       "      <td>8.551352</td>\n",
       "      <td>1.245300</td>\n",
       "      <td>0.360535</td>\n",
       "      <td>0.499941</td>\n",
       "      <td>2.163776</td>\n",
       "      <td>0.273871</td>\n",
       "      <td>0.496132</td>\n",
       "      <td>...</td>\n",
       "      <td>0.500021</td>\n",
       "      <td>10.007222</td>\n",
       "      <td>0.500021</td>\n",
       "      <td>6.698589</td>\n",
       "      <td>29.216612</td>\n",
       "      <td>1781.528276</td>\n",
       "      <td>7.763607</td>\n",
       "      <td>16.834492</td>\n",
       "      <td>8.706231</td>\n",
       "      <td>8.848418</td>\n",
       "    </tr>\n",
       "  </tbody>\n",
       "</table>\n",
       "<p>8 rows × 206 columns</p>\n",
       "</div>"
      ]
     },
     "execution_count": 22,
     "metadata": {},
     "output_type": "execute_result"
    }
   ],
   "execution_count": 22
  },
  {
   "metadata": {
    "ExecuteTime": {
     "end_time": "2025-07-04T12:49:56.227011Z",
     "start_time": "2025-07-04T12:49:55.838500Z"
    }
   },
   "cell_type": "code",
   "source": [
    "for key in ['num_8k_filings', 'num_8k_items', 'num_earn_items', 'num_nonearn_items']:\n",
    "    reg_df2[key] = reg_df2[key].fillna(0)\n",
    "    reg_df2['ln_' + key] = reg_df2[key].apply(lambda x: np.log(x + 1))\n",
    "\n",
    "reg_df2.to_stata(os.path.join(const.RESULT_PATH, '20250704_stock_act_reg_data_v1.dta'), write_index=False, version=119)"
   ],
   "id": "dc5a43f8c5528b37",
   "outputs": [],
   "execution_count": 24
  }
 ],
 "metadata": {
  "kernelspec": {
   "display_name": "Python 3",
   "language": "python",
   "name": "python3"
  },
  "language_info": {
   "codemirror_mode": {
    "name": "ipython",
    "version": 2
   },
   "file_extension": ".py",
   "mimetype": "text/x-python",
   "name": "python",
   "nbconvert_exporter": "python",
   "pygments_lexer": "ipython2",
   "version": "2.7.6"
  }
 },
 "nbformat": 4,
 "nbformat_minor": 5
}
